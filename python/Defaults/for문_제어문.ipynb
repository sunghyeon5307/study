{
  "nbformat": 4,
  "nbformat_minor": 0,
  "metadata": {
    "colab": {
      "provenance": [],
      "toc_visible": true,
      "authorship_tag": "ABX9TyPgGFQ03i7e/AiS6USPpl2w",
      "include_colab_link": true
    },
    "kernelspec": {
      "name": "python3",
      "display_name": "Python 3"
    },
    "language_info": {
      "name": "python"
    }
  },
  "cells": [
    {
      "cell_type": "markdown",
      "metadata": {
        "id": "view-in-github",
        "colab_type": "text"
      },
      "source": [
        "<a href=\"https://colab.research.google.com/github/shyexnnn/PythonStudy/blob/master/for%EB%AC%B8_%EC%A0%9C%EC%96%B4%EB%AC%B8.ipynb\" target=\"_parent\"><img src=\"https://colab.research.google.com/assets/colab-badge.svg\" alt=\"Open In Colab\"/></a>"
      ]
    },
    {
      "cell_type": "markdown",
      "source": [
        "#**for문**"
      ],
      "metadata": {
        "id": "kWg2Z8PkL1c5"
      }
    },
    {
      "cell_type": "code",
      "source": [
        "test_list = [\"haha\", \"hihi\", \"nana\"]\n",
        "for i in test_list:\n",
        "  print(i)"
      ],
      "metadata": {
        "colab": {
          "base_uri": "https://localhost:8080/"
        },
        "id": "k81Ruz3KXRd9",
        "outputId": "14c21088-7869-4d97-e32a-0cd44617ca4b"
      },
      "execution_count": null,
      "outputs": [
        {
          "output_type": "stream",
          "name": "stdout",
          "text": [
            "haha\n",
            "hihi\n",
            "nana\n"
          ]
        }
      ]
    },
    {
      "cell_type": "code",
      "source": [
        "ha = [(1,2), (3,4), (5,6)]\n",
        "for (f,l) in ha:\n",
        "  print(f+l)"
      ],
      "metadata": {
        "colab": {
          "base_uri": "https://localhost:8080/"
        },
        "id": "94FXeLg8Xta1",
        "outputId": "ed1bd9f1-a9e9-4c33-88b3-193d95f48d66"
      },
      "execution_count": null,
      "outputs": [
        {
          "output_type": "stream",
          "name": "stdout",
          "text": [
            "3\n",
            "7\n",
            "11\n"
          ]
        }
      ]
    },
    {
      "cell_type": "code",
      "source": [
        "marks = [90, 25, 67, 45, 80]\n",
        "for i in marks:\n",
        "  if i>=60: \n",
        "    print(\"%d점은 합격\" % i)\n",
        "  else:\n",
        "    print(\"불합격\")"
      ],
      "metadata": {
        "id": "yfOxRuBvYHzK",
        "colab": {
          "base_uri": "https://localhost:8080/"
        },
        "outputId": "6360202b-3779-4af0-c7c3-c352a8375269"
      },
      "execution_count": null,
      "outputs": [
        {
          "output_type": "stream",
          "name": "stdout",
          "text": [
            "90점은 합격\n",
            "불합격\n",
            "67점은 합격\n",
            "불합격\n",
            "80점은 합격\n"
          ]
        }
      ]
    },
    {
      "cell_type": "markdown",
      "source": [
        "## for문과 continue"
      ],
      "metadata": {
        "id": "E1q17SQAFOZn"
      }
    },
    {
      "cell_type": "code",
      "source": [
        "marks = [90, 25, 67, 45, 80]\n",
        "num = 0\n",
        "for i in marks:\n",
        "  num = num+1\n",
        "  if i<60:\n",
        "    continue # for문 실행 중 continue 만나면 for문 처음으로 돌아감 \n",
        "  print(\"%d 축하합니다.\" % num)"
      ],
      "metadata": {
        "colab": {
          "base_uri": "https://localhost:8080/"
        },
        "id": "v7W--1AdgT1V",
        "outputId": "c4d8eadf-062d-4fbb-a7e4-9e6ee758ace8"
      },
      "execution_count": null,
      "outputs": [
        {
          "output_type": "stream",
          "name": "stdout",
          "text": [
            "1 축하합니다.\n",
            "3 축하합니다.\n",
            "5 축하합니다.\n"
          ]
        }
      ]
    },
    {
      "cell_type": "markdown",
      "source": [
        "## range 함수"
      ],
      "metadata": {
        "id": "8CA2SBMJhd7t"
      }
    },
    {
      "cell_type": "code",
      "source": [
        "a = range(1, 10) # range(시작숫자, 끝숫자), 끝숫자 포함 X\n",
        "a"
      ],
      "metadata": {
        "colab": {
          "base_uri": "https://localhost:8080/"
        },
        "id": "lQqAEwfOhmZs",
        "outputId": "d50fad72-c9ee-42ba-fef2-e7d3cfb7468b"
      },
      "execution_count": null,
      "outputs": [
        {
          "output_type": "execute_result",
          "data": {
            "text/plain": [
              "range(1, 10)"
            ]
          },
          "metadata": {},
          "execution_count": 5
        }
      ]
    },
    {
      "cell_type": "code",
      "source": [
        "m = [98,45,33,66,41]\n",
        "n = 0\n",
        "for n in range(len(m)): # len: 리스트 안의 요소 개수 돌려주는 함수\n",
        "  if m[n] < 60:\n",
        "    continue\n",
        "  print(\"%d번 학생 ㅊㅊ. 합격\" % (n+1))"
      ],
      "metadata": {
        "id": "wUhmz5Flho5y",
        "colab": {
          "base_uri": "https://localhost:8080/"
        },
        "outputId": "1dbb8b07-928d-4e48-aa8e-e6705f961d8b"
      },
      "execution_count": 2,
      "outputs": [
        {
          "output_type": "stream",
          "name": "stdout",
          "text": [
            "1번 학생 ㅊㅊ. 합격\n",
            "4번 학생 ㅊㅊ. 합격\n"
          ]
        }
      ]
    },
    {
      "cell_type": "code",
      "source": [
        "for i in range(2,10):\n",
        "  for j in range(1,10):\n",
        "    print(i*j, end = \" \") # end: 같은줄에 결과값 표시\n",
        "  print(\" \") # 2,3단 등을 구별 위해 사용, 두번째 for문이 끝나면 다음줄에 결과값 출력 "
      ],
      "metadata": {
        "colab": {
          "base_uri": "https://localhost:8080/"
        },
        "id": "PyW7OBsUXi4H",
        "outputId": "36b8108e-85dc-44aa-be8e-87664b2595c7"
      },
      "execution_count": 7,
      "outputs": [
        {
          "output_type": "stream",
          "name": "stdout",
          "text": [
            "2 4 6 8 10 12 14 16 18  \n",
            "3 6 9 12 15 18 21 24 27  \n",
            "4 8 12 16 20 24 28 32 36  \n",
            "5 10 15 20 25 30 35 40 45  \n",
            "6 12 18 24 30 36 42 48 54  \n",
            "7 14 21 28 35 42 49 56 63  \n",
            "8 16 24 32 40 48 56 64 72  \n",
            "9 18 27 36 45 54 63 72 81  \n"
          ]
        }
      ]
    },
    {
      "cell_type": "markdown",
      "source": [
        "## 리스트 컴프리헨션"
      ],
      "metadata": {
        "id": "Uz2Z7uhHY7TQ"
      }
    },
    {
      "cell_type": "markdown",
      "source": [
        "[표현식 for 항목 in 반복가능객체 if 조건문]"
      ],
      "metadata": {
        "id": "7ZmQbUC_Zwee"
      }
    },
    {
      "cell_type": "code",
      "source": [
        "a = [1,2,3,4]\n",
        "result = [num * 3 for num in a if num % 2 ==0] # a를 num안에 넣고 num을 3번 반복한다. 이때 짝수에만 x3\n",
        "print(result)"
      ],
      "metadata": {
        "colab": {
          "base_uri": "https://localhost:8080/"
        },
        "id": "y6dyrEsgY9qI",
        "outputId": "60540e77-ed26-4d6b-eee4-20a8b0f3cdf2"
      },
      "execution_count": 10,
      "outputs": [
        {
          "output_type": "stream",
          "name": "stdout",
          "text": [
            "[6, 12]\n"
          ]
        }
      ]
    },
    {
      "cell_type": "code",
      "source": [
        "result = [i*j for i in range(2,9)\n",
        "              for j in range(1,10)]\n",
        "print(result)"
      ],
      "metadata": {
        "colab": {
          "base_uri": "https://localhost:8080/"
        },
        "id": "W9DVxj_LamuP",
        "outputId": "aa1d5ef4-883e-43f3-ca56-89d6a8d467c9"
      },
      "execution_count": 11,
      "outputs": [
        {
          "output_type": "stream",
          "name": "stdout",
          "text": [
            "[2, 4, 6, 8, 10, 12, 14, 16, 18, 3, 6, 9, 12, 15, 18, 21, 24, 27, 4, 8, 12, 16, 20, 24, 28, 32, 36, 5, 10, 15, 20, 25, 30, 35, 40, 45, 6, 12, 18, 24, 30, 36, 42, 48, 54, 7, 14, 21, 28, 35, 42, 49, 56, 63, 8, 16, 24, 32, 40, 48, 56, 64, 72]\n"
          ]
        }
      ]
    }
  ]
}
