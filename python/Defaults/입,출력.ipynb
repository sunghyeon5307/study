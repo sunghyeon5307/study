{
  "nbformat": 4,
  "nbformat_minor": 0,
  "metadata": {
    "colab": {
      "provenance": [],
      "toc_visible": true,
      "authorship_tag": "ABX9TyP7wzmxbl6Yb97vITpgmiDQ",
      "include_colab_link": true
    },
    "kernelspec": {
      "name": "python3",
      "display_name": "Python 3"
    },
    "language_info": {
      "name": "python"
    }
  },
  "cells": [
    {
      "cell_type": "markdown",
      "metadata": {
        "id": "view-in-github",
        "colab_type": "text"
      },
      "source": [
        "<a href=\"https://colab.research.google.com/github/shyexnnn/PythonStudy/blob/master/%EC%9E%85%2C%EC%B6%9C%EB%A0%A5.ipynb\" target=\"_parent\"><img src=\"https://colab.research.google.com/assets/colab-badge.svg\" alt=\"Open In Colab\"/></a>"
      ]
    },
    {
      "cell_type": "markdown",
      "source": [
        "# **입,출력**"
      ],
      "metadata": {
        "id": "5KiFnQ1mH0wt"
      }
    },
    {
      "cell_type": "markdown",
      "source": [
        "##입력"
      ],
      "metadata": {
        "id": "DTc9NSuSH5dA"
      }
    },
    {
      "cell_type": "code",
      "source": [
        "a = input() # input 사용해 입력받기\n",
        "print(a)"
      ],
      "metadata": {
        "colab": {
          "base_uri": "https://localhost:8080/"
        },
        "id": "o-iLIQiEH82-",
        "outputId": "c3b8f0fa-e342-4580-d4d5-5fbd5b97aefd"
      },
      "execution_count": null,
      "outputs": [
        {
          "output_type": "stream",
          "name": "stdout",
          "text": [
            "gkgk\n",
            "gkgk\n"
          ]
        }
      ]
    },
    {
      "cell_type": "code",
      "source": [
        "number = input(\"숫자입력: \") # input 안에 문구 입력해서 프롬프트 띄우기\n",
        "print(number) # input은 입력되는 모든것을 문자열 취급, number 숫자 X"
      ],
      "metadata": {
        "colab": {
          "base_uri": "https://localhost:8080/"
        },
        "id": "wnxzh0eBIQ2j",
        "outputId": "9379b9b1-c094-433b-e209-d7eee6df164c"
      },
      "execution_count": null,
      "outputs": [
        {
          "output_type": "stream",
          "name": "stdout",
          "text": [
            "숫자입력: 3\n",
            "3\n"
          ]
        }
      ]
    },
    {
      "cell_type": "code",
      "source": [
        "print(\"haha\"\"hihi\"\"HAHA\"\"HIHI\") # (\"\")= +연산자와 동일\n",
        "print(\"nana\", \"mama\", \"baba\") # (,)= 문자열 사이 띄어쓰기\n",
        "for i in range(10):\n",
        "  print(i, end='') # end: 한줄에 결과값 이어서 출력, end의 초기값=\\n"
      ],
      "metadata": {
        "colab": {
          "base_uri": "https://localhost:8080/"
        },
        "id": "sgPNVyVHJtEG",
        "outputId": "78b9fd1b-e8fc-4359-8bf8-e1dae9b21c02"
      },
      "execution_count": null,
      "outputs": [
        {
          "output_type": "stream",
          "name": "stdout",
          "text": [
            "hahahihiHAHAHIHI\n",
            "nana mama baba\n",
            "0123456789"
          ]
        }
      ]
    },
    {
      "cell_type": "markdown",
      "source": [
        "#**파일 읽고 쓰기**"
      ],
      "metadata": {
        "id": "Jl9zKJWxLBPv"
      }
    },
    {
      "cell_type": "markdown",
      "source": [
        "## 파일 생성"
      ],
      "metadata": {
        "id": "7n7oS-7ALF9e"
      }
    },
    {
      "cell_type": "code",
      "source": [
        "f = open(\"새파일.txt\", 'w') \n",
        "f.close() # 열려있는 파일 객체 닫아줌, 문장 생략 가능\n",
        "# 파일 객체 = open(파일이름, 파일열기모드)"
      ],
      "metadata": {
        "id": "B81Dh0cg9Ps9"
      },
      "execution_count": null,
      "outputs": []
    },
    {
      "cell_type": "markdown",
      "source": [
        "<파일열기모드>\n",
        "\n",
        "*   'r' : 읽기모드 - 파일을 읽기만 할 때 사용\n",
        "*   'w' : 쓰기모드 - 파일에 내용을 쓸 때 사용\n",
        "* 'a' : 추가모드 - 파일의 마지막에 새로운 내용을 추가 시킬 때 사용\n",
        "\n"
      ],
      "metadata": {
        "id": "w445lAQI9omz"
      }
    },
    {
      "cell_type": "markdown",
      "source": [
        "## 파일 쓰기 모드로 열어 내용 쓰기"
      ],
      "metadata": {
        "id": "TQLRFfjc-Jsb"
      }
    },
    {
      "cell_type": "code",
      "source": [
        "f = open(\"C:/doit/새파일.txt\", 'w')\n",
        "for i in range(1,11):\n",
        "  data = \"%d번째 줄입니다.\\n\" % i\n",
        "  f.write(data)\n",
        "f.close()"
      ],
      "metadata": {
        "id": "1XSDA3gJ-PdD"
      },
      "execution_count": null,
      "outputs": []
    },
    {
      "cell_type": "markdown",
      "source": [
        "## 파일을 읽는 여러가지 방법"
      ],
      "metadata": {
        "id": "m4F3-cHc_x0m"
      }
    },
    {
      "cell_type": "code",
      "source": [
        "# readline 함수 \n",
        "f = open(\"C:/doit/새파일.txt\", 'r')\n",
        "line = f.readline()\n",
        "print(line)\n",
        "f.close()"
      ],
      "metadata": {
        "id": "O_UWXPb__1Kh"
      },
      "execution_count": null,
      "outputs": []
    },
    {
      "cell_type": "code",
      "source": [
        "# readlines 함수\n",
        "f = open(\"C:/doit/새파일.txt\", 'r')\n",
        "lines = f.realines()\n",
        "for line in lines:\n",
        "  print(line)\n",
        "f.close()"
      ],
      "metadata": {
        "id": "PpexUk9RB5uA"
      },
      "execution_count": null,
      "outputs": []
    },
    {
      "cell_type": "code",
      "source": [
        "# read 함수\n",
        "f = open(\"C:/doit/새파일.txt\", 'r')\n",
        "data = f.read()\n",
        "print(data)\n",
        "f.close()"
      ],
      "metadata": {
        "id": "aPIQcN4XCNz8"
      },
      "execution_count": null,
      "outputs": []
    },
    {
      "cell_type": "markdown",
      "source": [
        "## 파일에 새로운 내용 추가 <br>\n",
        "쓰기 모드('w')로 파일 열 때 이미 존재하는 파일을 열면 그 파일의 내용이 모두 사라짐. 추가 모드('a')로 파일 열면 원래 있던 값 유지하면서 새로운 값 추가"
      ],
      "metadata": {
        "id": "iGTSkGt1D53C"
      }
    },
    {
      "cell_type": "code",
      "source": [
        "f = open(\"C:/doit/새파일.txt\", 'a')\n",
        "for i in range(11,20):\n",
        "  data = \"%d번째 줄\\n\" % i\n",
        "  f.write(data)\n",
        "f.close()"
      ],
      "metadata": {
        "id": "ijCTedbFEN1Y"
      },
      "execution_count": null,
      "outputs": []
    },
    {
      "cell_type": "markdown",
      "source": [
        "# **프로그램 입,출력**"
      ],
      "metadata": {
        "id": "YQrn32NPEtKP"
      }
    },
    {
      "cell_type": "code",
      "source": [
        "import sys # 프로그램에 인수 전달\n",
        "args = sys.grgv[1:]\n",
        "for i in args: # 전달받은 인수 차례대로 출력\n",
        "  print(i)"
      ],
      "metadata": {
        "id": "eJVaAveaGRRB"
      },
      "execution_count": null,
      "outputs": []
    }
  ]
}
