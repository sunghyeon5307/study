{
  "nbformat": 4,
  "nbformat_minor": 0,
  "metadata": {
    "colab": {
      "provenance": [],
      "toc_visible": true,
      "authorship_tag": "ABX9TyMAlBPX6CNImCC0kvgIvCdF",
      "include_colab_link": true
    },
    "kernelspec": {
      "name": "python3",
      "display_name": "Python 3"
    },
    "language_info": {
      "name": "python"
    }
  },
  "cells": [
    {
      "cell_type": "markdown",
      "metadata": {
        "id": "view-in-github",
        "colab_type": "text"
      },
      "source": [
        "<a href=\"https://colab.research.google.com/github/shyexnnn/PythonStudy/blob/master/if%2Cwhile%EB%AC%B8_%EC%A0%9C%EC%96%B4%EB%AC%B8.ipynb\" target=\"_parent\"><img src=\"https://colab.research.google.com/assets/colab-badge.svg\" alt=\"Open In Colab\"/></a>"
      ]
    },
    {
      "cell_type": "markdown",
      "source": [
        "# **if문**"
      ],
      "metadata": {
        "id": "8w5cCOcUFVkL"
      }
    },
    {
      "cell_type": "code",
      "source": [
        "a = True\n",
        "if a: # 조건문 다음에 꼭 콜론(:) 적기\n",
        "  print(\"hahaha\") # 들여쓰기 하기\n",
        "else:\n",
        "  print(\"hihihi\")"
      ],
      "metadata": {
        "colab": {
          "base_uri": "https://localhost:8080/"
        },
        "id": "ScKIDK-4Fhmw",
        "outputId": "4c85fd40-d34a-4a45-debc-805de9a439cc"
      },
      "execution_count": 2,
      "outputs": [
        {
          "output_type": "stream",
          "name": "stdout",
          "text": [
            "hahaha\n"
          ]
        }
      ]
    },
    {
      "cell_type": "markdown",
      "source": [
        "## and, or, not"
      ],
      "metadata": {
        "id": "KdKzI2U7IQx0"
      }
    },
    {
      "cell_type": "markdown",
      "source": [
        "\n",
        "\n",
        "*   x or y = x와 y 둘중에 하나만 참이어도 참\n",
        "*   x and y = x와 y 둘다 참이어야 참\n",
        "*   not x = x가 거짓이면 참\n",
        "\n"
      ],
      "metadata": {
        "id": "Ymvkpr-mIVDy"
      }
    },
    {
      "cell_type": "markdown",
      "source": [
        "## in, not in"
      ],
      "metadata": {
        "id": "Q2IAXp__JHJX"
      }
    },
    {
      "cell_type": "markdown",
      "source": [
        "\n",
        "\n",
        "*   in: x in 리스트, 튜플, 문자열\n",
        "*   not in: x not in 리스트, 튜플, 문자열\n",
        "\n"
      ],
      "metadata": {
        "id": "NrcF3QKmJVGp"
      }
    },
    {
      "cell_type": "markdown",
      "source": [
        "## 조건부 표현식"
      ],
      "metadata": {
        "id": "lqMXMSaBLfoP"
      }
    },
    {
      "cell_type": "markdown",
      "source": [
        "한 줄로 작성 가능 <br>\n",
        "**변수 = 조건문이 참인 경우의 값 if 조건문 else 조건문이 거짓인 경우의 값**\n"
      ],
      "metadata": {
        "id": "OLY72HjfLzHY"
      }
    },
    {
      "cell_type": "markdown",
      "source": [
        "# **while문**"
      ],
      "metadata": {
        "id": "f4onosoBL_30"
      }
    },
    {
      "cell_type": "markdown",
      "source": [],
      "metadata": {
        "id": "bMnFS4jCMYO6"
      }
    },
    {
      "cell_type": "code",
      "source": [
        "p = \"\"\"\n",
        "1. djdjdjdj\n",
        "2. dkdkdk\n",
        "3. gkgg\n",
        "4. hahaha\n",
        "enter number:\n",
        "\"\"\"\n",
        "n=0\n",
        "while n != 4:\n",
        "  print(p)\n",
        "  n=int(input())"
      ],
      "metadata": {
        "id": "FfwIPLsvN2dr"
      },
      "execution_count": null,
      "outputs": []
    },
    {
      "cell_type": "code",
      "source": [
        "coffee = 20\n",
        "money = 350\n",
        "while money:\n",
        "  print(\"커피주기\")\n",
        "  coffee = coffee-1\n",
        "  print(\"남은 커피 양: %d\" % coffee)\n",
        "  if coffee == 0:\n",
        "    print(\"end\")\n",
        "    break # 강제로 빠져나오기\n"
      ],
      "metadata": {
        "id": "EyUo05ytOt38"
      },
      "execution_count": null,
      "outputs": []
    },
    {
      "cell_type": "markdown",
      "source": [
        "while문의 맨 처음으로 돌아가기: continue"
      ],
      "metadata": {
        "id": "mfaBhDs0Qi9l"
      }
    },
    {
      "cell_type": "markdown",
      "source": [
        "## 무한루프"
      ],
      "metadata": {
        "id": "y9OGu2j7QsTR"
      }
    },
    {
      "cell_type": "code",
      "source": [
        "while True:\n",
        "  print(\"Ctrl+C를 눌러야 while문을 빠져나갈 수 있습니다.\")"
      ],
      "metadata": {
        "id": "-4Fi2moEQ04p"
      },
      "execution_count": null,
      "outputs": []
    }
  ]
}
