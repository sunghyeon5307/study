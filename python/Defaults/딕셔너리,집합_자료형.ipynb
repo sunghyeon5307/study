{
  "nbformat": 4,
  "nbformat_minor": 0,
  "metadata": {
    "colab": {
      "provenance": [],
      "toc_visible": true,
      "authorship_tag": "ABX9TyPelDpEg7EXpXksf6PYr7mg",
      "include_colab_link": true
    },
    "kernelspec": {
      "name": "python3",
      "display_name": "Python 3"
    },
    "language_info": {
      "name": "python"
    }
  },
  "cells": [
    {
      "cell_type": "markdown",
      "metadata": {
        "id": "view-in-github",
        "colab_type": "text"
      },
      "source": [
        "<a href=\"https://colab.research.google.com/github/shyexnnn/PythonStudy/blob/master/%EB%94%95%EC%85%94%EB%84%88%EB%A6%AC%2C%EC%A7%91%ED%95%A9_ipynb\" target=\"_parent\"><img src=\"https://colab.research.google.com/assets/colab-badge.svg\" alt=\"Open In Colab\"/></a>"
      ]
    },
    {
      "cell_type": "markdown",
      "source": [
        "# **딕셔너리 자료형**\n"
      ],
      "metadata": {
        "id": "3vb5bnk4L94k"
      }
    },
    {
      "cell_type": "markdown",
      "source": [
        "1. 쌍 추가"
      ],
      "metadata": {
        "id": "eV_RdWlBZOU5"
      }
    },
    {
      "cell_type": "code",
      "source": [
        "a = {1: 'a'}\n",
        "a[2] = 'b'\n",
        "a"
      ],
      "metadata": {
        "colab": {
          "base_uri": "https://localhost:8080/"
        },
        "id": "7sxb0VE7Y5Ad",
        "outputId": "bf5bc9cc-038c-448d-91a9-de21843081d6"
      },
      "execution_count": null,
      "outputs": [
        {
          "output_type": "execute_result",
          "data": {
            "text/plain": [
              "{1: 'a', 2: 'b'}"
            ]
          },
          "metadata": {},
          "execution_count": 1
        }
      ]
    },
    {
      "cell_type": "markdown",
      "source": [
        "2. 요소 삭제"
      ],
      "metadata": {
        "id": "2Ls2-QY6ZQB_"
      }
    },
    {
      "cell_type": "code",
      "source": [
        "a = {1: 'a'}\n",
        "a[2] = 'b'\n",
        "a['name'] = 'psh'\n",
        "a[3] = [1,2,3]\n",
        "del a[2]\n",
        "a"
      ],
      "metadata": {
        "colab": {
          "base_uri": "https://localhost:8080/"
        },
        "id": "LAAgPGiRZTMq",
        "outputId": "b830536a-0fbf-47ed-d3f1-3e00072f4a36"
      },
      "execution_count": null,
      "outputs": [
        {
          "output_type": "execute_result",
          "data": {
            "text/plain": [
              "{1: 'a', 'name': 'psh', 3: [1, 2, 3]}"
            ]
          },
          "metadata": {},
          "execution_count": 9
        }
      ]
    },
    {
      "cell_type": "markdown",
      "source": [
        "## **딕셔너리 관련 함수**"
      ],
      "metadata": {
        "id": "4umjNBX5bLN-"
      }
    },
    {
      "cell_type": "markdown",
      "source": [
        "1. key 리스트(keys)"
      ],
      "metadata": {
        "id": "zWM-8LktbPXw"
      }
    },
    {
      "cell_type": "code",
      "source": [
        "a = {'name': 'psh', 'phone': '010-2222-3333', 'birth': '0503'}\n",
        "a.keys()"
      ],
      "metadata": {
        "colab": {
          "base_uri": "https://localhost:8080/"
        },
        "id": "H_TWeEE7bTjT",
        "outputId": "235de8dd-f3d0-4630-89c6-25428a07e373"
      },
      "execution_count": null,
      "outputs": [
        {
          "output_type": "execute_result",
          "data": {
            "text/plain": [
              "dict_keys(['name', 'phone', 'birth'])"
            ]
          },
          "metadata": {},
          "execution_count": 11
        }
      ]
    },
    {
      "cell_type": "markdown",
      "source": [
        "2. Value 리스트(values)"
      ],
      "metadata": {
        "id": "2Tkyn3dAb135"
      }
    },
    {
      "cell_type": "code",
      "source": [
        "a = {'name': 'psh', 'phone': '010-2222-3333', 'birth': '0503'}\n",
        "a.values()"
      ],
      "metadata": {
        "colab": {
          "base_uri": "https://localhost:8080/"
        },
        "id": "kvfydvHVb5wq",
        "outputId": "18e1cfab-d511-44b9-885f-431534714e4e"
      },
      "execution_count": null,
      "outputs": [
        {
          "output_type": "execute_result",
          "data": {
            "text/plain": [
              "dict_values(['psh', '010-2222-3333', '0503'])"
            ]
          },
          "metadata": {},
          "execution_count": 12
        }
      ]
    },
    {
      "cell_type": "markdown",
      "source": [
        "3. Key, Value 쌍 얻기(items)"
      ],
      "metadata": {
        "id": "wUx5BSoGcEm1"
      }
    },
    {
      "cell_type": "code",
      "source": [
        "a = {'name': 'psh', 'phone': '010-2222-3333', 'birth': '0503'}\n",
        "a.items()"
      ],
      "metadata": {
        "colab": {
          "base_uri": "https://localhost:8080/"
        },
        "id": "5MQ79G_HcF9L",
        "outputId": "0c7a228d-5dc6-4b2a-f322-b09da7241d5f"
      },
      "execution_count": null,
      "outputs": [
        {
          "output_type": "execute_result",
          "data": {
            "text/plain": [
              "dict_items([('name', 'psh'), ('phone', '010-2222-3333'), ('birth', '0503')])"
            ]
          },
          "metadata": {},
          "execution_count": 13
        }
      ]
    },
    {
      "cell_type": "markdown",
      "source": [
        "4. Key: Value 쌍 모두 지우기(clear)"
      ],
      "metadata": {
        "id": "OzrfK7N5cM5F"
      }
    },
    {
      "cell_type": "code",
      "source": [
        "a = {'name': 'psh', 'phone': '010-2222-3333', 'birth': '0503'}\n",
        "a.clear()\n",
        "a"
      ],
      "metadata": {
        "colab": {
          "base_uri": "https://localhost:8080/"
        },
        "id": "CB39ZLEscN6C",
        "outputId": "c9c74226-ed93-4c56-fca9-ff37d19ce1e5"
      },
      "execution_count": null,
      "outputs": [
        {
          "output_type": "execute_result",
          "data": {
            "text/plain": [
              "{}"
            ]
          },
          "metadata": {},
          "execution_count": 15
        }
      ]
    },
    {
      "cell_type": "markdown",
      "source": [
        "5. Key로 Value얻기(get)"
      ],
      "metadata": {
        "id": "iBIARi0rca8Y"
      }
    },
    {
      "cell_type": "code",
      "source": [
        "a = {'name': 'psh', 'phone': '010-2222-3333', 'birth': '0503'}\n",
        "a.get('name')"
      ],
      "metadata": {
        "colab": {
          "base_uri": "https://localhost:8080/",
          "height": 36
        },
        "id": "aBoQVGqtcd14",
        "outputId": "0b150c02-db8b-49a0-f3f3-a59f6af1df60"
      },
      "execution_count": null,
      "outputs": [
        {
          "output_type": "execute_result",
          "data": {
            "text/plain": [
              "'psh'"
            ],
            "application/vnd.google.colaboratory.intrinsic+json": {
              "type": "string"
            }
          },
          "metadata": {},
          "execution_count": 17
        }
      ]
    },
    {
      "cell_type": "markdown",
      "source": [
        "6. 해당 Key가 딕셔너리 안에 있는지 조사하기(in)"
      ],
      "metadata": {
        "id": "CuYm2i1octgT"
      }
    },
    {
      "cell_type": "code",
      "source": [
        "a = {'name': 'psh', 'phone': '010-2222-3333', 'birth': '0503'}\n",
        "'name' in a # 딕셔너리 안에 있으면 true, 없으면 false"
      ],
      "metadata": {
        "colab": {
          "base_uri": "https://localhost:8080/"
        },
        "id": "nILxObLicxU1",
        "outputId": "4319dcbb-9b7f-4e0b-9282-4bf80c911fc3"
      },
      "execution_count": null,
      "outputs": [
        {
          "output_type": "execute_result",
          "data": {
            "text/plain": [
              "True"
            ]
          },
          "metadata": {},
          "execution_count": 18
        }
      ]
    },
    {
      "cell_type": "markdown",
      "source": [
        "# **집합 자료형**"
      ],
      "metadata": {
        "id": "yLi144pQc-0D"
      }
    },
    {
      "cell_type": "markdown",
      "source": [
        "\n",
        "\n",
        "*   중복 사용 X\n",
        "*   순서 X\n",
        "\n"
      ],
      "metadata": {
        "id": "_vcXklIVdEUi"
      }
    },
    {
      "cell_type": "markdown",
      "source": [
        "1. 교집합(&)"
      ],
      "metadata": {
        "id": "LA5JysKe74-Q"
      }
    },
    {
      "cell_type": "code",
      "source": [
        "a = set([1,1,3,'a','b','c'])\n",
        "b = set([4,3,6,'d','a','c'])\n",
        "print(a&b)"
      ],
      "metadata": {
        "colab": {
          "base_uri": "https://localhost:8080/"
        },
        "id": "AkRabrVU8Iah",
        "outputId": "682de289-0ecd-4310-df2e-bd2f485bd9bf"
      },
      "execution_count": 10,
      "outputs": [
        {
          "output_type": "stream",
          "name": "stdout",
          "text": [
            "{'c', 3, 'a'}\n"
          ]
        }
      ]
    },
    {
      "cell_type": "markdown",
      "source": [
        "2. 합집합( | )"
      ],
      "metadata": {
        "id": "C40xwN5L7N0L"
      }
    },
    {
      "cell_type": "code",
      "source": [
        "print(a|b)"
      ],
      "metadata": {
        "colab": {
          "base_uri": "https://localhost:8080/"
        },
        "id": "Gabr2Pe87P4z",
        "outputId": "4e123986-21b9-4638-ca2a-c8958a36b3a8"
      },
      "execution_count": 9,
      "outputs": [
        {
          "output_type": "stream",
          "name": "stdout",
          "text": [
            "{1, 3, 'a', 'b', 4, 6, 'd', 'c'}\n"
          ]
        }
      ]
    },
    {
      "cell_type": "markdown",
      "source": [
        "3. 차집합(-)"
      ],
      "metadata": {
        "id": "kMuZbCnU8dLb"
      }
    },
    {
      "cell_type": "code",
      "source": [
        "print(a-b)\n",
        "print(b-a)"
      ],
      "metadata": {
        "colab": {
          "base_uri": "https://localhost:8080/"
        },
        "id": "LAxvQnK38gva",
        "outputId": "40f2c69c-eedf-42da-96dc-772f49608c60"
      },
      "execution_count": 11,
      "outputs": [
        {
          "output_type": "stream",
          "name": "stdout",
          "text": [
            "{1, 'b'}\n",
            "{'d', 4, 6}\n"
          ]
        }
      ]
    },
    {
      "cell_type": "markdown",
      "source": [
        "4. 값 1개 추가(add)"
      ],
      "metadata": {
        "id": "XRUXPY2h9FNx"
      }
    },
    {
      "cell_type": "code",
      "source": [
        "a = set([1,2,3])\n",
        "a.add('c')\n",
        "a"
      ],
      "metadata": {
        "colab": {
          "base_uri": "https://localhost:8080/"
        },
        "id": "u8gcze3Z9KWk",
        "outputId": "743e3696-fbd8-49c4-9a99-c181b9b8b568"
      },
      "execution_count": 15,
      "outputs": [
        {
          "output_type": "execute_result",
          "data": {
            "text/plain": [
              "{1, 2, 3, 'c'}"
            ]
          },
          "metadata": {},
          "execution_count": 15
        }
      ]
    },
    {
      "cell_type": "markdown",
      "source": [
        "5. 여러 값 추가(update)"
      ],
      "metadata": {
        "id": "IeqPM0mA9atu"
      }
    },
    {
      "cell_type": "code",
      "source": [
        "a.update([4,5,3])\n",
        "a"
      ],
      "metadata": {
        "colab": {
          "base_uri": "https://localhost:8080/"
        },
        "id": "Qn92As9G9hgc",
        "outputId": "f31bc556-2dfb-46ec-e42f-9f01e8c67a8e"
      },
      "execution_count": 18,
      "outputs": [
        {
          "output_type": "execute_result",
          "data": {
            "text/plain": [
              "{1, 2, 3, 4, 5, 'c'}"
            ]
          },
          "metadata": {},
          "execution_count": 18
        }
      ]
    },
    {
      "cell_type": "markdown",
      "source": [
        "6. 특정 값 제거(remove)"
      ],
      "metadata": {
        "id": "5jLrpPw79zIj"
      }
    },
    {
      "cell_type": "code",
      "source": [
        "a.remove('c')\n",
        "a"
      ],
      "metadata": {
        "colab": {
          "base_uri": "https://localhost:8080/"
        },
        "id": "CERPKBCG94MB",
        "outputId": "10dceaf2-b177-4a77-8e5a-6e59b7446454"
      },
      "execution_count": 19,
      "outputs": [
        {
          "output_type": "execute_result",
          "data": {
            "text/plain": [
              "{1, 2, 3, 4, 5}"
            ]
          },
          "metadata": {},
          "execution_count": 19
        }
      ]
    }
  ]
}
