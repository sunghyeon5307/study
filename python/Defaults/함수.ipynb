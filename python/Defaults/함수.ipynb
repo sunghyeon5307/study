{
  "nbformat": 4,
  "nbformat_minor": 0,
  "metadata": {
    "colab": {
      "provenance": [],
      "toc_visible": true,
      "authorship_tag": "ABX9TyN05jE+BFF3WFncQWeueqce",
      "include_colab_link": true
    },
    "kernelspec": {
      "name": "python3",
      "display_name": "Python 3"
    },
    "language_info": {
      "name": "python"
    }
  },
  "cells": [
    {
      "cell_type": "markdown",
      "metadata": {
        "id": "view-in-github",
        "colab_type": "text"
      },
      "source": [
        "<a href=\"https://colab.research.google.com/github/shyexnnn/PythonStudy/blob/master/%ED%95%A8%EC%88%98.ipynb\" target=\"_parent\"><img src=\"https://colab.research.google.com/assets/colab-badge.svg\" alt=\"Open In Colab\"/></a>"
      ]
    },
    {
      "cell_type": "markdown",
      "source": [
        "#**함수**"
      ],
      "metadata": {
        "id": "LGQxGth4McfD"
      }
    },
    {
      "cell_type": "markdown",
      "source": [
        "**함수 구조** <br>\n",
        "def 함수명(매개변수):<br>\n",
        "    <수행할 문장1> <br>\n",
        "    <수행할 문장2> <br>\n",
        "    ..."
      ],
      "metadata": {
        "id": "qJ9Ex1kwMp2P"
      }
    },
    {
      "cell_type": "code",
      "source": [
        "def add(a,b):\n",
        "  return a+b # return: 함수의 결과값을 돌려줌\n",
        "a = 4\n",
        "b = 10\n",
        "c = add(a, b)\n",
        "print(c)"
      ],
      "metadata": {
        "colab": {
          "base_uri": "https://localhost:8080/"
        },
        "id": "jeA9UQjOM3mf",
        "outputId": "6fcb0d5e-7fbb-4db1-97a1-6f983dd22af8"
      },
      "execution_count": 4,
      "outputs": [
        {
          "output_type": "stream",
          "name": "stdout",
          "text": [
            "14\n"
          ]
        }
      ]
    },
    {
      "cell_type": "markdown",
      "source": [
        "## 매개변수와 인수\n",
        "\n",
        "*   매개변수: 함수에 전달된 값을 저장하는 변수\n",
        "*   인수: 함수에 전달하는 값\n",
        "\n"
      ],
      "metadata": {
        "id": "83KtOkH2N1lC"
      }
    },
    {
      "cell_type": "code",
      "source": [
        "def add(a, b): # a,b는 매개변수\n",
        "  return a+b\n",
        "print(add(3,4)) # 3,4,는 인수"
      ],
      "metadata": {
        "colab": {
          "base_uri": "https://localhost:8080/"
        },
        "id": "fgUU4Ch-Uq9v",
        "outputId": "8089b7d8-3386-401f-dc0a-f0a8c366bc28"
      },
      "execution_count": 5,
      "outputs": [
        {
          "output_type": "stream",
          "name": "stdout",
          "text": [
            "7\n"
          ]
        }
      ]
    },
    {
      "cell_type": "markdown",
      "source": [
        "## 입력값과 리턴값에 따른 함수의 형태"
      ],
      "metadata": {
        "id": "6QCXGQ52U6vn"
      }
    },
    {
      "cell_type": "markdown",
      "source": [
        "1. 일반적인 함수\n",
        "\n",
        "*   입력값이 있고 리턴값이 있는 함수\n",
        "* def 함수이름(매개변수): <br>\n",
        "    <수행할 문장><br>\n",
        "    ...<br>\n",
        "    return 리턴값\n"
      ],
      "metadata": {
        "id": "qwXNG_G2DcYH"
      }
    },
    {
      "cell_type": "code",
      "source": [
        "def add(a,b):\n",
        "  c = a+b\n",
        "  return c\n",
        "h = add(3,4)\n",
        "print(h)"
      ],
      "metadata": {
        "colab": {
          "base_uri": "https://localhost:8080/"
        },
        "id": "0pt-yteTDqb3",
        "outputId": "e374774b-6c7c-4310-dc35-1262c1fa9903"
      },
      "execution_count": 2,
      "outputs": [
        {
          "output_type": "stream",
          "name": "stdout",
          "text": [
            "7\n"
          ]
        }
      ]
    },
    {
      "cell_type": "markdown",
      "source": [
        "2. 입력값이 없는 함수\n",
        "\n",
        "*   리턴값을 받을 변수 = 함수이름()\n",
        "\n"
      ],
      "metadata": {
        "id": "H6Kw0PMdEYEF"
      }
    },
    {
      "cell_type": "code",
      "source": [
        "def s():\n",
        "  return \"HI\"\n",
        "a = s()\n",
        "print(a)"
      ],
      "metadata": {
        "colab": {
          "base_uri": "https://localhost:8080/"
        },
        "id": "rHG3CcZSEuSS",
        "outputId": "5fc64432-f781-4459-9414-9611a08c60df"
      },
      "execution_count": 4,
      "outputs": [
        {
          "output_type": "stream",
          "name": "stdout",
          "text": [
            "HI\n"
          ]
        }
      ]
    },
    {
      "cell_type": "markdown",
      "source": [
        "3. 리턴값이 없는 함수\n",
        "* 함수이름(입력인수1, 입력인수2, ...)"
      ],
      "metadata": {
        "id": "D7ZmxAk8E9_G"
      }
    },
    {
      "cell_type": "code",
      "source": [
        "def add(a,b):\n",
        "  print(\"%d %d의 합은 %d입니다\" % (a,b,a+b))\n",
        "add(4,5)"
      ],
      "metadata": {
        "colab": {
          "base_uri": "https://localhost:8080/"
        },
        "id": "ekyqXoAjFR5m",
        "outputId": "181d4e61-44f7-4423-d434-d901bcc720e2"
      },
      "execution_count": 7,
      "outputs": [
        {
          "output_type": "stream",
          "name": "stdout",
          "text": [
            "4 5의 합은 9입니다\n"
          ]
        }
      ]
    },
    {
      "cell_type": "markdown",
      "source": [
        "4. 입력, 리턴값도 없는 함수\n",
        "* 함수이름()"
      ],
      "metadata": {
        "id": "XdTQD79CF4fe"
      }
    },
    {
      "cell_type": "code",
      "source": [
        "def say():\n",
        "  print(\"hi\")\n",
        "say()"
      ],
      "metadata": {
        "colab": {
          "base_uri": "https://localhost:8080/"
        },
        "id": "P5MytMZOGERb",
        "outputId": "6cc2b523-6af3-4f18-8c74-2ca63a916540"
      },
      "execution_count": 8,
      "outputs": [
        {
          "output_type": "stream",
          "name": "stdout",
          "text": [
            "hi\n"
          ]
        }
      ]
    },
    {
      "cell_type": "markdown",
      "source": [
        "## 매개변수 지정하여 호출"
      ],
      "metadata": {
        "id": "LIfrH4dKGeEK"
      }
    },
    {
      "cell_type": "code",
      "source": [
        "def add(a,b):\n",
        "  return a-b\n",
        "result = add(b=4,a=9) # b에 4, a에 9전달\n",
        "print(result)\n"
      ],
      "metadata": {
        "colab": {
          "base_uri": "https://localhost:8080/"
        },
        "id": "bdjzE4cpGg5x",
        "outputId": "2364ae91-7d8c-4d9c-ffef-de398a915e44"
      },
      "execution_count": 9,
      "outputs": [
        {
          "output_type": "stream",
          "name": "stdout",
          "text": [
            "5\n"
          ]
        }
      ]
    },
    {
      "cell_type": "markdown",
      "source": [
        "<여러 개의 입력값을 받는 함수 만들기>"
      ],
      "metadata": {
        "id": "jv9ooO2gG3n8"
      }
    },
    {
      "cell_type": "code",
      "source": [
        "def add_many(*args): # 매개변수 이름 앞에 *을 붙이면 입력값을 전부 모아서 튜플로 만들어줌\n",
        "  result = 0\n",
        "  for i in args:\n",
        "    result = result + i\n",
        "  return result \n",
        "result = add_many(1,2,3,4,5,6,7)\n",
        "print(result)"
      ],
      "metadata": {
        "colab": {
          "base_uri": "https://localhost:8080/"
        },
        "id": "Ia65tUarH7hm",
        "outputId": "0ea3a61d-c826-4811-c24e-2f1f18cf0029"
      },
      "execution_count": 10,
      "outputs": [
        {
          "output_type": "stream",
          "name": "stdout",
          "text": [
            "28\n"
          ]
        }
      ]
    },
    {
      "cell_type": "code",
      "source": [
        "def add_mul(choice, *args):\n",
        "  if choice == \"add\":\n",
        "    result = 0\n",
        "    for i in args:\n",
        "      result = result + i\n",
        "  elif choice == \"mul\":\n",
        "    result = 1\n",
        "    for i in args:\n",
        "      result = result * i\n",
        "  return result\n",
        "result = add_mul('add', 1,2,3,4,5) # 매개변수 choice에 'add'가 입력되면 *args에 모든 값을 더해서 15를 준다\n",
        "print(result)"
      ],
      "metadata": {
        "colab": {
          "base_uri": "https://localhost:8080/"
        },
        "id": "vMMR34-0Ia3P",
        "outputId": "585443e4-6135-4dec-9cc8-509d45f52174"
      },
      "execution_count": 12,
      "outputs": [
        {
          "output_type": "stream",
          "name": "stdout",
          "text": [
            "15\n"
          ]
        }
      ]
    },
    {
      "cell_type": "markdown",
      "source": [
        "## 키워드 매개변수 kwargs"
      ],
      "metadata": {
        "id": "VATJ1ITRJjOR"
      }
    },
    {
      "cell_type": "code",
      "source": [
        "def a(**kwargs): # 매개변수 앞에 ** 붙이면 kwargs는 딕셔너리가 되고 모든 key=value형태의 입력값이 그 딕셔너리에 저장\n",
        "  print(kwargs)\n",
        "a(name='ha', age=3)"
      ],
      "metadata": {
        "colab": {
          "base_uri": "https://localhost:8080/"
        },
        "id": "MILyWbxXn9yz",
        "outputId": "b83d98b6-eabc-4e40-c6d9-9d7aabf91e7d"
      },
      "execution_count": 2,
      "outputs": [
        {
          "output_type": "stream",
          "name": "stdout",
          "text": [
            "{'name': 'ha', 'age': 3}\n"
          ]
        }
      ]
    },
    {
      "cell_type": "markdown",
      "source": [
        "## lambda\n",
        "* 함수를 생성할 때 사용하는 예약어\n",
        "* 함수명 = lambda 매개변수1, 매개변수2, ... : 매개변수를 이용한 표현식\n",
        "\n"
      ],
      "metadata": {
        "id": "_WoAzl38vhSK"
      }
    },
    {
      "cell_type": "code",
      "source": [
        "add = lambda a, b: a+b # return 명령어 없이도 결과값 리턴\n",
        "result = add(3,4)\n",
        "print(result)"
      ],
      "metadata": {
        "id": "rjTDoQFrvnz0"
      },
      "execution_count": null,
      "outputs": []
    },
    {
      "cell_type": "code",
      "source": [
        "def add(a,b): # 위에 lambda 함수를 사용한 것과 같음\n",
        "  return a+b\n",
        "result=add(3,4)\n",
        "print(result)"
      ],
      "metadata": {
        "id": "_fk6H5-8wCJ8"
      },
      "execution_count": null,
      "outputs": []
    }
  ]
}
