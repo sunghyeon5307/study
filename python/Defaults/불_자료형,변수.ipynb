{
  "nbformat": 4,
  "nbformat_minor": 0,
  "metadata": {
    "colab": {
      "provenance": [],
      "toc_visible": true,
      "authorship_tag": "ABX9TyMzvkHHRCmaPxRE2UTkKbQG",
      "include_colab_link": true
    },
    "kernelspec": {
      "name": "python3",
      "display_name": "Python 3"
    },
    "language_info": {
      "name": "python"
    }
  },
  "cells": [
    {
      "cell_type": "markdown",
      "metadata": {
        "id": "view-in-github",
        "colab_type": "text"
      },
      "source": [
        "<a href=\"https://colab.research.google.com/github/shyexnnn/PythonStudy/blob/master/%EB%B6%88_%EC%9E%90%EB%A3%8C%ED%98%95%2C%EB%B3%80%EC%88%98.ipynb\" target=\"_parent\"><img src=\"https://colab.research.google.com/assets/colab-badge.svg\" alt=\"Open In Colab\"/></a>"
      ]
    },
    {
      "cell_type": "markdown",
      "source": [
        "# **불 자료형**"
      ],
      "metadata": {
        "id": "Og0vB2te9Wzw"
      }
    },
    {
      "cell_type": "markdown",
      "source": [
        "참(True), 거짓(False) 2가지 값만을 가짐\n",
        "* 첫 문자 항상 대문자"
      ],
      "metadata": {
        "id": "ODHvdzhw9YSI"
      }
    },
    {
      "cell_type": "code",
      "source": [
        "a=True \n",
        "b=False\n",
        "type(a) # a에 불 지정\n",
        "type(b)\n",
        "12 >= 15"
      ],
      "metadata": {
        "colab": {
          "base_uri": "https://localhost:8080/"
        },
        "id": "f0FG2dHd90P_",
        "outputId": "2e3fa0d8-0341-434b-8783-3c332ba67009"
      },
      "execution_count": 11,
      "outputs": [
        {
          "output_type": "execute_result",
          "data": {
            "text/plain": [
              "False"
            ]
          },
          "metadata": {},
          "execution_count": 11
        }
      ]
    },
    {
      "cell_type": "markdown",
      "source": [
        "1. 자료형의 참, 거짓\n",
        "\n",
        "*   비어 있지 않으면 참\n",
        "*   값이 비어 있으면 거짓(\"  \", [  ], (  ), {  })\n",
        "\n",
        "\n"
      ],
      "metadata": {
        "id": "HhzWP0YWAp9S"
      }
    },
    {
      "cell_type": "markdown",
      "source": [
        "2. 불 연산"
      ],
      "metadata": {
        "id": "Pb5XIrh7B18D"
      }
    },
    {
      "cell_type": "code",
      "source": [
        "bool(\"python\")"
      ],
      "metadata": {
        "colab": {
          "base_uri": "https://localhost:8080/"
        },
        "id": "H44-xnAoCjQj",
        "outputId": "118048a5-cfbb-4e04-f323-f2942af16e93"
      },
      "execution_count": 12,
      "outputs": [
        {
          "output_type": "execute_result",
          "data": {
            "text/plain": [
              "True"
            ]
          },
          "metadata": {},
          "execution_count": 12
        }
      ]
    },
    {
      "cell_type": "code",
      "source": [
        "bool(\"\")"
      ],
      "metadata": {
        "colab": {
          "base_uri": "https://localhost:8080/"
        },
        "id": "ZxaSoaLBCnxF",
        "outputId": "685a6faa-98c1-43f7-f051-07fa24053291"
      },
      "execution_count": 13,
      "outputs": [
        {
          "output_type": "execute_result",
          "data": {
            "text/plain": [
              "False"
            ]
          },
          "metadata": {},
          "execution_count": 13
        }
      ]
    },
    {
      "cell_type": "markdown",
      "source": [
        "# **변수**\n",
        "\n",
        "*   변수 이름 = 변수에 저장할 값\n",
        "*   항목 추가\n",
        "\n"
      ],
      "metadata": {
        "id": "-wfiPoWQCqJM"
      }
    },
    {
      "cell_type": "markdown",
      "source": [
        "## **리스트 복사**\n",
        "\n",
        "*   id, is를 통해 값이 동일한지 알수있다\n",
        "\n"
      ],
      "metadata": {
        "id": "BG56PswMDSsf"
      }
    },
    {
      "cell_type": "markdown",
      "source": [
        "1. [:]"
      ],
      "metadata": {
        "id": "VjYJiA-lDqaQ"
      }
    },
    {
      "cell_type": "code",
      "source": [
        "a = [1,2,3]\n",
        "b = a[:]\n",
        "a[1] = 4\n",
        "a"
      ],
      "metadata": {
        "colab": {
          "base_uri": "https://localhost:8080/"
        },
        "id": "x_P7y7VBD52P",
        "outputId": "7fcffacd-0c9c-4622-97ad-82cc0265dcdc"
      },
      "execution_count": 17,
      "outputs": [
        {
          "output_type": "execute_result",
          "data": {
            "text/plain": [
              "[1, 4, 3]"
            ]
          },
          "metadata": {},
          "execution_count": 17
        }
      ]
    },
    {
      "cell_type": "code",
      "source": [
        "b"
      ],
      "metadata": {
        "colab": {
          "base_uri": "https://localhost:8080/"
        },
        "id": "Jnw2o6Z8EIkq",
        "outputId": "9a95667e-3c21-4463-cbcc-1b11ce062f16"
      },
      "execution_count": 18,
      "outputs": [
        {
          "output_type": "execute_result",
          "data": {
            "text/plain": [
              "[1, 2, 3]"
            ]
          },
          "metadata": {},
          "execution_count": 18
        }
      ]
    },
    {
      "cell_type": "markdown",
      "source": [
        "2. copy 모듈"
      ],
      "metadata": {
        "id": "_k7dF_XvEK34"
      }
    },
    {
      "cell_type": "code",
      "source": [
        "a = [1,2,3]\n",
        "b = a.copy()\n",
        "a[0] = 2\n",
        "b"
      ],
      "metadata": {
        "colab": {
          "base_uri": "https://localhost:8080/"
        },
        "id": "QCsZPwX7EMfw",
        "outputId": "64643482-47a7-4912-fd1c-fb911967789e"
      },
      "execution_count": 20,
      "outputs": [
        {
          "output_type": "execute_result",
          "data": {
            "text/plain": [
              "[1, 2, 3]"
            ]
          },
          "metadata": {},
          "execution_count": 20
        }
      ]
    }
  ]
}
