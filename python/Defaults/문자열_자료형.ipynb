{
  "nbformat": 4,
  "nbformat_minor": 0,
  "metadata": {
    "colab": {
      "provenance": [],
      "toc_visible": true,
      "authorship_tag": "ABX9TyPsMN2w0327aEIMad98odzm",
      "include_colab_link": true
    },
    "kernelspec": {
      "name": "python3",
      "display_name": "Python 3"
    },
    "language_info": {
      "name": "python"
    }
  },
  "cells": [
    {
      "cell_type": "markdown",
      "metadata": {
        "id": "view-in-github",
        "colab_type": "text"
      },
      "source": [
        "<a href=\"https://colab.research.google.com/github/shyexnnn/PythonStudy/blob/master/%EB%AC%B8%EC%9E%90%EC%97%B4_%EC%9E%90%EB%A3%8C%ED%98%95.ipynb\" target=\"_parent\"><img src=\"https://colab.research.google.com/assets/colab-badge.svg\" alt=\"Open In Colab\"/></a>"
      ]
    },
    {
      "cell_type": "markdown",
      "source": [
        "# **문자열 자료형**\n"
      ],
      "metadata": {
        "id": "1qrpIr33NSit"
      }
    },
    {
      "cell_type": "markdown",
      "source": [
        "## **문자열 인덱싱과 슬라이싱**\n",
        "\n",
        "\n",
        "---\n",
        "인덱싱은 \"가리킨다\"라는 의미, 슬라이싱은 \"잘라낸다\"의 의미"
      ],
      "metadata": {
        "id": "zjoozzP4Or3r"
      }
    },
    {
      "cell_type": "markdown",
      "source": [
        "1. 인덱싱"
      ],
      "metadata": {
        "id": "YSG8EjJCAKwX"
      }
    },
    {
      "cell_type": "code",
      "source": [
        "a = \"Life is too short, You need Python\" \n",
        "a[12] # 0부터 숫자 셈. a[12]는 공백 포함 0부터 12번째의 자리"
      ],
      "metadata": {
        "colab": {
          "base_uri": "https://localhost:8080/",
          "height": 36
        },
        "id": "dbm1zOdeAOwL",
        "outputId": "382a1c87-6e33-4cb2-a7b5-205627636907"
      },
      "execution_count": null,
      "outputs": [
        {
          "output_type": "execute_result",
          "data": {
            "text/plain": [
              "'s'"
            ],
            "application/vnd.google.colaboratory.intrinsic+json": {
              "type": "string"
            }
          },
          "metadata": {},
          "execution_count": 1
        }
      ]
    },
    {
      "cell_type": "code",
      "source": [
        "a = \"Life is too short, You need Python\"\n",
        "a[-1] # a[-1]을 적으면 뒤에서 부터 읽음. a[-0]과 a[0]은 같음"
      ],
      "metadata": {
        "colab": {
          "base_uri": "https://localhost:8080/",
          "height": 36
        },
        "id": "2bjfdIXbAoob",
        "outputId": "4f93e6ad-8915-48ae-9856-94614df33810"
      },
      "execution_count": null,
      "outputs": [
        {
          "output_type": "execute_result",
          "data": {
            "text/plain": [
              "'n'"
            ],
            "application/vnd.google.colaboratory.intrinsic+json": {
              "type": "string"
            }
          },
          "metadata": {},
          "execution_count": 2
        }
      ]
    },
    {
      "cell_type": "markdown",
      "source": [
        "2. 슬라이싱"
      ],
      "metadata": {
        "id": "zz6p85zwA7hb"
      }
    },
    {
      "cell_type": "code",
      "source": [
        "a = \"Life is too short, You need Python\"\n",
        "b = a[0] + a[1] + a[2] + a[3]\n",
        "b"
      ],
      "metadata": {
        "colab": {
          "base_uri": "https://localhost:8080/",
          "height": 36
        },
        "id": "o9y2CcAcBIqw",
        "outputId": "f40f3c86-76d3-4ca6-c508-9038f7196431"
      },
      "execution_count": null,
      "outputs": [
        {
          "output_type": "execute_result",
          "data": {
            "text/plain": [
              "'Life'"
            ],
            "application/vnd.google.colaboratory.intrinsic+json": {
              "type": "string"
            }
          },
          "metadata": {},
          "execution_count": 3
        }
      ]
    },
    {
      "cell_type": "code",
      "source": [
        "a = \"Life is too short, You need Python\"\n",
        "a[0:5] # a[0:5]는 0부터 5까지의 문자 뽑아냄. a는 0 <= a < 5"
      ],
      "metadata": {
        "colab": {
          "base_uri": "https://localhost:8080/",
          "height": 36
        },
        "id": "uM2_npEkBO-e",
        "outputId": "f6a6c6d5-03a5-4a11-dedc-3693f03d00e1"
      },
      "execution_count": null,
      "outputs": [
        {
          "output_type": "execute_result",
          "data": {
            "text/plain": [
              "'Life '"
            ],
            "application/vnd.google.colaboratory.intrinsic+json": {
              "type": "string"
            }
          },
          "metadata": {},
          "execution_count": 4
        }
      ]
    },
    {
      "cell_type": "markdown",
      "source": [
        "*   a[시작번호:]: 끝번호 생략하면 시작번호부터 문자열 끝까지 뽑아냄\n",
        "*   a[:끝번호]: 시작번호 생략하면 문자열 처음부터 끝까지 뽑아냄\n",
        "*   a[:]: 시작번호, 끝번호 생략하면 문자열 처음부터 끝까지 뽑아냄"
      ],
      "metadata": {
        "id": "7jVexi8hBhTj"
      }
    },
    {
      "cell_type": "markdown",
      "source": [
        "## **문자열 포매팅**\n",
        "\n",
        "\n",
        "---\n",
        "문자열 안의 특정한 값을 바꿔야 할 경우 이것을 가능하게 해주는 것이 문자열 포매팅"
      ],
      "metadata": {
        "id": "wbtfHaNTSijh"
      }
    },
    {
      "cell_type": "markdown",
      "source": [
        "1. 숫자 바로 대입"
      ],
      "metadata": {
        "id": "mrPHlqwWBt5G"
      }
    },
    {
      "cell_type": "code",
      "source": [
        "\"I eat %d apples.\" % 3 # %d에 원하는 문자 넣고, 가장 뒤에 원하는 숫자를 %3으로 씀. %d는 문자열 포맷 코드"
      ],
      "metadata": {
        "colab": {
          "base_uri": "https://localhost:8080/",
          "height": 36
        },
        "id": "4juXmkiCB0hA",
        "outputId": "5d8d6d5d-23ef-4048-e0fa-4442dcc68fb0"
      },
      "execution_count": null,
      "outputs": [
        {
          "output_type": "execute_result",
          "data": {
            "text/plain": [
              "'I eat 3 apples.'"
            ],
            "application/vnd.google.colaboratory.intrinsic+json": {
              "type": "string"
            }
          },
          "metadata": {},
          "execution_count": 5
        }
      ]
    },
    {
      "cell_type": "markdown",
      "source": [
        "2. 문자열 바로 대입"
      ],
      "metadata": {
        "id": "tRiezKieCfDG"
      }
    },
    {
      "cell_type": "code",
      "source": [
        "\"I eat %s apples.\" % \"one\" # 문자열 대입할때 큰따옴표나 작은따옴표 꼭 쓰기"
      ],
      "metadata": {
        "id": "4gIPcSS6Ckw-",
        "outputId": "42295f0e-0295-4c2b-a896-1175ab683359",
        "colab": {
          "base_uri": "https://localhost:8080/",
          "height": 36
        }
      },
      "execution_count": null,
      "outputs": [
        {
          "output_type": "execute_result",
          "data": {
            "text/plain": [
              "'I eat one apples.'"
            ],
            "application/vnd.google.colaboratory.intrinsic+json": {
              "type": "string"
            }
          },
          "metadata": {},
          "execution_count": 6
        }
      ]
    },
    {
      "cell_type": "markdown",
      "source": [
        "3. 숫자 값을 나타내는 변수로 대입"
      ],
      "metadata": {
        "id": "8gkTHZh5fTpH"
      }
    },
    {
      "cell_type": "code",
      "source": [
        "num = 3\n",
        "\"I eat %d apples.\" % num"
      ],
      "metadata": {
        "colab": {
          "base_uri": "https://localhost:8080/",
          "height": 35
        },
        "id": "DYSQBkOJfWK-",
        "outputId": "dcdae1b5-285b-4051-b744-0639ad3c2b85"
      },
      "execution_count": null,
      "outputs": [
        {
          "output_type": "execute_result",
          "data": {
            "text/plain": [
              "'I eat 3 apples.'"
            ],
            "application/vnd.google.colaboratory.intrinsic+json": {
              "type": "string"
            }
          },
          "metadata": {},
          "execution_count": 2
        }
      ]
    },
    {
      "cell_type": "markdown",
      "source": [
        "4. 2개 이상의 값 넣기"
      ],
      "metadata": {
        "id": "ib2p1QXWfgji"
      }
    },
    {
      "cell_type": "code",
      "source": [
        "num = 4\n",
        "day = \"three\"\n",
        "\"I ate %d banana. so I was sick for %s days.\" % (num, day) # 2개 이상의 값을 넣으려면 마지막 % 다음 괄호 안에 콤마로 구분"
      ],
      "metadata": {
        "colab": {
          "base_uri": "https://localhost:8080/",
          "height": 35
        },
        "id": "TQvz6KB9flWs",
        "outputId": "f87ec13e-971a-42d9-d98e-f5441db82ab0"
      },
      "execution_count": null,
      "outputs": [
        {
          "output_type": "execute_result",
          "data": {
            "text/plain": [
              "'I ate 4 banana. so I was sick for three days.'"
            ],
            "application/vnd.google.colaboratory.intrinsic+json": {
              "type": "string"
            }
          },
          "metadata": {},
          "execution_count": 3
        }
      ]
    },
    {
      "cell_type": "markdown",
      "source": [
        "### **포맷 코드와 숫자 함께 사용**\n",
        "\n",
        "---\n",
        "\n"
      ],
      "metadata": {
        "id": "OGm91IW3WgF-"
      }
    },
    {
      "cell_type": "markdown",
      "source": [
        "1. 정렬과 공백"
      ],
      "metadata": {
        "id": "zUO_Vy6YO7O8"
      }
    },
    {
      "cell_type": "code",
      "source": [
        "\"%20s\" % \"hi\" # %20s는 전체 길이 20인 문자열 공간에서 대입되는 값을 오른쪽에 정렬, 나머지는 공백. 왼쪽 정렬은 %-20s"
      ],
      "metadata": {
        "colab": {
          "base_uri": "https://localhost:8080/",
          "height": 35
        },
        "id": "zFnGSkEVPCSi",
        "outputId": "7d17206d-d096-46d3-e154-40aff0f204ee"
      },
      "execution_count": null,
      "outputs": [
        {
          "output_type": "execute_result",
          "data": {
            "text/plain": [
              "'                  hi'"
            ],
            "application/vnd.google.colaboratory.intrinsic+json": {
              "type": "string"
            }
          },
          "metadata": {},
          "execution_count": 1
        }
      ]
    },
    {
      "cell_type": "markdown",
      "source": [
        "2. 소수점 표현하기"
      ],
      "metadata": {
        "id": "wiGuX30YPWIi"
      }
    },
    {
      "cell_type": "code",
      "source": [
        "\"%10.4f\" % 3.421345 # 소수점 4까지 표시, 전체 길이 10인 문자열을 오른쪽에 정렬"
      ],
      "metadata": {
        "colab": {
          "base_uri": "https://localhost:8080/",
          "height": 35
        },
        "id": "OEofJbhKPXzs",
        "outputId": "c96d1d9a-2874-4287-f580-d10b3f7419d8"
      },
      "execution_count": null,
      "outputs": [
        {
          "output_type": "execute_result",
          "data": {
            "text/plain": [
              "'    3.4213'"
            ],
            "application/vnd.google.colaboratory.intrinsic+json": {
              "type": "string"
            }
          },
          "metadata": {},
          "execution_count": 2
        }
      ]
    },
    {
      "cell_type": "markdown",
      "source": [
        "### **format 함수를 사용한 포매팅**\n",
        "\n",
        "\n",
        "---\n",
        "\n"
      ],
      "metadata": {
        "id": "7sdKuaUMYetO"
      }
    },
    {
      "cell_type": "markdown",
      "source": [
        "1. 숫자 바로 대입하기"
      ],
      "metadata": {
        "id": "P0kYzdbMPgWg"
      }
    },
    {
      "cell_type": "code",
      "source": [
        "\"I eat {0} apples\".format(3)"
      ],
      "metadata": {
        "colab": {
          "base_uri": "https://localhost:8080/",
          "height": 35
        },
        "id": "4cNxJ0ucPhmw",
        "outputId": "f92e4973-65c2-46b6-b816-ac613947cdb8"
      },
      "execution_count": null,
      "outputs": [
        {
          "output_type": "execute_result",
          "data": {
            "text/plain": [
              "'I eat 3 apples'"
            ],
            "application/vnd.google.colaboratory.intrinsic+json": {
              "type": "string"
            }
          },
          "metadata": {},
          "execution_count": 3
        }
      ]
    },
    {
      "cell_type": "markdown",
      "source": [
        "2. 문자열 바로 대입하기"
      ],
      "metadata": {
        "id": "XkN0eF-aPpJ-"
      }
    },
    {
      "cell_type": "code",
      "source": [
        "\"I eat {0} apples\".format(\"five\")"
      ],
      "metadata": {
        "colab": {
          "base_uri": "https://localhost:8080/",
          "height": 35
        },
        "id": "4JreTKrRPpm7",
        "outputId": "4ac6b80b-0062-45db-a531-a8594225422e"
      },
      "execution_count": null,
      "outputs": [
        {
          "output_type": "execute_result",
          "data": {
            "text/plain": [
              "'I eat five apples'"
            ],
            "application/vnd.google.colaboratory.intrinsic+json": {
              "type": "string"
            }
          },
          "metadata": {},
          "execution_count": 4
        }
      ]
    },
    {
      "cell_type": "markdown",
      "source": [
        "3. 숫자 값을 가진 변수로 대입하기"
      ],
      "metadata": {
        "id": "T4-2yWWmPubE"
      }
    },
    {
      "cell_type": "code",
      "source": [
        "number = 3\n",
        "\"I eat {0} apples\".format(number)"
      ],
      "metadata": {
        "colab": {
          "base_uri": "https://localhost:8080/",
          "height": 35
        },
        "id": "9DV8ZXrpPwOK",
        "outputId": "757a37c6-275d-46c8-af3f-06c904f3858f"
      },
      "execution_count": null,
      "outputs": [
        {
          "output_type": "execute_result",
          "data": {
            "text/plain": [
              "'I eat 3 apples'"
            ],
            "application/vnd.google.colaboratory.intrinsic+json": {
              "type": "string"
            }
          },
          "metadata": {},
          "execution_count": 5
        }
      ]
    },
    {
      "cell_type": "markdown",
      "source": [
        "4. 2개 이상의 값 넣기"
      ],
      "metadata": {
        "id": "PdMAe7RWPzfz"
      }
    },
    {
      "cell_type": "code",
      "source": [
        "number = 10\n",
        "day = \"three\"\n",
        "\"I ate {0} apples. so I was sick for {1} days.\".format(number, day)"
      ],
      "metadata": {
        "colab": {
          "base_uri": "https://localhost:8080/",
          "height": 35
        },
        "id": "NO8v7iXIP1ZN",
        "outputId": "3e4e0faf-2dce-4d36-8a6e-6191d5020cf2"
      },
      "execution_count": null,
      "outputs": [
        {
          "output_type": "execute_result",
          "data": {
            "text/plain": [
              "'I ate 10 apples. so I was sick for three days.'"
            ],
            "application/vnd.google.colaboratory.intrinsic+json": {
              "type": "string"
            }
          },
          "metadata": {},
          "execution_count": 6
        }
      ]
    },
    {
      "cell_type": "markdown",
      "source": [
        "5. 이름으로 넣기"
      ],
      "metadata": {
        "id": "0TyS_Zn6P57d"
      }
    },
    {
      "cell_type": "code",
      "source": [
        "\"I ate {number} apples. so I was sick for {day} days.\".format(number=10, day=3) # {name} 사용 시 format 함수에는 반드시 name=value와 같은 형태의 입력값 적기"
      ],
      "metadata": {
        "colab": {
          "base_uri": "https://localhost:8080/",
          "height": 35
        },
        "id": "ceSV6g3rP7FO",
        "outputId": "ba5aa41a-75f0-4cfe-ad1f-00ae8d104823"
      },
      "execution_count": null,
      "outputs": [
        {
          "output_type": "execute_result",
          "data": {
            "text/plain": [
              "'I ate 10 apples. so I was sick for 3 days.'"
            ],
            "application/vnd.google.colaboratory.intrinsic+json": {
              "type": "string"
            }
          },
          "metadata": {},
          "execution_count": 7
        }
      ]
    },
    {
      "cell_type": "markdown",
      "source": [
        "6. 인덱스와 이름을 혼용해서 넣기"
      ],
      "metadata": {
        "id": "kWAVTs1tQL8k"
      }
    },
    {
      "cell_type": "code",
      "source": [
        "\"I ate {0} apples. so I was sick for {day} days.\".format(10, day=3)"
      ],
      "metadata": {
        "colab": {
          "base_uri": "https://localhost:8080/",
          "height": 35
        },
        "id": "Cb0a1jodQN7F",
        "outputId": "84ec9c0f-94e1-4445-f067-cbcbb9c893f7"
      },
      "execution_count": null,
      "outputs": [
        {
          "output_type": "execute_result",
          "data": {
            "text/plain": [
              "'I ate 10 apples. so I was sick for 3 days.'"
            ],
            "application/vnd.google.colaboratory.intrinsic+json": {
              "type": "string"
            }
          },
          "metadata": {},
          "execution_count": 8
        }
      ]
    },
    {
      "cell_type": "markdown",
      "source": [
        "7. 왼쪽 정렬"
      ],
      "metadata": {
        "id": "Oc4TkxSIQUBU"
      }
    },
    {
      "cell_type": "code",
      "source": [
        "\"{0:<10}\".format(\"hi\") # :<10 사용하면 치환되는 문자열 왼쪽 정렬, 문자열의 총 자릿수를 10으로 맞출 수 있음"
      ],
      "metadata": {
        "colab": {
          "base_uri": "https://localhost:8080/",
          "height": 35
        },
        "id": "__CQm88lQVeT",
        "outputId": "3d0c25f7-5d9a-4cf5-d247-7a4c4f5648a2"
      },
      "execution_count": null,
      "outputs": [
        {
          "output_type": "execute_result",
          "data": {
            "text/plain": [
              "'hi        '"
            ],
            "application/vnd.google.colaboratory.intrinsic+json": {
              "type": "string"
            }
          },
          "metadata": {},
          "execution_count": 9
        }
      ]
    },
    {
      "cell_type": "markdown",
      "source": [
        "8. 오른쪽 정렬"
      ],
      "metadata": {
        "id": "LW7IKYykQfMD"
      }
    },
    {
      "cell_type": "code",
      "source": [
        "\"{0:>10}\".format(\"hi\") # :> = 오른쪽 정렬"
      ],
      "metadata": {
        "colab": {
          "base_uri": "https://localhost:8080/",
          "height": 35
        },
        "id": "HyT3ZqfVQjC9",
        "outputId": "353ca4e6-2db7-489f-9242-c262fa6a73d0"
      },
      "execution_count": null,
      "outputs": [
        {
          "output_type": "execute_result",
          "data": {
            "text/plain": [
              "'        hi'"
            ],
            "application/vnd.google.colaboratory.intrinsic+json": {
              "type": "string"
            }
          },
          "metadata": {},
          "execution_count": 10
        }
      ]
    },
    {
      "cell_type": "markdown",
      "source": [
        "9. 가운데 정렬"
      ],
      "metadata": {
        "id": "qCiFfw1jQsAk"
      }
    },
    {
      "cell_type": "code",
      "source": [
        "\"{0:^10}\".format(\"hi\") # :^ = 가운데 정렬"
      ],
      "metadata": {
        "colab": {
          "base_uri": "https://localhost:8080/",
          "height": 35
        },
        "id": "2AnwAeOvQtPM",
        "outputId": "27504ee2-c424-4864-beaa-cdc7cf98e62f"
      },
      "execution_count": null,
      "outputs": [
        {
          "output_type": "execute_result",
          "data": {
            "text/plain": [
              "'    hi    '"
            ],
            "application/vnd.google.colaboratory.intrinsic+json": {
              "type": "string"
            }
          },
          "metadata": {},
          "execution_count": 11
        }
      ]
    },
    {
      "cell_type": "markdown",
      "source": [
        "### **f 문자열 포매팅**\n",
        "\n",
        "\n",
        "---\n",
        "\n"
      ],
      "metadata": {
        "id": "Dl8xZm0HRI_1"
      }
    },
    {
      "cell_type": "code",
      "source": [
        "name = \"박성현\"\n",
        "age = 17\n",
        "f'내 이름은 {name}. 나이는 {age}.'"
      ],
      "metadata": {
        "colab": {
          "base_uri": "https://localhost:8080/",
          "height": 35
        },
        "id": "FBdb_o1Lq00U",
        "outputId": "62923617-5328-42c6-9dbe-8e5843736f79"
      },
      "execution_count": 1,
      "outputs": [
        {
          "output_type": "execute_result",
          "data": {
            "text/plain": [
              "'내 이름은박성현. 나이는 17.'"
            ],
            "application/vnd.google.colaboratory.intrinsic+json": {
              "type": "string"
            }
          },
          "metadata": {},
          "execution_count": 1
        }
      ]
    },
    {
      "cell_type": "code",
      "source": [
        "age = 17\n",
        "f'나는 내년이면 {age+1}살이 된다.' # 표현식: 문자열 안에서 변수와 +, -와 같은 수식을 함께 사용하는 것"
      ],
      "metadata": {
        "id": "MAJP7nQIrswc"
      },
      "execution_count": null,
      "outputs": []
    },
    {
      "cell_type": "code",
      "source": [
        "f'{\"hi\":<10}'  # 왼쪽 정렬\n",
        "f'{\"hi\":>10}'  # 오른쪽 정렬\n",
        "f'{\"hi\":^10}'  # 가운데 정렬"
      ],
      "metadata": {
        "id": "awPfKZ-Yvcg2"
      },
      "execution_count": null,
      "outputs": []
    },
    {
      "cell_type": "code",
      "source": [
        "y = 3.42134234\n",
        "f'{y:10.4f}' # 소수점 4자리까지 표현하고 자리 10으로 맞춤"
      ],
      "metadata": {
        "colab": {
          "base_uri": "https://localhost:8080/",
          "height": 35
        },
        "id": "_s67SvQyvgTF",
        "outputId": "dc7f8db2-61a7-43a4-a823-481a6c958201"
      },
      "execution_count": 4,
      "outputs": [
        {
          "output_type": "execute_result",
          "data": {
            "text/plain": [
              "'3.4213'"
            ],
            "application/vnd.google.colaboratory.intrinsic+json": {
              "type": "string"
            }
          },
          "metadata": {},
          "execution_count": 4
        }
      ]
    },
    {
      "cell_type": "markdown",
      "source": [
        "## **문자열 관련 함수**\n",
        "\n",
        "\n",
        "---\n",
        "문자열 내장함수는 자체적으로 함수를 가지고 있는 것이다. 내장 함수를 사용하려면 문자열 변수 이름 뒤에 ‘.’를 붙인 다음에 함수 이름을 써주면 된다."
      ],
      "metadata": {
        "id": "7_t5z_-5v_Wt"
      }
    },
    {
      "cell_type": "markdown",
      "source": [
        "1. 문자 개수 세기(count)"
      ],
      "metadata": {
        "id": "AJ5iakJawXd2"
      }
    },
    {
      "cell_type": "code",
      "source": [
        "a = \"hobby\"\n",
        "a.count('b')"
      ],
      "metadata": {
        "colab": {
          "base_uri": "https://localhost:8080/"
        },
        "id": "L30j_22_wbBd",
        "outputId": "c587011b-5f77-4243-ab12-1d706523cfcd"
      },
      "execution_count": 5,
      "outputs": [
        {
          "output_type": "execute_result",
          "data": {
            "text/plain": [
              "2"
            ]
          },
          "metadata": {},
          "execution_count": 5
        }
      ]
    },
    {
      "cell_type": "markdown",
      "source": [
        "2. 위치 알려주기1(find)"
      ],
      "metadata": {
        "id": "figd4cxowmal"
      }
    },
    {
      "cell_type": "code",
      "source": [
        "a = \"Python is the best choice\"\n",
        "a.find('b') # 찾는 문자나 문자열이 존재하지 않는다면 -1을 반환"
      ],
      "metadata": {
        "colab": {
          "base_uri": "https://localhost:8080/"
        },
        "id": "_7Myj2x0woF9",
        "outputId": "b1fcf11a-d296-4823-cb9f-aa0bfffd8b54"
      },
      "execution_count": 6,
      "outputs": [
        {
          "output_type": "execute_result",
          "data": {
            "text/plain": [
              "14"
            ]
          },
          "metadata": {},
          "execution_count": 6
        }
      ]
    },
    {
      "cell_type": "markdown",
      "source": [
        "3. 위치 알려주기2(index)"
      ],
      "metadata": {
        "id": "Ds00Lum6w15d"
      }
    },
    {
      "cell_type": "code",
      "source": [
        "a = \"Life is too short\"\n",
        "a.index('t') # 찾는 문자나 문자열이 존재하지 않는다면 오류 발생"
      ],
      "metadata": {
        "colab": {
          "base_uri": "https://localhost:8080/"
        },
        "id": "hkc1EUmTw4bF",
        "outputId": "91e0e8fa-bd0a-442e-a32c-89730a5b1626"
      },
      "execution_count": 7,
      "outputs": [
        {
          "output_type": "execute_result",
          "data": {
            "text/plain": [
              "8"
            ]
          },
          "metadata": {},
          "execution_count": 7
        }
      ]
    },
    {
      "cell_type": "markdown",
      "source": [
        "4. 문자열 삽입(join)"
      ],
      "metadata": {
        "id": "bFAHSOQXxN_W"
      }
    },
    {
      "cell_type": "code",
      "source": [
        "\",\".join('abcd')"
      ],
      "metadata": {
        "colab": {
          "base_uri": "https://localhost:8080/",
          "height": 35
        },
        "id": "b1wCgWKuxSce",
        "outputId": "b375e493-2709-4a0d-9ff8-83f40ab7fb6d"
      },
      "execution_count": 8,
      "outputs": [
        {
          "output_type": "execute_result",
          "data": {
            "text/plain": [
              "'a,b,c,d'"
            ],
            "application/vnd.google.colaboratory.intrinsic+json": {
              "type": "string"
            }
          },
          "metadata": {},
          "execution_count": 8
        }
      ]
    },
    {
      "cell_type": "markdown",
      "source": [
        "5. 소문자를 대문자로 바꾸기(upper)"
      ],
      "metadata": {
        "id": "phudYVh2xcoF"
      }
    },
    {
      "cell_type": "code",
      "source": [
        "a = \"hi\"\n",
        "a.upper() # 소문자는 lower"
      ],
      "metadata": {
        "colab": {
          "base_uri": "https://localhost:8080/",
          "height": 35
        },
        "id": "J5uZOHiVxd-9",
        "outputId": "08e21a3f-12c8-42a1-b97f-eb9e512d7148"
      },
      "execution_count": 9,
      "outputs": [
        {
          "output_type": "execute_result",
          "data": {
            "text/plain": [
              "'HI'"
            ],
            "application/vnd.google.colaboratory.intrinsic+json": {
              "type": "string"
            }
          },
          "metadata": {},
          "execution_count": 9
        }
      ]
    },
    {
      "cell_type": "markdown",
      "source": [
        "6. 왼쪽 공백 지우기(lstrip)"
      ],
      "metadata": {
        "id": "wzU19N2dxrmO"
      }
    },
    {
      "cell_type": "code",
      "source": [
        "a = \" hi \"\n",
        "a.lstrip() # 오른쪽 공백 지우기 rstrip, 양쪽 공백 지우기 strip"
      ],
      "metadata": {
        "colab": {
          "base_uri": "https://localhost:8080/",
          "height": 35
        },
        "id": "ulIaa2srx4LN",
        "outputId": "a0ca3048-f150-4419-ee5d-3e0e8c69f5d1"
      },
      "execution_count": 10,
      "outputs": [
        {
          "output_type": "execute_result",
          "data": {
            "text/plain": [
              "'hi '"
            ],
            "application/vnd.google.colaboratory.intrinsic+json": {
              "type": "string"
            }
          },
          "metadata": {},
          "execution_count": 10
        }
      ]
    },
    {
      "cell_type": "markdown",
      "source": [
        "7. 문자열 바꾸기(replace)"
      ],
      "metadata": {
        "id": "fH6nmTSDyP-F"
      }
    },
    {
      "cell_type": "code",
      "source": [
        "a = \"Life is too short\"\n",
        "a.replace(\"Life\", \"Your leg\")"
      ],
      "metadata": {
        "colab": {
          "base_uri": "https://localhost:8080/",
          "height": 35
        },
        "id": "6O-1IYHeySad",
        "outputId": "3e3e304e-af6d-44b8-8eff-4d91b0a52092"
      },
      "execution_count": 11,
      "outputs": [
        {
          "output_type": "execute_result",
          "data": {
            "text/plain": [
              "'Your leg is too short'"
            ],
            "application/vnd.google.colaboratory.intrinsic+json": {
              "type": "string"
            }
          },
          "metadata": {},
          "execution_count": 11
        }
      ]
    },
    {
      "cell_type": "markdown",
      "source": [
        "8. 문자열 나누기(split)"
      ],
      "metadata": {
        "id": "6ERhglxYyfOW"
      }
    },
    {
      "cell_type": "code",
      "source": [
        "a = \"Life is too short\"\n",
        "a.split()"
      ],
      "metadata": {
        "colab": {
          "base_uri": "https://localhost:8080/"
        },
        "id": "-Gh7HB9VyiJ-",
        "outputId": "bdb8b3c5-a197-49d5-d51f-833470443b3e"
      },
      "execution_count": 12,
      "outputs": [
        {
          "output_type": "execute_result",
          "data": {
            "text/plain": [
              "['Life', 'is', 'too', 'short']"
            ]
          },
          "metadata": {},
          "execution_count": 12
        }
      ]
    }
  ]
}
