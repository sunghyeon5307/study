{
  "nbformat": 4,
  "nbformat_minor": 0,
  "metadata": {
    "colab": {
      "provenance": [],
      "toc_visible": true,
      "authorship_tag": "ABX9TyOx7yoNeQT1Dno4UD19MnFf",
      "include_colab_link": true
    },
    "kernelspec": {
      "name": "python3",
      "display_name": "Python 3"
    },
    "language_info": {
      "name": "python"
    }
  },
  "cells": [
    {
      "cell_type": "markdown",
      "metadata": {
        "id": "view-in-github",
        "colab_type": "text"
      },
      "source": [
        "<a href=\"https://colab.research.google.com/github/shyexnnn/PythonStudy/blob/master/%EB%A6%AC%EC%8A%A4%ED%8A%B8_%EC%9E%90%EB%A3%8C%ED%98%95.ipynb\" target=\"_parent\"><img src=\"https://colab.research.google.com/assets/colab-badge.svg\" alt=\"Open In Colab\"/></a>"
      ]
    },
    {
      "cell_type": "markdown",
      "source": [
        "# **리스트 자료형**"
      ],
      "metadata": {
        "id": "qnGON5JIeooz"
      }
    },
    {
      "cell_type": "markdown",
      "source": [
        "## **리스트 연산하기**\n",
        "\n",
        "\n",
        "---"
      ],
      "metadata": {
        "id": "qbi0RIpMepXT"
      }
    },
    {
      "cell_type": "markdown",
      "source": [
        "1. 리스트 더하기(+)"
      ],
      "metadata": {
        "id": "GfqUPk5zesex"
      }
    },
    {
      "cell_type": "code",
      "source": [
        "a = [1,2,3]\n",
        "b = [4,5,6]\n",
        "a + b"
      ],
      "metadata": {
        "colab": {
          "base_uri": "https://localhost:8080/"
        },
        "id": "sVggPVvnewuZ",
        "outputId": "3c4bbeb4-c86f-43b1-c495-5cfeb33c63be"
      },
      "execution_count": null,
      "outputs": [
        {
          "output_type": "execute_result",
          "data": {
            "text/plain": [
              "[1, 2, 3, 4, 5, 6]"
            ]
          },
          "metadata": {},
          "execution_count": 1
        }
      ]
    },
    {
      "cell_type": "markdown",
      "source": [
        "리스트 사이에서 + 기호는 2개의 리스트를 합치는 기능이다"
      ],
      "metadata": {
        "id": "LHAa8fowe1u9"
      }
    },
    {
      "cell_type": "markdown",
      "source": [
        "2. 리스트 반복하기(*)"
      ],
      "metadata": {
        "id": "BlDv97VHe4NC"
      }
    },
    {
      "cell_type": "code",
      "source": [
        "a = [1,2,3]\n",
        "a * 3"
      ],
      "metadata": {
        "colab": {
          "base_uri": "https://localhost:8080/"
        },
        "id": "mUJWxr8Te7Jl",
        "outputId": "4d7c663e-a174-443b-8a6c-cf504db8b38c"
      },
      "execution_count": null,
      "outputs": [
        {
          "output_type": "execute_result",
          "data": {
            "text/plain": [
              "[1, 2, 3, 1, 2, 3, 1, 2, 3]"
            ]
          },
          "metadata": {},
          "execution_count": 2
        }
      ]
    },
    {
      "cell_type": "markdown",
      "source": [
        "3. 리스트 길이 구하기(len)"
      ],
      "metadata": {
        "id": "W9DzP-RBe956"
      }
    },
    {
      "cell_type": "code",
      "source": [
        "a = [1,2,3,4,5]\n",
        "len(a)"
      ],
      "metadata": {
        "colab": {
          "base_uri": "https://localhost:8080/"
        },
        "id": "u2SsgV8nfAHj",
        "outputId": "3ececbdc-4d39-4065-d9a4-03254a32e8ec"
      },
      "execution_count": null,
      "outputs": [
        {
          "output_type": "execute_result",
          "data": {
            "text/plain": [
              "5"
            ]
          },
          "metadata": {},
          "execution_count": 3
        }
      ]
    },
    {
      "cell_type": "markdown",
      "source": [
        "## **리스트 수정, 삭제**\n",
        "\n",
        "\n",
        "---"
      ],
      "metadata": {
        "id": "69lOtn_bfDwn"
      }
    },
    {
      "cell_type": "markdown",
      "source": [
        "1. 리스트에서 값 수정하기"
      ],
      "metadata": {
        "id": "JYQm2vKwfHxq"
      }
    },
    {
      "cell_type": "code",
      "source": [
        "a = [1,2,3]\n",
        "a[1] = 4\n",
        "a"
      ],
      "metadata": {
        "colab": {
          "base_uri": "https://localhost:8080/"
        },
        "id": "8Ff65rdQfIeO",
        "outputId": "ee31e4a9-cb74-4de8-b218-6740de89e23c"
      },
      "execution_count": null,
      "outputs": [
        {
          "output_type": "execute_result",
          "data": {
            "text/plain": [
              "[1, 4, 3]"
            ]
          },
          "metadata": {},
          "execution_count": 4
        }
      ]
    },
    {
      "cell_type": "markdown",
      "source": [
        "2. del 함수 사용해 리스트 요소 삭제"
      ],
      "metadata": {
        "id": "n49q2ipyfNKt"
      }
    },
    {
      "cell_type": "code",
      "source": [
        "a = [1,2,3,4,5]\n",
        "del a[1]\n",
        "a"
      ],
      "metadata": {
        "colab": {
          "base_uri": "https://localhost:8080/"
        },
        "id": "TZAfDxJ3fN0o",
        "outputId": "dec74fe7-ae1d-4d7a-dd0f-cd85fbf90fb1"
      },
      "execution_count": null,
      "outputs": [
        {
          "output_type": "execute_result",
          "data": {
            "text/plain": [
              "[1, 3, 4, 5]"
            ]
          },
          "metadata": {},
          "execution_count": 5
        }
      ]
    },
    {
      "cell_type": "code",
      "source": [
        "a = [1,2,3,4,5]\n",
        "del a[3:]\n",
        "a"
      ],
      "metadata": {
        "colab": {
          "base_uri": "https://localhost:8080/"
        },
        "id": "eO7tNsGyfQRr",
        "outputId": "6275dbec-8d41-45d1-849e-4445ef10ace3"
      },
      "execution_count": null,
      "outputs": [
        {
          "output_type": "execute_result",
          "data": {
            "text/plain": [
              "[1, 2, 3]"
            ]
          },
          "metadata": {},
          "execution_count": 6
        }
      ]
    },
    {
      "cell_type": "markdown",
      "source": [
        "슬라이싱 기법을 사용해 리스트의 요소 여러 개를 삭제 가능"
      ],
      "metadata": {
        "id": "yzKV3Uo4fVj8"
      }
    },
    {
      "cell_type": "markdown",
      "source": [
        "## **리스트 관련 함수**\n",
        "\n",
        "\n",
        "---"
      ],
      "metadata": {
        "id": "146eFfkjfWPb"
      }
    },
    {
      "cell_type": "markdown",
      "source": [
        "1. 리스트에 요소 추가(append)"
      ],
      "metadata": {
        "id": "sq0nghJJIhb3"
      }
    },
    {
      "cell_type": "code",
      "source": [
        "a = [1,2,3]\n",
        "a.append(4)\n",
        "a"
      ],
      "metadata": {
        "colab": {
          "base_uri": "https://localhost:8080/"
        },
        "id": "z9PbsYEvIk4b",
        "outputId": "5133819c-737b-426a-eb31-5475da3d5b4e"
      },
      "execution_count": null,
      "outputs": [
        {
          "output_type": "execute_result",
          "data": {
            "text/plain": [
              "[1, 2, 3, 4]"
            ]
          },
          "metadata": {},
          "execution_count": 4
        }
      ]
    },
    {
      "cell_type": "markdown",
      "source": [
        "2. 리스트 정렬(sort)"
      ],
      "metadata": {
        "id": "xmRA6wrnJB6M"
      }
    },
    {
      "cell_type": "markdown",
      "source": [
        "sort 함수는 리스트의 요소를 순서대로 정렬해줌"
      ],
      "metadata": {
        "id": "1JNVgfy_JV0b"
      }
    },
    {
      "cell_type": "code",
      "source": [
        "a = [2,3,1,4]\n",
        "a.sort()\n",
        "a"
      ],
      "metadata": {
        "colab": {
          "base_uri": "https://localhost:8080/"
        },
        "id": "I9elx1LnJWfJ",
        "outputId": "e40b66b9-aecd-414b-b775-a0d446913754"
      },
      "execution_count": null,
      "outputs": [
        {
          "output_type": "execute_result",
          "data": {
            "text/plain": [
              "[1, 2, 3, 4]"
            ]
          },
          "metadata": {},
          "execution_count": 5
        }
      ]
    },
    {
      "cell_type": "markdown",
      "source": [
        "3. 리스트 뒤집기(reserve)"
      ],
      "metadata": {
        "id": "RoIM-MV7YUSw"
      }
    },
    {
      "cell_type": "code",
      "source": [
        "a = ['a','c','b']\n",
        "a.reverse() # 역순으로 뒤집음\n",
        "a"
      ],
      "metadata": {
        "colab": {
          "base_uri": "https://localhost:8080/"
        },
        "id": "lU6lN2qvYbcP",
        "outputId": "c4be1fd3-8a87-435f-de8e-3569a57bf8e8"
      },
      "execution_count": null,
      "outputs": [
        {
          "output_type": "execute_result",
          "data": {
            "text/plain": [
              "['b', 'c', 'a']"
            ]
          },
          "metadata": {},
          "execution_count": 8
        }
      ]
    },
    {
      "cell_type": "markdown",
      "source": [
        "4. 리스트에 요소 삽입(insert)\n"
      ],
      "metadata": {
        "id": "5ZM_RI22YtPL"
      }
    },
    {
      "cell_type": "code",
      "source": [
        "a = [1,2,3]\n",
        "a.insert(0, 5)\n",
        "a"
      ],
      "metadata": {
        "colab": {
          "base_uri": "https://localhost:8080/"
        },
        "id": "bnIyAbt6Yuop",
        "outputId": "f9720349-464d-4b58-b6cb-6d07e267d20e"
      },
      "execution_count": null,
      "outputs": [
        {
          "output_type": "execute_result",
          "data": {
            "text/plain": [
              "[5, 1, 2, 3]"
            ]
          },
          "metadata": {},
          "execution_count": 9
        }
      ]
    },
    {
      "cell_type": "markdown",
      "source": [
        "5. 리스트 요소 제거(remove)"
      ],
      "metadata": {
        "id": "z42JUwfKZQxy"
      }
    },
    {
      "cell_type": "code",
      "source": [
        "a = [1,2,3]\n",
        "a.remove(2)\n",
        "a"
      ],
      "metadata": {
        "colab": {
          "base_uri": "https://localhost:8080/"
        },
        "id": "L98sZQ8NZVT5",
        "outputId": "a7543a07-e8b0-4eba-8f8a-ca9d531297c5"
      },
      "execution_count": null,
      "outputs": [
        {
          "output_type": "execute_result",
          "data": {
            "text/plain": [
              "[1, 3]"
            ]
          },
          "metadata": {},
          "execution_count": 10
        }
      ]
    },
    {
      "cell_type": "markdown",
      "source": [
        "6. 리스트에 포함된 요소 x의 개수 세기(count)"
      ],
      "metadata": {
        "id": "SwD86UeNZ0q7"
      }
    },
    {
      "cell_type": "code",
      "source": [
        "a = [1,2,4,5,2,2]\n",
        "a.count(2)"
      ],
      "metadata": {
        "colab": {
          "base_uri": "https://localhost:8080/"
        },
        "id": "pbap0OWZZ1q-",
        "outputId": "c84f0d39-35bc-45d0-d53b-60a5c0207848"
      },
      "execution_count": null,
      "outputs": [
        {
          "output_type": "execute_result",
          "data": {
            "text/plain": [
              "3"
            ]
          },
          "metadata": {},
          "execution_count": 15
        }
      ]
    },
    {
      "cell_type": "markdown",
      "source": [
        "7. 리스트 확장(extend)"
      ],
      "metadata": {
        "id": "4JswxD0HaJMS"
      }
    },
    {
      "cell_type": "code",
      "source": [
        "a = [1,2,3]\n",
        "a.extend([4,5,6])\n",
        "a"
      ],
      "metadata": {
        "colab": {
          "base_uri": "https://localhost:8080/"
        },
        "id": "OgtdK3LJaKNA",
        "outputId": "893ac71a-a148-4225-b47b-bbaab5d201a9"
      },
      "execution_count": null,
      "outputs": [
        {
          "output_type": "execute_result",
          "data": {
            "text/plain": [
              "[1, 2, 3, 4, 5, 6]"
            ]
          },
          "metadata": {},
          "execution_count": 16
        }
      ]
    },
    {
      "cell_type": "markdown",
      "source": [
        "# **튜플 자료형**"
      ],
      "metadata": {
        "id": "capMuOonPa5u"
      }
    },
    {
      "cell_type": "markdown",
      "source": [
        "리스트와의 차이점\n",
        "\n",
        "*   [  ] 대신 ( ) 사용\n",
        "*   요소 값 변경 불가능\n",
        "\n"
      ],
      "metadata": {
        "id": "vQmscAWtPdW7"
      }
    },
    {
      "cell_type": "code",
      "source": [
        "t1 = (1, 2, 3)\n",
        "t2 = (1, ) # 1개만의 요소를 가질 때 콤마 꼭\n",
        "t3 = ()\n",
        "t4 = 1, 2, 3 # 괄호 생략 가능\n"
      ],
      "metadata": {
        "id": "3N7pll1GROr8"
      },
      "execution_count": null,
      "outputs": []
    }
  ]
}
