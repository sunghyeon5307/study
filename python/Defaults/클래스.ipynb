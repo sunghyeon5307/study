{
  "nbformat": 4,
  "nbformat_minor": 0,
  "metadata": {
    "colab": {
      "provenance": [],
      "toc_visible": true,
      "authorship_tag": "ABX9TyPosqDj7X0EoN2LbVbn52cS",
      "include_colab_link": true
    },
    "kernelspec": {
      "name": "python3",
      "display_name": "Python 3"
    },
    "language_info": {
      "name": "python"
    }
  },
  "cells": [
    {
      "cell_type": "markdown",
      "metadata": {
        "id": "view-in-github",
        "colab_type": "text"
      },
      "source": [
        "<a href=\"https://colab.research.google.com/github/shyexnnn/PythonStudy/blob/master/%ED%81%B4%EB%9E%98%EC%8A%A4.ipynb\" target=\"_parent\"><img src=\"https://colab.research.google.com/assets/colab-badge.svg\" alt=\"Open In Colab\"/></a>"
      ]
    },
    {
      "cell_type": "markdown",
      "source": [
        "# **클래스**"
      ],
      "metadata": {
        "id": "twc9-rR7AW_4"
      }
    },
    {
      "cell_type": "markdown",
      "source": [
        "## 클래스와 객체\n",
        "\n",
        "\n",
        "*   클래스 = 객체를 만들기 위한 틀\n",
        "*   객체 = 계속해서 만들어낼 수 있고 모두 고유한 성격 지님\n",
        "\n"
      ],
      "metadata": {
        "id": "77lN4VVmAYxt"
      }
    },
    {
      "cell_type": "markdown",
      "source": [
        "## 사칙연산 클래스 만들기"
      ],
      "metadata": {
        "id": "Eng7RAsQAnuL"
      }
    },
    {
      "cell_type": "markdown",
      "source": [
        "### 클래스를 어떻게 만들지 구상하기\n",
        "\n",
        "1.   a = FourCal()를 입력, a라는 객체 만든다\n",
        "2.   a.setdata(4,2)입력, 숫자 4와 2 a에 지정\n",
        "3.   a.add() => (4+2)\n",
        "4. a.mul() => (4*2)\n",
        "5. a.sub() => (4-2)\n",
        "6. a.div() => (4/2)\n",
        "이렇게 동작하는 FourCal 클래스 만들기!!\n",
        "\n"
      ],
      "metadata": {
        "id": "RLpXVihjCQyt"
      }
    },
    {
      "cell_type": "markdown",
      "source": [
        "### 클래스 구조 만들기"
      ],
      "metadata": {
        "id": "1kkJHnP6DY4j"
      }
    },
    {
      "cell_type": "code",
      "source": [
        "class FourCal:\n",
        "  pass # 아무것도 수행하지 않는 문법\n",
        "   "
      ],
      "metadata": {
        "id": "LUlFT6fuDfpr"
      },
      "execution_count": null,
      "outputs": []
    },
    {
      "cell_type": "markdown",
      "source": [
        "### 객체에 숫자 지정할 수 있게 만들기\n",
        "\n",
        "*   클래스 안에 구현된 함수 다른 말로 메서드(Method)\n",
        "\n"
      ],
      "metadata": {
        "id": "KsL5eLTPD3AB"
      }
    },
    {
      "cell_type": "markdown",
      "source": [],
      "metadata": {
        "id": "vwUmfff6HVPC"
      }
    },
    {
      "cell_type": "code",
      "source": [
        "class FourCal:\n",
        "  def setdata(self, first, second): # pass 문장 삭제 -> setdata 함수 추가 / 메서드의 매개변수\n",
        "    self.first = first # 메서드의 수행문\n",
        "    self.second = second # 메서드의 수행문"
      ],
      "metadata": {
        "id": "NxYLunYwD7gj"
      },
      "execution_count": null,
      "outputs": []
    },
    {
      "cell_type": "markdown",
      "source": [
        "\n",
        "\n",
        "1.   **setdata 메서드의 매개변수** <br>\n",
        ": setdata 메서드는 매개변수로 self, first, second 3개의 입력값을 받음 <br>\n",
        "\n",
        "2. setdata 메서드에는 self, first, second 총 3개의 매개변수가 필요한데 실제로는 a.setdata(4,2)처럼 2개 값만 전달 <br>\n",
        "??  a.setdata(4,2)를 호출하면 setdata 메서드의 첫 번째 메개변수 self에는 setdata메서드를 호출한 객체 a가 자동 전달\n",
        "\n",
        "\n",
        "\n"
      ],
      "metadata": {
        "id": "YZajv_KQE63a"
      }
    },
    {
      "cell_type": "code",
      "source": [
        "# a 객체 만들고, a 객체를 통해 setdata 메서드 호출\n",
        "a = FourCal()\n",
        "a.setdata(4,2)"
      ],
      "metadata": {
        "id": "Ceg7EpS7HKwd"
      },
      "execution_count": null,
      "outputs": []
    },
    {
      "cell_type": "markdown",
      "source": [
        "3. setdata 메서드의 수행문"
      ],
      "metadata": {
        "id": "-2mYy0VmHpsE"
      }
    },
    {
      "cell_type": "code",
      "source": [
        "self.first = first\n",
        "self.second = second"
      ],
      "metadata": {
        "id": "esuL_P_GFhuH"
      },
      "execution_count": null,
      "outputs": []
    },
    {
      "cell_type": "code",
      "source": [
        "self.first = 4\n",
        "self.second = 2"
      ],
      "metadata": {
        "id": "p0scskQ8KJu1"
      },
      "execution_count": null,
      "outputs": []
    },
    {
      "cell_type": "code",
      "source": [
        "# self는 전달된 객체 a이므로 다시 다음과 같이 해석\n",
        "a.first = 4 # a.first = 4 수행 -> a 객체에 객체변수 first 생성, 4 저장\n",
        "a.second = 2 # a.second = 2 수행 -> a 객체에 객체변수 second 생성, 2 저장"
      ],
      "metadata": {
        "id": "HaHLQv8oHu-o"
      },
      "execution_count": null,
      "outputs": []
    },
    {
      "cell_type": "markdown",
      "source": [
        "### 더하기 기능 만들기"
      ],
      "metadata": {
        "id": "vyJXWmj0Kd2L"
      }
    },
    {
      "cell_type": "code",
      "source": [
        "class FourCal:\n",
        "  def setdata(self, first, second):\n",
        "    self.first = first\n",
        "    self.second = second\n",
        "  def add(self):\n",
        "    result = self.first + self.second\n",
        "    return result\n",
        "a = FourCal()\n",
        "a.setdata(4,2)\n",
        "a.add()"
      ],
      "metadata": {
        "colab": {
          "base_uri": "https://localhost:8080/"
        },
        "id": "VKp9Mt7MKgJo",
        "outputId": "e2378b97-07cf-44a4-9d02-b446af5deee6"
      },
      "execution_count": null,
      "outputs": [
        {
          "output_type": "execute_result",
          "data": {
            "text/plain": [
              "6"
            ]
          },
          "metadata": {},
          "execution_count": 19
        }
      ]
    },
    {
      "cell_type": "markdown",
      "source": [
        "### 곱하기, 빼기, 나누기 기능 만들기"
      ],
      "metadata": {
        "id": "FG2PekoaSu__"
      }
    },
    {
      "cell_type": "code",
      "source": [
        "class FourCal:\n",
        "  def setdata(self, first, second):\n",
        "    self.first = first\n",
        "    self.second = second\n",
        "  def add(self):\n",
        "    result = self.first + self.second\n",
        "    return self\n",
        "  def mul(self):\n",
        "    result = self.first * self.second\n",
        "    return result\n",
        "  def sub(self):\n",
        "    result = self.first - self.second\n",
        "    return result\n",
        "  def div(self):\n",
        "    result = self.first / self.second\n",
        "    return result\n",
        "a = FourCal()\n",
        "b = FourCal()\n",
        "a.setdata(4,2)\n",
        "b.setdata(3,8)\n",
        "a.add()\n",
        "a.mul()\n",
        "a.sub()\n",
        "a.div()\n",
        "b.add()\n",
        "b.mul()\n",
        "b.sub()\n",
        "b.div()"
      ],
      "metadata": {
        "id": "qIcEwSnSSy37"
      },
      "execution_count": null,
      "outputs": []
    },
    {
      "cell_type": "markdown",
      "source": [
        "## 생성자 (Constructor)\n",
        "\n",
        "* 객체가 생성될 때 자동으로 호출되는 메서드\n"
      ],
      "metadata": {
        "id": "Gx7WGHgTVL-m"
      }
    },
    {
      "cell_type": "code",
      "source": [
        "def __init__(self, first, second):\n",
        "    self.first = first\n",
        "    self.second = second # setdata 메서드와 동일 / 객체가 생성되는 시점에 자동으로 호출"
      ],
      "metadata": {
        "id": "W7AGvPW_h6_k"
      },
      "execution_count": null,
      "outputs": []
    },
    {
      "cell_type": "markdown",
      "source": [
        "## 클래스의 상속"
      ],
      "metadata": {
        "id": "rq40WUSXiqlR"
      }
    },
    {
      "cell_type": "markdown",
      "source": [
        "* class 클래스 이름(상속할 클래스 이름)"
      ],
      "metadata": {
        "id": "zsT1gNp_H49g"
      }
    },
    {
      "cell_type": "code",
      "source": [
        "class MoreFourCal(FourCal): # FourCal 클래스를 상속하는 MoreFourCal 클래스, FourCal 클래스의 모든 기능을 사용 가능\n",
        "  pass"
      ],
      "metadata": {
        "id": "wt0N9864HkOG"
      },
      "execution_count": null,
      "outputs": []
    },
    {
      "cell_type": "code",
      "source": [
        "class MoreFourCal(FourCal): # a의 b제곱 계산\n",
        "     def pow(self):\n",
        "         result = self.first ** self.second\n",
        "         return result\n",
        "a = MoreFourCal(4, 2)"
      ],
      "metadata": {
        "id": "z8Qsa_mHIVVj"
      },
      "execution_count": null,
      "outputs": []
    },
    {
      "cell_type": "markdown",
      "source": [
        "## 메서드 오버라이딩\n",
        "* 부모 클래스(상속한 클래스)에 있는 메서드를 동일한 이름으로 다시 만드는 것"
      ],
      "metadata": {
        "id": "wEMXdBxrI18l"
      }
    },
    {
      "cell_type": "markdown",
      "source": [
        "## 클래스 변수"
      ],
      "metadata": {
        "id": "YTdGLKglJRYy"
      }
    },
    {
      "cell_type": "code",
      "source": [
        "class Family:\n",
        "  lastname = \"김\" # 클래스 변수, 클래스 안에 변수 선언.생성\n",
        "a = Family()\n",
        "b = Family()\n",
        "Family.lastname = \"박\" # 클래스 변수는 클래스로 만든 모든 객체에 공유\n",
        "a.lastname"
      ],
      "metadata": {
        "colab": {
          "base_uri": "https://localhost:8080/",
          "height": 36
        },
        "id": "hA9-Ks_FJZcT",
        "outputId": "5fece10b-52e4-4157-dc16-76e6bcf80e68"
      },
      "execution_count": 3,
      "outputs": [
        {
          "output_type": "execute_result",
          "data": {
            "text/plain": [
              "'박'"
            ],
            "application/vnd.google.colaboratory.intrinsic+json": {
              "type": "string"
            }
          },
          "metadata": {},
          "execution_count": 3
        }
      ]
    }
  ]
}
