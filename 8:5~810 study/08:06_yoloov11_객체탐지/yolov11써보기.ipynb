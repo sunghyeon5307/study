{
  "nbformat": 4,
  "nbformat_minor": 0,
  "metadata": {
    "colab": {
      "provenance": [],
      "gpuType": "T4"
    },
    "kernelspec": {
      "name": "python3",
      "display_name": "Python 3"
    },
    "language_info": {
      "name": "python"
    },
    "accelerator": "GPU"
  },
  "cells": [
    {
      "cell_type": "code",
      "execution_count": 1,
      "metadata": {
        "colab": {
          "base_uri": "https://localhost:8080/"
        },
        "collapsed": true,
        "id": "q1eS_NYHFMeW",
        "outputId": "0ff2da6a-f532-499b-d747-64628b614184"
      },
      "outputs": [
        {
          "output_type": "stream",
          "name": "stdout",
          "text": [
            "  % Total    % Received % Xferd  Average Speed   Time    Time     Time  Current\n",
            "                                 Dload  Upload   Total   Spent    Left  Speed\n",
            "100   897  100   897    0     0   1214      0 --:--:-- --:--:-- --:--:--  1215\n",
            "100 11.5M  100 11.5M    0     0  8222k      0  0:00:01  0:00:01 --:--:-- 23.4M\n",
            "Archive:  roboflow.zip\n",
            "  inflating: README.dataset.txt      \n",
            "  inflating: README.roboflow.txt     \n",
            "  inflating: data.yaml               \n",
            "   creating: export/\n",
            "   creating: export/images/\n",
            " extracting: export/images/raccoon-100_jpg.rf.YWIftfgUdZqJLTkvI9W2.jpg  \n",
            " extracting: export/images/raccoon-101_jpg.rf.ebfr15yC06H7KdSNWJkC.jpg  \n",
            " extracting: export/images/raccoon-102_jpg.rf.Vtizg4N4D1Wn9fv4sBaJ.jpg  \n",
            " extracting: export/images/raccoon-103_jpg.rf.yx4ScGFA2FZ23qfitAfV.jpg  \n",
            " extracting: export/images/raccoon-104_jpg.rf.HdpZVmq1teO4b2ny0HJO.jpg  \n",
            " extracting: export/images/raccoon-105_jpg.rf.S4P0w34qeFrLIhNIHmuD.jpg  \n",
            " extracting: export/images/raccoon-106_jpg.rf.UCuMtEoBFF5lvbYSErKC.jpg  \n",
            " extracting: export/images/raccoon-107_jpg.rf.pQbBB9zNruyNhePH5B52.jpg  \n",
            " extracting: export/images/raccoon-108_jpg.rf.qFSgit2nhskdamOaI6Nm.jpg  \n",
            " extracting: export/images/raccoon-109_jpg.rf.LzEfJ28WbPo5OxpukIGd.jpg  \n",
            " extracting: export/images/raccoon-10_jpg.rf.umSu38h2FUXMMT9rANBV.jpg  \n",
            " extracting: export/images/raccoon-110_jpg.rf.9H9GqFdeMHk8Vh3CTgtP.jpg  \n",
            " extracting: export/images/raccoon-111_jpg.rf.LEvSQCZ7dQDrt8BQ1cUm.jpg  \n",
            " extracting: export/images/raccoon-112_jpg.rf.nbkvNSV9kgY2YMtnEt10.jpg  \n",
            " extracting: export/images/raccoon-113_jpg.rf.fnc60ia7jy2Ibb5I4gS3.jpg  \n",
            " extracting: export/images/raccoon-114_jpg.rf.RiU3t94Jeo5W0fd770Vt.jpg  \n",
            " extracting: export/images/raccoon-115_jpg.rf.7RRyMHlnx22S2N6vniTN.jpg  \n",
            " extracting: export/images/raccoon-117_jpg.rf.fVB0ixT8jKL4RVN9U1IR.jpg  \n",
            " extracting: export/images/raccoon-118_jpg.rf.4UxK1xxdM4Tfqf7ddN6j.jpg  \n",
            " extracting: export/images/raccoon-119_jpg.rf.bmAg2RtNoisxOmzkfzbE.jpg  \n",
            " extracting: export/images/raccoon-11_jpg.rf.lNZTRyjSWF2bN5P9Pz7z.jpg  \n",
            " extracting: export/images/raccoon-121_jpg.rf.0vtSjAnB6eM9ME4D67ol.jpg  \n",
            " extracting: export/images/raccoon-122_jpg.rf.aD7ZY4UYguNK7JYpLx0c.jpg  \n",
            " extracting: export/images/raccoon-123_jpg.rf.e2T41DASi7hi7wG7hfCv.jpg  \n",
            " extracting: export/images/raccoon-124_jpg.rf.8q2LIZpw29DCvJBEjkfw.jpg  \n",
            " extracting: export/images/raccoon-125_jpg.rf.V2Ul5pPMx4k6ogBIMwjR.jpg  \n",
            " extracting: export/images/raccoon-126_jpg.rf.YsqOAv7zuAzV39ZNjJWF.jpg  \n",
            " extracting: export/images/raccoon-127_jpg.rf.OKCWEzHOMMeiTTxbjOqe.jpg  \n",
            " extracting: export/images/raccoon-128_jpg.rf.wVPQVhCxh9rg5pvhDqMY.jpg  \n",
            " extracting: export/images/raccoon-129_jpg.rf.nFKEP4T5G7uyinMGKHqt.jpg  \n",
            " extracting: export/images/raccoon-12_jpg.rf.9XeEPEIOrBYa8SV7y8nL.jpg  \n",
            " extracting: export/images/raccoon-130_jpg.rf.DXMxqz61gFaA9r6hPaq9.jpg  \n",
            " extracting: export/images/raccoon-131_jpg.rf.qcvI2Yyo9dCoMVIx6qNw.jpg  \n",
            " extracting: export/images/raccoon-132_jpg.rf.JuPvZXmiUTpKidRE0xBK.jpg  \n",
            " extracting: export/images/raccoon-133_jpg.rf.AumbkGBEaK3if3xr2rXy.jpg  \n",
            " extracting: export/images/raccoon-134_jpg.rf.RFGL6ESeJCrId85Vm15G.jpg  \n",
            " extracting: export/images/raccoon-135_jpg.rf.IMrZrg6Kz4AEOlCpze8l.jpg  \n",
            " extracting: export/images/raccoon-136_jpg.rf.qyzqkaghSS8MCBX84b2s.jpg  \n",
            " extracting: export/images/raccoon-137_jpg.rf.pTlX2hsGoAvoglO0LBnD.jpg  \n",
            " extracting: export/images/raccoon-138_jpg.rf.iaM9s8IMWeoRA5VnDJXP.jpg  \n",
            " extracting: export/images/raccoon-139_jpg.rf.YuOi6NoWDJZngmRFa2yO.jpg  \n",
            " extracting: export/images/raccoon-13_jpg.rf.hW0fUIZl7o6oWoyl7Kpf.jpg  \n",
            " extracting: export/images/raccoon-140_jpg.rf.XHbEI3OuH8rgeHzLDNDi.jpg  \n",
            " extracting: export/images/raccoon-141_jpg.rf.Z5FqPjTBW22zdXU1DAbv.jpg  \n",
            " extracting: export/images/raccoon-142_jpg.rf.elSPBxwT3Cs6QobeFtY9.jpg  \n",
            " extracting: export/images/raccoon-143_jpg.rf.MJwGepEt8iJgbqjol0sN.jpg  \n",
            " extracting: export/images/raccoon-144_jpg.rf.BsojHoPGoxD11h7QIylE.jpg  \n",
            " extracting: export/images/raccoon-145_jpg.rf.JCWppjwVzSTAK5Fv0aSs.jpg  \n",
            " extracting: export/images/raccoon-146_jpg.rf.AT3OEtpurP9GNGFMNHUU.jpg  \n",
            " extracting: export/images/raccoon-147_jpg.rf.jjmmhY1dLMFn4jJlaeW9.jpg  \n",
            " extracting: export/images/raccoon-148_jpg.rf.vTmvA1TNQWOc2TfExUyR.jpg  \n",
            " extracting: export/images/raccoon-149_jpg.rf.xkn1c7ndvjcwaPjCMRU4.jpg  \n",
            " extracting: export/images/raccoon-14_jpg.rf.Co6rWUaZCOO8otkY0IcD.jpg  \n",
            " extracting: export/images/raccoon-150_jpg.rf.bzGGG0tHFLVQCOcdrWTu.jpg  \n",
            " extracting: export/images/raccoon-151_jpg.rf.5QM6WsoL5TPMyAnE0exp.jpg  \n",
            " extracting: export/images/raccoon-152_jpg.rf.xLGes66kRxKWt9q1Y7JL.jpg  \n",
            " extracting: export/images/raccoon-153_jpg.rf.zHGPtPwRfHNKb0tqWkv4.jpg  \n",
            " extracting: export/images/raccoon-154_jpg.rf.4uPzYIGp5vUBK0Mpvg9F.jpg  \n",
            " extracting: export/images/raccoon-155_jpg.rf.ty5FSo5lTeXqwirH0gUx.jpg  \n",
            " extracting: export/images/raccoon-156_jpg.rf.ftJOhD0Ui1n1glvfhKcr.jpg  \n",
            " extracting: export/images/raccoon-157_jpg.rf.sFXF3Byt99UCrAC39stv.jpg  \n",
            " extracting: export/images/raccoon-158_jpg.rf.29Zyi0Uggb1h2Bd5lb4L.jpg  \n",
            " extracting: export/images/raccoon-159_jpg.rf.k5wJBaUEt6Vvvl7cWLOX.jpg  \n",
            " extracting: export/images/raccoon-15_jpg.rf.489WJgVbH5eohmBISIHF.jpg  \n",
            " extracting: export/images/raccoon-160_jpg.rf.j8CAnHTyv79V0xqIpWWc.jpg  \n",
            " extracting: export/images/raccoon-161_jpg.rf.0Mle2LMLqLVbuWufJSM6.jpg  \n",
            " extracting: export/images/raccoon-162_jpg.rf.abgsw4ndfVWi8GTwjzwc.jpg  \n",
            " extracting: export/images/raccoon-163_jpg.rf.0YTbudXBepA7uEwCmOnl.jpg  \n",
            " extracting: export/images/raccoon-164_jpg.rf.mDypaem8OyAzB52vVdNx.jpg  \n",
            " extracting: export/images/raccoon-165_jpg.rf.8SCzRog4BwZ83PXUcED3.jpg  \n",
            " extracting: export/images/raccoon-166_jpg.rf.eRTnxiWjkSE6gJRIzAu0.jpg  \n",
            " extracting: export/images/raccoon-167_jpg.rf.qvCX0z6icMl2ih05K5v9.jpg  \n",
            " extracting: export/images/raccoon-168_jpg.rf.VGysc5nmOQDryDkgYMIj.jpg  \n",
            " extracting: export/images/raccoon-169_jpg.rf.062UREZtsQG7f5AmLIiA.jpg  \n",
            " extracting: export/images/raccoon-16_jpg.rf.B7mRyX2zKgmj4GfdTHCu.jpg  \n",
            " extracting: export/images/raccoon-170_jpg.rf.6BUQJQ2JcicLFyXoEM4H.jpg  \n",
            " extracting: export/images/raccoon-171_jpg.rf.A6U9PhTpm209NbQEuHVd.jpg  \n",
            " extracting: export/images/raccoon-172_jpg.rf.LJbm7o2O1r9n30c43RTe.jpg  \n",
            " extracting: export/images/raccoon-173_jpg.rf.v62IA847b0Mh9HlqgH0t.jpg  \n",
            " extracting: export/images/raccoon-174_jpg.rf.0TApbeZZ8Lq5kQ6yZSwF.jpg  \n",
            " extracting: export/images/raccoon-175_jpg.rf.qmCGlOJpoou2TtPxfBEr.jpg  \n",
            " extracting: export/images/raccoon-176_jpg.rf.B7dOSWLGt9AqGehid5Wc.jpg  \n",
            " extracting: export/images/raccoon-177_jpg.rf.nCtmzWTE90cNGA2AqCKX.jpg  \n",
            " extracting: export/images/raccoon-178_jpg.rf.c1wXWhgZXADDzCfgyAaJ.jpg  \n",
            " extracting: export/images/raccoon-179_jpg.rf.SLj5LR0VtqFsgLAcY7jB.jpg  \n",
            " extracting: export/images/raccoon-17_jpg.rf.LSzSuKkifGMSU8hDAB5h.jpg  \n",
            " extracting: export/images/raccoon-180_jpg.rf.ce25zVjoS2kYjBMoa8yr.jpg  \n",
            " extracting: export/images/raccoon-181_jpg.rf.xeJaWTEMqPNGPY1dcXXm.jpg  \n",
            " extracting: export/images/raccoon-182_jpg.rf.0uW2FD3INY695W6ylKva.jpg  \n",
            " extracting: export/images/raccoon-183_jpg.rf.OB5aIruBsbjNt8ExrR57.jpg  \n",
            " extracting: export/images/raccoon-184_jpg.rf.Jlp4Mc8yigJJHMm2nJ0o.jpg  \n",
            " extracting: export/images/raccoon-185_jpg.rf.BYk3nsCTaMrRw1vlb4Pp.jpg  \n",
            " extracting: export/images/raccoon-186_jpg.rf.Qszb5mCxtPOpTk0ZK7HU.jpg  \n",
            " extracting: export/images/raccoon-187_jpg.rf.nzeEH0LYtGfw3iO4Ee5T.jpg  \n",
            " extracting: export/images/raccoon-188_jpg.rf.JcGxRHcszaDQhuOMBaa1.jpg  \n",
            " extracting: export/images/raccoon-189_jpg.rf.9ARgm1yqSl1ae84rLngN.jpg  \n",
            " extracting: export/images/raccoon-18_jpg.rf.V2oz98hhPoNa0IUhd1mo.jpg  \n",
            " extracting: export/images/raccoon-190_jpg.rf.wa3dpHcSJzHEx7D6nePq.jpg  \n",
            " extracting: export/images/raccoon-191_jpg.rf.ymlwf9yvRpSxSpZ9hzUa.jpg  \n",
            " extracting: export/images/raccoon-192_jpg.rf.XZrpaOdOLsftCK06774t.jpg  \n",
            " extracting: export/images/raccoon-193_jpg.rf.YlCQo2ZpBqLMpQDL2Kse.jpg  \n",
            " extracting: export/images/raccoon-194_jpg.rf.ZIvthRxYrcmdkj7oQOPX.jpg  \n",
            " extracting: export/images/raccoon-195_jpg.rf.740NhNOOgSi0w9QomssP.jpg  \n",
            " extracting: export/images/raccoon-196_jpg.rf.5NAUtrxfeBUqpWlCar64.jpg  \n",
            " extracting: export/images/raccoon-197_jpg.rf.ieNMvNPmchNdAEzWg5Fc.jpg  \n",
            " extracting: export/images/raccoon-198_jpg.rf.a8FPzrog2et3M0xInLCx.jpg  \n",
            " extracting: export/images/raccoon-199_jpg.rf.qPwz4cyyVZcPAop72vBf.jpg  \n",
            " extracting: export/images/raccoon-19_jpg.rf.lmoNF5jvYAjMaxN6XdXt.jpg  \n",
            " extracting: export/images/raccoon-1_jpg.rf.sIcWuSUPDjwlVKDOlw6R.jpg  \n",
            " extracting: export/images/raccoon-200_jpg.rf.W3rpJysOHvdOAuEnTNEY.jpg  \n",
            " extracting: export/images/raccoon-20_jpg.rf.4WAs8L29reqeirSqGg9t.jpg  \n",
            " extracting: export/images/raccoon-21_jpg.rf.7XOQqxp8MQwRrVn8xE76.jpg  \n",
            " extracting: export/images/raccoon-22_jpg.rf.OG3Ml7Dolj9c0o4PbJK6.jpg  \n",
            " extracting: export/images/raccoon-23_jpg.rf.gw3KdUyjaP5cQ6zcS40N.jpg  \n",
            " extracting: export/images/raccoon-24_jpg.rf.LT1VC0amKwztEwO6bFvk.jpg  \n",
            " extracting: export/images/raccoon-25_jpg.rf.mV9OK1wVxDSQRZSVIDkT.jpg  \n",
            " extracting: export/images/raccoon-26_jpg.rf.N7Na7mM0dqMA0F31Iz45.jpg  \n",
            " extracting: export/images/raccoon-27_jpg.rf.OMPIn4rBFwNMk7bzedUN.jpg  \n",
            " extracting: export/images/raccoon-28_jpg.rf.BpDylskQoKmQJepcWOr8.jpg  \n",
            " extracting: export/images/raccoon-29_jpg.rf.5UbtcvzGv7KtCxLnBv7z.jpg  \n",
            " extracting: export/images/raccoon-2_jpg.rf.NBPogI6xGeUn9aXAeJC3.jpg  \n",
            " extracting: export/images/raccoon-30_jpg.rf.NPkzKohNa5D2tABfOYQy.jpg  \n",
            " extracting: export/images/raccoon-31_jpg.rf.fMbi4VStxp6mv8tMSqYD.jpg  \n",
            " extracting: export/images/raccoon-32_jpg.rf.A3giRbzBDwzWsCUjxcGU.jpg  \n",
            " extracting: export/images/raccoon-33_jpg.rf.eoVqap7XuMyDd9FbC7eI.jpg  \n",
            " extracting: export/images/raccoon-34_jpg.rf.KgTOGXyzaqjDSUx18u3t.jpg  \n",
            " extracting: export/images/raccoon-35_jpg.rf.gBI37gb6eeIrAdWGNEDK.jpg  \n",
            " extracting: export/images/raccoon-36_jpg.rf.ADOT5Xcrqf2CBQd1liRf.jpg  \n",
            " extracting: export/images/raccoon-37_jpg.rf.aKMbQgz3gKmlAhdWypTl.jpg  \n",
            " extracting: export/images/raccoon-38_jpg.rf.u4NfrBZwWiAr37WnyafY.jpg  \n",
            " extracting: export/images/raccoon-39_jpg.rf.yGhEQLX6DpqWHdSETZB6.jpg  \n",
            " extracting: export/images/raccoon-3_jpg.rf.FehnT1wDKERrv4oXztdm.jpg  \n",
            " extracting: export/images/raccoon-40_jpg.rf.pPYmgP0Dt4W3jAq6cJP7.jpg  \n",
            " extracting: export/images/raccoon-41_jpg.rf.W9dUzr9uz0SR0O6T6LkJ.jpg  \n",
            " extracting: export/images/raccoon-42_jpg.rf.vsqqbnbsZq3Fs6QloNbK.jpg  \n",
            " extracting: export/images/raccoon-43_jpg.rf.chWSNPCd8K64vFDiFtZ9.jpg  \n",
            " extracting: export/images/raccoon-44_jpg.rf.AskpsRiftcZiHcpXbY0L.jpg  \n",
            " extracting: export/images/raccoon-45_jpg.rf.I8Z08N1z5UWSUqPKHZPd.jpg  \n",
            " extracting: export/images/raccoon-46_jpg.rf.HaOZjeMSiYmebkiHgVra.jpg  \n",
            " extracting: export/images/raccoon-47_jpg.rf.phm5uh52g5EiE2hIqM5i.jpg  \n",
            " extracting: export/images/raccoon-48_jpg.rf.SuALG3iAomm4ma3XgKsa.jpg  \n",
            " extracting: export/images/raccoon-49_jpg.rf.ueFRmQOF2DaqGGEBhVhF.jpg  \n",
            " extracting: export/images/raccoon-4_jpg.rf.Lluzl7wf3QOiSmiMiSIj.jpg  \n",
            " extracting: export/images/raccoon-50_jpg.rf.whvFMBzgHg3ts3amHFfP.jpg  \n",
            " extracting: export/images/raccoon-51_jpg.rf.j6jIBivmhDWR5DJcwoIQ.jpg  \n",
            " extracting: export/images/raccoon-53_jpg.rf.h0gjlinfJgoHZJXir7UA.jpg  \n",
            " extracting: export/images/raccoon-54_jpg.rf.MR204FVYc9XDRRDLoAzR.jpg  \n",
            " extracting: export/images/raccoon-55_jpg.rf.iiuBuVwt1FmxfjJuI1TC.jpg  \n",
            " extracting: export/images/raccoon-56_jpg.rf.IR7dpRC8jTsXirB76IrI.jpg  \n",
            " extracting: export/images/raccoon-57_jpg.rf.8yZARYYn68JKxfOa2n4f.jpg  \n",
            " extracting: export/images/raccoon-58_jpg.rf.xkDTDgIa6iTVbYXlECQe.jpg  \n",
            " extracting: export/images/raccoon-59_jpg.rf.6aDJXsBMD9aNCdHNZ5Mu.jpg  \n",
            " extracting: export/images/raccoon-5_jpg.rf.P2kMV71sw3gG2PUfu9Km.jpg  \n",
            " extracting: export/images/raccoon-60_jpg.rf.uFavFoIvkBhCg7I6ZUSC.jpg  \n",
            " extracting: export/images/raccoon-61_jpg.rf.3EbaZ6gnGnQXGoChS06v.jpg  \n",
            " extracting: export/images/raccoon-62_jpg.rf.q5lRDAZbZyb9ibt1NkHA.jpg  \n",
            " extracting: export/images/raccoon-63_jpg.rf.dT1hjklwbAWPVbSj4uKq.jpg  \n",
            " extracting: export/images/raccoon-64_jpg.rf.Mg6mwuhmKMgoUxIlT6jV.jpg  \n",
            " extracting: export/images/raccoon-66_jpg.rf.pDZVWkbZQDCqiA38nh2x.jpg  \n",
            " extracting: export/images/raccoon-67_jpg.rf.kJTJ4Op1CRhIiZciiV3l.jpg  \n",
            " extracting: export/images/raccoon-68_jpg.rf.dV9RLCF9qBirlNmM4QDH.jpg  \n",
            " extracting: export/images/raccoon-69_jpg.rf.GeXNSZJE74xhqy7y93c3.jpg  \n",
            " extracting: export/images/raccoon-6_jpg.rf.w8P1isJRqHWHZaiTZK99.jpg  \n",
            " extracting: export/images/raccoon-70_jpg.rf.Xel5jDFSyCo1scmKTGhY.jpg  \n",
            " extracting: export/images/raccoon-71_jpg.rf.yJWB7DaXkDdrZLhsTo45.jpg  \n",
            " extracting: export/images/raccoon-72_jpg.rf.jefuPY3lQ0BGw1D2Xub8.jpg  \n",
            " extracting: export/images/raccoon-73_jpg.rf.IgPHaS3AuJUHRXQmIhDJ.jpg  \n",
            " extracting: export/images/raccoon-74_jpg.rf.rTU8ZxbtKRF4JHrqvEOq.jpg  \n",
            " extracting: export/images/raccoon-75_jpg.rf.YlMs1n4dZe1fSWKIAsDd.jpg  \n",
            " extracting: export/images/raccoon-76_jpg.rf.FzjkIXRw6gk8NBFEGHI2.jpg  \n",
            " extracting: export/images/raccoon-77_jpg.rf.q9hGI9jrDJ1PpxX1x0rd.jpg  \n",
            " extracting: export/images/raccoon-78_jpg.rf.BbHiKwTi7tIssLj0rum6.jpg  \n",
            " extracting: export/images/raccoon-79_jpg.rf.ktsyolcZVgX1MNcWl2E6.jpg  \n",
            " extracting: export/images/raccoon-7_jpg.rf.lHsAWCnnb1Kzt8rmowxp.jpg  \n",
            " extracting: export/images/raccoon-80_jpg.rf.Ec9UJrEgbAOo9daEs5eV.jpg  \n",
            " extracting: export/images/raccoon-81_jpg.rf.Mq6NXnnLzv34CdUVe76T.jpg  \n",
            " extracting: export/images/raccoon-82_jpg.rf.o9L7wWqW3gUCb5APXKmJ.jpg  \n",
            " extracting: export/images/raccoon-83_jpg.rf.atgkVnBAHbQbfO8tha39.jpg  \n",
            " extracting: export/images/raccoon-84_jpg.rf.EVGCgijizwHBcDHiLCSw.jpg  \n",
            " extracting: export/images/raccoon-85_jpg.rf.u3OeM7EG2WspSHohlsK2.jpg  \n",
            " extracting: export/images/raccoon-86_jpg.rf.qxniBkdMh5L4p6IDfKmJ.jpg  \n",
            " extracting: export/images/raccoon-87_jpg.rf.Mii8qqnFvQSvnNjeka0P.jpg  \n",
            " extracting: export/images/raccoon-88_jpg.rf.4MfWIW6Hrvz1KH1oZ5GZ.jpg  \n",
            " extracting: export/images/raccoon-89_jpg.rf.0LCgtBGqdeteFcGC0806.jpg  \n",
            " extracting: export/images/raccoon-8_jpg.rf.exZsAoVTaPCdKkaYKDNy.jpg  \n",
            " extracting: export/images/raccoon-90_jpg.rf.jUuX6n7D184OJy9gGkVL.jpg  \n",
            " extracting: export/images/raccoon-91_jpg.rf.zdghE2k81QF9RDOjL2Aw.jpg  \n",
            " extracting: export/images/raccoon-92_jpg.rf.spnLudxRSgVmSMlNM46D.jpg  \n",
            " extracting: export/images/raccoon-93_jpg.rf.aLVYqVxq4jhYDW3rLvSl.jpg  \n",
            " extracting: export/images/raccoon-94_jpg.rf.5CNnewuURDkzQIGjJW4K.jpg  \n",
            " extracting: export/images/raccoon-95_jpg.rf.s5mrXnEKqpNE8vSsFhDA.jpg  \n",
            " extracting: export/images/raccoon-96_jpg.rf.HWHEmDz9DkkpkqaaVyPz.jpg  \n",
            " extracting: export/images/raccoon-97_jpg.rf.jiRlV3vZq8y5ywPxxMiU.jpg  \n",
            " extracting: export/images/raccoon-98_jpg.rf.rAeGjNwLevttDW7jAQal.jpg  \n",
            " extracting: export/images/raccoon-99_jpg.rf.r00W7YOUlLNBH5WP07gR.jpg  \n",
            " extracting: export/images/raccoon-9_jpg.rf.lICx86OESVjDaYlcKPYr.jpg  \n",
            "   creating: export/labels/\n",
            "  inflating: export/labels/raccoon-100_jpg.rf.YWIftfgUdZqJLTkvI9W2.txt  \n",
            "  inflating: export/labels/raccoon-101_jpg.rf.ebfr15yC06H7KdSNWJkC.txt  \n",
            "  inflating: export/labels/raccoon-102_jpg.rf.Vtizg4N4D1Wn9fv4sBaJ.txt  \n",
            "  inflating: export/labels/raccoon-103_jpg.rf.yx4ScGFA2FZ23qfitAfV.txt  \n",
            "  inflating: export/labels/raccoon-104_jpg.rf.HdpZVmq1teO4b2ny0HJO.txt  \n",
            "  inflating: export/labels/raccoon-105_jpg.rf.S4P0w34qeFrLIhNIHmuD.txt  \n",
            "  inflating: export/labels/raccoon-106_jpg.rf.UCuMtEoBFF5lvbYSErKC.txt  \n",
            "  inflating: export/labels/raccoon-107_jpg.rf.pQbBB9zNruyNhePH5B52.txt  \n",
            "  inflating: export/labels/raccoon-108_jpg.rf.qFSgit2nhskdamOaI6Nm.txt  \n",
            "  inflating: export/labels/raccoon-109_jpg.rf.LzEfJ28WbPo5OxpukIGd.txt  \n",
            "  inflating: export/labels/raccoon-10_jpg.rf.umSu38h2FUXMMT9rANBV.txt  \n",
            "  inflating: export/labels/raccoon-110_jpg.rf.9H9GqFdeMHk8Vh3CTgtP.txt  \n",
            "  inflating: export/labels/raccoon-111_jpg.rf.LEvSQCZ7dQDrt8BQ1cUm.txt  \n",
            "  inflating: export/labels/raccoon-112_jpg.rf.nbkvNSV9kgY2YMtnEt10.txt  \n",
            "  inflating: export/labels/raccoon-113_jpg.rf.fnc60ia7jy2Ibb5I4gS3.txt  \n",
            "  inflating: export/labels/raccoon-114_jpg.rf.RiU3t94Jeo5W0fd770Vt.txt  \n",
            "  inflating: export/labels/raccoon-115_jpg.rf.7RRyMHlnx22S2N6vniTN.txt  \n",
            "  inflating: export/labels/raccoon-117_jpg.rf.fVB0ixT8jKL4RVN9U1IR.txt  \n",
            "  inflating: export/labels/raccoon-118_jpg.rf.4UxK1xxdM4Tfqf7ddN6j.txt  \n",
            "  inflating: export/labels/raccoon-119_jpg.rf.bmAg2RtNoisxOmzkfzbE.txt  \n",
            "  inflating: export/labels/raccoon-11_jpg.rf.lNZTRyjSWF2bN5P9Pz7z.txt  \n",
            "  inflating: export/labels/raccoon-121_jpg.rf.0vtSjAnB6eM9ME4D67ol.txt  \n",
            "  inflating: export/labels/raccoon-122_jpg.rf.aD7ZY4UYguNK7JYpLx0c.txt  \n",
            "  inflating: export/labels/raccoon-123_jpg.rf.e2T41DASi7hi7wG7hfCv.txt  \n",
            "  inflating: export/labels/raccoon-124_jpg.rf.8q2LIZpw29DCvJBEjkfw.txt  \n",
            "  inflating: export/labels/raccoon-125_jpg.rf.V2Ul5pPMx4k6ogBIMwjR.txt  \n",
            "  inflating: export/labels/raccoon-126_jpg.rf.YsqOAv7zuAzV39ZNjJWF.txt  \n",
            "  inflating: export/labels/raccoon-127_jpg.rf.OKCWEzHOMMeiTTxbjOqe.txt  \n",
            "  inflating: export/labels/raccoon-128_jpg.rf.wVPQVhCxh9rg5pvhDqMY.txt  \n",
            "  inflating: export/labels/raccoon-129_jpg.rf.nFKEP4T5G7uyinMGKHqt.txt  \n",
            "  inflating: export/labels/raccoon-12_jpg.rf.9XeEPEIOrBYa8SV7y8nL.txt  \n",
            "  inflating: export/labels/raccoon-130_jpg.rf.DXMxqz61gFaA9r6hPaq9.txt  \n",
            "  inflating: export/labels/raccoon-131_jpg.rf.qcvI2Yyo9dCoMVIx6qNw.txt  \n",
            "  inflating: export/labels/raccoon-132_jpg.rf.JuPvZXmiUTpKidRE0xBK.txt  \n",
            "  inflating: export/labels/raccoon-133_jpg.rf.AumbkGBEaK3if3xr2rXy.txt  \n",
            "  inflating: export/labels/raccoon-134_jpg.rf.RFGL6ESeJCrId85Vm15G.txt  \n",
            "  inflating: export/labels/raccoon-135_jpg.rf.IMrZrg6Kz4AEOlCpze8l.txt  \n",
            "  inflating: export/labels/raccoon-136_jpg.rf.qyzqkaghSS8MCBX84b2s.txt  \n",
            "  inflating: export/labels/raccoon-137_jpg.rf.pTlX2hsGoAvoglO0LBnD.txt  \n",
            "  inflating: export/labels/raccoon-138_jpg.rf.iaM9s8IMWeoRA5VnDJXP.txt  \n",
            "  inflating: export/labels/raccoon-139_jpg.rf.YuOi6NoWDJZngmRFa2yO.txt  \n",
            "  inflating: export/labels/raccoon-13_jpg.rf.hW0fUIZl7o6oWoyl7Kpf.txt  \n",
            "  inflating: export/labels/raccoon-140_jpg.rf.XHbEI3OuH8rgeHzLDNDi.txt  \n",
            "  inflating: export/labels/raccoon-141_jpg.rf.Z5FqPjTBW22zdXU1DAbv.txt  \n",
            "  inflating: export/labels/raccoon-142_jpg.rf.elSPBxwT3Cs6QobeFtY9.txt  \n",
            "  inflating: export/labels/raccoon-143_jpg.rf.MJwGepEt8iJgbqjol0sN.txt  \n",
            "  inflating: export/labels/raccoon-144_jpg.rf.BsojHoPGoxD11h7QIylE.txt  \n",
            "  inflating: export/labels/raccoon-145_jpg.rf.JCWppjwVzSTAK5Fv0aSs.txt  \n",
            "  inflating: export/labels/raccoon-146_jpg.rf.AT3OEtpurP9GNGFMNHUU.txt  \n",
            "  inflating: export/labels/raccoon-147_jpg.rf.jjmmhY1dLMFn4jJlaeW9.txt  \n",
            "  inflating: export/labels/raccoon-148_jpg.rf.vTmvA1TNQWOc2TfExUyR.txt  \n",
            "  inflating: export/labels/raccoon-149_jpg.rf.xkn1c7ndvjcwaPjCMRU4.txt  \n",
            "  inflating: export/labels/raccoon-14_jpg.rf.Co6rWUaZCOO8otkY0IcD.txt  \n",
            "  inflating: export/labels/raccoon-150_jpg.rf.bzGGG0tHFLVQCOcdrWTu.txt  \n",
            "  inflating: export/labels/raccoon-151_jpg.rf.5QM6WsoL5TPMyAnE0exp.txt  \n",
            "  inflating: export/labels/raccoon-152_jpg.rf.xLGes66kRxKWt9q1Y7JL.txt  \n",
            "  inflating: export/labels/raccoon-153_jpg.rf.zHGPtPwRfHNKb0tqWkv4.txt  \n",
            "  inflating: export/labels/raccoon-154_jpg.rf.4uPzYIGp5vUBK0Mpvg9F.txt  \n",
            "  inflating: export/labels/raccoon-155_jpg.rf.ty5FSo5lTeXqwirH0gUx.txt  \n",
            "  inflating: export/labels/raccoon-156_jpg.rf.ftJOhD0Ui1n1glvfhKcr.txt  \n",
            "  inflating: export/labels/raccoon-157_jpg.rf.sFXF3Byt99UCrAC39stv.txt  \n",
            "  inflating: export/labels/raccoon-158_jpg.rf.29Zyi0Uggb1h2Bd5lb4L.txt  \n",
            "  inflating: export/labels/raccoon-159_jpg.rf.k5wJBaUEt6Vvvl7cWLOX.txt  \n",
            "  inflating: export/labels/raccoon-15_jpg.rf.489WJgVbH5eohmBISIHF.txt  \n",
            "  inflating: export/labels/raccoon-160_jpg.rf.j8CAnHTyv79V0xqIpWWc.txt  \n",
            "  inflating: export/labels/raccoon-161_jpg.rf.0Mle2LMLqLVbuWufJSM6.txt  \n",
            "  inflating: export/labels/raccoon-162_jpg.rf.abgsw4ndfVWi8GTwjzwc.txt  \n",
            "  inflating: export/labels/raccoon-163_jpg.rf.0YTbudXBepA7uEwCmOnl.txt  \n",
            "  inflating: export/labels/raccoon-164_jpg.rf.mDypaem8OyAzB52vVdNx.txt  \n",
            "  inflating: export/labels/raccoon-165_jpg.rf.8SCzRog4BwZ83PXUcED3.txt  \n",
            "  inflating: export/labels/raccoon-166_jpg.rf.eRTnxiWjkSE6gJRIzAu0.txt  \n",
            "  inflating: export/labels/raccoon-167_jpg.rf.qvCX0z6icMl2ih05K5v9.txt  \n",
            "  inflating: export/labels/raccoon-168_jpg.rf.VGysc5nmOQDryDkgYMIj.txt  \n",
            "  inflating: export/labels/raccoon-169_jpg.rf.062UREZtsQG7f5AmLIiA.txt  \n",
            "  inflating: export/labels/raccoon-16_jpg.rf.B7mRyX2zKgmj4GfdTHCu.txt  \n",
            "  inflating: export/labels/raccoon-170_jpg.rf.6BUQJQ2JcicLFyXoEM4H.txt  \n",
            "  inflating: export/labels/raccoon-171_jpg.rf.A6U9PhTpm209NbQEuHVd.txt  \n",
            "  inflating: export/labels/raccoon-172_jpg.rf.LJbm7o2O1r9n30c43RTe.txt  \n",
            "  inflating: export/labels/raccoon-173_jpg.rf.v62IA847b0Mh9HlqgH0t.txt  \n",
            "  inflating: export/labels/raccoon-174_jpg.rf.0TApbeZZ8Lq5kQ6yZSwF.txt  \n",
            "  inflating: export/labels/raccoon-175_jpg.rf.qmCGlOJpoou2TtPxfBEr.txt  \n",
            "  inflating: export/labels/raccoon-176_jpg.rf.B7dOSWLGt9AqGehid5Wc.txt  \n",
            "  inflating: export/labels/raccoon-177_jpg.rf.nCtmzWTE90cNGA2AqCKX.txt  \n",
            "  inflating: export/labels/raccoon-178_jpg.rf.c1wXWhgZXADDzCfgyAaJ.txt  \n",
            "  inflating: export/labels/raccoon-179_jpg.rf.SLj5LR0VtqFsgLAcY7jB.txt  \n",
            "  inflating: export/labels/raccoon-17_jpg.rf.LSzSuKkifGMSU8hDAB5h.txt  \n",
            "  inflating: export/labels/raccoon-180_jpg.rf.ce25zVjoS2kYjBMoa8yr.txt  \n",
            "  inflating: export/labels/raccoon-181_jpg.rf.xeJaWTEMqPNGPY1dcXXm.txt  \n",
            "  inflating: export/labels/raccoon-182_jpg.rf.0uW2FD3INY695W6ylKva.txt  \n",
            "  inflating: export/labels/raccoon-183_jpg.rf.OB5aIruBsbjNt8ExrR57.txt  \n",
            "  inflating: export/labels/raccoon-184_jpg.rf.Jlp4Mc8yigJJHMm2nJ0o.txt  \n",
            "  inflating: export/labels/raccoon-185_jpg.rf.BYk3nsCTaMrRw1vlb4Pp.txt  \n",
            "  inflating: export/labels/raccoon-186_jpg.rf.Qszb5mCxtPOpTk0ZK7HU.txt  \n",
            "  inflating: export/labels/raccoon-187_jpg.rf.nzeEH0LYtGfw3iO4Ee5T.txt  \n",
            "  inflating: export/labels/raccoon-188_jpg.rf.JcGxRHcszaDQhuOMBaa1.txt  \n",
            "  inflating: export/labels/raccoon-189_jpg.rf.9ARgm1yqSl1ae84rLngN.txt  \n",
            "  inflating: export/labels/raccoon-18_jpg.rf.V2oz98hhPoNa0IUhd1mo.txt  \n",
            "  inflating: export/labels/raccoon-190_jpg.rf.wa3dpHcSJzHEx7D6nePq.txt  \n",
            "  inflating: export/labels/raccoon-191_jpg.rf.ymlwf9yvRpSxSpZ9hzUa.txt  \n",
            "  inflating: export/labels/raccoon-192_jpg.rf.XZrpaOdOLsftCK06774t.txt  \n",
            "  inflating: export/labels/raccoon-193_jpg.rf.YlCQo2ZpBqLMpQDL2Kse.txt  \n",
            "  inflating: export/labels/raccoon-194_jpg.rf.ZIvthRxYrcmdkj7oQOPX.txt  \n",
            "  inflating: export/labels/raccoon-195_jpg.rf.740NhNOOgSi0w9QomssP.txt  \n",
            "  inflating: export/labels/raccoon-196_jpg.rf.5NAUtrxfeBUqpWlCar64.txt  \n",
            "  inflating: export/labels/raccoon-197_jpg.rf.ieNMvNPmchNdAEzWg5Fc.txt  \n",
            "  inflating: export/labels/raccoon-198_jpg.rf.a8FPzrog2et3M0xInLCx.txt  \n",
            "  inflating: export/labels/raccoon-199_jpg.rf.qPwz4cyyVZcPAop72vBf.txt  \n",
            "  inflating: export/labels/raccoon-19_jpg.rf.lmoNF5jvYAjMaxN6XdXt.txt  \n",
            "  inflating: export/labels/raccoon-1_jpg.rf.sIcWuSUPDjwlVKDOlw6R.txt  \n",
            "  inflating: export/labels/raccoon-200_jpg.rf.W3rpJysOHvdOAuEnTNEY.txt  \n",
            "  inflating: export/labels/raccoon-20_jpg.rf.4WAs8L29reqeirSqGg9t.txt  \n",
            "  inflating: export/labels/raccoon-21_jpg.rf.7XOQqxp8MQwRrVn8xE76.txt  \n",
            "  inflating: export/labels/raccoon-22_jpg.rf.OG3Ml7Dolj9c0o4PbJK6.txt  \n",
            "  inflating: export/labels/raccoon-23_jpg.rf.gw3KdUyjaP5cQ6zcS40N.txt  \n",
            "  inflating: export/labels/raccoon-24_jpg.rf.LT1VC0amKwztEwO6bFvk.txt  \n",
            "  inflating: export/labels/raccoon-25_jpg.rf.mV9OK1wVxDSQRZSVIDkT.txt  \n",
            "  inflating: export/labels/raccoon-26_jpg.rf.N7Na7mM0dqMA0F31Iz45.txt  \n",
            "  inflating: export/labels/raccoon-27_jpg.rf.OMPIn4rBFwNMk7bzedUN.txt  \n",
            "  inflating: export/labels/raccoon-28_jpg.rf.BpDylskQoKmQJepcWOr8.txt  \n",
            "  inflating: export/labels/raccoon-29_jpg.rf.5UbtcvzGv7KtCxLnBv7z.txt  \n",
            "  inflating: export/labels/raccoon-2_jpg.rf.NBPogI6xGeUn9aXAeJC3.txt  \n",
            "  inflating: export/labels/raccoon-30_jpg.rf.NPkzKohNa5D2tABfOYQy.txt  \n",
            "  inflating: export/labels/raccoon-31_jpg.rf.fMbi4VStxp6mv8tMSqYD.txt  \n",
            "  inflating: export/labels/raccoon-32_jpg.rf.A3giRbzBDwzWsCUjxcGU.txt  \n",
            "  inflating: export/labels/raccoon-33_jpg.rf.eoVqap7XuMyDd9FbC7eI.txt  \n",
            "  inflating: export/labels/raccoon-34_jpg.rf.KgTOGXyzaqjDSUx18u3t.txt  \n",
            "  inflating: export/labels/raccoon-35_jpg.rf.gBI37gb6eeIrAdWGNEDK.txt  \n",
            "  inflating: export/labels/raccoon-36_jpg.rf.ADOT5Xcrqf2CBQd1liRf.txt  \n",
            "  inflating: export/labels/raccoon-37_jpg.rf.aKMbQgz3gKmlAhdWypTl.txt  \n",
            "  inflating: export/labels/raccoon-38_jpg.rf.u4NfrBZwWiAr37WnyafY.txt  \n",
            "  inflating: export/labels/raccoon-39_jpg.rf.yGhEQLX6DpqWHdSETZB6.txt  \n",
            "  inflating: export/labels/raccoon-3_jpg.rf.FehnT1wDKERrv4oXztdm.txt  \n",
            "  inflating: export/labels/raccoon-40_jpg.rf.pPYmgP0Dt4W3jAq6cJP7.txt  \n",
            "  inflating: export/labels/raccoon-41_jpg.rf.W9dUzr9uz0SR0O6T6LkJ.txt  \n",
            "  inflating: export/labels/raccoon-42_jpg.rf.vsqqbnbsZq3Fs6QloNbK.txt  \n",
            "  inflating: export/labels/raccoon-43_jpg.rf.chWSNPCd8K64vFDiFtZ9.txt  \n",
            "  inflating: export/labels/raccoon-44_jpg.rf.AskpsRiftcZiHcpXbY0L.txt  \n",
            "  inflating: export/labels/raccoon-45_jpg.rf.I8Z08N1z5UWSUqPKHZPd.txt  \n",
            "  inflating: export/labels/raccoon-46_jpg.rf.HaOZjeMSiYmebkiHgVra.txt  \n",
            "  inflating: export/labels/raccoon-47_jpg.rf.phm5uh52g5EiE2hIqM5i.txt  \n",
            "  inflating: export/labels/raccoon-48_jpg.rf.SuALG3iAomm4ma3XgKsa.txt  \n",
            "  inflating: export/labels/raccoon-49_jpg.rf.ueFRmQOF2DaqGGEBhVhF.txt  \n",
            "  inflating: export/labels/raccoon-4_jpg.rf.Lluzl7wf3QOiSmiMiSIj.txt  \n",
            "  inflating: export/labels/raccoon-50_jpg.rf.whvFMBzgHg3ts3amHFfP.txt  \n",
            "  inflating: export/labels/raccoon-51_jpg.rf.j6jIBivmhDWR5DJcwoIQ.txt  \n",
            "  inflating: export/labels/raccoon-53_jpg.rf.h0gjlinfJgoHZJXir7UA.txt  \n",
            "  inflating: export/labels/raccoon-54_jpg.rf.MR204FVYc9XDRRDLoAzR.txt  \n",
            "  inflating: export/labels/raccoon-55_jpg.rf.iiuBuVwt1FmxfjJuI1TC.txt  \n",
            "  inflating: export/labels/raccoon-56_jpg.rf.IR7dpRC8jTsXirB76IrI.txt  \n",
            "  inflating: export/labels/raccoon-57_jpg.rf.8yZARYYn68JKxfOa2n4f.txt  \n",
            "  inflating: export/labels/raccoon-58_jpg.rf.xkDTDgIa6iTVbYXlECQe.txt  \n",
            "  inflating: export/labels/raccoon-59_jpg.rf.6aDJXsBMD9aNCdHNZ5Mu.txt  \n",
            "  inflating: export/labels/raccoon-5_jpg.rf.P2kMV71sw3gG2PUfu9Km.txt  \n",
            "  inflating: export/labels/raccoon-60_jpg.rf.uFavFoIvkBhCg7I6ZUSC.txt  \n",
            "  inflating: export/labels/raccoon-61_jpg.rf.3EbaZ6gnGnQXGoChS06v.txt  \n",
            "  inflating: export/labels/raccoon-62_jpg.rf.q5lRDAZbZyb9ibt1NkHA.txt  \n",
            "  inflating: export/labels/raccoon-63_jpg.rf.dT1hjklwbAWPVbSj4uKq.txt  \n",
            "  inflating: export/labels/raccoon-64_jpg.rf.Mg6mwuhmKMgoUxIlT6jV.txt  \n",
            "  inflating: export/labels/raccoon-66_jpg.rf.pDZVWkbZQDCqiA38nh2x.txt  \n",
            "  inflating: export/labels/raccoon-67_jpg.rf.kJTJ4Op1CRhIiZciiV3l.txt  \n",
            "  inflating: export/labels/raccoon-68_jpg.rf.dV9RLCF9qBirlNmM4QDH.txt  \n",
            "  inflating: export/labels/raccoon-69_jpg.rf.GeXNSZJE74xhqy7y93c3.txt  \n",
            "  inflating: export/labels/raccoon-6_jpg.rf.w8P1isJRqHWHZaiTZK99.txt  \n",
            "  inflating: export/labels/raccoon-70_jpg.rf.Xel5jDFSyCo1scmKTGhY.txt  \n",
            "  inflating: export/labels/raccoon-71_jpg.rf.yJWB7DaXkDdrZLhsTo45.txt  \n",
            "  inflating: export/labels/raccoon-72_jpg.rf.jefuPY3lQ0BGw1D2Xub8.txt  \n",
            "  inflating: export/labels/raccoon-73_jpg.rf.IgPHaS3AuJUHRXQmIhDJ.txt  \n",
            "  inflating: export/labels/raccoon-74_jpg.rf.rTU8ZxbtKRF4JHrqvEOq.txt  \n",
            "  inflating: export/labels/raccoon-75_jpg.rf.YlMs1n4dZe1fSWKIAsDd.txt  \n",
            "  inflating: export/labels/raccoon-76_jpg.rf.FzjkIXRw6gk8NBFEGHI2.txt  \n",
            "  inflating: export/labels/raccoon-77_jpg.rf.q9hGI9jrDJ1PpxX1x0rd.txt  \n",
            "  inflating: export/labels/raccoon-78_jpg.rf.BbHiKwTi7tIssLj0rum6.txt  \n",
            "  inflating: export/labels/raccoon-79_jpg.rf.ktsyolcZVgX1MNcWl2E6.txt  \n",
            "  inflating: export/labels/raccoon-7_jpg.rf.lHsAWCnnb1Kzt8rmowxp.txt  \n",
            "  inflating: export/labels/raccoon-80_jpg.rf.Ec9UJrEgbAOo9daEs5eV.txt  \n",
            "  inflating: export/labels/raccoon-81_jpg.rf.Mq6NXnnLzv34CdUVe76T.txt  \n",
            "  inflating: export/labels/raccoon-82_jpg.rf.o9L7wWqW3gUCb5APXKmJ.txt  \n",
            "  inflating: export/labels/raccoon-83_jpg.rf.atgkVnBAHbQbfO8tha39.txt  \n",
            "  inflating: export/labels/raccoon-84_jpg.rf.EVGCgijizwHBcDHiLCSw.txt  \n",
            "  inflating: export/labels/raccoon-85_jpg.rf.u3OeM7EG2WspSHohlsK2.txt  \n",
            "  inflating: export/labels/raccoon-86_jpg.rf.qxniBkdMh5L4p6IDfKmJ.txt  \n",
            "  inflating: export/labels/raccoon-87_jpg.rf.Mii8qqnFvQSvnNjeka0P.txt  \n",
            "  inflating: export/labels/raccoon-88_jpg.rf.4MfWIW6Hrvz1KH1oZ5GZ.txt  \n",
            "  inflating: export/labels/raccoon-89_jpg.rf.0LCgtBGqdeteFcGC0806.txt  \n",
            "  inflating: export/labels/raccoon-8_jpg.rf.exZsAoVTaPCdKkaYKDNy.txt  \n",
            "  inflating: export/labels/raccoon-90_jpg.rf.jUuX6n7D184OJy9gGkVL.txt  \n",
            "  inflating: export/labels/raccoon-91_jpg.rf.zdghE2k81QF9RDOjL2Aw.txt  \n",
            "  inflating: export/labels/raccoon-92_jpg.rf.spnLudxRSgVmSMlNM46D.txt  \n",
            "  inflating: export/labels/raccoon-93_jpg.rf.aLVYqVxq4jhYDW3rLvSl.txt  \n",
            "  inflating: export/labels/raccoon-94_jpg.rf.5CNnewuURDkzQIGjJW4K.txt  \n",
            "  inflating: export/labels/raccoon-95_jpg.rf.s5mrXnEKqpNE8vSsFhDA.txt  \n",
            "  inflating: export/labels/raccoon-96_jpg.rf.HWHEmDz9DkkpkqaaVyPz.txt  \n",
            "  inflating: export/labels/raccoon-97_jpg.rf.jiRlV3vZq8y5ywPxxMiU.txt  \n",
            "  inflating: export/labels/raccoon-98_jpg.rf.rAeGjNwLevttDW7jAQal.txt  \n",
            "  inflating: export/labels/raccoon-99_jpg.rf.r00W7YOUlLNBH5WP07gR.txt  \n",
            "  inflating: export/labels/raccoon-9_jpg.rf.lICx86OESVjDaYlcKPYr.txt  \n",
            "   creating: test/\n",
            "   creating: test/images/\n",
            " extracting: test/images/raccoon-57_jpg.rf.26f3fae218f26088f6a7405c58ae8020.jpg  \n",
            " extracting: test/images/raccoon-58_jpg.rf.ff9de9977475e0086e7ab582122c5167.jpg  \n",
            " extracting: test/images/raccoon-59_jpg.rf.388d6dd8c9d5a6fc7ca75790e680c269.jpg  \n",
            " extracting: test/images/raccoon-60_jpg.rf.cff8b797e6b5c9b716b6be70be2b6b33.jpg  \n",
            " extracting: test/images/raccoon-61_jpg.rf.58c4f561336525f59d395ce21508523b.jpg  \n",
            " extracting: test/images/raccoon-62_jpg.rf.e997ede5457f069436178f08065d9a61.jpg  \n",
            " extracting: test/images/raccoon-63_jpg.rf.1b33356e79739a8a1f3676a9f4f9f97a.jpg  \n",
            " extracting: test/images/raccoon-64_jpg.rf.5201bb870708d051100bbbb8c148ecd2.jpg  \n",
            " extracting: test/images/raccoon-66_jpg.rf.447ffe6a6b6cd768de213288bb000418.jpg  \n",
            " extracting: test/images/raccoon-67_jpg.rf.626d83ff044dd4e2b37cbf4b4178eb89.jpg  \n",
            " extracting: test/images/raccoon-68_jpg.rf.f307e4242845e8e03c27271f5b381eb0.jpg  \n",
            " extracting: test/images/raccoon-69_jpg.rf.87d4a574d6f7ab57f5fc39620df291f9.jpg  \n",
            " extracting: test/images/raccoon-6_jpg.rf.e1ef482779f9ef651ec62ed3a9c1e2d7.jpg  \n",
            " extracting: test/images/raccoon-70_jpg.rf.a6800b2698e4aed694cc0c0c8c866909.jpg  \n",
            " extracting: test/images/raccoon-71_jpg.rf.a66c60622f34ad56ff13e712485800ce.jpg  \n",
            " extracting: test/images/raccoon-72_jpg.rf.8179b0a10f21dc1424a7ad48d8ef22f3.jpg  \n",
            " extracting: test/images/raccoon-7_jpg.rf.23286e3ec911b9f6f22c5153d60ec808.jpg  \n",
            "   creating: test/labels/\n",
            "  inflating: test/labels/raccoon-57_jpg.rf.26f3fae218f26088f6a7405c58ae8020.txt  \n",
            "  inflating: test/labels/raccoon-58_jpg.rf.ff9de9977475e0086e7ab582122c5167.txt  \n",
            "  inflating: test/labels/raccoon-59_jpg.rf.388d6dd8c9d5a6fc7ca75790e680c269.txt  \n",
            "  inflating: test/labels/raccoon-60_jpg.rf.cff8b797e6b5c9b716b6be70be2b6b33.txt  \n",
            "  inflating: test/labels/raccoon-61_jpg.rf.58c4f561336525f59d395ce21508523b.txt  \n",
            "  inflating: test/labels/raccoon-62_jpg.rf.e997ede5457f069436178f08065d9a61.txt  \n",
            "  inflating: test/labels/raccoon-63_jpg.rf.1b33356e79739a8a1f3676a9f4f9f97a.txt  \n",
            "  inflating: test/labels/raccoon-64_jpg.rf.5201bb870708d051100bbbb8c148ecd2.txt  \n",
            "  inflating: test/labels/raccoon-66_jpg.rf.447ffe6a6b6cd768de213288bb000418.txt  \n",
            "  inflating: test/labels/raccoon-67_jpg.rf.626d83ff044dd4e2b37cbf4b4178eb89.txt  \n",
            "  inflating: test/labels/raccoon-68_jpg.rf.f307e4242845e8e03c27271f5b381eb0.txt  \n",
            "  inflating: test/labels/raccoon-69_jpg.rf.87d4a574d6f7ab57f5fc39620df291f9.txt  \n",
            "  inflating: test/labels/raccoon-6_jpg.rf.e1ef482779f9ef651ec62ed3a9c1e2d7.txt  \n",
            "  inflating: test/labels/raccoon-70_jpg.rf.a6800b2698e4aed694cc0c0c8c866909.txt  \n",
            "  inflating: test/labels/raccoon-71_jpg.rf.a66c60622f34ad56ff13e712485800ce.txt  \n",
            "  inflating: test/labels/raccoon-72_jpg.rf.8179b0a10f21dc1424a7ad48d8ef22f3.txt  \n",
            "  inflating: test/labels/raccoon-7_jpg.rf.23286e3ec911b9f6f22c5153d60ec808.txt  \n",
            "   creating: train/\n",
            "   creating: train/images/\n",
            " extracting: train/images/raccoon-100_jpg.rf.e9338202a924dc489ffd94e0291a0f39.jpg  \n",
            " extracting: train/images/raccoon-101_jpg.rf.a9e8a95f51d60d7d3b40d3243aa11afd.jpg  \n",
            " extracting: train/images/raccoon-102_jpg.rf.d140a1fcbfc8d62c7ad37167714f79df.jpg  \n",
            " extracting: train/images/raccoon-103_jpg.rf.7148e5c7d785760fe9cb6b7762180977.jpg  \n",
            " extracting: train/images/raccoon-104_jpg.rf.e5f8de5f977a32d8a7f2223574ff2b72.jpg  \n",
            " extracting: train/images/raccoon-105_jpg.rf.73bb0ca933f4a5d8e47ee57c46617cd7.jpg  \n",
            " extracting: train/images/raccoon-106_jpg.rf.10f11a11172797e1e1a0ab2db39f7f0f.jpg  \n",
            " extracting: train/images/raccoon-107_jpg.rf.fcfeeca4a65ce335eaaf55935489ff4e.jpg  \n",
            " extracting: train/images/raccoon-108_jpg.rf.b1c0928dfe114cfbd882e12141203f21.jpg  \n",
            " extracting: train/images/raccoon-109_jpg.rf.e0306efe98748d0b3b7859fb9b463f26.jpg  \n",
            " extracting: train/images/raccoon-10_jpg.rf.14ba49f1a3c6391580499dff9cabe176.jpg  \n",
            " extracting: train/images/raccoon-110_jpg.rf.eebb2a613d561ef001c0f3b35710c779.jpg  \n",
            " extracting: train/images/raccoon-111_jpg.rf.27a8d7842380860ac1580682e18ee0f2.jpg  \n",
            " extracting: train/images/raccoon-112_jpg.rf.096e4a5594f3bc496cd5d3d7379e97e0.jpg  \n",
            " extracting: train/images/raccoon-113_jpg.rf.44c31e8397cc40b9c2355a406f70f597.jpg  \n",
            " extracting: train/images/raccoon-114_jpg.rf.61a417d19d8044073beb206aa2db9f44.jpg  \n",
            " extracting: train/images/raccoon-115_jpg.rf.053146d585dcd8e8ba423a8c81dd5b0a.jpg  \n",
            " extracting: train/images/raccoon-117_jpg.rf.b05cd921b42a5dda682dcc870518e462.jpg  \n",
            " extracting: train/images/raccoon-118_jpg.rf.c56a49568a139f5ff74c14ae8e460970.jpg  \n",
            " extracting: train/images/raccoon-119_jpg.rf.72a18cd6c7a2b03e30d1088780ddad94.jpg  \n",
            " extracting: train/images/raccoon-11_jpg.rf.2610060ad22fcea7c4ae086f903c5eec.jpg  \n",
            " extracting: train/images/raccoon-121_jpg.rf.f6ebf9b6da4eaafdb71331856fed141e.jpg  \n",
            " extracting: train/images/raccoon-122_jpg.rf.15cffc72b474e63027182cd847834316.jpg  \n",
            " extracting: train/images/raccoon-123_jpg.rf.86bc73224f4a7b91376dd68b12892e3c.jpg  \n",
            " extracting: train/images/raccoon-124_jpg.rf.ddf799871eb7bc5ceca93b4de5665b19.jpg  \n",
            " extracting: train/images/raccoon-125_jpg.rf.095796456c02641f5442fe988b190a32.jpg  \n",
            " extracting: train/images/raccoon-126_jpg.rf.fee7da8bc1d801b76f703372955388a5.jpg  \n",
            " extracting: train/images/raccoon-127_jpg.rf.76bba62c5d0feb6fd7cfa725fc6dfd02.jpg  \n",
            " extracting: train/images/raccoon-128_jpg.rf.d69ad1a11a7823bd0e3818419b1071d8.jpg  \n",
            " extracting: train/images/raccoon-129_jpg.rf.93bae4d33ef5e605e19f822e8847875f.jpg  \n",
            " extracting: train/images/raccoon-12_jpg.rf.f244855efb01c95a0cef0d32b66dcc54.jpg  \n",
            " extracting: train/images/raccoon-130_jpg.rf.25161fc808fcd8453a86271fe596919a.jpg  \n",
            " extracting: train/images/raccoon-131_jpg.rf.abdd5f18ff49a86f887e2de9fb682bfa.jpg  \n",
            " extracting: train/images/raccoon-132_jpg.rf.0b354b87c7cf8e0bbaf011e22bce215b.jpg  \n",
            " extracting: train/images/raccoon-133_jpg.rf.1904a8ef78ba547bae4bf1904d7dcecf.jpg  \n",
            " extracting: train/images/raccoon-134_jpg.rf.17aaee25817c82dcccc9982cf2346af1.jpg  \n",
            " extracting: train/images/raccoon-135_jpg.rf.53470fb941a98a4192e22cff42802563.jpg  \n",
            " extracting: train/images/raccoon-136_jpg.rf.47c7f0f51edf22d75682fe3c49dd074a.jpg  \n",
            " extracting: train/images/raccoon-137_jpg.rf.a67b07d859ac058643915ff7161e6c90.jpg  \n",
            " extracting: train/images/raccoon-138_jpg.rf.e8bafcdbf762d97f0236f84c2d08295d.jpg  \n",
            " extracting: train/images/raccoon-139_jpg.rf.069e8c7f0a7485402ef0ad5813b743b9.jpg  \n",
            " extracting: train/images/raccoon-13_jpg.rf.b553d6d2cc3f79ec70af325742125e41.jpg  \n",
            " extracting: train/images/raccoon-140_jpg.rf.021c5b27b8cf2e2734530a035d7a3646.jpg  \n",
            " extracting: train/images/raccoon-141_jpg.rf.07e56dba92bd912066d0cf7a54e20290.jpg  \n",
            " extracting: train/images/raccoon-142_jpg.rf.c3f459d88a59381fcfee3677549778c7.jpg  \n",
            " extracting: train/images/raccoon-143_jpg.rf.d75bca7db247c692bfacd20a587832da.jpg  \n",
            " extracting: train/images/raccoon-144_jpg.rf.20b9bea695b9d1ed719968c1f41a0d62.jpg  \n",
            " extracting: train/images/raccoon-145_jpg.rf.94d190d1aa954302de0f4a18cac2bc96.jpg  \n",
            " extracting: train/images/raccoon-146_jpg.rf.8a125f9145d9522094fe8a2e16067397.jpg  \n",
            " extracting: train/images/raccoon-147_jpg.rf.548e3735d38bfacd279dad5e8d9578a1.jpg  \n",
            " extracting: train/images/raccoon-148_jpg.rf.93538e05d17b33d08bde474a425b5b2d.jpg  \n",
            " extracting: train/images/raccoon-149_jpg.rf.70664e11725b4721cc466510f117e48e.jpg  \n",
            " extracting: train/images/raccoon-14_jpg.rf.ccd41578e4ad987071fdc014304b74f4.jpg  \n",
            " extracting: train/images/raccoon-150_jpg.rf.330597265393c690c4fbff7edf595381.jpg  \n",
            " extracting: train/images/raccoon-151_jpg.rf.63bf95faedb0eb9e67960f1c0c43f60a.jpg  \n",
            " extracting: train/images/raccoon-152_jpg.rf.dcee9be6791185d580a7c06474e1e206.jpg  \n",
            " extracting: train/images/raccoon-153_jpg.rf.2a07e150eaf34de78982919f926f6cc4.jpg  \n",
            " extracting: train/images/raccoon-154_jpg.rf.09b18118aa2799acb05daa90de6a7e60.jpg  \n",
            " extracting: train/images/raccoon-155_jpg.rf.601b4d9d26e96479d26202797f1f1fa9.jpg  \n",
            " extracting: train/images/raccoon-156_jpg.rf.bf2e87941fc09d382617f414d3c3f6cc.jpg  \n",
            " extracting: train/images/raccoon-157_jpg.rf.42e9b274a066a55cee4aadbf3e610f97.jpg  \n",
            " extracting: train/images/raccoon-158_jpg.rf.f55a14ab6a3f4b94626a909bd6c829d4.jpg  \n",
            " extracting: train/images/raccoon-159_jpg.rf.f00562bbdf4852182fce5c33b9831501.jpg  \n",
            " extracting: train/images/raccoon-15_jpg.rf.32c1c6da4b613bddace4a4ebb4a2be44.jpg  \n",
            " extracting: train/images/raccoon-160_jpg.rf.07d8ec8df1a81403c9bab454dbdb494d.jpg  \n",
            " extracting: train/images/raccoon-161_jpg.rf.e8ff1acd5614eb0c53fe51d4c38db3cd.jpg  \n",
            " extracting: train/images/raccoon-162_jpg.rf.d2840607abbe025e9e81d523133f137d.jpg  \n",
            " extracting: train/images/raccoon-163_jpg.rf.f2a2ca26f88d90a5d82142c377f40154.jpg  \n",
            " extracting: train/images/raccoon-164_jpg.rf.b668f55ca2ffd629f8fd4298981104f1.jpg  \n",
            " extracting: train/images/raccoon-165_jpg.rf.cc8c1c4c613c5cb96148f31f64b0a738.jpg  \n",
            " extracting: train/images/raccoon-166_jpg.rf.c9c73f9a211869c92d3412c60cceac81.jpg  \n",
            " extracting: train/images/raccoon-167_jpg.rf.f10d27f483841a478c526980439c79d8.jpg  \n",
            " extracting: train/images/raccoon-168_jpg.rf.6409e77ba490144d3c4ccb0fb53f2c9d.jpg  \n",
            " extracting: train/images/raccoon-169_jpg.rf.fcaebc6d02b2e9af8e353c1b5bae8244.jpg  \n",
            " extracting: train/images/raccoon-16_jpg.rf.2910e438d93b6c4ee7a49aaaf63a1f4c.jpg  \n",
            " extracting: train/images/raccoon-170_jpg.rf.87c5e9d7e0bd78397063846b0ad329c7.jpg  \n",
            " extracting: train/images/raccoon-171_jpg.rf.e00ec73c6a64a07c1bc0035fa0fbca18.jpg  \n",
            " extracting: train/images/raccoon-172_jpg.rf.fe8d3321da448a533f6e3dde44ddda8c.jpg  \n",
            " extracting: train/images/raccoon-173_jpg.rf.b1235c6a96f98374990c70d9434000c2.jpg  \n",
            " extracting: train/images/raccoon-174_jpg.rf.05815e0d7dc378ed8188d368ccc857ce.jpg  \n",
            " extracting: train/images/raccoon-175_jpg.rf.5c172ad47029edf77be38f333f49c6cd.jpg  \n",
            " extracting: train/images/raccoon-176_jpg.rf.710df90ee6b4d97ad62923a0a38517f5.jpg  \n",
            " extracting: train/images/raccoon-177_jpg.rf.1ffe2bcc19c2311f8c8d4ace8932a88d.jpg  \n",
            " extracting: train/images/raccoon-178_jpg.rf.8c07568eb5114c00e77b073cccc719c6.jpg  \n",
            " extracting: train/images/raccoon-179_jpg.rf.0994f94900ca15a0c638076e40122ff4.jpg  \n",
            " extracting: train/images/raccoon-17_jpg.rf.9a6f703c15e45c2d8e7beb2672336e90.jpg  \n",
            " extracting: train/images/raccoon-180_jpg.rf.2a518477d077cb8a36c1af37d3b9a215.jpg  \n",
            " extracting: train/images/raccoon-181_jpg.rf.ae3fcbba8b7e2408d045a865027c34fc.jpg  \n",
            " extracting: train/images/raccoon-182_jpg.rf.0ee4a4d4fa828093cffc43bc3ea07a8e.jpg  \n",
            " extracting: train/images/raccoon-183_jpg.rf.ec95835ea04533da42d4d959d6707f20.jpg  \n",
            " extracting: train/images/raccoon-184_jpg.rf.43059125d060a4ed8ffcf96e9fd11182.jpg  \n",
            " extracting: train/images/raccoon-185_jpg.rf.53089cc4bbef76a8aea5a70b56e56a65.jpg  \n",
            " extracting: train/images/raccoon-186_jpg.rf.45717b7fa9e2864677cc082bd988f35f.jpg  \n",
            " extracting: train/images/raccoon-187_jpg.rf.d8fc7a310b84d7776c66507634446811.jpg  \n",
            " extracting: train/images/raccoon-188_jpg.rf.f994d290893cde25fcb152b2f3cdecf0.jpg  \n",
            " extracting: train/images/raccoon-189_jpg.rf.3dde48ace4f382d50088d9cf494f8d21.jpg  \n",
            " extracting: train/images/raccoon-18_jpg.rf.a89b15cc2d03110d1c2503a6ff5dedb4.jpg  \n",
            " extracting: train/images/raccoon-190_jpg.rf.18c3f6bf1a7b1cd3288edc357d75af5b.jpg  \n",
            " extracting: train/images/raccoon-191_jpg.rf.1eff00dfe69cf22ac7d5b71d9ad82093.jpg  \n",
            " extracting: train/images/raccoon-192_jpg.rf.54d1fc9c2cc03814000b6071ba37e9ab.jpg  \n",
            " extracting: train/images/raccoon-193_jpg.rf.0f4308408dd14204f9abf6a365fb6f8e.jpg  \n",
            " extracting: train/images/raccoon-194_jpg.rf.73825ff9c38622c80dc729027cc27d34.jpg  \n",
            " extracting: train/images/raccoon-195_jpg.rf.438757fc784e4d9f04d8c257fa103283.jpg  \n",
            " extracting: train/images/raccoon-196_jpg.rf.a6da7cedce59b51c62f6ab91cf3c953b.jpg  \n",
            " extracting: train/images/raccoon-197_jpg.rf.feeda892bbf59049f5db5eecfb476ffd.jpg  \n",
            " extracting: train/images/raccoon-198_jpg.rf.6911aef3b0e22d84a8b6c19e1b504136.jpg  \n",
            " extracting: train/images/raccoon-199_jpg.rf.827e00d23cc83c841e24e17399268364.jpg  \n",
            " extracting: train/images/raccoon-19_jpg.rf.4b877f79c13c17fa218923084773ec00.jpg  \n",
            " extracting: train/images/raccoon-1_jpg.rf.4735f8b019bd0bfa86593b474aa7a5fa.jpg  \n",
            " extracting: train/images/raccoon-200_jpg.rf.4d4cf20c6490045c87cadf8bd468bd8f.jpg  \n",
            " extracting: train/images/raccoon-20_jpg.rf.fb19aa368c074a61eed8829617ed6b7c.jpg  \n",
            " extracting: train/images/raccoon-21_jpg.rf.1a912c8d6424050610135e493cfb5181.jpg  \n",
            " extracting: train/images/raccoon-22_jpg.rf.61a989ae36b537bf441a2c519bfc2791.jpg  \n",
            " extracting: train/images/raccoon-23_jpg.rf.69d0e4ab322789ad3e2bfdcd933233ad.jpg  \n",
            " extracting: train/images/raccoon-24_jpg.rf.0778be28363352e342bd9494e7976a7e.jpg  \n",
            " extracting: train/images/raccoon-25_jpg.rf.dada3d74aa39089ede4d16414c45fffa.jpg  \n",
            " extracting: train/images/raccoon-26_jpg.rf.ab207a81a546038c33a728a96bf86d14.jpg  \n",
            " extracting: train/images/raccoon-27_jpg.rf.316935b020d5fd007d7268a72769ae9d.jpg  \n",
            " extracting: train/images/raccoon-28_jpg.rf.7b2be1128d5b1d3d43776e878d595a10.jpg  \n",
            " extracting: train/images/raccoon-29_jpg.rf.3789fab26d5503e529af0b5bb132ab91.jpg  \n",
            " extracting: train/images/raccoon-2_jpg.rf.1d070475673b53b1880a4b5551dae643.jpg  \n",
            " extracting: train/images/raccoon-30_jpg.rf.3d7fec82876cd7ff6f7396c93a59a396.jpg  \n",
            " extracting: train/images/raccoon-31_jpg.rf.2e8fd57b2645856e968e01b729ab0c53.jpg  \n",
            " extracting: train/images/raccoon-32_jpg.rf.b41a8efc0d66b3b2810bc90e15385817.jpg  \n",
            " extracting: train/images/raccoon-33_jpg.rf.85235043b0e7fe2f572c7e8939c99024.jpg  \n",
            " extracting: train/images/raccoon-34_jpg.rf.918c55f154c1b2ef39a41e6085be2434.jpg  \n",
            " extracting: train/images/raccoon-35_jpg.rf.412f8d6d90c7ea71ea9f6d5f5c7c39c7.jpg  \n",
            " extracting: train/images/raccoon-36_jpg.rf.95f61a0a202157751bc93616034b171d.jpg  \n",
            " extracting: train/images/raccoon-37_jpg.rf.7d902e8083bbdfc7d78c99ec0690019f.jpg  \n",
            " extracting: train/images/raccoon-38_jpg.rf.d72bfc74df002a90d04736fa40265fd9.jpg  \n",
            " extracting: train/images/raccoon-39_jpg.rf.e3e19cc56f672e57edb42749564d2a3d.jpg  \n",
            " extracting: train/images/raccoon-3_jpg.rf.f876204db5f3b5622bc9e53f65b3452e.jpg  \n",
            " extracting: train/images/raccoon-40_jpg.rf.535961124b91d43679aea1bf572ed169.jpg  \n",
            " extracting: train/images/raccoon-41_jpg.rf.3e59f7f51aa762bcb23caefb60a8974f.jpg  \n",
            " extracting: train/images/raccoon-42_jpg.rf.ba5583e11220792d39341e7eed4f9385.jpg  \n",
            " extracting: train/images/raccoon-43_jpg.rf.bc4e3f1c9c25487418260300964e2180.jpg  \n",
            " extracting: train/images/raccoon-44_jpg.rf.76519fa3d01a9d19c4e022e98292c60e.jpg  \n",
            " extracting: train/images/raccoon-45_jpg.rf.fa6b0fabef2ed4f9e9dd6b164792d373.jpg  \n",
            " extracting: train/images/raccoon-46_jpg.rf.30eb23c3a2cb5e17bbae0aa6cac707e3.jpg  \n",
            " extracting: train/images/raccoon-47_jpg.rf.768641c75d43f2db6ff435e7e2a4bd3d.jpg  \n",
            " extracting: train/images/raccoon-48_jpg.rf.99c91ae214e78cb740bfd2bca7b82cfe.jpg  \n",
            " extracting: train/images/raccoon-49_jpg.rf.0c7ec1e43e783a62a23ab81b96aa7366.jpg  \n",
            " extracting: train/images/raccoon-4_jpg.rf.87f15f7e193eba4c63363a9e8f698cc7.jpg  \n",
            " extracting: train/images/raccoon-50_jpg.rf.43389448512823c509aa0a11e769e7e8.jpg  \n",
            " extracting: train/images/raccoon-51_jpg.rf.20fce1e2bf1e589e1d6bc69221a2160b.jpg  \n",
            " extracting: train/images/raccoon-53_jpg.rf.3372db4c1f0fa75805262eaad064a3f7.jpg  \n",
            " extracting: train/images/raccoon-54_jpg.rf.7499d29f80c5747ee957116f25592ae0.jpg  \n",
            " extracting: train/images/raccoon-55_jpg.rf.5b221bf351955c14e80459a380fa2da0.jpg  \n",
            " extracting: train/images/raccoon-56_jpg.rf.48fecf103e4a4c814569b50facecf288.jpg  \n",
            " extracting: train/images/raccoon-5_jpg.rf.aada59e008ebcd0aa1300d27a9539feb.jpg  \n",
            "   creating: train/labels/\n",
            "  inflating: train/labels/raccoon-100_jpg.rf.e9338202a924dc489ffd94e0291a0f39.txt  \n",
            "  inflating: train/labels/raccoon-101_jpg.rf.a9e8a95f51d60d7d3b40d3243aa11afd.txt  \n",
            "  inflating: train/labels/raccoon-102_jpg.rf.d140a1fcbfc8d62c7ad37167714f79df.txt  \n",
            "  inflating: train/labels/raccoon-103_jpg.rf.7148e5c7d785760fe9cb6b7762180977.txt  \n",
            "  inflating: train/labels/raccoon-104_jpg.rf.e5f8de5f977a32d8a7f2223574ff2b72.txt  \n",
            "  inflating: train/labels/raccoon-105_jpg.rf.73bb0ca933f4a5d8e47ee57c46617cd7.txt  \n",
            "  inflating: train/labels/raccoon-106_jpg.rf.10f11a11172797e1e1a0ab2db39f7f0f.txt  \n",
            "  inflating: train/labels/raccoon-107_jpg.rf.fcfeeca4a65ce335eaaf55935489ff4e.txt  \n",
            "  inflating: train/labels/raccoon-108_jpg.rf.b1c0928dfe114cfbd882e12141203f21.txt  \n",
            "  inflating: train/labels/raccoon-109_jpg.rf.e0306efe98748d0b3b7859fb9b463f26.txt  \n",
            "  inflating: train/labels/raccoon-10_jpg.rf.14ba49f1a3c6391580499dff9cabe176.txt  \n",
            "  inflating: train/labels/raccoon-110_jpg.rf.eebb2a613d561ef001c0f3b35710c779.txt  \n",
            "  inflating: train/labels/raccoon-111_jpg.rf.27a8d7842380860ac1580682e18ee0f2.txt  \n",
            "  inflating: train/labels/raccoon-112_jpg.rf.096e4a5594f3bc496cd5d3d7379e97e0.txt  \n",
            "  inflating: train/labels/raccoon-113_jpg.rf.44c31e8397cc40b9c2355a406f70f597.txt  \n",
            "  inflating: train/labels/raccoon-114_jpg.rf.61a417d19d8044073beb206aa2db9f44.txt  \n",
            "  inflating: train/labels/raccoon-115_jpg.rf.053146d585dcd8e8ba423a8c81dd5b0a.txt  \n",
            "  inflating: train/labels/raccoon-117_jpg.rf.b05cd921b42a5dda682dcc870518e462.txt  \n",
            "  inflating: train/labels/raccoon-118_jpg.rf.c56a49568a139f5ff74c14ae8e460970.txt  \n",
            "  inflating: train/labels/raccoon-119_jpg.rf.72a18cd6c7a2b03e30d1088780ddad94.txt  \n",
            "  inflating: train/labels/raccoon-11_jpg.rf.2610060ad22fcea7c4ae086f903c5eec.txt  \n",
            "  inflating: train/labels/raccoon-121_jpg.rf.f6ebf9b6da4eaafdb71331856fed141e.txt  \n",
            "  inflating: train/labels/raccoon-122_jpg.rf.15cffc72b474e63027182cd847834316.txt  \n",
            "  inflating: train/labels/raccoon-123_jpg.rf.86bc73224f4a7b91376dd68b12892e3c.txt  \n",
            "  inflating: train/labels/raccoon-124_jpg.rf.ddf799871eb7bc5ceca93b4de5665b19.txt  \n",
            "  inflating: train/labels/raccoon-125_jpg.rf.095796456c02641f5442fe988b190a32.txt  \n",
            "  inflating: train/labels/raccoon-126_jpg.rf.fee7da8bc1d801b76f703372955388a5.txt  \n",
            "  inflating: train/labels/raccoon-127_jpg.rf.76bba62c5d0feb6fd7cfa725fc6dfd02.txt  \n",
            "  inflating: train/labels/raccoon-128_jpg.rf.d69ad1a11a7823bd0e3818419b1071d8.txt  \n",
            "  inflating: train/labels/raccoon-129_jpg.rf.93bae4d33ef5e605e19f822e8847875f.txt  \n",
            "  inflating: train/labels/raccoon-12_jpg.rf.f244855efb01c95a0cef0d32b66dcc54.txt  \n",
            "  inflating: train/labels/raccoon-130_jpg.rf.25161fc808fcd8453a86271fe596919a.txt  \n",
            "  inflating: train/labels/raccoon-131_jpg.rf.abdd5f18ff49a86f887e2de9fb682bfa.txt  \n",
            "  inflating: train/labels/raccoon-132_jpg.rf.0b354b87c7cf8e0bbaf011e22bce215b.txt  \n",
            "  inflating: train/labels/raccoon-133_jpg.rf.1904a8ef78ba547bae4bf1904d7dcecf.txt  \n",
            "  inflating: train/labels/raccoon-134_jpg.rf.17aaee25817c82dcccc9982cf2346af1.txt  \n",
            "  inflating: train/labels/raccoon-135_jpg.rf.53470fb941a98a4192e22cff42802563.txt  \n",
            "  inflating: train/labels/raccoon-136_jpg.rf.47c7f0f51edf22d75682fe3c49dd074a.txt  \n",
            "  inflating: train/labels/raccoon-137_jpg.rf.a67b07d859ac058643915ff7161e6c90.txt  \n",
            "  inflating: train/labels/raccoon-138_jpg.rf.e8bafcdbf762d97f0236f84c2d08295d.txt  \n",
            "  inflating: train/labels/raccoon-139_jpg.rf.069e8c7f0a7485402ef0ad5813b743b9.txt  \n",
            "  inflating: train/labels/raccoon-13_jpg.rf.b553d6d2cc3f79ec70af325742125e41.txt  \n",
            "  inflating: train/labels/raccoon-140_jpg.rf.021c5b27b8cf2e2734530a035d7a3646.txt  \n",
            "  inflating: train/labels/raccoon-141_jpg.rf.07e56dba92bd912066d0cf7a54e20290.txt  \n",
            "  inflating: train/labels/raccoon-142_jpg.rf.c3f459d88a59381fcfee3677549778c7.txt  \n",
            "  inflating: train/labels/raccoon-143_jpg.rf.d75bca7db247c692bfacd20a587832da.txt  \n",
            "  inflating: train/labels/raccoon-144_jpg.rf.20b9bea695b9d1ed719968c1f41a0d62.txt  \n",
            "  inflating: train/labels/raccoon-145_jpg.rf.94d190d1aa954302de0f4a18cac2bc96.txt  \n",
            "  inflating: train/labels/raccoon-146_jpg.rf.8a125f9145d9522094fe8a2e16067397.txt  \n",
            "  inflating: train/labels/raccoon-147_jpg.rf.548e3735d38bfacd279dad5e8d9578a1.txt  \n",
            "  inflating: train/labels/raccoon-148_jpg.rf.93538e05d17b33d08bde474a425b5b2d.txt  \n",
            "  inflating: train/labels/raccoon-149_jpg.rf.70664e11725b4721cc466510f117e48e.txt  \n",
            "  inflating: train/labels/raccoon-14_jpg.rf.ccd41578e4ad987071fdc014304b74f4.txt  \n",
            "  inflating: train/labels/raccoon-150_jpg.rf.330597265393c690c4fbff7edf595381.txt  \n",
            "  inflating: train/labels/raccoon-151_jpg.rf.63bf95faedb0eb9e67960f1c0c43f60a.txt  \n",
            "  inflating: train/labels/raccoon-152_jpg.rf.dcee9be6791185d580a7c06474e1e206.txt  \n",
            "  inflating: train/labels/raccoon-153_jpg.rf.2a07e150eaf34de78982919f926f6cc4.txt  \n",
            "  inflating: train/labels/raccoon-154_jpg.rf.09b18118aa2799acb05daa90de6a7e60.txt  \n",
            "  inflating: train/labels/raccoon-155_jpg.rf.601b4d9d26e96479d26202797f1f1fa9.txt  \n",
            "  inflating: train/labels/raccoon-156_jpg.rf.bf2e87941fc09d382617f414d3c3f6cc.txt  \n",
            "  inflating: train/labels/raccoon-157_jpg.rf.42e9b274a066a55cee4aadbf3e610f97.txt  \n",
            "  inflating: train/labels/raccoon-158_jpg.rf.f55a14ab6a3f4b94626a909bd6c829d4.txt  \n",
            "  inflating: train/labels/raccoon-159_jpg.rf.f00562bbdf4852182fce5c33b9831501.txt  \n",
            "  inflating: train/labels/raccoon-15_jpg.rf.32c1c6da4b613bddace4a4ebb4a2be44.txt  \n",
            "  inflating: train/labels/raccoon-160_jpg.rf.07d8ec8df1a81403c9bab454dbdb494d.txt  \n",
            "  inflating: train/labels/raccoon-161_jpg.rf.e8ff1acd5614eb0c53fe51d4c38db3cd.txt  \n",
            "  inflating: train/labels/raccoon-162_jpg.rf.d2840607abbe025e9e81d523133f137d.txt  \n",
            "  inflating: train/labels/raccoon-163_jpg.rf.f2a2ca26f88d90a5d82142c377f40154.txt  \n",
            "  inflating: train/labels/raccoon-164_jpg.rf.b668f55ca2ffd629f8fd4298981104f1.txt  \n",
            "  inflating: train/labels/raccoon-165_jpg.rf.cc8c1c4c613c5cb96148f31f64b0a738.txt  \n",
            "  inflating: train/labels/raccoon-166_jpg.rf.c9c73f9a211869c92d3412c60cceac81.txt  \n",
            "  inflating: train/labels/raccoon-167_jpg.rf.f10d27f483841a478c526980439c79d8.txt  \n",
            "  inflating: train/labels/raccoon-168_jpg.rf.6409e77ba490144d3c4ccb0fb53f2c9d.txt  \n",
            "  inflating: train/labels/raccoon-169_jpg.rf.fcaebc6d02b2e9af8e353c1b5bae8244.txt  \n",
            "  inflating: train/labels/raccoon-16_jpg.rf.2910e438d93b6c4ee7a49aaaf63a1f4c.txt  \n",
            "  inflating: train/labels/raccoon-170_jpg.rf.87c5e9d7e0bd78397063846b0ad329c7.txt  \n",
            "  inflating: train/labels/raccoon-171_jpg.rf.e00ec73c6a64a07c1bc0035fa0fbca18.txt  \n",
            "  inflating: train/labels/raccoon-172_jpg.rf.fe8d3321da448a533f6e3dde44ddda8c.txt  \n",
            "  inflating: train/labels/raccoon-173_jpg.rf.b1235c6a96f98374990c70d9434000c2.txt  \n",
            "  inflating: train/labels/raccoon-174_jpg.rf.05815e0d7dc378ed8188d368ccc857ce.txt  \n",
            "  inflating: train/labels/raccoon-175_jpg.rf.5c172ad47029edf77be38f333f49c6cd.txt  \n",
            "  inflating: train/labels/raccoon-176_jpg.rf.710df90ee6b4d97ad62923a0a38517f5.txt  \n",
            "  inflating: train/labels/raccoon-177_jpg.rf.1ffe2bcc19c2311f8c8d4ace8932a88d.txt  \n",
            "  inflating: train/labels/raccoon-178_jpg.rf.8c07568eb5114c00e77b073cccc719c6.txt  \n",
            "  inflating: train/labels/raccoon-179_jpg.rf.0994f94900ca15a0c638076e40122ff4.txt  \n",
            "  inflating: train/labels/raccoon-17_jpg.rf.9a6f703c15e45c2d8e7beb2672336e90.txt  \n",
            "  inflating: train/labels/raccoon-180_jpg.rf.2a518477d077cb8a36c1af37d3b9a215.txt  \n",
            "  inflating: train/labels/raccoon-181_jpg.rf.ae3fcbba8b7e2408d045a865027c34fc.txt  \n",
            "  inflating: train/labels/raccoon-182_jpg.rf.0ee4a4d4fa828093cffc43bc3ea07a8e.txt  \n",
            "  inflating: train/labels/raccoon-183_jpg.rf.ec95835ea04533da42d4d959d6707f20.txt  \n",
            "  inflating: train/labels/raccoon-184_jpg.rf.43059125d060a4ed8ffcf96e9fd11182.txt  \n",
            "  inflating: train/labels/raccoon-185_jpg.rf.53089cc4bbef76a8aea5a70b56e56a65.txt  \n",
            "  inflating: train/labels/raccoon-186_jpg.rf.45717b7fa9e2864677cc082bd988f35f.txt  \n",
            "  inflating: train/labels/raccoon-187_jpg.rf.d8fc7a310b84d7776c66507634446811.txt  \n",
            "  inflating: train/labels/raccoon-188_jpg.rf.f994d290893cde25fcb152b2f3cdecf0.txt  \n",
            "  inflating: train/labels/raccoon-189_jpg.rf.3dde48ace4f382d50088d9cf494f8d21.txt  \n",
            "  inflating: train/labels/raccoon-18_jpg.rf.a89b15cc2d03110d1c2503a6ff5dedb4.txt  \n",
            "  inflating: train/labels/raccoon-190_jpg.rf.18c3f6bf1a7b1cd3288edc357d75af5b.txt  \n",
            "  inflating: train/labels/raccoon-191_jpg.rf.1eff00dfe69cf22ac7d5b71d9ad82093.txt  \n",
            "  inflating: train/labels/raccoon-192_jpg.rf.54d1fc9c2cc03814000b6071ba37e9ab.txt  \n",
            "  inflating: train/labels/raccoon-193_jpg.rf.0f4308408dd14204f9abf6a365fb6f8e.txt  \n",
            "  inflating: train/labels/raccoon-194_jpg.rf.73825ff9c38622c80dc729027cc27d34.txt  \n",
            "  inflating: train/labels/raccoon-195_jpg.rf.438757fc784e4d9f04d8c257fa103283.txt  \n",
            "  inflating: train/labels/raccoon-196_jpg.rf.a6da7cedce59b51c62f6ab91cf3c953b.txt  \n",
            "  inflating: train/labels/raccoon-197_jpg.rf.feeda892bbf59049f5db5eecfb476ffd.txt  \n",
            "  inflating: train/labels/raccoon-198_jpg.rf.6911aef3b0e22d84a8b6c19e1b504136.txt  \n",
            "  inflating: train/labels/raccoon-199_jpg.rf.827e00d23cc83c841e24e17399268364.txt  \n",
            "  inflating: train/labels/raccoon-19_jpg.rf.4b877f79c13c17fa218923084773ec00.txt  \n",
            "  inflating: train/labels/raccoon-1_jpg.rf.4735f8b019bd0bfa86593b474aa7a5fa.txt  \n",
            "  inflating: train/labels/raccoon-200_jpg.rf.4d4cf20c6490045c87cadf8bd468bd8f.txt  \n",
            "  inflating: train/labels/raccoon-20_jpg.rf.fb19aa368c074a61eed8829617ed6b7c.txt  \n",
            "  inflating: train/labels/raccoon-21_jpg.rf.1a912c8d6424050610135e493cfb5181.txt  \n",
            "  inflating: train/labels/raccoon-22_jpg.rf.61a989ae36b537bf441a2c519bfc2791.txt  \n",
            "  inflating: train/labels/raccoon-23_jpg.rf.69d0e4ab322789ad3e2bfdcd933233ad.txt  \n",
            "  inflating: train/labels/raccoon-24_jpg.rf.0778be28363352e342bd9494e7976a7e.txt  \n",
            "  inflating: train/labels/raccoon-25_jpg.rf.dada3d74aa39089ede4d16414c45fffa.txt  \n",
            "  inflating: train/labels/raccoon-26_jpg.rf.ab207a81a546038c33a728a96bf86d14.txt  \n",
            "  inflating: train/labels/raccoon-27_jpg.rf.316935b020d5fd007d7268a72769ae9d.txt  \n",
            "  inflating: train/labels/raccoon-28_jpg.rf.7b2be1128d5b1d3d43776e878d595a10.txt  \n",
            "  inflating: train/labels/raccoon-29_jpg.rf.3789fab26d5503e529af0b5bb132ab91.txt  \n",
            "  inflating: train/labels/raccoon-2_jpg.rf.1d070475673b53b1880a4b5551dae643.txt  \n",
            "  inflating: train/labels/raccoon-30_jpg.rf.3d7fec82876cd7ff6f7396c93a59a396.txt  \n",
            "  inflating: train/labels/raccoon-31_jpg.rf.2e8fd57b2645856e968e01b729ab0c53.txt  \n",
            "  inflating: train/labels/raccoon-32_jpg.rf.b41a8efc0d66b3b2810bc90e15385817.txt  \n",
            "  inflating: train/labels/raccoon-33_jpg.rf.85235043b0e7fe2f572c7e8939c99024.txt  \n",
            "  inflating: train/labels/raccoon-34_jpg.rf.918c55f154c1b2ef39a41e6085be2434.txt  \n",
            "  inflating: train/labels/raccoon-35_jpg.rf.412f8d6d90c7ea71ea9f6d5f5c7c39c7.txt  \n",
            "  inflating: train/labels/raccoon-36_jpg.rf.95f61a0a202157751bc93616034b171d.txt  \n",
            "  inflating: train/labels/raccoon-37_jpg.rf.7d902e8083bbdfc7d78c99ec0690019f.txt  \n",
            "  inflating: train/labels/raccoon-38_jpg.rf.d72bfc74df002a90d04736fa40265fd9.txt  \n",
            "  inflating: train/labels/raccoon-39_jpg.rf.e3e19cc56f672e57edb42749564d2a3d.txt  \n",
            "  inflating: train/labels/raccoon-3_jpg.rf.f876204db5f3b5622bc9e53f65b3452e.txt  \n",
            "  inflating: train/labels/raccoon-40_jpg.rf.535961124b91d43679aea1bf572ed169.txt  \n",
            "  inflating: train/labels/raccoon-41_jpg.rf.3e59f7f51aa762bcb23caefb60a8974f.txt  \n",
            "  inflating: train/labels/raccoon-42_jpg.rf.ba5583e11220792d39341e7eed4f9385.txt  \n",
            "  inflating: train/labels/raccoon-43_jpg.rf.bc4e3f1c9c25487418260300964e2180.txt  \n",
            "  inflating: train/labels/raccoon-44_jpg.rf.76519fa3d01a9d19c4e022e98292c60e.txt  \n",
            "  inflating: train/labels/raccoon-45_jpg.rf.fa6b0fabef2ed4f9e9dd6b164792d373.txt  \n",
            "  inflating: train/labels/raccoon-46_jpg.rf.30eb23c3a2cb5e17bbae0aa6cac707e3.txt  \n",
            "  inflating: train/labels/raccoon-47_jpg.rf.768641c75d43f2db6ff435e7e2a4bd3d.txt  \n",
            "  inflating: train/labels/raccoon-48_jpg.rf.99c91ae214e78cb740bfd2bca7b82cfe.txt  \n",
            "  inflating: train/labels/raccoon-49_jpg.rf.0c7ec1e43e783a62a23ab81b96aa7366.txt  \n",
            "  inflating: train/labels/raccoon-4_jpg.rf.87f15f7e193eba4c63363a9e8f698cc7.txt  \n",
            "  inflating: train/labels/raccoon-50_jpg.rf.43389448512823c509aa0a11e769e7e8.txt  \n",
            "  inflating: train/labels/raccoon-51_jpg.rf.20fce1e2bf1e589e1d6bc69221a2160b.txt  \n",
            "  inflating: train/labels/raccoon-53_jpg.rf.3372db4c1f0fa75805262eaad064a3f7.txt  \n",
            "  inflating: train/labels/raccoon-54_jpg.rf.7499d29f80c5747ee957116f25592ae0.txt  \n",
            "  inflating: train/labels/raccoon-55_jpg.rf.5b221bf351955c14e80459a380fa2da0.txt  \n",
            "  inflating: train/labels/raccoon-56_jpg.rf.48fecf103e4a4c814569b50facecf288.txt  \n",
            "  inflating: train/labels/raccoon-5_jpg.rf.aada59e008ebcd0aa1300d27a9539feb.txt  \n",
            "   creating: valid/\n",
            "   creating: valid/images/\n",
            " extracting: valid/images/raccoon-73_jpg.rf.8b19ae0bb7646bcaac6f8df04aee44d6.jpg  \n",
            " extracting: valid/images/raccoon-74_jpg.rf.f659e9e55813f64171049e9f03ed6f11.jpg  \n",
            " extracting: valid/images/raccoon-75_jpg.rf.5e193e4f8bf7f785e771f8fdc819cd33.jpg  \n",
            " extracting: valid/images/raccoon-76_jpg.rf.18108811a0eff493af52df8999de85f0.jpg  \n",
            " extracting: valid/images/raccoon-77_jpg.rf.638583ea08f3043d3691359e149f59c2.jpg  \n",
            " extracting: valid/images/raccoon-78_jpg.rf.5436f171ab5a7b4fbcdad1946a086374.jpg  \n",
            " extracting: valid/images/raccoon-79_jpg.rf.f133cb7a619420f00681d1326ac28a1b.jpg  \n",
            " extracting: valid/images/raccoon-80_jpg.rf.72b3c7ca78af0a414822f9bedfce3b76.jpg  \n",
            " extracting: valid/images/raccoon-81_jpg.rf.b9a99cbb08868ce21d94005799814c7c.jpg  \n",
            " extracting: valid/images/raccoon-82_jpg.rf.00ff88031083cd95bc62294500428bb0.jpg  \n",
            " extracting: valid/images/raccoon-83_jpg.rf.9111bbd932a9eb3c0eb73a602d89eb02.jpg  \n",
            " extracting: valid/images/raccoon-84_jpg.rf.db2f14c407e076ffd7e11583bad40776.jpg  \n",
            " extracting: valid/images/raccoon-85_jpg.rf.a4bc400ea0b0e9922a4cffbbaf741896.jpg  \n",
            " extracting: valid/images/raccoon-86_jpg.rf.a3a11438be66477d5bbab57d14f521d9.jpg  \n",
            " extracting: valid/images/raccoon-87_jpg.rf.e7776389ffd8c5a4c4f783cfb56d949f.jpg  \n",
            " extracting: valid/images/raccoon-88_jpg.rf.c3f2a39f336897da05cb3acb9d42ec54.jpg  \n",
            " extracting: valid/images/raccoon-89_jpg.rf.3b601aaa576fac99f5f24284383f91a3.jpg  \n",
            " extracting: valid/images/raccoon-8_jpg.rf.57a522ab175810aa5b9e7bb1c419515d.jpg  \n",
            " extracting: valid/images/raccoon-90_jpg.rf.50b2f1ed0bc307e1e94817b5e2bb361b.jpg  \n",
            " extracting: valid/images/raccoon-91_jpg.rf.92ca467a6f01e432d7f6229cd36f9194.jpg  \n",
            " extracting: valid/images/raccoon-92_jpg.rf.c44dd4194e36aac1d6e0503f77250862.jpg  \n",
            " extracting: valid/images/raccoon-93_jpg.rf.fb72a1011090148ce6b441b66c669d9f.jpg  \n",
            " extracting: valid/images/raccoon-94_jpg.rf.7461ff11199cb973c6561ae95c4f9c01.jpg  \n",
            " extracting: valid/images/raccoon-95_jpg.rf.f8c8616fc565907a66c86128839a766b.jpg  \n",
            " extracting: valid/images/raccoon-96_jpg.rf.33d6d03799ded7d79958e82ee1452a9b.jpg  \n",
            " extracting: valid/images/raccoon-97_jpg.rf.0528c87b29187d5357486708076b9a6d.jpg  \n",
            " extracting: valid/images/raccoon-98_jpg.rf.020093caa31f6973a7aeabcc1cc913bd.jpg  \n",
            " extracting: valid/images/raccoon-99_jpg.rf.73d8e87470d5efa929835067b2a9a391.jpg  \n",
            " extracting: valid/images/raccoon-9_jpg.rf.c0e98d97af41882fc44f994bb6c89052.jpg  \n",
            "   creating: valid/labels/\n",
            "  inflating: valid/labels/raccoon-73_jpg.rf.8b19ae0bb7646bcaac6f8df04aee44d6.txt  \n",
            "  inflating: valid/labels/raccoon-74_jpg.rf.f659e9e55813f64171049e9f03ed6f11.txt  \n",
            "  inflating: valid/labels/raccoon-75_jpg.rf.5e193e4f8bf7f785e771f8fdc819cd33.txt  \n",
            "  inflating: valid/labels/raccoon-76_jpg.rf.18108811a0eff493af52df8999de85f0.txt  \n",
            "  inflating: valid/labels/raccoon-77_jpg.rf.638583ea08f3043d3691359e149f59c2.txt  \n",
            "  inflating: valid/labels/raccoon-78_jpg.rf.5436f171ab5a7b4fbcdad1946a086374.txt  \n",
            "  inflating: valid/labels/raccoon-79_jpg.rf.f133cb7a619420f00681d1326ac28a1b.txt  \n",
            "  inflating: valid/labels/raccoon-80_jpg.rf.72b3c7ca78af0a414822f9bedfce3b76.txt  \n",
            "  inflating: valid/labels/raccoon-81_jpg.rf.b9a99cbb08868ce21d94005799814c7c.txt  \n",
            "  inflating: valid/labels/raccoon-82_jpg.rf.00ff88031083cd95bc62294500428bb0.txt  \n",
            "  inflating: valid/labels/raccoon-83_jpg.rf.9111bbd932a9eb3c0eb73a602d89eb02.txt  \n",
            "  inflating: valid/labels/raccoon-84_jpg.rf.db2f14c407e076ffd7e11583bad40776.txt  \n",
            "  inflating: valid/labels/raccoon-85_jpg.rf.a4bc400ea0b0e9922a4cffbbaf741896.txt  \n",
            "  inflating: valid/labels/raccoon-86_jpg.rf.a3a11438be66477d5bbab57d14f521d9.txt  \n",
            "  inflating: valid/labels/raccoon-87_jpg.rf.e7776389ffd8c5a4c4f783cfb56d949f.txt  \n",
            "  inflating: valid/labels/raccoon-88_jpg.rf.c3f2a39f336897da05cb3acb9d42ec54.txt  \n",
            "  inflating: valid/labels/raccoon-89_jpg.rf.3b601aaa576fac99f5f24284383f91a3.txt  \n",
            "  inflating: valid/labels/raccoon-8_jpg.rf.57a522ab175810aa5b9e7bb1c419515d.txt  \n",
            "  inflating: valid/labels/raccoon-90_jpg.rf.50b2f1ed0bc307e1e94817b5e2bb361b.txt  \n",
            "  inflating: valid/labels/raccoon-91_jpg.rf.92ca467a6f01e432d7f6229cd36f9194.txt  \n",
            "  inflating: valid/labels/raccoon-92_jpg.rf.c44dd4194e36aac1d6e0503f77250862.txt  \n",
            "  inflating: valid/labels/raccoon-93_jpg.rf.fb72a1011090148ce6b441b66c669d9f.txt  \n",
            "  inflating: valid/labels/raccoon-94_jpg.rf.7461ff11199cb973c6561ae95c4f9c01.txt  \n",
            "  inflating: valid/labels/raccoon-95_jpg.rf.f8c8616fc565907a66c86128839a766b.txt  \n",
            "  inflating: valid/labels/raccoon-96_jpg.rf.33d6d03799ded7d79958e82ee1452a9b.txt  \n",
            "  inflating: valid/labels/raccoon-97_jpg.rf.0528c87b29187d5357486708076b9a6d.txt  \n",
            "  inflating: valid/labels/raccoon-98_jpg.rf.020093caa31f6973a7aeabcc1cc913bd.txt  \n",
            "  inflating: valid/labels/raccoon-99_jpg.rf.73d8e87470d5efa929835067b2a9a391.txt  \n",
            "  inflating: valid/labels/raccoon-9_jpg.rf.c0e98d97af41882fc44f994bb6c89052.txt  \n"
          ]
        }
      ],
      "source": [
        "!curl -L \"https://public.roboflow.com/ds/05KJzdaBlI?key=ltcFYN7yAL\" > roboflow.zip; unzip roboflow.zip; rm roboflow.zip"
      ]
    },
    {
      "cell_type": "code",
      "source": [
        "!pip install ultralytics"
      ],
      "metadata": {
        "colab": {
          "base_uri": "https://localhost:8080/"
        },
        "collapsed": true,
        "id": "K7iRbCQGHRq6",
        "outputId": "4ae15257-60fe-49fd-c9b8-e5e6e9dcb0bc"
      },
      "execution_count": 2,
      "outputs": [
        {
          "output_type": "stream",
          "name": "stdout",
          "text": [
            "Collecting ultralytics\n",
            "  Downloading ultralytics-8.3.175-py3-none-any.whl.metadata (37 kB)\n",
            "Requirement already satisfied: numpy>=1.23.0 in /usr/local/lib/python3.11/dist-packages (from ultralytics) (2.0.2)\n",
            "Requirement already satisfied: matplotlib>=3.3.0 in /usr/local/lib/python3.11/dist-packages (from ultralytics) (3.10.0)\n",
            "Requirement already satisfied: opencv-python>=4.6.0 in /usr/local/lib/python3.11/dist-packages (from ultralytics) (4.12.0.88)\n",
            "Requirement already satisfied: pillow>=7.1.2 in /usr/local/lib/python3.11/dist-packages (from ultralytics) (11.3.0)\n",
            "Requirement already satisfied: pyyaml>=5.3.1 in /usr/local/lib/python3.11/dist-packages (from ultralytics) (6.0.2)\n",
            "Requirement already satisfied: requests>=2.23.0 in /usr/local/lib/python3.11/dist-packages (from ultralytics) (2.32.3)\n",
            "Requirement already satisfied: scipy>=1.4.1 in /usr/local/lib/python3.11/dist-packages (from ultralytics) (1.16.1)\n",
            "Requirement already satisfied: torch>=1.8.0 in /usr/local/lib/python3.11/dist-packages (from ultralytics) (2.6.0+cu124)\n",
            "Requirement already satisfied: torchvision>=0.9.0 in /usr/local/lib/python3.11/dist-packages (from ultralytics) (0.21.0+cu124)\n",
            "Requirement already satisfied: tqdm>=4.64.0 in /usr/local/lib/python3.11/dist-packages (from ultralytics) (4.67.1)\n",
            "Requirement already satisfied: psutil in /usr/local/lib/python3.11/dist-packages (from ultralytics) (5.9.5)\n",
            "Requirement already satisfied: py-cpuinfo in /usr/local/lib/python3.11/dist-packages (from ultralytics) (9.0.0)\n",
            "Requirement already satisfied: pandas>=1.1.4 in /usr/local/lib/python3.11/dist-packages (from ultralytics) (2.2.2)\n",
            "Collecting ultralytics-thop>=2.0.0 (from ultralytics)\n",
            "  Downloading ultralytics_thop-2.0.15-py3-none-any.whl.metadata (14 kB)\n",
            "Requirement already satisfied: contourpy>=1.0.1 in /usr/local/lib/python3.11/dist-packages (from matplotlib>=3.3.0->ultralytics) (1.3.3)\n",
            "Requirement already satisfied: cycler>=0.10 in /usr/local/lib/python3.11/dist-packages (from matplotlib>=3.3.0->ultralytics) (0.12.1)\n",
            "Requirement already satisfied: fonttools>=4.22.0 in /usr/local/lib/python3.11/dist-packages (from matplotlib>=3.3.0->ultralytics) (4.59.0)\n",
            "Requirement already satisfied: kiwisolver>=1.3.1 in /usr/local/lib/python3.11/dist-packages (from matplotlib>=3.3.0->ultralytics) (1.4.8)\n",
            "Requirement already satisfied: packaging>=20.0 in /usr/local/lib/python3.11/dist-packages (from matplotlib>=3.3.0->ultralytics) (25.0)\n",
            "Requirement already satisfied: pyparsing>=2.3.1 in /usr/local/lib/python3.11/dist-packages (from matplotlib>=3.3.0->ultralytics) (3.2.3)\n",
            "Requirement already satisfied: python-dateutil>=2.7 in /usr/local/lib/python3.11/dist-packages (from matplotlib>=3.3.0->ultralytics) (2.9.0.post0)\n",
            "Requirement already satisfied: pytz>=2020.1 in /usr/local/lib/python3.11/dist-packages (from pandas>=1.1.4->ultralytics) (2025.2)\n",
            "Requirement already satisfied: tzdata>=2022.7 in /usr/local/lib/python3.11/dist-packages (from pandas>=1.1.4->ultralytics) (2025.2)\n",
            "Requirement already satisfied: charset-normalizer<4,>=2 in /usr/local/lib/python3.11/dist-packages (from requests>=2.23.0->ultralytics) (3.4.2)\n",
            "Requirement already satisfied: idna<4,>=2.5 in /usr/local/lib/python3.11/dist-packages (from requests>=2.23.0->ultralytics) (3.10)\n",
            "Requirement already satisfied: urllib3<3,>=1.21.1 in /usr/local/lib/python3.11/dist-packages (from requests>=2.23.0->ultralytics) (2.5.0)\n",
            "Requirement already satisfied: certifi>=2017.4.17 in /usr/local/lib/python3.11/dist-packages (from requests>=2.23.0->ultralytics) (2025.7.14)\n",
            "Requirement already satisfied: filelock in /usr/local/lib/python3.11/dist-packages (from torch>=1.8.0->ultralytics) (3.18.0)\n",
            "Requirement already satisfied: typing-extensions>=4.10.0 in /usr/local/lib/python3.11/dist-packages (from torch>=1.8.0->ultralytics) (4.14.1)\n",
            "Requirement already satisfied: networkx in /usr/local/lib/python3.11/dist-packages (from torch>=1.8.0->ultralytics) (3.5)\n",
            "Requirement already satisfied: jinja2 in /usr/local/lib/python3.11/dist-packages (from torch>=1.8.0->ultralytics) (3.1.6)\n",
            "Requirement already satisfied: fsspec in /usr/local/lib/python3.11/dist-packages (from torch>=1.8.0->ultralytics) (2025.3.0)\n",
            "Collecting nvidia-cuda-nvrtc-cu12==12.4.127 (from torch>=1.8.0->ultralytics)\n",
            "  Downloading nvidia_cuda_nvrtc_cu12-12.4.127-py3-none-manylinux2014_x86_64.whl.metadata (1.5 kB)\n",
            "Collecting nvidia-cuda-runtime-cu12==12.4.127 (from torch>=1.8.0->ultralytics)\n",
            "  Downloading nvidia_cuda_runtime_cu12-12.4.127-py3-none-manylinux2014_x86_64.whl.metadata (1.5 kB)\n",
            "Collecting nvidia-cuda-cupti-cu12==12.4.127 (from torch>=1.8.0->ultralytics)\n",
            "  Downloading nvidia_cuda_cupti_cu12-12.4.127-py3-none-manylinux2014_x86_64.whl.metadata (1.6 kB)\n",
            "Collecting nvidia-cudnn-cu12==9.1.0.70 (from torch>=1.8.0->ultralytics)\n",
            "  Downloading nvidia_cudnn_cu12-9.1.0.70-py3-none-manylinux2014_x86_64.whl.metadata (1.6 kB)\n",
            "Collecting nvidia-cublas-cu12==12.4.5.8 (from torch>=1.8.0->ultralytics)\n",
            "  Downloading nvidia_cublas_cu12-12.4.5.8-py3-none-manylinux2014_x86_64.whl.metadata (1.5 kB)\n",
            "Collecting nvidia-cufft-cu12==11.2.1.3 (from torch>=1.8.0->ultralytics)\n",
            "  Downloading nvidia_cufft_cu12-11.2.1.3-py3-none-manylinux2014_x86_64.whl.metadata (1.5 kB)\n",
            "Collecting nvidia-curand-cu12==10.3.5.147 (from torch>=1.8.0->ultralytics)\n",
            "  Downloading nvidia_curand_cu12-10.3.5.147-py3-none-manylinux2014_x86_64.whl.metadata (1.5 kB)\n",
            "Collecting nvidia-cusolver-cu12==11.6.1.9 (from torch>=1.8.0->ultralytics)\n",
            "  Downloading nvidia_cusolver_cu12-11.6.1.9-py3-none-manylinux2014_x86_64.whl.metadata (1.6 kB)\n",
            "Collecting nvidia-cusparse-cu12==12.3.1.170 (from torch>=1.8.0->ultralytics)\n",
            "  Downloading nvidia_cusparse_cu12-12.3.1.170-py3-none-manylinux2014_x86_64.whl.metadata (1.6 kB)\n",
            "Requirement already satisfied: nvidia-cusparselt-cu12==0.6.2 in /usr/local/lib/python3.11/dist-packages (from torch>=1.8.0->ultralytics) (0.6.2)\n",
            "Collecting nvidia-nccl-cu12==2.21.5 (from torch>=1.8.0->ultralytics)\n",
            "  Downloading nvidia_nccl_cu12-2.21.5-py3-none-manylinux2014_x86_64.whl.metadata (1.8 kB)\n",
            "Requirement already satisfied: nvidia-nvtx-cu12==12.4.127 in /usr/local/lib/python3.11/dist-packages (from torch>=1.8.0->ultralytics) (12.4.127)\n",
            "Collecting nvidia-nvjitlink-cu12==12.4.127 (from torch>=1.8.0->ultralytics)\n",
            "  Downloading nvidia_nvjitlink_cu12-12.4.127-py3-none-manylinux2014_x86_64.whl.metadata (1.5 kB)\n",
            "Requirement already satisfied: triton==3.2.0 in /usr/local/lib/python3.11/dist-packages (from torch>=1.8.0->ultralytics) (3.2.0)\n",
            "Requirement already satisfied: sympy==1.13.1 in /usr/local/lib/python3.11/dist-packages (from torch>=1.8.0->ultralytics) (1.13.1)\n",
            "Requirement already satisfied: mpmath<1.4,>=1.1.0 in /usr/local/lib/python3.11/dist-packages (from sympy==1.13.1->torch>=1.8.0->ultralytics) (1.3.0)\n",
            "Requirement already satisfied: six>=1.5 in /usr/local/lib/python3.11/dist-packages (from python-dateutil>=2.7->matplotlib>=3.3.0->ultralytics) (1.17.0)\n",
            "Requirement already satisfied: MarkupSafe>=2.0 in /usr/local/lib/python3.11/dist-packages (from jinja2->torch>=1.8.0->ultralytics) (3.0.2)\n",
            "Downloading ultralytics-8.3.175-py3-none-any.whl (1.0 MB)\n",
            "\u001b[2K   \u001b[90m━━━━━━━━━━━━━━━━━━━━━━━━━━━━━━━━━━━━━━━━\u001b[0m \u001b[32m1.0/1.0 MB\u001b[0m \u001b[31m34.6 MB/s\u001b[0m eta \u001b[36m0:00:00\u001b[0m\n",
            "\u001b[?25hDownloading nvidia_cublas_cu12-12.4.5.8-py3-none-manylinux2014_x86_64.whl (363.4 MB)\n",
            "\u001b[2K   \u001b[90m━━━━━━━━━━━━━━━━━━━━━━━━━━━━━━━━━━━━━━━━\u001b[0m \u001b[32m363.4/363.4 MB\u001b[0m \u001b[31m3.1 MB/s\u001b[0m eta \u001b[36m0:00:00\u001b[0m\n",
            "\u001b[?25hDownloading nvidia_cuda_cupti_cu12-12.4.127-py3-none-manylinux2014_x86_64.whl (13.8 MB)\n",
            "\u001b[2K   \u001b[90m━━━━━━━━━━━━━━━━━━━━━━━━━━━━━━━━━━━━━━━━\u001b[0m \u001b[32m13.8/13.8 MB\u001b[0m \u001b[31m104.4 MB/s\u001b[0m eta \u001b[36m0:00:00\u001b[0m\n",
            "\u001b[?25hDownloading nvidia_cuda_nvrtc_cu12-12.4.127-py3-none-manylinux2014_x86_64.whl (24.6 MB)\n",
            "\u001b[2K   \u001b[90m━━━━━━━━━━━━━━━━━━━━━━━━━━━━━━━━━━━━━━━━\u001b[0m \u001b[32m24.6/24.6 MB\u001b[0m \u001b[31m88.6 MB/s\u001b[0m eta \u001b[36m0:00:00\u001b[0m\n",
            "\u001b[?25hDownloading nvidia_cuda_runtime_cu12-12.4.127-py3-none-manylinux2014_x86_64.whl (883 kB)\n",
            "\u001b[2K   \u001b[90m━━━━━━━━━━━━━━━━━━━━━━━━━━━━━━━━━━━━━━━━\u001b[0m \u001b[32m883.7/883.7 kB\u001b[0m \u001b[31m62.6 MB/s\u001b[0m eta \u001b[36m0:00:00\u001b[0m\n",
            "\u001b[?25hDownloading nvidia_cudnn_cu12-9.1.0.70-py3-none-manylinux2014_x86_64.whl (664.8 MB)\n",
            "\u001b[2K   \u001b[90m━━━━━━━━━━━━━━━━━━━━━━━━━━━━━━━━━━━━━━━━\u001b[0m \u001b[32m664.8/664.8 MB\u001b[0m \u001b[31m1.2 MB/s\u001b[0m eta \u001b[36m0:00:00\u001b[0m\n",
            "\u001b[?25hDownloading nvidia_cufft_cu12-11.2.1.3-py3-none-manylinux2014_x86_64.whl (211.5 MB)\n",
            "\u001b[2K   \u001b[90m━━━━━━━━━━━━━━━━━━━━━━━━━━━━━━━━━━━━━━━━\u001b[0m \u001b[32m211.5/211.5 MB\u001b[0m \u001b[31m5.4 MB/s\u001b[0m eta \u001b[36m0:00:00\u001b[0m\n",
            "\u001b[?25hDownloading nvidia_curand_cu12-10.3.5.147-py3-none-manylinux2014_x86_64.whl (56.3 MB)\n",
            "\u001b[2K   \u001b[90m━━━━━━━━━━━━━━━━━━━━━━━━━━━━━━━━━━━━━━━━\u001b[0m \u001b[32m56.3/56.3 MB\u001b[0m \u001b[31m17.2 MB/s\u001b[0m eta \u001b[36m0:00:00\u001b[0m\n",
            "\u001b[?25hDownloading nvidia_cusolver_cu12-11.6.1.9-py3-none-manylinux2014_x86_64.whl (127.9 MB)\n",
            "\u001b[2K   \u001b[90m━━━━━━━━━━━━━━━━━━━━━━━━━━━━━━━━━━━━━━━━\u001b[0m \u001b[32m127.9/127.9 MB\u001b[0m \u001b[31m7.2 MB/s\u001b[0m eta \u001b[36m0:00:00\u001b[0m\n",
            "\u001b[?25hDownloading nvidia_cusparse_cu12-12.3.1.170-py3-none-manylinux2014_x86_64.whl (207.5 MB)\n",
            "\u001b[2K   \u001b[90m━━━━━━━━━━━━━━━━━━━━━━━━━━━━━━━━━━━━━━━━\u001b[0m \u001b[32m207.5/207.5 MB\u001b[0m \u001b[31m5.5 MB/s\u001b[0m eta \u001b[36m0:00:00\u001b[0m\n",
            "\u001b[?25hDownloading nvidia_nccl_cu12-2.21.5-py3-none-manylinux2014_x86_64.whl (188.7 MB)\n",
            "\u001b[2K   \u001b[90m━━━━━━━━━━━━━━━━━━━━━━━━━━━━━━━━━━━━━━━━\u001b[0m \u001b[32m188.7/188.7 MB\u001b[0m \u001b[31m5.8 MB/s\u001b[0m eta \u001b[36m0:00:00\u001b[0m\n",
            "\u001b[?25hDownloading nvidia_nvjitlink_cu12-12.4.127-py3-none-manylinux2014_x86_64.whl (21.1 MB)\n",
            "\u001b[2K   \u001b[90m━━━━━━━━━━━━━━━━━━━━━━━━━━━━━━━━━━━━━━━━\u001b[0m \u001b[32m21.1/21.1 MB\u001b[0m \u001b[31m66.8 MB/s\u001b[0m eta \u001b[36m0:00:00\u001b[0m\n",
            "\u001b[?25hDownloading ultralytics_thop-2.0.15-py3-none-any.whl (28 kB)\n",
            "Installing collected packages: nvidia-nvjitlink-cu12, nvidia-nccl-cu12, nvidia-curand-cu12, nvidia-cufft-cu12, nvidia-cuda-runtime-cu12, nvidia-cuda-nvrtc-cu12, nvidia-cuda-cupti-cu12, nvidia-cublas-cu12, nvidia-cusparse-cu12, nvidia-cudnn-cu12, nvidia-cusolver-cu12, ultralytics-thop, ultralytics\n",
            "  Attempting uninstall: nvidia-nvjitlink-cu12\n",
            "    Found existing installation: nvidia-nvjitlink-cu12 12.5.82\n",
            "    Uninstalling nvidia-nvjitlink-cu12-12.5.82:\n",
            "      Successfully uninstalled nvidia-nvjitlink-cu12-12.5.82\n",
            "  Attempting uninstall: nvidia-nccl-cu12\n",
            "    Found existing installation: nvidia-nccl-cu12 2.23.4\n",
            "    Uninstalling nvidia-nccl-cu12-2.23.4:\n",
            "      Successfully uninstalled nvidia-nccl-cu12-2.23.4\n",
            "  Attempting uninstall: nvidia-curand-cu12\n",
            "    Found existing installation: nvidia-curand-cu12 10.3.6.82\n",
            "    Uninstalling nvidia-curand-cu12-10.3.6.82:\n",
            "      Successfully uninstalled nvidia-curand-cu12-10.3.6.82\n",
            "  Attempting uninstall: nvidia-cufft-cu12\n",
            "    Found existing installation: nvidia-cufft-cu12 11.2.3.61\n",
            "    Uninstalling nvidia-cufft-cu12-11.2.3.61:\n",
            "      Successfully uninstalled nvidia-cufft-cu12-11.2.3.61\n",
            "  Attempting uninstall: nvidia-cuda-runtime-cu12\n",
            "    Found existing installation: nvidia-cuda-runtime-cu12 12.5.82\n",
            "    Uninstalling nvidia-cuda-runtime-cu12-12.5.82:\n",
            "      Successfully uninstalled nvidia-cuda-runtime-cu12-12.5.82\n",
            "  Attempting uninstall: nvidia-cuda-nvrtc-cu12\n",
            "    Found existing installation: nvidia-cuda-nvrtc-cu12 12.5.82\n",
            "    Uninstalling nvidia-cuda-nvrtc-cu12-12.5.82:\n",
            "      Successfully uninstalled nvidia-cuda-nvrtc-cu12-12.5.82\n",
            "  Attempting uninstall: nvidia-cuda-cupti-cu12\n",
            "    Found existing installation: nvidia-cuda-cupti-cu12 12.5.82\n",
            "    Uninstalling nvidia-cuda-cupti-cu12-12.5.82:\n",
            "      Successfully uninstalled nvidia-cuda-cupti-cu12-12.5.82\n",
            "  Attempting uninstall: nvidia-cublas-cu12\n",
            "    Found existing installation: nvidia-cublas-cu12 12.5.3.2\n",
            "    Uninstalling nvidia-cublas-cu12-12.5.3.2:\n",
            "      Successfully uninstalled nvidia-cublas-cu12-12.5.3.2\n",
            "  Attempting uninstall: nvidia-cusparse-cu12\n",
            "    Found existing installation: nvidia-cusparse-cu12 12.5.1.3\n",
            "    Uninstalling nvidia-cusparse-cu12-12.5.1.3:\n",
            "      Successfully uninstalled nvidia-cusparse-cu12-12.5.1.3\n",
            "  Attempting uninstall: nvidia-cudnn-cu12\n",
            "    Found existing installation: nvidia-cudnn-cu12 9.3.0.75\n",
            "    Uninstalling nvidia-cudnn-cu12-9.3.0.75:\n",
            "      Successfully uninstalled nvidia-cudnn-cu12-9.3.0.75\n",
            "  Attempting uninstall: nvidia-cusolver-cu12\n",
            "    Found existing installation: nvidia-cusolver-cu12 11.6.3.83\n",
            "    Uninstalling nvidia-cusolver-cu12-11.6.3.83:\n",
            "      Successfully uninstalled nvidia-cusolver-cu12-11.6.3.83\n",
            "Successfully installed nvidia-cublas-cu12-12.4.5.8 nvidia-cuda-cupti-cu12-12.4.127 nvidia-cuda-nvrtc-cu12-12.4.127 nvidia-cuda-runtime-cu12-12.4.127 nvidia-cudnn-cu12-9.1.0.70 nvidia-cufft-cu12-11.2.1.3 nvidia-curand-cu12-10.3.5.147 nvidia-cusolver-cu12-11.6.1.9 nvidia-cusparse-cu12-12.3.1.170 nvidia-nccl-cu12-2.21.5 nvidia-nvjitlink-cu12-12.4.127 ultralytics-8.3.175 ultralytics-thop-2.0.15\n"
          ]
        }
      ]
    },
    {
      "cell_type": "code",
      "source": [
        "from ultralytics import YOLO\n",
        "\n",
        "model = YOLO(\"yolo11s.pt\")\n",
        "\n",
        "results = model.train(data=\"dataset_raccoon/data.yaml\", epochs=100, imgsz=640)"
      ],
      "metadata": {
        "colab": {
          "base_uri": "https://localhost:8080/"
        },
        "collapsed": true,
        "id": "TMMmZpsSHohE",
        "outputId": "20bcf70f-1cb9-46d0-9b19-52d91fcf1324"
      },
      "execution_count": 3,
      "outputs": [
        {
          "output_type": "stream",
          "name": "stdout",
          "text": [
            "Creating new Ultralytics Settings v0.0.6 file ✅ \n",
            "View Ultralytics Settings with 'yolo settings' or at '/root/.config/Ultralytics/settings.json'\n",
            "Update Settings with 'yolo settings key=value', i.e. 'yolo settings runs_dir=path/to/dir'. For help see https://docs.ultralytics.com/quickstart/#ultralytics-settings.\n"
          ]
        },
        {
          "output_type": "stream",
          "name": "stderr",
          "text": [
            "Downloading https://github.com/ultralytics/assets/releases/download/v8.3.0/yolo11s.pt to 'yolo11s.pt': 100%|██████████| 18.4M/18.4M [00:00<00:00, 123MB/s]\n"
          ]
        },
        {
          "output_type": "stream",
          "name": "stdout",
          "text": [
            "Ultralytics 8.3.175 🚀 Python-3.11.13 torch-2.6.0+cu124 CUDA:0 (Tesla T4, 15095MiB)\n",
            "\u001b[34m\u001b[1mengine/trainer: \u001b[0magnostic_nms=False, amp=True, augment=False, auto_augment=randaugment, batch=16, bgr=0.0, box=7.5, cache=False, cfg=None, classes=None, close_mosaic=10, cls=0.5, conf=None, copy_paste=0.0, copy_paste_mode=flip, cos_lr=False, cutmix=0.0, data=dataset_raccoon/data.yaml, degrees=0.0, deterministic=True, device=None, dfl=1.5, dnn=False, dropout=0.0, dynamic=False, embed=None, epochs=100, erasing=0.4, exist_ok=False, fliplr=0.5, flipud=0.0, format=torchscript, fraction=1.0, freeze=None, half=False, hsv_h=0.015, hsv_s=0.7, hsv_v=0.4, imgsz=640, int8=False, iou=0.7, keras=False, kobj=1.0, line_width=None, lr0=0.01, lrf=0.01, mask_ratio=4, max_det=300, mixup=0.0, mode=train, model=yolo11s.pt, momentum=0.937, mosaic=1.0, multi_scale=False, name=train, nbs=64, nms=False, opset=None, optimize=False, optimizer=auto, overlap_mask=True, patience=100, perspective=0.0, plots=True, pose=12.0, pretrained=True, profile=False, project=None, rect=False, resume=False, retina_masks=False, save=True, save_conf=False, save_crop=False, save_dir=runs/detect/train, save_frames=False, save_json=False, save_period=-1, save_txt=False, scale=0.5, seed=0, shear=0.0, show=False, show_boxes=True, show_conf=True, show_labels=True, simplify=True, single_cls=False, source=None, split=val, stream_buffer=False, task=detect, time=None, tracker=botsort.yaml, translate=0.1, val=True, verbose=True, vid_stride=1, visualize=False, warmup_bias_lr=0.1, warmup_epochs=3.0, warmup_momentum=0.8, weight_decay=0.0005, workers=8, workspace=None\n"
          ]
        },
        {
          "output_type": "stream",
          "name": "stderr",
          "text": [
            "Downloading https://ultralytics.com/assets/Arial.ttf to '/root/.config/Ultralytics/Arial.ttf': 100%|██████████| 755k/755k [00:00<00:00, 18.4MB/s]"
          ]
        },
        {
          "output_type": "stream",
          "name": "stdout",
          "text": [
            "Overriding model.yaml nc=80 with nc=1\n",
            "\n",
            "                   from  n    params  module                                       arguments                     \n",
            "  0                  -1  1       928  ultralytics.nn.modules.conv.Conv             [3, 32, 3, 2]                 \n",
            "  1                  -1  1     18560  ultralytics.nn.modules.conv.Conv             [32, 64, 3, 2]                \n",
            "  2                  -1  1     26080  ultralytics.nn.modules.block.C3k2            [64, 128, 1, False, 0.25]     \n",
            "  3                  -1  1    147712  ultralytics.nn.modules.conv.Conv             [128, 128, 3, 2]              \n",
            "  4                  -1  1    103360  ultralytics.nn.modules.block.C3k2            [128, 256, 1, False, 0.25]    \n",
            "  5                  -1  1    590336  ultralytics.nn.modules.conv.Conv             [256, 256, 3, 2]              \n",
            "  6                  -1  1    346112  ultralytics.nn.modules.block.C3k2            [256, 256, 1, True]           \n",
            "  7                  -1  1   1180672  ultralytics.nn.modules.conv.Conv             [256, 512, 3, 2]              \n",
            "  8                  -1  1   1380352  ultralytics.nn.modules.block.C3k2            [512, 512, 1, True]           \n",
            "  9                  -1  1    656896  ultralytics.nn.modules.block.SPPF            [512, 512, 5]                 \n"
          ]
        },
        {
          "output_type": "stream",
          "name": "stderr",
          "text": [
            "\n"
          ]
        },
        {
          "output_type": "stream",
          "name": "stdout",
          "text": [
            " 10                  -1  1    990976  ultralytics.nn.modules.block.C2PSA           [512, 512, 1]                 \n",
            " 11                  -1  1         0  torch.nn.modules.upsampling.Upsample         [None, 2, 'nearest']          \n",
            " 12             [-1, 6]  1         0  ultralytics.nn.modules.conv.Concat           [1]                           \n",
            " 13                  -1  1    443776  ultralytics.nn.modules.block.C3k2            [768, 256, 1, False]          \n",
            " 14                  -1  1         0  torch.nn.modules.upsampling.Upsample         [None, 2, 'nearest']          \n",
            " 15             [-1, 4]  1         0  ultralytics.nn.modules.conv.Concat           [1]                           \n",
            " 16                  -1  1    127680  ultralytics.nn.modules.block.C3k2            [512, 128, 1, False]          \n",
            " 17                  -1  1    147712  ultralytics.nn.modules.conv.Conv             [128, 128, 3, 2]              \n",
            " 18            [-1, 13]  1         0  ultralytics.nn.modules.conv.Concat           [1]                           \n",
            " 19                  -1  1    345472  ultralytics.nn.modules.block.C3k2            [384, 256, 1, False]          \n",
            " 20                  -1  1    590336  ultralytics.nn.modules.conv.Conv             [256, 256, 3, 2]              \n",
            " 21            [-1, 10]  1         0  ultralytics.nn.modules.conv.Concat           [1]                           \n",
            " 22                  -1  1   1511424  ultralytics.nn.modules.block.C3k2            [768, 512, 1, True]           \n",
            " 23        [16, 19, 22]  1    819795  ultralytics.nn.modules.head.Detect           [1, [128, 256, 512]]          \n",
            "YOLO11s summary: 181 layers, 9,428,179 parameters, 9,428,163 gradients, 21.5 GFLOPs\n",
            "\n",
            "Transferred 493/499 items from pretrained weights\n",
            "Freezing layer 'model.23.dfl.conv.weight'\n",
            "\u001b[34m\u001b[1mAMP: \u001b[0mrunning Automatic Mixed Precision (AMP) checks...\n"
          ]
        },
        {
          "output_type": "stream",
          "name": "stderr",
          "text": [
            "Downloading https://github.com/ultralytics/assets/releases/download/v8.3.0/yolo11n.pt to 'yolo11n.pt': 100%|██████████| 5.35M/5.35M [00:00<00:00, 87.3MB/s]\n"
          ]
        },
        {
          "output_type": "stream",
          "name": "stdout",
          "text": [
            "\u001b[34m\u001b[1mAMP: \u001b[0mchecks passed ✅\n",
            "\u001b[34m\u001b[1mtrain: \u001b[0mFast image access ✅ (ping: 0.0±0.0 ms, read: 17.9±6.1 MB/s, size: 29.3 KB)\n"
          ]
        },
        {
          "output_type": "stream",
          "name": "stderr",
          "text": [
            "\u001b[34m\u001b[1mtrain: \u001b[0mScanning /content/dataset_raccoon/train/labels... 150 images, 0 backgrounds, 0 corrupt: 100%|██████████| 150/150 [00:00<00:00, 1253.47it/s]"
          ]
        },
        {
          "output_type": "stream",
          "name": "stdout",
          "text": [
            "\u001b[34m\u001b[1mtrain: \u001b[0mNew cache created: /content/dataset_raccoon/train/labels.cache\n"
          ]
        },
        {
          "output_type": "stream",
          "name": "stderr",
          "text": [
            "\n"
          ]
        },
        {
          "output_type": "stream",
          "name": "stdout",
          "text": [
            "\u001b[34m\u001b[1malbumentations: \u001b[0mBlur(p=0.01, blur_limit=(3, 7)), MedianBlur(p=0.01, blur_limit=(3, 7)), ToGray(p=0.01, method='weighted_average', num_output_channels=3), CLAHE(p=0.01, clip_limit=(1.0, 4.0), tile_grid_size=(8, 8))\n",
            "\u001b[34m\u001b[1mval: \u001b[0mFast image access ✅ (ping: 0.0±0.0 ms, read: 42.0±63.3 MB/s, size: 34.1 KB)\n"
          ]
        },
        {
          "output_type": "stream",
          "name": "stderr",
          "text": [
            "\u001b[34m\u001b[1mval: \u001b[0mScanning /content/dataset_raccoon/valid/labels... 29 images, 0 backgrounds, 0 corrupt: 100%|██████████| 29/29 [00:00<00:00, 450.24it/s]"
          ]
        },
        {
          "output_type": "stream",
          "name": "stdout",
          "text": [
            "\u001b[34m\u001b[1mval: \u001b[0mNew cache created: /content/dataset_raccoon/valid/labels.cache\n"
          ]
        },
        {
          "output_type": "stream",
          "name": "stderr",
          "text": [
            "\n"
          ]
        },
        {
          "output_type": "stream",
          "name": "stdout",
          "text": [
            "Plotting labels to runs/detect/train/labels.jpg... \n",
            "\u001b[34m\u001b[1moptimizer:\u001b[0m 'optimizer=auto' found, ignoring 'lr0=0.01' and 'momentum=0.937' and determining best 'optimizer', 'lr0' and 'momentum' automatically... \n",
            "\u001b[34m\u001b[1moptimizer:\u001b[0m AdamW(lr=0.002, momentum=0.9) with parameter groups 81 weight(decay=0.0), 88 weight(decay=0.0005), 87 bias(decay=0.0)\n",
            "Image sizes 640 train, 640 val\n",
            "Using 2 dataloader workers\n",
            "Logging results to \u001b[1mruns/detect/train\u001b[0m\n",
            "Starting training for 100 epochs...\n",
            "\n",
            "      Epoch    GPU_mem   box_loss   cls_loss   dfl_loss  Instances       Size\n"
          ]
        },
        {
          "output_type": "stream",
          "name": "stderr",
          "text": [
            "      1/100      3.98G      1.411      5.383      1.798         14        640: 100%|██████████| 10/10 [00:05<00:00,  1.97it/s]\n",
            "                 Class     Images  Instances      Box(P          R      mAP50  mAP50-95): 100%|██████████| 1/1 [00:01<00:00,  1.39s/it]"
          ]
        },
        {
          "output_type": "stream",
          "name": "stdout",
          "text": [
            "                   all         29         29      0.785      0.828      0.811      0.354\n"
          ]
        },
        {
          "output_type": "stream",
          "name": "stderr",
          "text": [
            "\n"
          ]
        },
        {
          "output_type": "stream",
          "name": "stdout",
          "text": [
            "\n",
            "      Epoch    GPU_mem   box_loss   cls_loss   dfl_loss  Instances       Size\n"
          ]
        },
        {
          "output_type": "stream",
          "name": "stderr",
          "text": [
            "      2/100      4.31G      1.346      3.052      1.801         16        640: 100%|██████████| 10/10 [00:03<00:00,  3.26it/s]\n",
            "                 Class     Images  Instances      Box(P          R      mAP50  mAP50-95): 100%|██████████| 1/1 [00:00<00:00,  1.51it/s]"
          ]
        },
        {
          "output_type": "stream",
          "name": "stdout",
          "text": [
            "                   all         29         29      0.289      0.276      0.211     0.0632\n"
          ]
        },
        {
          "output_type": "stream",
          "name": "stderr",
          "text": [
            "\n"
          ]
        },
        {
          "output_type": "stream",
          "name": "stdout",
          "text": [
            "\n",
            "      Epoch    GPU_mem   box_loss   cls_loss   dfl_loss  Instances       Size\n"
          ]
        },
        {
          "output_type": "stream",
          "name": "stderr",
          "text": [
            "      3/100      4.35G      1.259      2.011      1.668         17        640: 100%|██████████| 10/10 [00:03<00:00,  2.75it/s]\n",
            "                 Class     Images  Instances      Box(P          R      mAP50  mAP50-95): 100%|██████████| 1/1 [00:00<00:00,  2.44it/s]"
          ]
        },
        {
          "output_type": "stream",
          "name": "stdout",
          "text": [
            "                   all         29         29       0.25      0.517      0.202     0.0565\n"
          ]
        },
        {
          "output_type": "stream",
          "name": "stderr",
          "text": [
            "\n"
          ]
        },
        {
          "output_type": "stream",
          "name": "stdout",
          "text": [
            "\n",
            "      Epoch    GPU_mem   box_loss   cls_loss   dfl_loss  Instances       Size\n"
          ]
        },
        {
          "output_type": "stream",
          "name": "stderr",
          "text": [
            "      4/100      4.39G      1.406      1.809      1.797         12        640: 100%|██████████| 10/10 [00:02<00:00,  3.49it/s]\n",
            "                 Class     Images  Instances      Box(P          R      mAP50  mAP50-95): 100%|██████████| 1/1 [00:00<00:00,  2.86it/s]"
          ]
        },
        {
          "output_type": "stream",
          "name": "stdout",
          "text": [
            "                   all         29         29     0.0889      0.069     0.0303    0.00652\n"
          ]
        },
        {
          "output_type": "stream",
          "name": "stderr",
          "text": [
            "\n"
          ]
        },
        {
          "output_type": "stream",
          "name": "stdout",
          "text": [
            "\n",
            "      Epoch    GPU_mem   box_loss   cls_loss   dfl_loss  Instances       Size\n"
          ]
        },
        {
          "output_type": "stream",
          "name": "stderr",
          "text": [
            "      5/100      4.43G      1.524      1.742      1.914         10        640: 100%|██████████| 10/10 [00:02<00:00,  3.35it/s]\n",
            "                 Class     Images  Instances      Box(P          R      mAP50  mAP50-95): 100%|██████████| 1/1 [00:00<00:00,  2.53it/s]"
          ]
        },
        {
          "output_type": "stream",
          "name": "stdout",
          "text": [
            "                   all         29         29      0.191       0.31      0.161     0.0368\n"
          ]
        },
        {
          "output_type": "stream",
          "name": "stderr",
          "text": [
            "\n"
          ]
        },
        {
          "output_type": "stream",
          "name": "stdout",
          "text": [
            "\n",
            "      Epoch    GPU_mem   box_loss   cls_loss   dfl_loss  Instances       Size\n"
          ]
        },
        {
          "output_type": "stream",
          "name": "stderr",
          "text": [
            "      6/100      4.49G      1.526      1.604      1.878         17        640: 100%|██████████| 10/10 [00:03<00:00,  2.62it/s]\n",
            "                 Class     Images  Instances      Box(P          R      mAP50  mAP50-95): 100%|██████████| 1/1 [00:00<00:00,  1.83it/s]"
          ]
        },
        {
          "output_type": "stream",
          "name": "stdout",
          "text": [
            "                   all         29         29          0          0          0          0\n"
          ]
        },
        {
          "output_type": "stream",
          "name": "stderr",
          "text": [
            "\n"
          ]
        },
        {
          "output_type": "stream",
          "name": "stdout",
          "text": [
            "\n",
            "      Epoch    GPU_mem   box_loss   cls_loss   dfl_loss  Instances       Size\n"
          ]
        },
        {
          "output_type": "stream",
          "name": "stderr",
          "text": [
            "      7/100      4.51G      1.533      1.595       1.85         13        640: 100%|██████████| 10/10 [00:02<00:00,  3.48it/s]\n",
            "                 Class     Images  Instances      Box(P          R      mAP50  mAP50-95): 100%|██████████| 1/1 [00:00<00:00,  2.99it/s]"
          ]
        },
        {
          "output_type": "stream",
          "name": "stdout",
          "text": [
            "                   all         29         29    0.00736      0.069    0.00157   0.000341\n"
          ]
        },
        {
          "output_type": "stream",
          "name": "stderr",
          "text": [
            "\n"
          ]
        },
        {
          "output_type": "stream",
          "name": "stdout",
          "text": [
            "\n",
            "      Epoch    GPU_mem   box_loss   cls_loss   dfl_loss  Instances       Size\n"
          ]
        },
        {
          "output_type": "stream",
          "name": "stderr",
          "text": [
            "      8/100      4.57G      1.608      1.519      1.947         22        640: 100%|██████████| 10/10 [00:02<00:00,  3.50it/s]\n",
            "                 Class     Images  Instances      Box(P          R      mAP50  mAP50-95): 100%|██████████| 1/1 [00:00<00:00,  3.33it/s]"
          ]
        },
        {
          "output_type": "stream",
          "name": "stdout",
          "text": [
            "                   all         29         29      0.109      0.172     0.0574     0.0103\n"
          ]
        },
        {
          "output_type": "stream",
          "name": "stderr",
          "text": [
            "\n"
          ]
        },
        {
          "output_type": "stream",
          "name": "stdout",
          "text": [
            "\n",
            "      Epoch    GPU_mem   box_loss   cls_loss   dfl_loss  Instances       Size\n"
          ]
        },
        {
          "output_type": "stream",
          "name": "stderr",
          "text": [
            "      9/100      4.61G      1.664      1.611      1.988         18        640: 100%|██████████| 10/10 [00:02<00:00,  3.37it/s]\n",
            "                 Class     Images  Instances      Box(P          R      mAP50  mAP50-95): 100%|██████████| 1/1 [00:00<00:00,  2.14it/s]"
          ]
        },
        {
          "output_type": "stream",
          "name": "stdout",
          "text": [
            "                   all         29         29      0.121      0.345     0.0833     0.0141\n"
          ]
        },
        {
          "output_type": "stream",
          "name": "stderr",
          "text": [
            "\n"
          ]
        },
        {
          "output_type": "stream",
          "name": "stdout",
          "text": [
            "\n",
            "      Epoch    GPU_mem   box_loss   cls_loss   dfl_loss  Instances       Size\n"
          ]
        },
        {
          "output_type": "stream",
          "name": "stderr",
          "text": [
            "     10/100      4.65G      1.658      1.657      1.984         13        640: 100%|██████████| 10/10 [00:03<00:00,  2.85it/s]\n",
            "                 Class     Images  Instances      Box(P          R      mAP50  mAP50-95): 100%|██████████| 1/1 [00:00<00:00,  2.85it/s]"
          ]
        },
        {
          "output_type": "stream",
          "name": "stdout",
          "text": [
            "                   all         29         29      0.129      0.724      0.129     0.0267\n"
          ]
        },
        {
          "output_type": "stream",
          "name": "stderr",
          "text": [
            "\n"
          ]
        },
        {
          "output_type": "stream",
          "name": "stdout",
          "text": [
            "\n",
            "      Epoch    GPU_mem   box_loss   cls_loss   dfl_loss  Instances       Size\n"
          ]
        },
        {
          "output_type": "stream",
          "name": "stderr",
          "text": [
            "     11/100      4.69G      1.707      1.618      1.981         19        640: 100%|██████████| 10/10 [00:02<00:00,  3.47it/s]\n",
            "                 Class     Images  Instances      Box(P          R      mAP50  mAP50-95): 100%|██████████| 1/1 [00:00<00:00,  3.66it/s]"
          ]
        },
        {
          "output_type": "stream",
          "name": "stdout",
          "text": [
            "                   all         29         29      0.129      0.414     0.0946      0.024\n"
          ]
        },
        {
          "output_type": "stream",
          "name": "stderr",
          "text": [
            "\n"
          ]
        },
        {
          "output_type": "stream",
          "name": "stdout",
          "text": [
            "\n",
            "      Epoch    GPU_mem   box_loss   cls_loss   dfl_loss  Instances       Size\n"
          ]
        },
        {
          "output_type": "stream",
          "name": "stderr",
          "text": [
            "     12/100      4.73G      1.483      1.467      1.843         16        640: 100%|██████████| 10/10 [00:02<00:00,  3.42it/s]\n",
            "                 Class     Images  Instances      Box(P          R      mAP50  mAP50-95): 100%|██████████| 1/1 [00:00<00:00,  3.40it/s]"
          ]
        },
        {
          "output_type": "stream",
          "name": "stdout",
          "text": [
            "                   all         29         29      0.226      0.345      0.136     0.0422\n"
          ]
        },
        {
          "output_type": "stream",
          "name": "stderr",
          "text": [
            "\n"
          ]
        },
        {
          "output_type": "stream",
          "name": "stdout",
          "text": [
            "\n",
            "      Epoch    GPU_mem   box_loss   cls_loss   dfl_loss  Instances       Size\n"
          ]
        },
        {
          "output_type": "stream",
          "name": "stderr",
          "text": [
            "     13/100      4.77G      1.672      1.583      1.981         22        640: 100%|██████████| 10/10 [00:03<00:00,  2.85it/s]\n",
            "                 Class     Images  Instances      Box(P          R      mAP50  mAP50-95): 100%|██████████| 1/1 [00:00<00:00,  2.28it/s]"
          ]
        },
        {
          "output_type": "stream",
          "name": "stdout",
          "text": [
            "                   all         29         29      0.155      0.138     0.0739     0.0115\n"
          ]
        },
        {
          "output_type": "stream",
          "name": "stderr",
          "text": [
            "\n"
          ]
        },
        {
          "output_type": "stream",
          "name": "stdout",
          "text": [
            "\n",
            "      Epoch    GPU_mem   box_loss   cls_loss   dfl_loss  Instances       Size\n"
          ]
        },
        {
          "output_type": "stream",
          "name": "stderr",
          "text": [
            "     14/100      4.81G      1.692      1.593      1.982         18        640: 100%|██████████| 10/10 [00:02<00:00,  3.38it/s]\n",
            "                 Class     Images  Instances      Box(P          R      mAP50  mAP50-95): 100%|██████████| 1/1 [00:00<00:00,  3.47it/s]"
          ]
        },
        {
          "output_type": "stream",
          "name": "stdout",
          "text": [
            "                   all         29         29      0.026      0.621     0.0251    0.00772\n"
          ]
        },
        {
          "output_type": "stream",
          "name": "stderr",
          "text": [
            "\n"
          ]
        },
        {
          "output_type": "stream",
          "name": "stdout",
          "text": [
            "\n",
            "      Epoch    GPU_mem   box_loss   cls_loss   dfl_loss  Instances       Size\n"
          ]
        },
        {
          "output_type": "stream",
          "name": "stderr",
          "text": [
            "     15/100      4.85G      1.572      1.571      1.928         15        640: 100%|██████████| 10/10 [00:02<00:00,  3.59it/s]\n",
            "                 Class     Images  Instances      Box(P          R      mAP50  mAP50-95): 100%|██████████| 1/1 [00:00<00:00,  3.13it/s]"
          ]
        },
        {
          "output_type": "stream",
          "name": "stdout",
          "text": [
            "                   all         29         29      0.128      0.138     0.0535     0.0114\n"
          ]
        },
        {
          "output_type": "stream",
          "name": "stderr",
          "text": [
            "\n"
          ]
        },
        {
          "output_type": "stream",
          "name": "stdout",
          "text": [
            "\n",
            "      Epoch    GPU_mem   box_loss   cls_loss   dfl_loss  Instances       Size\n"
          ]
        },
        {
          "output_type": "stream",
          "name": "stderr",
          "text": [
            "     16/100      4.89G      1.501      1.459      1.873         19        640: 100%|██████████| 10/10 [00:02<00:00,  3.45it/s]\n",
            "                 Class     Images  Instances      Box(P          R      mAP50  mAP50-95): 100%|██████████| 1/1 [00:00<00:00,  2.65it/s]"
          ]
        },
        {
          "output_type": "stream",
          "name": "stdout",
          "text": [
            "                   all         29         29    0.00844      0.069     0.0014   0.000435\n"
          ]
        },
        {
          "output_type": "stream",
          "name": "stderr",
          "text": [
            "\n"
          ]
        },
        {
          "output_type": "stream",
          "name": "stdout",
          "text": [
            "\n",
            "      Epoch    GPU_mem   box_loss   cls_loss   dfl_loss  Instances       Size\n"
          ]
        },
        {
          "output_type": "stream",
          "name": "stderr",
          "text": [
            "     17/100      4.93G      1.579      1.456      1.872         17        640: 100%|██████████| 10/10 [00:03<00:00,  2.68it/s]\n",
            "                 Class     Images  Instances      Box(P          R      mAP50  mAP50-95): 100%|██████████| 1/1 [00:00<00:00,  3.17it/s]"
          ]
        },
        {
          "output_type": "stream",
          "name": "stdout",
          "text": [
            "                   all         29         29      0.386      0.069     0.0534      0.033\n"
          ]
        },
        {
          "output_type": "stream",
          "name": "stderr",
          "text": [
            "\n"
          ]
        },
        {
          "output_type": "stream",
          "name": "stdout",
          "text": [
            "\n",
            "      Epoch    GPU_mem   box_loss   cls_loss   dfl_loss  Instances       Size\n"
          ]
        },
        {
          "output_type": "stream",
          "name": "stderr",
          "text": [
            "     18/100      4.97G      1.509      1.478      1.868         14        640: 100%|██████████| 10/10 [00:02<00:00,  3.48it/s]\n",
            "                 Class     Images  Instances      Box(P          R      mAP50  mAP50-95): 100%|██████████| 1/1 [00:00<00:00,  3.53it/s]"
          ]
        },
        {
          "output_type": "stream",
          "name": "stdout",
          "text": [
            "                   all         29         29     0.0156      0.069    0.00272   0.000564\n"
          ]
        },
        {
          "output_type": "stream",
          "name": "stderr",
          "text": [
            "\n"
          ]
        },
        {
          "output_type": "stream",
          "name": "stdout",
          "text": [
            "\n",
            "      Epoch    GPU_mem   box_loss   cls_loss   dfl_loss  Instances       Size\n"
          ]
        },
        {
          "output_type": "stream",
          "name": "stderr",
          "text": [
            "     19/100      5.01G      1.482      1.424      1.791         16        640: 100%|██████████| 10/10 [00:02<00:00,  3.56it/s]\n",
            "                 Class     Images  Instances      Box(P          R      mAP50  mAP50-95): 100%|██████████| 1/1 [00:00<00:00,  3.08it/s]"
          ]
        },
        {
          "output_type": "stream",
          "name": "stdout",
          "text": [
            "                   all         29         29    0.00131      0.103   0.000461   0.000139\n"
          ]
        },
        {
          "output_type": "stream",
          "name": "stderr",
          "text": [
            "\n"
          ]
        },
        {
          "output_type": "stream",
          "name": "stdout",
          "text": [
            "\n",
            "      Epoch    GPU_mem   box_loss   cls_loss   dfl_loss  Instances       Size\n"
          ]
        },
        {
          "output_type": "stream",
          "name": "stderr",
          "text": [
            "     20/100      5.05G      1.492      1.381      1.824         18        640: 100%|██████████| 10/10 [00:03<00:00,  3.07it/s]\n",
            "                 Class     Images  Instances      Box(P          R      mAP50  mAP50-95): 100%|██████████| 1/1 [00:00<00:00,  1.78it/s]"
          ]
        },
        {
          "output_type": "stream",
          "name": "stdout",
          "text": [
            "                   all         29         29    0.00487      0.517    0.00412   0.000914\n"
          ]
        },
        {
          "output_type": "stream",
          "name": "stderr",
          "text": [
            "\n"
          ]
        },
        {
          "output_type": "stream",
          "name": "stdout",
          "text": [
            "\n",
            "      Epoch    GPU_mem   box_loss   cls_loss   dfl_loss  Instances       Size\n"
          ]
        },
        {
          "output_type": "stream",
          "name": "stderr",
          "text": [
            "     21/100      5.09G      1.428      1.395      1.784         15        640: 100%|██████████| 10/10 [00:03<00:00,  3.06it/s]\n",
            "                 Class     Images  Instances      Box(P          R      mAP50  mAP50-95): 100%|██████████| 1/1 [00:00<00:00,  3.48it/s]"
          ]
        },
        {
          "output_type": "stream",
          "name": "stdout",
          "text": [
            "                   all         29         29      0.143      0.552      0.105     0.0287\n"
          ]
        },
        {
          "output_type": "stream",
          "name": "stderr",
          "text": [
            "\n"
          ]
        },
        {
          "output_type": "stream",
          "name": "stdout",
          "text": [
            "\n",
            "      Epoch    GPU_mem   box_loss   cls_loss   dfl_loss  Instances       Size\n"
          ]
        },
        {
          "output_type": "stream",
          "name": "stderr",
          "text": [
            "     22/100      5.13G      1.517      1.504      1.892         21        640: 100%|██████████| 10/10 [00:02<00:00,  3.41it/s]\n",
            "                 Class     Images  Instances      Box(P          R      mAP50  mAP50-95): 100%|██████████| 1/1 [00:00<00:00,  3.65it/s]"
          ]
        },
        {
          "output_type": "stream",
          "name": "stdout",
          "text": [
            "                   all         29         29      0.209      0.483      0.259     0.0849\n"
          ]
        },
        {
          "output_type": "stream",
          "name": "stderr",
          "text": [
            "\n"
          ]
        },
        {
          "output_type": "stream",
          "name": "stdout",
          "text": [
            "\n",
            "      Epoch    GPU_mem   box_loss   cls_loss   dfl_loss  Instances       Size\n"
          ]
        },
        {
          "output_type": "stream",
          "name": "stderr",
          "text": [
            "     23/100      5.17G      1.457      1.484      1.781         18        640: 100%|██████████| 10/10 [00:02<00:00,  3.52it/s]\n",
            "                 Class     Images  Instances      Box(P          R      mAP50  mAP50-95): 100%|██████████| 1/1 [00:00<00:00,  3.12it/s]"
          ]
        },
        {
          "output_type": "stream",
          "name": "stdout",
          "text": [
            "                   all         29         29       0.06      0.207      0.037    0.00865\n"
          ]
        },
        {
          "output_type": "stream",
          "name": "stderr",
          "text": [
            "\n"
          ]
        },
        {
          "output_type": "stream",
          "name": "stdout",
          "text": [
            "\n",
            "      Epoch    GPU_mem   box_loss   cls_loss   dfl_loss  Instances       Size\n"
          ]
        },
        {
          "output_type": "stream",
          "name": "stderr",
          "text": [
            "     24/100      5.21G      1.426      1.385      1.786         13        640: 100%|██████████| 10/10 [00:03<00:00,  2.51it/s]\n",
            "                 Class     Images  Instances      Box(P          R      mAP50  mAP50-95): 100%|██████████| 1/1 [00:00<00:00,  2.21it/s]"
          ]
        },
        {
          "output_type": "stream",
          "name": "stdout",
          "text": [
            "                   all         29         29      0.193      0.511      0.155     0.0309\n"
          ]
        },
        {
          "output_type": "stream",
          "name": "stderr",
          "text": [
            "\n"
          ]
        },
        {
          "output_type": "stream",
          "name": "stdout",
          "text": [
            "\n",
            "      Epoch    GPU_mem   box_loss   cls_loss   dfl_loss  Instances       Size\n"
          ]
        },
        {
          "output_type": "stream",
          "name": "stderr",
          "text": [
            "     25/100      5.25G      1.417      1.379      1.802         15        640: 100%|██████████| 10/10 [00:02<00:00,  3.42it/s]\n",
            "                 Class     Images  Instances      Box(P          R      mAP50  mAP50-95): 100%|██████████| 1/1 [00:00<00:00,  3.05it/s]"
          ]
        },
        {
          "output_type": "stream",
          "name": "stdout",
          "text": [
            "                   all         29         29     0.0931      0.345     0.0677     0.0142\n"
          ]
        },
        {
          "output_type": "stream",
          "name": "stderr",
          "text": [
            "\n"
          ]
        },
        {
          "output_type": "stream",
          "name": "stdout",
          "text": [
            "\n",
            "      Epoch    GPU_mem   box_loss   cls_loss   dfl_loss  Instances       Size\n"
          ]
        },
        {
          "output_type": "stream",
          "name": "stderr",
          "text": [
            "     26/100      5.29G      1.341      1.407      1.738         14        640: 100%|██████████| 10/10 [00:02<00:00,  3.47it/s]\n",
            "                 Class     Images  Instances      Box(P          R      mAP50  mAP50-95): 100%|██████████| 1/1 [00:00<00:00,  2.78it/s]"
          ]
        },
        {
          "output_type": "stream",
          "name": "stdout",
          "text": [
            "                   all         29         29     0.0914      0.379     0.0648     0.0143\n"
          ]
        },
        {
          "output_type": "stream",
          "name": "stderr",
          "text": [
            "\n"
          ]
        },
        {
          "output_type": "stream",
          "name": "stdout",
          "text": [
            "\n",
            "      Epoch    GPU_mem   box_loss   cls_loss   dfl_loss  Instances       Size\n"
          ]
        },
        {
          "output_type": "stream",
          "name": "stderr",
          "text": [
            "     27/100      5.33G      1.416      1.361      1.789         15        640: 100%|██████████| 10/10 [00:03<00:00,  3.30it/s]\n",
            "                 Class     Images  Instances      Box(P          R      mAP50  mAP50-95): 100%|██████████| 1/1 [00:00<00:00,  2.06it/s]"
          ]
        },
        {
          "output_type": "stream",
          "name": "stdout",
          "text": [
            "                   all         29         29      0.177      0.517      0.156     0.0426\n"
          ]
        },
        {
          "output_type": "stream",
          "name": "stderr",
          "text": [
            "\n"
          ]
        },
        {
          "output_type": "stream",
          "name": "stdout",
          "text": [
            "\n",
            "      Epoch    GPU_mem   box_loss   cls_loss   dfl_loss  Instances       Size\n"
          ]
        },
        {
          "output_type": "stream",
          "name": "stderr",
          "text": [
            "     28/100      5.36G      1.384      1.321      1.767         23        640: 100%|██████████| 10/10 [00:03<00:00,  2.90it/s]\n",
            "                 Class     Images  Instances      Box(P          R      mAP50  mAP50-95): 100%|██████████| 1/1 [00:00<00:00,  3.48it/s]"
          ]
        },
        {
          "output_type": "stream",
          "name": "stdout",
          "text": [
            "                   all         29         29      0.302      0.552      0.278      0.102\n"
          ]
        },
        {
          "output_type": "stream",
          "name": "stderr",
          "text": [
            "\n"
          ]
        },
        {
          "output_type": "stream",
          "name": "stdout",
          "text": [
            "\n",
            "      Epoch    GPU_mem   box_loss   cls_loss   dfl_loss  Instances       Size\n"
          ]
        },
        {
          "output_type": "stream",
          "name": "stderr",
          "text": [
            "     29/100      5.41G      1.416      1.264      1.779         13        640: 100%|██████████| 10/10 [00:02<00:00,  3.56it/s]\n",
            "                 Class     Images  Instances      Box(P          R      mAP50  mAP50-95): 100%|██████████| 1/1 [00:00<00:00,  2.83it/s]"
          ]
        },
        {
          "output_type": "stream",
          "name": "stdout",
          "text": [
            "                   all         29         29      0.562      0.724      0.631      0.248\n"
          ]
        },
        {
          "output_type": "stream",
          "name": "stderr",
          "text": [
            "\n"
          ]
        },
        {
          "output_type": "stream",
          "name": "stdout",
          "text": [
            "\n",
            "      Epoch    GPU_mem   box_loss   cls_loss   dfl_loss  Instances       Size\n"
          ]
        },
        {
          "output_type": "stream",
          "name": "stderr",
          "text": [
            "     30/100      5.45G      1.345      1.217      1.736         14        640: 100%|██████████| 10/10 [00:03<00:00,  2.78it/s]\n",
            "                 Class     Images  Instances      Box(P          R      mAP50  mAP50-95): 100%|██████████| 1/1 [00:00<00:00,  2.13it/s]"
          ]
        },
        {
          "output_type": "stream",
          "name": "stdout",
          "text": [
            "                   all         29         29      0.432      0.724      0.542      0.216\n"
          ]
        },
        {
          "output_type": "stream",
          "name": "stderr",
          "text": [
            "\n"
          ]
        },
        {
          "output_type": "stream",
          "name": "stdout",
          "text": [
            "\n",
            "      Epoch    GPU_mem   box_loss   cls_loss   dfl_loss  Instances       Size\n"
          ]
        },
        {
          "output_type": "stream",
          "name": "stderr",
          "text": [
            "     31/100      5.49G      1.314      1.222      1.664         16        640: 100%|██████████| 10/10 [00:04<00:00,  2.36it/s]\n",
            "                 Class     Images  Instances      Box(P          R      mAP50  mAP50-95): 100%|██████████| 1/1 [00:00<00:00,  3.13it/s]"
          ]
        },
        {
          "output_type": "stream",
          "name": "stdout",
          "text": [
            "                   all         29         29      0.647      0.724       0.68       0.25\n"
          ]
        },
        {
          "output_type": "stream",
          "name": "stderr",
          "text": [
            "\n"
          ]
        },
        {
          "output_type": "stream",
          "name": "stdout",
          "text": [
            "\n",
            "      Epoch    GPU_mem   box_loss   cls_loss   dfl_loss  Instances       Size\n"
          ]
        },
        {
          "output_type": "stream",
          "name": "stderr",
          "text": [
            "     32/100      5.56G      1.354      1.173      1.722         11        640: 100%|██████████| 10/10 [00:02<00:00,  3.44it/s]\n",
            "                 Class     Images  Instances      Box(P          R      mAP50  mAP50-95): 100%|██████████| 1/1 [00:00<00:00,  3.24it/s]"
          ]
        },
        {
          "output_type": "stream",
          "name": "stdout",
          "text": [
            "                   all         29         29      0.658      0.864      0.785      0.324\n"
          ]
        },
        {
          "output_type": "stream",
          "name": "stderr",
          "text": [
            "\n"
          ]
        },
        {
          "output_type": "stream",
          "name": "stdout",
          "text": [
            "\n",
            "      Epoch    GPU_mem   box_loss   cls_loss   dfl_loss  Instances       Size\n"
          ]
        },
        {
          "output_type": "stream",
          "name": "stderr",
          "text": [
            "     33/100       5.6G      1.405      1.252      1.739         16        640: 100%|██████████| 10/10 [00:02<00:00,  3.57it/s]\n",
            "                 Class     Images  Instances      Box(P          R      mAP50  mAP50-95): 100%|██████████| 1/1 [00:00<00:00,  3.26it/s]"
          ]
        },
        {
          "output_type": "stream",
          "name": "stdout",
          "text": [
            "                   all         29         29      0.649      0.724      0.725      0.304\n"
          ]
        },
        {
          "output_type": "stream",
          "name": "stderr",
          "text": [
            "\n"
          ]
        },
        {
          "output_type": "stream",
          "name": "stdout",
          "text": [
            "\n",
            "      Epoch    GPU_mem   box_loss   cls_loss   dfl_loss  Instances       Size\n"
          ]
        },
        {
          "output_type": "stream",
          "name": "stderr",
          "text": [
            "     34/100      5.67G      1.294      1.199      1.661         13        640: 100%|██████████| 10/10 [00:03<00:00,  3.04it/s]\n",
            "                 Class     Images  Instances      Box(P          R      mAP50  mAP50-95): 100%|██████████| 1/1 [00:00<00:00,  2.10it/s]"
          ]
        },
        {
          "output_type": "stream",
          "name": "stdout",
          "text": [
            "                   all         29         29      0.755      0.849      0.819      0.422\n"
          ]
        },
        {
          "output_type": "stream",
          "name": "stderr",
          "text": [
            "\n"
          ]
        },
        {
          "output_type": "stream",
          "name": "stdout",
          "text": [
            "\n",
            "      Epoch    GPU_mem   box_loss   cls_loss   dfl_loss  Instances       Size\n"
          ]
        },
        {
          "output_type": "stream",
          "name": "stderr",
          "text": [
            "     35/100      5.71G      1.295      1.159      1.675         13        640: 100%|██████████| 10/10 [00:03<00:00,  3.02it/s]\n",
            "                 Class     Images  Instances      Box(P          R      mAP50  mAP50-95): 100%|██████████| 1/1 [00:00<00:00,  3.27it/s]"
          ]
        },
        {
          "output_type": "stream",
          "name": "stdout",
          "text": [
            "                   all         29         29      0.739      0.862      0.861      0.416\n"
          ]
        },
        {
          "output_type": "stream",
          "name": "stderr",
          "text": [
            "\n"
          ]
        },
        {
          "output_type": "stream",
          "name": "stdout",
          "text": [
            "\n",
            "      Epoch    GPU_mem   box_loss   cls_loss   dfl_loss  Instances       Size\n"
          ]
        },
        {
          "output_type": "stream",
          "name": "stderr",
          "text": [
            "     36/100      5.75G      1.341      1.235      1.714         13        640: 100%|██████████| 10/10 [00:02<00:00,  3.50it/s]\n",
            "                 Class     Images  Instances      Box(P          R      mAP50  mAP50-95): 100%|██████████| 1/1 [00:00<00:00,  3.04it/s]"
          ]
        },
        {
          "output_type": "stream",
          "name": "stdout",
          "text": [
            "                   all         29         29      0.596      0.828       0.74      0.317\n"
          ]
        },
        {
          "output_type": "stream",
          "name": "stderr",
          "text": [
            "\n"
          ]
        },
        {
          "output_type": "stream",
          "name": "stdout",
          "text": [
            "\n",
            "      Epoch    GPU_mem   box_loss   cls_loss   dfl_loss  Instances       Size\n"
          ]
        },
        {
          "output_type": "stream",
          "name": "stderr",
          "text": [
            "     37/100      5.83G      1.324      1.164      1.691         21        640: 100%|██████████| 10/10 [00:02<00:00,  3.61it/s]\n",
            "                 Class     Images  Instances      Box(P          R      mAP50  mAP50-95): 100%|██████████| 1/1 [00:00<00:00,  2.83it/s]"
          ]
        },
        {
          "output_type": "stream",
          "name": "stdout",
          "text": [
            "                   all         29         29      0.756      0.856      0.858      0.349\n"
          ]
        },
        {
          "output_type": "stream",
          "name": "stderr",
          "text": [
            "\n"
          ]
        },
        {
          "output_type": "stream",
          "name": "stdout",
          "text": [
            "\n",
            "      Epoch    GPU_mem   box_loss   cls_loss   dfl_loss  Instances       Size\n"
          ]
        },
        {
          "output_type": "stream",
          "name": "stderr",
          "text": [
            "     38/100      5.86G      1.275      1.171      1.666         12        640: 100%|██████████| 10/10 [00:03<00:00,  2.55it/s]\n",
            "                 Class     Images  Instances      Box(P          R      mAP50  mAP50-95): 100%|██████████| 1/1 [00:00<00:00,  2.19it/s]"
          ]
        },
        {
          "output_type": "stream",
          "name": "stdout",
          "text": [
            "                   all         29         29      0.489      0.655      0.482      0.207\n"
          ]
        },
        {
          "output_type": "stream",
          "name": "stderr",
          "text": [
            "\n"
          ]
        },
        {
          "output_type": "stream",
          "name": "stdout",
          "text": [
            "\n",
            "      Epoch    GPU_mem   box_loss   cls_loss   dfl_loss  Instances       Size\n"
          ]
        },
        {
          "output_type": "stream",
          "name": "stderr",
          "text": [
            "     39/100      5.94G      1.332      1.113      1.727         17        640: 100%|██████████| 10/10 [00:02<00:00,  3.45it/s]\n",
            "                 Class     Images  Instances      Box(P          R      mAP50  mAP50-95): 100%|██████████| 1/1 [00:00<00:00,  3.05it/s]"
          ]
        },
        {
          "output_type": "stream",
          "name": "stdout",
          "text": [
            "                   all         29         29      0.735      0.862      0.827       0.34\n"
          ]
        },
        {
          "output_type": "stream",
          "name": "stderr",
          "text": [
            "\n"
          ]
        },
        {
          "output_type": "stream",
          "name": "stdout",
          "text": [
            "\n",
            "      Epoch    GPU_mem   box_loss   cls_loss   dfl_loss  Instances       Size\n"
          ]
        },
        {
          "output_type": "stream",
          "name": "stderr",
          "text": [
            "     40/100      5.98G      1.277       1.11      1.648         20        640: 100%|██████████| 10/10 [00:02<00:00,  3.46it/s]\n",
            "                 Class     Images  Instances      Box(P          R      mAP50  mAP50-95): 100%|██████████| 1/1 [00:00<00:00,  3.64it/s]"
          ]
        },
        {
          "output_type": "stream",
          "name": "stdout",
          "text": [
            "                   all         29         29       0.85      0.981      0.947      0.525\n"
          ]
        },
        {
          "output_type": "stream",
          "name": "stderr",
          "text": [
            "\n"
          ]
        },
        {
          "output_type": "stream",
          "name": "stdout",
          "text": [
            "\n",
            "      Epoch    GPU_mem   box_loss   cls_loss   dfl_loss  Instances       Size\n"
          ]
        },
        {
          "output_type": "stream",
          "name": "stderr",
          "text": [
            "     41/100      6.05G      1.192      1.078      1.589         13        640: 100%|██████████| 10/10 [00:03<00:00,  3.07it/s]\n",
            "                 Class     Images  Instances      Box(P          R      mAP50  mAP50-95): 100%|██████████| 1/1 [00:00<00:00,  2.27it/s]"
          ]
        },
        {
          "output_type": "stream",
          "name": "stdout",
          "text": [
            "                   all         29         29      0.666      0.586      0.749      0.333\n"
          ]
        },
        {
          "output_type": "stream",
          "name": "stderr",
          "text": [
            "\n"
          ]
        },
        {
          "output_type": "stream",
          "name": "stdout",
          "text": [
            "\n",
            "      Epoch    GPU_mem   box_loss   cls_loss   dfl_loss  Instances       Size\n"
          ]
        },
        {
          "output_type": "stream",
          "name": "stderr",
          "text": [
            "     42/100      6.09G      1.265      1.081      1.608         17        640: 100%|██████████| 10/10 [00:03<00:00,  2.85it/s]\n",
            "                 Class     Images  Instances      Box(P          R      mAP50  mAP50-95): 100%|██████████| 1/1 [00:00<00:00,  3.27it/s]"
          ]
        },
        {
          "output_type": "stream",
          "name": "stdout",
          "text": [
            "                   all         29         29      0.721      0.897      0.854       0.43\n"
          ]
        },
        {
          "output_type": "stream",
          "name": "stderr",
          "text": [
            "\n"
          ]
        },
        {
          "output_type": "stream",
          "name": "stdout",
          "text": [
            "\n",
            "      Epoch    GPU_mem   box_loss   cls_loss   dfl_loss  Instances       Size\n"
          ]
        },
        {
          "output_type": "stream",
          "name": "stderr",
          "text": [
            "     43/100      6.13G       1.25      1.132      1.647         11        640: 100%|██████████| 10/10 [00:02<00:00,  3.49it/s]\n",
            "                 Class     Images  Instances      Box(P          R      mAP50  mAP50-95): 100%|██████████| 1/1 [00:00<00:00,  3.16it/s]"
          ]
        },
        {
          "output_type": "stream",
          "name": "stdout",
          "text": [
            "                   all         29         29      0.812      0.895      0.889      0.462\n"
          ]
        },
        {
          "output_type": "stream",
          "name": "stderr",
          "text": [
            "\n"
          ]
        },
        {
          "output_type": "stream",
          "name": "stdout",
          "text": [
            "\n",
            "      Epoch    GPU_mem   box_loss   cls_loss   dfl_loss  Instances       Size\n"
          ]
        },
        {
          "output_type": "stream",
          "name": "stderr",
          "text": [
            "     44/100       6.2G      1.184      1.006      1.573         13        640: 100%|██████████| 10/10 [00:02<00:00,  3.43it/s]\n",
            "                 Class     Images  Instances      Box(P          R      mAP50  mAP50-95): 100%|██████████| 1/1 [00:00<00:00,  3.37it/s]"
          ]
        },
        {
          "output_type": "stream",
          "name": "stdout",
          "text": [
            "                   all         29         29      0.881      0.828      0.944      0.474\n"
          ]
        },
        {
          "output_type": "stream",
          "name": "stderr",
          "text": [
            "\n"
          ]
        },
        {
          "output_type": "stream",
          "name": "stdout",
          "text": [
            "\n",
            "      Epoch    GPU_mem   box_loss   cls_loss   dfl_loss  Instances       Size\n"
          ]
        },
        {
          "output_type": "stream",
          "name": "stderr",
          "text": [
            "     45/100      6.24G       1.11      1.029      1.551         13        640: 100%|██████████| 10/10 [00:05<00:00,  1.82it/s]\n",
            "                 Class     Images  Instances      Box(P          R      mAP50  mAP50-95): 100%|██████████| 1/1 [00:00<00:00,  2.06it/s]"
          ]
        },
        {
          "output_type": "stream",
          "name": "stdout",
          "text": [
            "                   all         29         29      0.961      0.855      0.959      0.518\n"
          ]
        },
        {
          "output_type": "stream",
          "name": "stderr",
          "text": [
            "\n"
          ]
        },
        {
          "output_type": "stream",
          "name": "stdout",
          "text": [
            "\n",
            "      Epoch    GPU_mem   box_loss   cls_loss   dfl_loss  Instances       Size\n"
          ]
        },
        {
          "output_type": "stream",
          "name": "stderr",
          "text": [
            "     46/100      6.32G      1.229      1.053      1.599         18        640: 100%|██████████| 10/10 [00:04<00:00,  2.25it/s]\n",
            "                 Class     Images  Instances      Box(P          R      mAP50  mAP50-95): 100%|██████████| 1/1 [00:00<00:00,  2.38it/s]"
          ]
        },
        {
          "output_type": "stream",
          "name": "stdout",
          "text": [
            "                   all         29         29      0.929      0.931      0.974      0.597\n"
          ]
        },
        {
          "output_type": "stream",
          "name": "stderr",
          "text": [
            "\n"
          ]
        },
        {
          "output_type": "stream",
          "name": "stdout",
          "text": [
            "\n",
            "      Epoch    GPU_mem   box_loss   cls_loss   dfl_loss  Instances       Size\n"
          ]
        },
        {
          "output_type": "stream",
          "name": "stderr",
          "text": [
            "     47/100      6.35G      1.123     0.9882      1.516         11        640: 100%|██████████| 10/10 [00:03<00:00,  3.26it/s]\n",
            "                 Class     Images  Instances      Box(P          R      mAP50  mAP50-95): 100%|██████████| 1/1 [00:00<00:00,  1.94it/s]"
          ]
        },
        {
          "output_type": "stream",
          "name": "stdout",
          "text": [
            "                   all         29         29       0.78      0.897      0.933      0.465\n"
          ]
        },
        {
          "output_type": "stream",
          "name": "stderr",
          "text": [
            "\n"
          ]
        },
        {
          "output_type": "stream",
          "name": "stdout",
          "text": [
            "\n",
            "      Epoch    GPU_mem   box_loss   cls_loss   dfl_loss  Instances       Size\n"
          ]
        },
        {
          "output_type": "stream",
          "name": "stderr",
          "text": [
            "     48/100      6.43G      1.147     0.9283      1.567         16        640: 100%|██████████| 10/10 [00:03<00:00,  2.86it/s]\n",
            "                 Class     Images  Instances      Box(P          R      mAP50  mAP50-95): 100%|██████████| 1/1 [00:00<00:00,  3.44it/s]"
          ]
        },
        {
          "output_type": "stream",
          "name": "stdout",
          "text": [
            "                   all         29         29       0.71      0.759      0.738      0.335\n"
          ]
        },
        {
          "output_type": "stream",
          "name": "stderr",
          "text": [
            "\n"
          ]
        },
        {
          "output_type": "stream",
          "name": "stdout",
          "text": [
            "\n",
            "      Epoch    GPU_mem   box_loss   cls_loss   dfl_loss  Instances       Size\n"
          ]
        },
        {
          "output_type": "stream",
          "name": "stderr",
          "text": [
            "     49/100      6.47G      1.164      1.006      1.525         13        640: 100%|██████████| 10/10 [00:02<00:00,  3.49it/s]\n",
            "                 Class     Images  Instances      Box(P          R      mAP50  mAP50-95): 100%|██████████| 1/1 [00:00<00:00,  2.70it/s]"
          ]
        },
        {
          "output_type": "stream",
          "name": "stdout",
          "text": [
            "                   all         29         29      0.786      0.828      0.851      0.406\n"
          ]
        },
        {
          "output_type": "stream",
          "name": "stderr",
          "text": [
            "\n"
          ]
        },
        {
          "output_type": "stream",
          "name": "stdout",
          "text": [
            "\n",
            "      Epoch    GPU_mem   box_loss   cls_loss   dfl_loss  Instances       Size\n"
          ]
        },
        {
          "output_type": "stream",
          "name": "stderr",
          "text": [
            "     50/100      6.54G      1.208      1.016      1.589         17        640: 100%|██████████| 10/10 [00:03<00:00,  3.02it/s]\n",
            "                 Class     Images  Instances      Box(P          R      mAP50  mAP50-95): 100%|██████████| 1/1 [00:00<00:00,  3.43it/s]"
          ]
        },
        {
          "output_type": "stream",
          "name": "stdout",
          "text": [
            "                   all         29         29      0.912      0.862      0.962      0.526\n"
          ]
        },
        {
          "output_type": "stream",
          "name": "stderr",
          "text": [
            "\n"
          ]
        },
        {
          "output_type": "stream",
          "name": "stdout",
          "text": [
            "\n",
            "      Epoch    GPU_mem   box_loss   cls_loss   dfl_loss  Instances       Size\n"
          ]
        },
        {
          "output_type": "stream",
          "name": "stderr",
          "text": [
            "     51/100      6.58G       1.15     0.9861      1.589         21        640: 100%|██████████| 10/10 [00:05<00:00,  1.94it/s]\n",
            "                 Class     Images  Instances      Box(P          R      mAP50  mAP50-95): 100%|██████████| 1/1 [00:00<00:00,  2.53it/s]"
          ]
        },
        {
          "output_type": "stream",
          "name": "stdout",
          "text": [
            "                   all         29         29      0.731      0.752       0.79      0.403\n"
          ]
        },
        {
          "output_type": "stream",
          "name": "stderr",
          "text": [
            "\n"
          ]
        },
        {
          "output_type": "stream",
          "name": "stdout",
          "text": [
            "\n",
            "      Epoch    GPU_mem   box_loss   cls_loss   dfl_loss  Instances       Size\n"
          ]
        },
        {
          "output_type": "stream",
          "name": "stderr",
          "text": [
            "     52/100      6.62G      1.082     0.9562      1.503         16        640: 100%|██████████| 10/10 [00:02<00:00,  3.53it/s]\n",
            "                 Class     Images  Instances      Box(P          R      mAP50  mAP50-95): 100%|██████████| 1/1 [00:00<00:00,  3.21it/s]"
          ]
        },
        {
          "output_type": "stream",
          "name": "stdout",
          "text": [
            "                   all         29         29      0.896      0.759      0.853      0.425\n"
          ]
        },
        {
          "output_type": "stream",
          "name": "stderr",
          "text": [
            "\n"
          ]
        },
        {
          "output_type": "stream",
          "name": "stdout",
          "text": [
            "\n",
            "      Epoch    GPU_mem   box_loss   cls_loss   dfl_loss  Instances       Size\n"
          ]
        },
        {
          "output_type": "stream",
          "name": "stderr",
          "text": [
            "     53/100       6.7G      1.107     0.9318      1.516         13        640: 100%|██████████| 10/10 [00:03<00:00,  3.11it/s]\n",
            "                 Class     Images  Instances      Box(P          R      mAP50  mAP50-95): 100%|██████████| 1/1 [00:00<00:00,  3.50it/s]"
          ]
        },
        {
          "output_type": "stream",
          "name": "stdout",
          "text": [
            "                   all         29         29      0.884      0.787      0.933      0.526\n"
          ]
        },
        {
          "output_type": "stream",
          "name": "stderr",
          "text": [
            "\n"
          ]
        },
        {
          "output_type": "stream",
          "name": "stdout",
          "text": [
            "\n",
            "      Epoch    GPU_mem   box_loss   cls_loss   dfl_loss  Instances       Size\n"
          ]
        },
        {
          "output_type": "stream",
          "name": "stderr",
          "text": [
            "     54/100      6.73G      1.044     0.8383      1.466         14        640: 100%|██████████| 10/10 [00:03<00:00,  2.59it/s]\n",
            "                 Class     Images  Instances      Box(P          R      mAP50  mAP50-95): 100%|██████████| 1/1 [00:00<00:00,  2.34it/s]"
          ]
        },
        {
          "output_type": "stream",
          "name": "stdout",
          "text": [
            "                   all         29         29      0.945      0.931      0.973      0.592\n"
          ]
        },
        {
          "output_type": "stream",
          "name": "stderr",
          "text": [
            "\n"
          ]
        },
        {
          "output_type": "stream",
          "name": "stdout",
          "text": [
            "\n",
            "      Epoch    GPU_mem   box_loss   cls_loss   dfl_loss  Instances       Size\n"
          ]
        },
        {
          "output_type": "stream",
          "name": "stderr",
          "text": [
            "     55/100       6.8G      1.055     0.9543      1.505         13        640: 100%|██████████| 10/10 [00:02<00:00,  3.55it/s]\n",
            "                 Class     Images  Instances      Box(P          R      mAP50  mAP50-95): 100%|██████████| 1/1 [00:00<00:00,  2.81it/s]"
          ]
        },
        {
          "output_type": "stream",
          "name": "stdout",
          "text": [
            "                   all         29         29      0.928      0.892       0.95      0.498\n"
          ]
        },
        {
          "output_type": "stream",
          "name": "stderr",
          "text": [
            "\n"
          ]
        },
        {
          "output_type": "stream",
          "name": "stdout",
          "text": [
            "\n",
            "      Epoch    GPU_mem   box_loss   cls_loss   dfl_loss  Instances       Size\n"
          ]
        },
        {
          "output_type": "stream",
          "name": "stderr",
          "text": [
            "     56/100      6.85G      1.005     0.8434      1.445         15        640: 100%|██████████| 10/10 [00:02<00:00,  3.47it/s]\n",
            "                 Class     Images  Instances      Box(P          R      mAP50  mAP50-95): 100%|██████████| 1/1 [00:00<00:00,  3.34it/s]"
          ]
        },
        {
          "output_type": "stream",
          "name": "stdout",
          "text": [
            "                   all         29         29      0.927      0.872       0.98      0.588\n"
          ]
        },
        {
          "output_type": "stream",
          "name": "stderr",
          "text": [
            "\n"
          ]
        },
        {
          "output_type": "stream",
          "name": "stdout",
          "text": [
            "\n",
            "      Epoch    GPU_mem   box_loss   cls_loss   dfl_loss  Instances       Size\n"
          ]
        },
        {
          "output_type": "stream",
          "name": "stderr",
          "text": [
            "     57/100      6.92G      1.022     0.8336      1.453         22        640: 100%|██████████| 10/10 [00:02<00:00,  3.38it/s]\n",
            "                 Class     Images  Instances      Box(P          R      mAP50  mAP50-95): 100%|██████████| 1/1 [00:00<00:00,  2.27it/s]"
          ]
        },
        {
          "output_type": "stream",
          "name": "stdout",
          "text": [
            "                   all         29         29      0.884      0.966       0.98      0.614\n"
          ]
        },
        {
          "output_type": "stream",
          "name": "stderr",
          "text": [
            "\n"
          ]
        },
        {
          "output_type": "stream",
          "name": "stdout",
          "text": [
            "\n",
            "      Epoch    GPU_mem   box_loss   cls_loss   dfl_loss  Instances       Size\n"
          ]
        },
        {
          "output_type": "stream",
          "name": "stderr",
          "text": [
            "     58/100      6.96G      1.067     0.8443      1.431         18        640: 100%|██████████| 10/10 [00:03<00:00,  2.81it/s]\n",
            "                 Class     Images  Instances      Box(P          R      mAP50  mAP50-95): 100%|██████████| 1/1 [00:00<00:00,  3.50it/s]"
          ]
        },
        {
          "output_type": "stream",
          "name": "stdout",
          "text": [
            "                   all         29         29      0.966      0.985      0.994       0.55\n"
          ]
        },
        {
          "output_type": "stream",
          "name": "stderr",
          "text": [
            "\n"
          ]
        },
        {
          "output_type": "stream",
          "name": "stdout",
          "text": [
            "\n",
            "      Epoch    GPU_mem   box_loss   cls_loss   dfl_loss  Instances       Size\n"
          ]
        },
        {
          "output_type": "stream",
          "name": "stderr",
          "text": [
            "     59/100         7G      1.112     0.9097      1.516         13        640: 100%|██████████| 10/10 [00:02<00:00,  3.62it/s]\n",
            "                 Class     Images  Instances      Box(P          R      mAP50  mAP50-95): 100%|██████████| 1/1 [00:00<00:00,  3.36it/s]"
          ]
        },
        {
          "output_type": "stream",
          "name": "stdout",
          "text": [
            "                   all         29         29      0.932      0.943      0.959      0.521\n"
          ]
        },
        {
          "output_type": "stream",
          "name": "stderr",
          "text": [
            "\n"
          ]
        },
        {
          "output_type": "stream",
          "name": "stdout",
          "text": [
            "\n",
            "      Epoch    GPU_mem   box_loss   cls_loss   dfl_loss  Instances       Size\n"
          ]
        },
        {
          "output_type": "stream",
          "name": "stderr",
          "text": [
            "     60/100      7.33G      1.005     0.8603      1.432         15        640: 100%|██████████| 10/10 [00:02<00:00,  3.49it/s]\n",
            "                 Class     Images  Instances      Box(P          R      mAP50  mAP50-95): 100%|██████████| 1/1 [00:00<00:00,  3.02it/s]"
          ]
        },
        {
          "output_type": "stream",
          "name": "stdout",
          "text": [
            "                   all         29         29      0.964          1      0.994      0.536\n"
          ]
        },
        {
          "output_type": "stream",
          "name": "stderr",
          "text": [
            "\n"
          ]
        },
        {
          "output_type": "stream",
          "name": "stdout",
          "text": [
            "\n",
            "      Epoch    GPU_mem   box_loss   cls_loss   dfl_loss  Instances       Size\n"
          ]
        },
        {
          "output_type": "stream",
          "name": "stderr",
          "text": [
            "     61/100      7.37G      1.059     0.8757      1.507         10        640: 100%|██████████| 10/10 [00:03<00:00,  2.88it/s]\n",
            "                 Class     Images  Instances      Box(P          R      mAP50  mAP50-95): 100%|██████████| 1/1 [00:00<00:00,  1.80it/s]"
          ]
        },
        {
          "output_type": "stream",
          "name": "stdout",
          "text": [
            "                   all         29         29      0.992          1      0.995      0.614\n"
          ]
        },
        {
          "output_type": "stream",
          "name": "stderr",
          "text": [
            "\n"
          ]
        },
        {
          "output_type": "stream",
          "name": "stdout",
          "text": [
            "\n",
            "      Epoch    GPU_mem   box_loss   cls_loss   dfl_loss  Instances       Size\n"
          ]
        },
        {
          "output_type": "stream",
          "name": "stderr",
          "text": [
            "     62/100      4.27G      1.044       0.87      1.476         14        640: 100%|██████████| 10/10 [00:02<00:00,  3.46it/s]\n",
            "                 Class     Images  Instances      Box(P          R      mAP50  mAP50-95): 100%|██████████| 1/1 [00:00<00:00,  3.44it/s]"
          ]
        },
        {
          "output_type": "stream",
          "name": "stdout",
          "text": [
            "                   all         29         29      0.844       0.93      0.908       0.53\n"
          ]
        },
        {
          "output_type": "stream",
          "name": "stderr",
          "text": [
            "\n"
          ]
        },
        {
          "output_type": "stream",
          "name": "stdout",
          "text": [
            "\n",
            "      Epoch    GPU_mem   box_loss   cls_loss   dfl_loss  Instances       Size\n"
          ]
        },
        {
          "output_type": "stream",
          "name": "stderr",
          "text": [
            "     63/100      4.56G      1.071     0.8821      1.471         12        640: 100%|██████████| 10/10 [00:02<00:00,  3.43it/s]\n",
            "                 Class     Images  Instances      Box(P          R      mAP50  mAP50-95): 100%|██████████| 1/1 [00:00<00:00,  3.47it/s]"
          ]
        },
        {
          "output_type": "stream",
          "name": "stdout",
          "text": [
            "                   all         29         29      0.629      0.828      0.786      0.451\n"
          ]
        },
        {
          "output_type": "stream",
          "name": "stderr",
          "text": [
            "\n"
          ]
        },
        {
          "output_type": "stream",
          "name": "stdout",
          "text": [
            "\n",
            "      Epoch    GPU_mem   box_loss   cls_loss   dfl_loss  Instances       Size\n"
          ]
        },
        {
          "output_type": "stream",
          "name": "stderr",
          "text": [
            "     64/100      4.56G     0.9587      0.771       1.39         17        640: 100%|██████████| 10/10 [00:03<00:00,  3.10it/s]\n",
            "                 Class     Images  Instances      Box(P          R      mAP50  mAP50-95): 100%|██████████| 1/1 [00:00<00:00,  2.24it/s]"
          ]
        },
        {
          "output_type": "stream",
          "name": "stdout",
          "text": [
            "                   all         29         29       0.61      0.862      0.792      0.408\n"
          ]
        },
        {
          "output_type": "stream",
          "name": "stderr",
          "text": [
            "\n"
          ]
        },
        {
          "output_type": "stream",
          "name": "stdout",
          "text": [
            "\n",
            "      Epoch    GPU_mem   box_loss   cls_loss   dfl_loss  Instances       Size\n"
          ]
        },
        {
          "output_type": "stream",
          "name": "stderr",
          "text": [
            "     65/100      4.56G      1.016     0.8972      1.494         11        640: 100%|██████████| 10/10 [00:03<00:00,  2.96it/s]\n",
            "                 Class     Images  Instances      Box(P          R      mAP50  mAP50-95): 100%|██████████| 1/1 [00:00<00:00,  3.38it/s]"
          ]
        },
        {
          "output_type": "stream",
          "name": "stdout",
          "text": [
            "                   all         29         29      0.816          1      0.926      0.599\n"
          ]
        },
        {
          "output_type": "stream",
          "name": "stderr",
          "text": [
            "\n"
          ]
        },
        {
          "output_type": "stream",
          "name": "stdout",
          "text": [
            "\n",
            "      Epoch    GPU_mem   box_loss   cls_loss   dfl_loss  Instances       Size\n"
          ]
        },
        {
          "output_type": "stream",
          "name": "stderr",
          "text": [
            "     66/100      4.56G      1.035     0.8516      1.516         14        640: 100%|██████████| 10/10 [00:02<00:00,  3.47it/s]\n",
            "                 Class     Images  Instances      Box(P          R      mAP50  mAP50-95): 100%|██████████| 1/1 [00:00<00:00,  3.37it/s]"
          ]
        },
        {
          "output_type": "stream",
          "name": "stdout",
          "text": [
            "                   all         29         29      0.942      0.966      0.983      0.676\n"
          ]
        },
        {
          "output_type": "stream",
          "name": "stderr",
          "text": [
            "\n"
          ]
        },
        {
          "output_type": "stream",
          "name": "stdout",
          "text": [
            "\n",
            "      Epoch    GPU_mem   box_loss   cls_loss   dfl_loss  Instances       Size\n"
          ]
        },
        {
          "output_type": "stream",
          "name": "stderr",
          "text": [
            "     67/100      4.56G      1.009     0.8561      1.462          9        640: 100%|██████████| 10/10 [00:02<00:00,  3.57it/s]\n",
            "                 Class     Images  Instances      Box(P          R      mAP50  mAP50-95): 100%|██████████| 1/1 [00:00<00:00,  3.16it/s]"
          ]
        },
        {
          "output_type": "stream",
          "name": "stdout",
          "text": [
            "                   all         29         29      0.906          1       0.99      0.607\n"
          ]
        },
        {
          "output_type": "stream",
          "name": "stderr",
          "text": [
            "\n"
          ]
        },
        {
          "output_type": "stream",
          "name": "stdout",
          "text": [
            "\n",
            "      Epoch    GPU_mem   box_loss   cls_loss   dfl_loss  Instances       Size\n"
          ]
        },
        {
          "output_type": "stream",
          "name": "stderr",
          "text": [
            "     68/100      4.59G      1.012     0.7714      1.409         19        640: 100%|██████████| 10/10 [00:04<00:00,  2.29it/s]\n",
            "                 Class     Images  Instances      Box(P          R      mAP50  mAP50-95): 100%|██████████| 1/1 [00:00<00:00,  1.86it/s]"
          ]
        },
        {
          "output_type": "stream",
          "name": "stdout",
          "text": [
            "                   all         29         29       0.94          1      0.992      0.584\n"
          ]
        },
        {
          "output_type": "stream",
          "name": "stderr",
          "text": [
            "\n"
          ]
        },
        {
          "output_type": "stream",
          "name": "stdout",
          "text": [
            "\n",
            "      Epoch    GPU_mem   box_loss   cls_loss   dfl_loss  Instances       Size\n"
          ]
        },
        {
          "output_type": "stream",
          "name": "stderr",
          "text": [
            "     69/100      4.63G     0.9558     0.7462      1.369         20        640: 100%|██████████| 10/10 [00:03<00:00,  3.01it/s]\n",
            "                 Class     Images  Instances      Box(P          R      mAP50  mAP50-95): 100%|██████████| 1/1 [00:00<00:00,  3.44it/s]"
          ]
        },
        {
          "output_type": "stream",
          "name": "stdout",
          "text": [
            "                   all         29         29      0.962      0.966      0.993      0.621\n"
          ]
        },
        {
          "output_type": "stream",
          "name": "stderr",
          "text": [
            "\n"
          ]
        },
        {
          "output_type": "stream",
          "name": "stdout",
          "text": [
            "\n",
            "      Epoch    GPU_mem   box_loss   cls_loss   dfl_loss  Instances       Size\n"
          ]
        },
        {
          "output_type": "stream",
          "name": "stderr",
          "text": [
            "     70/100      4.67G     0.9452     0.7358      1.398         16        640: 100%|██████████| 10/10 [00:02<00:00,  3.48it/s]\n",
            "                 Class     Images  Instances      Box(P          R      mAP50  mAP50-95): 100%|██████████| 1/1 [00:00<00:00,  3.62it/s]"
          ]
        },
        {
          "output_type": "stream",
          "name": "stdout",
          "text": [
            "                   all         29         29          1      0.862      0.981      0.635\n"
          ]
        },
        {
          "output_type": "stream",
          "name": "stderr",
          "text": [
            "\n"
          ]
        },
        {
          "output_type": "stream",
          "name": "stdout",
          "text": [
            "\n",
            "      Epoch    GPU_mem   box_loss   cls_loss   dfl_loss  Instances       Size\n"
          ]
        },
        {
          "output_type": "stream",
          "name": "stderr",
          "text": [
            "     71/100      4.71G      1.001     0.8157      1.438         15        640: 100%|██████████| 10/10 [00:02<00:00,  3.56it/s]\n",
            "                 Class     Images  Instances      Box(P          R      mAP50  mAP50-95): 100%|██████████| 1/1 [00:00<00:00,  2.66it/s]"
          ]
        },
        {
          "output_type": "stream",
          "name": "stdout",
          "text": [
            "                   all         29         29      0.932      0.966      0.983      0.628\n"
          ]
        },
        {
          "output_type": "stream",
          "name": "stderr",
          "text": [
            "\n"
          ]
        },
        {
          "output_type": "stream",
          "name": "stdout",
          "text": [
            "\n",
            "      Epoch    GPU_mem   box_loss   cls_loss   dfl_loss  Instances       Size\n"
          ]
        },
        {
          "output_type": "stream",
          "name": "stderr",
          "text": [
            "     72/100      4.75G     0.9604     0.7751      1.392         14        640: 100%|██████████| 10/10 [00:03<00:00,  2.52it/s]\n",
            "                 Class     Images  Instances      Box(P          R      mAP50  mAP50-95): 100%|██████████| 1/1 [00:00<00:00,  2.58it/s]"
          ]
        },
        {
          "output_type": "stream",
          "name": "stdout",
          "text": [
            "                   all         29         29      0.923      0.966      0.984      0.609\n"
          ]
        },
        {
          "output_type": "stream",
          "name": "stderr",
          "text": [
            "\n"
          ]
        },
        {
          "output_type": "stream",
          "name": "stdout",
          "text": [
            "\n",
            "      Epoch    GPU_mem   box_loss   cls_loss   dfl_loss  Instances       Size\n"
          ]
        },
        {
          "output_type": "stream",
          "name": "stderr",
          "text": [
            "     73/100      4.79G     0.9708     0.7749      1.423         15        640: 100%|██████████| 10/10 [00:02<00:00,  3.55it/s]\n",
            "                 Class     Images  Instances      Box(P          R      mAP50  mAP50-95): 100%|██████████| 1/1 [00:00<00:00,  3.69it/s]"
          ]
        },
        {
          "output_type": "stream",
          "name": "stdout",
          "text": [
            "                   all         29         29      0.874      0.966      0.939       0.55\n"
          ]
        },
        {
          "output_type": "stream",
          "name": "stderr",
          "text": [
            "\n"
          ]
        },
        {
          "output_type": "stream",
          "name": "stdout",
          "text": [
            "\n",
            "      Epoch    GPU_mem   box_loss   cls_loss   dfl_loss  Instances       Size\n"
          ]
        },
        {
          "output_type": "stream",
          "name": "stderr",
          "text": [
            "     74/100      4.83G      1.015     0.8071      1.455         16        640: 100%|██████████| 10/10 [00:02<00:00,  3.41it/s]\n",
            "                 Class     Images  Instances      Box(P          R      mAP50  mAP50-95): 100%|██████████| 1/1 [00:00<00:00,  3.56it/s]"
          ]
        },
        {
          "output_type": "stream",
          "name": "stdout",
          "text": [
            "                   all         29         29      0.886      0.862       0.93      0.513\n"
          ]
        },
        {
          "output_type": "stream",
          "name": "stderr",
          "text": [
            "\n"
          ]
        },
        {
          "output_type": "stream",
          "name": "stdout",
          "text": [
            "\n",
            "      Epoch    GPU_mem   box_loss   cls_loss   dfl_loss  Instances       Size\n"
          ]
        },
        {
          "output_type": "stream",
          "name": "stderr",
          "text": [
            "     75/100      4.87G     0.9453     0.7568      1.428         13        640: 100%|██████████| 10/10 [00:03<00:00,  3.17it/s]\n",
            "                 Class     Images  Instances      Box(P          R      mAP50  mAP50-95): 100%|██████████| 1/1 [00:00<00:00,  2.02it/s]"
          ]
        },
        {
          "output_type": "stream",
          "name": "stdout",
          "text": [
            "                   all         29         29      0.895      0.966      0.955      0.558\n"
          ]
        },
        {
          "output_type": "stream",
          "name": "stderr",
          "text": [
            "\n"
          ]
        },
        {
          "output_type": "stream",
          "name": "stdout",
          "text": [
            "\n",
            "      Epoch    GPU_mem   box_loss   cls_loss   dfl_loss  Instances       Size\n"
          ]
        },
        {
          "output_type": "stream",
          "name": "stderr",
          "text": [
            "     76/100      4.91G     0.9629     0.7602      1.432         18        640: 100%|██████████| 10/10 [00:03<00:00,  2.96it/s]\n",
            "                 Class     Images  Instances      Box(P          R      mAP50  mAP50-95): 100%|██████████| 1/1 [00:00<00:00,  3.39it/s]"
          ]
        },
        {
          "output_type": "stream",
          "name": "stdout",
          "text": [
            "                   all         29         29      0.965      0.952      0.975      0.629\n"
          ]
        },
        {
          "output_type": "stream",
          "name": "stderr",
          "text": [
            "\n"
          ]
        },
        {
          "output_type": "stream",
          "name": "stdout",
          "text": [
            "\n",
            "      Epoch    GPU_mem   box_loss   cls_loss   dfl_loss  Instances       Size\n"
          ]
        },
        {
          "output_type": "stream",
          "name": "stderr",
          "text": [
            "     77/100      4.95G     0.9407      0.743      1.387         14        640: 100%|██████████| 10/10 [00:02<00:00,  3.47it/s]\n",
            "                 Class     Images  Instances      Box(P          R      mAP50  mAP50-95): 100%|██████████| 1/1 [00:00<00:00,  2.98it/s]"
          ]
        },
        {
          "output_type": "stream",
          "name": "stdout",
          "text": [
            "                   all         29         29      0.961      0.966       0.97      0.613\n"
          ]
        },
        {
          "output_type": "stream",
          "name": "stderr",
          "text": [
            "\n"
          ]
        },
        {
          "output_type": "stream",
          "name": "stdout",
          "text": [
            "\n",
            "      Epoch    GPU_mem   box_loss   cls_loss   dfl_loss  Instances       Size\n"
          ]
        },
        {
          "output_type": "stream",
          "name": "stderr",
          "text": [
            "     78/100      4.98G     0.9554     0.7575      1.446         15        640: 100%|██████████| 10/10 [00:02<00:00,  3.40it/s]\n",
            "                 Class     Images  Instances      Box(P          R      mAP50  mAP50-95): 100%|██████████| 1/1 [00:00<00:00,  3.59it/s]"
          ]
        },
        {
          "output_type": "stream",
          "name": "stdout",
          "text": [
            "                   all         29         29      0.933      0.966      0.969       0.64\n"
          ]
        },
        {
          "output_type": "stream",
          "name": "stderr",
          "text": [
            "\n"
          ]
        },
        {
          "output_type": "stream",
          "name": "stdout",
          "text": [
            "\n",
            "      Epoch    GPU_mem   box_loss   cls_loss   dfl_loss  Instances       Size\n"
          ]
        },
        {
          "output_type": "stream",
          "name": "stderr",
          "text": [
            "     79/100      5.03G     0.9443     0.7595      1.367         19        640: 100%|██████████| 10/10 [00:03<00:00,  2.64it/s]\n",
            "                 Class     Images  Instances      Box(P          R      mAP50  mAP50-95): 100%|██████████| 1/1 [00:00<00:00,  1.94it/s]"
          ]
        },
        {
          "output_type": "stream",
          "name": "stdout",
          "text": [
            "                   all         29         29      0.939      0.931      0.964      0.592\n"
          ]
        },
        {
          "output_type": "stream",
          "name": "stderr",
          "text": [
            "\n"
          ]
        },
        {
          "output_type": "stream",
          "name": "stdout",
          "text": [
            "\n",
            "      Epoch    GPU_mem   box_loss   cls_loss   dfl_loss  Instances       Size\n"
          ]
        },
        {
          "output_type": "stream",
          "name": "stderr",
          "text": [
            "     80/100      5.07G     0.8399     0.6594      1.304         21        640: 100%|██████████| 10/10 [00:02<00:00,  3.47it/s]\n",
            "                 Class     Images  Instances      Box(P          R      mAP50  mAP50-95): 100%|██████████| 1/1 [00:00<00:00,  3.50it/s]"
          ]
        },
        {
          "output_type": "stream",
          "name": "stdout",
          "text": [
            "                   all         29         29      0.885      0.793      0.903      0.492\n"
          ]
        },
        {
          "output_type": "stream",
          "name": "stderr",
          "text": [
            "\n"
          ]
        },
        {
          "output_type": "stream",
          "name": "stdout",
          "text": [
            "\n",
            "      Epoch    GPU_mem   box_loss   cls_loss   dfl_loss  Instances       Size\n"
          ]
        },
        {
          "output_type": "stream",
          "name": "stderr",
          "text": [
            "     81/100       5.1G     0.9283     0.7188       1.37         17        640: 100%|██████████| 10/10 [00:02<00:00,  3.49it/s]\n",
            "                 Class     Images  Instances      Box(P          R      mAP50  mAP50-95): 100%|██████████| 1/1 [00:00<00:00,  3.05it/s]"
          ]
        },
        {
          "output_type": "stream",
          "name": "stdout",
          "text": [
            "                   all         29         29      0.885      0.795      0.913      0.532\n"
          ]
        },
        {
          "output_type": "stream",
          "name": "stderr",
          "text": [
            "\n"
          ]
        },
        {
          "output_type": "stream",
          "name": "stdout",
          "text": [
            "\n",
            "      Epoch    GPU_mem   box_loss   cls_loss   dfl_loss  Instances       Size\n"
          ]
        },
        {
          "output_type": "stream",
          "name": "stderr",
          "text": [
            "     82/100      5.14G     0.9396     0.7429      1.407         16        640: 100%|██████████| 10/10 [00:03<00:00,  2.65it/s]\n",
            "                 Class     Images  Instances      Box(P          R      mAP50  mAP50-95): 100%|██████████| 1/1 [00:00<00:00,  2.16it/s]"
          ]
        },
        {
          "output_type": "stream",
          "name": "stdout",
          "text": [
            "                   all         29         29       0.78      0.979      0.943       0.59\n"
          ]
        },
        {
          "output_type": "stream",
          "name": "stderr",
          "text": [
            "\n"
          ]
        },
        {
          "output_type": "stream",
          "name": "stdout",
          "text": [
            "\n",
            "      Epoch    GPU_mem   box_loss   cls_loss   dfl_loss  Instances       Size\n"
          ]
        },
        {
          "output_type": "stream",
          "name": "stderr",
          "text": [
            "     83/100      5.18G     0.8798        0.7      1.341         17        640: 100%|██████████| 10/10 [00:03<00:00,  2.99it/s]\n",
            "                 Class     Images  Instances      Box(P          R      mAP50  mAP50-95): 100%|██████████| 1/1 [00:00<00:00,  2.61it/s]"
          ]
        },
        {
          "output_type": "stream",
          "name": "stdout",
          "text": [
            "                   all         29         29      0.904      0.974      0.976      0.612\n"
          ]
        },
        {
          "output_type": "stream",
          "name": "stderr",
          "text": [
            "\n"
          ]
        },
        {
          "output_type": "stream",
          "name": "stdout",
          "text": [
            "\n",
            "      Epoch    GPU_mem   box_loss   cls_loss   dfl_loss  Instances       Size\n"
          ]
        },
        {
          "output_type": "stream",
          "name": "stderr",
          "text": [
            "     84/100      5.22G     0.9022     0.7338      1.374         16        640: 100%|██████████| 10/10 [00:02<00:00,  3.47it/s]\n",
            "                 Class     Images  Instances      Box(P          R      mAP50  mAP50-95): 100%|██████████| 1/1 [00:00<00:00,  3.54it/s]"
          ]
        },
        {
          "output_type": "stream",
          "name": "stdout",
          "text": [
            "                   all         29         29      0.872      0.966      0.978       0.61\n"
          ]
        },
        {
          "output_type": "stream",
          "name": "stderr",
          "text": [
            "\n"
          ]
        },
        {
          "output_type": "stream",
          "name": "stdout",
          "text": [
            "\n",
            "      Epoch    GPU_mem   box_loss   cls_loss   dfl_loss  Instances       Size\n"
          ]
        },
        {
          "output_type": "stream",
          "name": "stderr",
          "text": [
            "     85/100      5.26G     0.8856     0.7074      1.337         15        640: 100%|██████████| 10/10 [00:02<00:00,  3.50it/s]\n",
            "                 Class     Images  Instances      Box(P          R      mAP50  mAP50-95): 100%|██████████| 1/1 [00:00<00:00,  2.71it/s]"
          ]
        },
        {
          "output_type": "stream",
          "name": "stdout",
          "text": [
            "                   all         29         29      0.894          1       0.98       0.63\n"
          ]
        },
        {
          "output_type": "stream",
          "name": "stderr",
          "text": [
            "\n"
          ]
        },
        {
          "output_type": "stream",
          "name": "stdout",
          "text": [
            "\n",
            "      Epoch    GPU_mem   box_loss   cls_loss   dfl_loss  Instances       Size\n"
          ]
        },
        {
          "output_type": "stream",
          "name": "stderr",
          "text": [
            "     86/100       5.3G     0.8628     0.6932      1.349         19        640: 100%|██████████| 10/10 [00:03<00:00,  2.57it/s]\n",
            "                 Class     Images  Instances      Box(P          R      mAP50  mAP50-95): 100%|██████████| 1/1 [00:00<00:00,  2.05it/s]"
          ]
        },
        {
          "output_type": "stream",
          "name": "stdout",
          "text": [
            "                   all         29         29      0.965      0.953      0.984      0.634\n"
          ]
        },
        {
          "output_type": "stream",
          "name": "stderr",
          "text": [
            "\n"
          ]
        },
        {
          "output_type": "stream",
          "name": "stdout",
          "text": [
            "\n",
            "      Epoch    GPU_mem   box_loss   cls_loss   dfl_loss  Instances       Size\n"
          ]
        },
        {
          "output_type": "stream",
          "name": "stderr",
          "text": [
            "     87/100      5.34G     0.8661     0.6911      1.356         12        640: 100%|██████████| 10/10 [00:02<00:00,  3.51it/s]\n",
            "                 Class     Images  Instances      Box(P          R      mAP50  mAP50-95): 100%|██████████| 1/1 [00:00<00:00,  3.53it/s]"
          ]
        },
        {
          "output_type": "stream",
          "name": "stdout",
          "text": [
            "                   all         29         29      0.922      0.966      0.958      0.599\n"
          ]
        },
        {
          "output_type": "stream",
          "name": "stderr",
          "text": [
            "\n"
          ]
        },
        {
          "output_type": "stream",
          "name": "stdout",
          "text": [
            "\n",
            "      Epoch    GPU_mem   box_loss   cls_loss   dfl_loss  Instances       Size\n"
          ]
        },
        {
          "output_type": "stream",
          "name": "stderr",
          "text": [
            "     88/100      5.38G     0.8041     0.6439      1.287         15        640: 100%|██████████| 10/10 [00:02<00:00,  3.48it/s]\n",
            "                 Class     Images  Instances      Box(P          R      mAP50  mAP50-95): 100%|██████████| 1/1 [00:00<00:00,  3.43it/s]"
          ]
        },
        {
          "output_type": "stream",
          "name": "stdout",
          "text": [
            "                   all         29         29       0.93       0.92      0.949      0.604\n"
          ]
        },
        {
          "output_type": "stream",
          "name": "stderr",
          "text": [
            "\n"
          ]
        },
        {
          "output_type": "stream",
          "name": "stdout",
          "text": [
            "\n",
            "      Epoch    GPU_mem   box_loss   cls_loss   dfl_loss  Instances       Size\n"
          ]
        },
        {
          "output_type": "stream",
          "name": "stderr",
          "text": [
            "     89/100      5.42G     0.8523     0.6817      1.322         19        640: 100%|██████████| 10/10 [00:03<00:00,  3.20it/s]\n",
            "                 Class     Images  Instances      Box(P          R      mAP50  mAP50-95): 100%|██████████| 1/1 [00:00<00:00,  2.11it/s]"
          ]
        },
        {
          "output_type": "stream",
          "name": "stdout",
          "text": [
            "                   all         29         29      0.904      0.969      0.981       0.61\n"
          ]
        },
        {
          "output_type": "stream",
          "name": "stderr",
          "text": [
            "\n"
          ]
        },
        {
          "output_type": "stream",
          "name": "stdout",
          "text": [
            "\n",
            "      Epoch    GPU_mem   box_loss   cls_loss   dfl_loss  Instances       Size\n"
          ]
        },
        {
          "output_type": "stream",
          "name": "stderr",
          "text": [
            "     90/100      5.46G     0.8103     0.6287      1.303         15        640: 100%|██████████| 10/10 [00:03<00:00,  2.87it/s]\n",
            "                 Class     Images  Instances      Box(P          R      mAP50  mAP50-95): 100%|██████████| 1/1 [00:00<00:00,  3.47it/s]"
          ]
        },
        {
          "output_type": "stream",
          "name": "stdout",
          "text": [
            "                   all         29         29      0.897      0.931      0.955       0.62\n"
          ]
        },
        {
          "output_type": "stream",
          "name": "stderr",
          "text": [
            "\n"
          ]
        },
        {
          "output_type": "stream",
          "name": "stdout",
          "text": [
            "Closing dataloader mosaic\n",
            "\u001b[34m\u001b[1malbumentations: \u001b[0mBlur(p=0.01, blur_limit=(3, 7)), MedianBlur(p=0.01, blur_limit=(3, 7)), ToGray(p=0.01, method='weighted_average', num_output_channels=3), CLAHE(p=0.01, clip_limit=(1.0, 4.0), tile_grid_size=(8, 8))\n",
            "\n",
            "      Epoch    GPU_mem   box_loss   cls_loss   dfl_loss  Instances       Size\n"
          ]
        },
        {
          "output_type": "stream",
          "name": "stderr",
          "text": [
            "     91/100       5.5G     0.7392     0.6326      1.348          6        640: 100%|██████████| 10/10 [00:04<00:00,  2.38it/s]\n",
            "                 Class     Images  Instances      Box(P          R      mAP50  mAP50-95): 100%|██████████| 1/1 [00:00<00:00,  3.15it/s]"
          ]
        },
        {
          "output_type": "stream",
          "name": "stdout",
          "text": [
            "                   all         29         29      0.903      0.961      0.955      0.639\n"
          ]
        },
        {
          "output_type": "stream",
          "name": "stderr",
          "text": [
            "\n"
          ]
        },
        {
          "output_type": "stream",
          "name": "stdout",
          "text": [
            "\n",
            "      Epoch    GPU_mem   box_loss   cls_loss   dfl_loss  Instances       Size\n"
          ]
        },
        {
          "output_type": "stream",
          "name": "stderr",
          "text": [
            "     92/100      5.54G     0.7947     0.5903      1.369          7        640: 100%|██████████| 10/10 [00:03<00:00,  3.21it/s]\n",
            "                 Class     Images  Instances      Box(P          R      mAP50  mAP50-95): 100%|██████████| 1/1 [00:00<00:00,  2.71it/s]"
          ]
        },
        {
          "output_type": "stream",
          "name": "stdout",
          "text": [
            "                   all         29         29      0.933      0.955      0.954      0.651\n"
          ]
        },
        {
          "output_type": "stream",
          "name": "stderr",
          "text": [
            "\n"
          ]
        },
        {
          "output_type": "stream",
          "name": "stdout",
          "text": [
            "\n",
            "      Epoch    GPU_mem   box_loss   cls_loss   dfl_loss  Instances       Size\n"
          ]
        },
        {
          "output_type": "stream",
          "name": "stderr",
          "text": [
            "     93/100      5.58G     0.7026     0.5257      1.326          6        640: 100%|██████████| 10/10 [00:03<00:00,  2.84it/s]\n",
            "                 Class     Images  Instances      Box(P          R      mAP50  mAP50-95): 100%|██████████| 1/1 [00:00<00:00,  3.35it/s]"
          ]
        },
        {
          "output_type": "stream",
          "name": "stdout",
          "text": [
            "                   all         29         29      0.933          1      0.973      0.653\n"
          ]
        },
        {
          "output_type": "stream",
          "name": "stderr",
          "text": [
            "\n"
          ]
        },
        {
          "output_type": "stream",
          "name": "stdout",
          "text": [
            "\n",
            "      Epoch    GPU_mem   box_loss   cls_loss   dfl_loss  Instances       Size\n"
          ]
        },
        {
          "output_type": "stream",
          "name": "stderr",
          "text": [
            "     94/100      5.62G     0.7315     0.5392      1.336          7        640: 100%|██████████| 10/10 [00:02<00:00,  3.58it/s]\n",
            "                 Class     Images  Instances      Box(P          R      mAP50  mAP50-95): 100%|██████████| 1/1 [00:00<00:00,  3.46it/s]"
          ]
        },
        {
          "output_type": "stream",
          "name": "stdout",
          "text": [
            "                   all         29         29      0.904       0.98      0.973      0.654\n"
          ]
        },
        {
          "output_type": "stream",
          "name": "stderr",
          "text": [
            "\n"
          ]
        },
        {
          "output_type": "stream",
          "name": "stdout",
          "text": [
            "\n",
            "      Epoch    GPU_mem   box_loss   cls_loss   dfl_loss  Instances       Size\n"
          ]
        },
        {
          "output_type": "stream",
          "name": "stderr",
          "text": [
            "     95/100      5.66G     0.7384     0.5317      1.373          6        640: 100%|██████████| 10/10 [00:02<00:00,  3.53it/s]\n",
            "                 Class     Images  Instances      Box(P          R      mAP50  mAP50-95): 100%|██████████| 1/1 [00:00<00:00,  3.10it/s]"
          ]
        },
        {
          "output_type": "stream",
          "name": "stdout",
          "text": [
            "                   all         29         29      0.874          1      0.971      0.661\n"
          ]
        },
        {
          "output_type": "stream",
          "name": "stderr",
          "text": [
            "\n"
          ]
        },
        {
          "output_type": "stream",
          "name": "stdout",
          "text": [
            "\n",
            "      Epoch    GPU_mem   box_loss   cls_loss   dfl_loss  Instances       Size\n"
          ]
        },
        {
          "output_type": "stream",
          "name": "stderr",
          "text": [
            "     96/100       5.7G     0.6965     0.4984      1.324          8        640: 100%|██████████| 10/10 [00:03<00:00,  2.87it/s]\n",
            "                 Class     Images  Instances      Box(P          R      mAP50  mAP50-95): 100%|██████████| 1/1 [00:00<00:00,  1.98it/s]"
          ]
        },
        {
          "output_type": "stream",
          "name": "stdout",
          "text": [
            "                   all         29         29      0.898          1       0.97      0.661\n"
          ]
        },
        {
          "output_type": "stream",
          "name": "stderr",
          "text": [
            "\n"
          ]
        },
        {
          "output_type": "stream",
          "name": "stdout",
          "text": [
            "\n",
            "      Epoch    GPU_mem   box_loss   cls_loss   dfl_loss  Instances       Size\n"
          ]
        },
        {
          "output_type": "stream",
          "name": "stderr",
          "text": [
            "     97/100      5.74G     0.6796     0.4698      1.317          6        640: 100%|██████████| 10/10 [00:03<00:00,  3.25it/s]\n",
            "                 Class     Images  Instances      Box(P          R      mAP50  mAP50-95): 100%|██████████| 1/1 [00:00<00:00,  3.32it/s]"
          ]
        },
        {
          "output_type": "stream",
          "name": "stdout",
          "text": [
            "                   all         29         29      0.868      0.966      0.941      0.657\n"
          ]
        },
        {
          "output_type": "stream",
          "name": "stderr",
          "text": [
            "\n"
          ]
        },
        {
          "output_type": "stream",
          "name": "stdout",
          "text": [
            "\n",
            "      Epoch    GPU_mem   box_loss   cls_loss   dfl_loss  Instances       Size\n"
          ]
        },
        {
          "output_type": "stream",
          "name": "stderr",
          "text": [
            "     98/100      5.78G     0.6685     0.4606      1.278          6        640: 100%|██████████| 10/10 [00:02<00:00,  3.50it/s]\n",
            "                 Class     Images  Instances      Box(P          R      mAP50  mAP50-95): 100%|██████████| 1/1 [00:00<00:00,  3.22it/s]"
          ]
        },
        {
          "output_type": "stream",
          "name": "stdout",
          "text": [
            "                   all         29         29      0.906      0.931      0.947      0.662\n"
          ]
        },
        {
          "output_type": "stream",
          "name": "stderr",
          "text": [
            "\n"
          ]
        },
        {
          "output_type": "stream",
          "name": "stdout",
          "text": [
            "\n",
            "      Epoch    GPU_mem   box_loss   cls_loss   dfl_loss  Instances       Size\n"
          ]
        },
        {
          "output_type": "stream",
          "name": "stderr",
          "text": [
            "     99/100      5.85G     0.6799      0.469      1.326          6        640: 100%|██████████| 10/10 [00:02<00:00,  3.48it/s]\n",
            "                 Class     Images  Instances      Box(P          R      mAP50  mAP50-95): 100%|██████████| 1/1 [00:00<00:00,  2.75it/s]"
          ]
        },
        {
          "output_type": "stream",
          "name": "stdout",
          "text": [
            "                   all         29         29        0.9      0.966      0.949      0.665\n"
          ]
        },
        {
          "output_type": "stream",
          "name": "stderr",
          "text": [
            "\n"
          ]
        },
        {
          "output_type": "stream",
          "name": "stdout",
          "text": [
            "\n",
            "      Epoch    GPU_mem   box_loss   cls_loss   dfl_loss  Instances       Size\n"
          ]
        },
        {
          "output_type": "stream",
          "name": "stderr",
          "text": [
            "    100/100      5.89G     0.6164      0.465      1.285          6        640: 100%|██████████| 10/10 [00:03<00:00,  2.65it/s]\n",
            "                 Class     Images  Instances      Box(P          R      mAP50  mAP50-95): 100%|██████████| 1/1 [00:00<00:00,  3.55it/s]"
          ]
        },
        {
          "output_type": "stream",
          "name": "stdout",
          "text": [
            "                   all         29         29      0.878      0.966       0.95      0.662\n"
          ]
        },
        {
          "output_type": "stream",
          "name": "stderr",
          "text": [
            "\n"
          ]
        },
        {
          "output_type": "stream",
          "name": "stdout",
          "text": [
            "\n",
            "100 epochs completed in 0.117 hours.\n",
            "Optimizer stripped from runs/detect/train/weights/last.pt, 19.2MB\n",
            "Optimizer stripped from runs/detect/train/weights/best.pt, 19.2MB\n",
            "\n",
            "Validating runs/detect/train/weights/best.pt...\n",
            "Ultralytics 8.3.175 🚀 Python-3.11.13 torch-2.6.0+cu124 CUDA:0 (Tesla T4, 15095MiB)\n",
            "YOLO11s summary (fused): 100 layers, 9,413,187 parameters, 0 gradients, 21.3 GFLOPs\n"
          ]
        },
        {
          "output_type": "stream",
          "name": "stderr",
          "text": [
            "                 Class     Images  Instances      Box(P          R      mAP50  mAP50-95): 100%|██████████| 1/1 [00:00<00:00,  3.42it/s]\n"
          ]
        },
        {
          "output_type": "stream",
          "name": "stdout",
          "text": [
            "                   all         29         29      0.942      0.966      0.983      0.676\n",
            "Speed: 0.2ms preprocess, 4.9ms inference, 0.0ms loss, 1.4ms postprocess per image\n",
            "Results saved to \u001b[1mruns/detect/train\u001b[0m\n"
          ]
        }
      ]
    },
    {
      "cell_type": "code",
      "source": [
        "metrics = model.val(data='/content/dataset_raccoon/data.yaml')\n",
        "\n",
        "# print(metrics)\n",
        "\n",
        "print(f\"Precision: {metrics.box.map50:.4f}\")\n",
        "print(f\"Recall: {metrics.box.map50:.4f}\")\n",
        "print(f\"F1-score: {metrics.box.map:.4f}\")\n",
        "print(f\"Accuracy: {metrics.box.map50:.4f}\")"
      ],
      "metadata": {
        "colab": {
          "base_uri": "https://localhost:8080/"
        },
        "id": "ZUFctB60I58F",
        "outputId": "b3352cd8-38c7-48bb-98bb-1947ba242abf"
      },
      "execution_count": 6,
      "outputs": [
        {
          "output_type": "stream",
          "name": "stdout",
          "text": [
            "Ultralytics 8.3.175 🚀 Python-3.11.13 torch-2.6.0+cu124 CUDA:0 (Tesla T4, 15095MiB)\n",
            "\u001b[34m\u001b[1mval: \u001b[0mFast image access ✅ (ping: 0.0±0.0 ms, read: 766.7±139.7 MB/s, size: 32.5 KB)\n"
          ]
        },
        {
          "output_type": "stream",
          "name": "stderr",
          "text": [
            "\u001b[34m\u001b[1mval: \u001b[0mScanning /content/dataset_raccoon/valid/labels.cache... 29 images, 0 backgrounds, 0 corrupt: 100%|██████████| 29/29 [00:00<?, ?it/s]\n",
            "                 Class     Images  Instances      Box(P          R      mAP50  mAP50-95): 100%|██████████| 2/2 [00:01<00:00,  1.78it/s]\n"
          ]
        },
        {
          "output_type": "stream",
          "name": "stdout",
          "text": [
            "                   all         29         29      0.941      0.966      0.983      0.678\n",
            "Speed: 0.2ms preprocess, 19.4ms inference, 0.0ms loss, 1.5ms postprocess per image\n",
            "Results saved to \u001b[1mruns/detect/train4\u001b[0m\n",
            "Precision: 0.9834\n",
            "Recall: 0.9834\n",
            "F1-score: 0.6777\n",
            "Accuracy: 0.9834\n"
          ]
        }
      ]
    },
    {
      "cell_type": "code",
      "source": [
        "results = model(\"/content/dataset_raccoon/test/images/raccoon-59_jpg.rf.388d6dd8c9d5a6fc7ca75790e680c269.jpg\", save=True)"
      ],
      "metadata": {
        "colab": {
          "base_uri": "https://localhost:8080/"
        },
        "id": "73EHjUJrNCx0",
        "outputId": "2bd89be8-d73f-40d2-e1d0-46b96a679967"
      },
      "execution_count": 12,
      "outputs": [
        {
          "output_type": "stream",
          "name": "stdout",
          "text": [
            "\n",
            "image 1/1 /content/dataset_raccoon/test/images/raccoon-59_jpg.rf.388d6dd8c9d5a6fc7ca75790e680c269.jpg: 640x640 1 raccoon, 21.1ms\n",
            "Speed: 3.9ms preprocess, 21.1ms inference, 2.4ms postprocess per image at shape (1, 3, 640, 640)\n",
            "Results saved to \u001b[1mruns/detect/train7\u001b[0m\n"
          ]
        }
      ]
    },
    {
      "cell_type": "code",
      "source": [
        "!pip install opencv-python"
      ],
      "metadata": {
        "colab": {
          "base_uri": "https://localhost:8080/"
        },
        "id": "gO66yrUGOgf6",
        "outputId": "eb54374d-9e40-4260-9650-c2089edf86f0"
      },
      "execution_count": 13,
      "outputs": [
        {
          "output_type": "stream",
          "name": "stdout",
          "text": [
            "Requirement already satisfied: opencv-python in /usr/local/lib/python3.11/dist-packages (4.12.0.88)\n",
            "Requirement already satisfied: numpy<2.3.0,>=2 in /usr/local/lib/python3.11/dist-packages (from opencv-python) (2.0.2)\n"
          ]
        }
      ]
    },
    {
      "cell_type": "code",
      "source": [
        "import cv2\n",
        "from google.colab.patches import cv2_imshow\n",
        "\n",
        "img = cv2.imread(\"/content/runs/detect/train7/raccoon-59_jpg.rf.388d6dd8c9d5a6fc7ca75790e680c269.jpg\")\n",
        "cv2_imshow(img)"
      ],
      "metadata": {
        "colab": {
          "base_uri": "https://localhost:8080/",
          "height": 433
        },
        "id": "lRE3NURHOlGD",
        "outputId": "60dab923-1892-4dcf-dc78-d46cc1cb28ba"
      },
      "execution_count": 16,
      "outputs": [
        {
          "output_type": "display_data",
          "data": {
            "text/plain": [
              "<PIL.Image.Image image mode=RGB size=416x416>"
            ],
            "image/png": "[encoded data removed]",
            "image/jpeg": "[encoded data removed]"
          },
          "metadata": {}
        }
      ]
    }
  ]
}