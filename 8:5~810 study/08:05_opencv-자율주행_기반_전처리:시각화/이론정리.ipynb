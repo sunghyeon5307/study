{
 "cells": [
  {
   "cell_type": "markdown",
   "id": "c1ac0cd3-8d6f-45ce-886b-e3b95da30cc9",
   "metadata": {},
   "source": [
    "# [OpenCV로 자율주행 기반 전처리/시각화 익히기]"
   ]
  },
  {
   "cell_type": "markdown",
   "id": "97f2fe95-bfc2-4af3-9c2f-14c304cb67df",
   "metadata": {},
   "source": [
    "## 1. 이미지와 색공간  \n",
    "### BGR vs RGB\n",
    "- OpenCV는 기본적으로 이미지를 BGR 순서로 불러옴 <br>\n",
    "ex) (255, 0, 0): 파란색\n",
    "\n",
    "- 대부분의 디스플레이나 딥러닝 프레임워크(TensorFlow, PyTorch)는 RGB 사용 <br>\n",
    "→ 변환 필요:\n",
    "```\n",
    "rgb = cv2.cvtColor(bgr, cv2.COLOR_BGR2RGB)\n",
    "```\n",
    "\n",
    "### HSV (Hue, Saturation, Value)\n",
    "- 색상(H), 채도(S), 명도(V) 로 구성된 색공간 <br>\n",
    "- 색 기반 마스킹에 유리함 ex) 특정 색 차량 검출\n",
    "\n",
    "```\n",
    "hsv = cv2.cvtColor(bgr, cv2.COLOR_BGR2HSV)\n",
    "```\n",
    "\n",
    "### Grayscale\n",
    "- 채널 수를 1개로 줄여 연산량을 줄임 <br>\n",
    "- 대부분의 전처리는 Grayscale 기반으로 진행됨\n",
    "```\n",
    "gray = cv2.cvtColor(bgr, cv2.COLOR_BGR2GRAY)\n",
    "```"
   ]
  },
  {
   "cell_type": "markdown",
   "id": "51cba406-d19d-4e33-a7ba-ceaaf715a7f0",
   "metadata": {},
   "source": [
    "## 2. 이미지 필터링\n",
    "### Blur (평균 블러, 가우시안 블러 등)\n",
    "- 노이즈 제거 및 경계 부드럽게 처리 <br>\n",
    "- 대표적인 블러:\n",
    "```\n",
    "blur = cv2.GaussianBlur(image, (5, 5), 0)\n",
    "```\n",
    "### Threshold (임계값 처리)\n",
    "- Grayscale 이미지를 이진화(흑백)함 <br>\n",
    "- 두 가지 방식: 단순 임계값, Otsu 자동 임계값\n",
    "```\n",
    "ret, binary = cv2.threshold(gray, 127, 255, cv2.THRESH_BINARY)\n",
    "ret2, binary_otsu = cv2.threshold(gray, 0, 255, cv2.THRESH_BINARY + cv2.THRESH_OTSU)\n",
    "```"
   ]
  },
  {
   "cell_type": "markdown",
   "id": "ebdc701b-141a-417f-b0d4-86aae0bd4788",
   "metadata": {},
   "source": [
    "## 3. Edge Detection: Canny\n",
    "- 이미지에서 경계선(엣지)를 추출\n",
    "- 자율주행에서 차선 검출 등에 사용\n",
    "- 두 개의 임계값으로 미세한 조절 가능:\n",
    "\n",
    "```\n",
    "edges = cv2.Canny(gray, 100, 200)\n",
    "```"
   ]
  },
  {
   "cell_type": "markdown",
   "id": "ed7884a7-c72b-4f22-97ef-f9b251a64d42",
   "metadata": {},
   "source": [
    "## 4. Contour 분석\n",
    "### findContours\n",
    "- 이진 이미지에서 윤곽선(외곽선)을 찾음\n",
    "```\n",
    "contours, hierarchy = cv2.findContours(binary, cv2.RETR_TREE, cv2.CHAIN_APPROX_SIMPLE)\n",
    "```\n",
    "\n",
    "### drawContours\n",
    "- 찾은 윤곽선을 이미지에 그림\n",
    "\n",
    "```\n",
    "cv2.drawContours(image, contours, -1, (0, 255, 0), 2)\n",
    "```\n",
    "- 자율주행에서는 차량 인식 영역, 보행자, 차선 윤곽 추출에 응용됨"
   ]
  },
  {
   "cell_type": "markdown",
   "id": "723a97f1-eba2-47bf-93e8-715cffbe4230",
   "metadata": {},
   "source": [
    "## 5. Perspective Transform (시점 변환)\n",
    "- Bird's-eye View (탑뷰) 로 변환할 때 사용.\n",
    "- 차선 검출 전처리에 자주 활용\n",
    "- 4개 점 기준 변환:\n",
    "\n",
    "```\n",
    "M = cv2.getPerspectiveTransform(src_points, dst_points)\n",
    "warped = cv2.warpPerspective(image, M, (width, height))\n",
    "```\n",
    "- src_points: 원본 이미지에서 변환할 4점\n",
    "- dst_points: 원하는 출력 위치의 4점"
   ]
  }
 ],
 "metadata": {
  "kernelspec": {
   "display_name": "Python 3 (ipykernel)",
   "language": "python",
   "name": "python3"
  },
  "language_info": {
   "codemirror_mode": {
    "name": "ipython",
    "version": 3
   },
   "file_extension": ".py",
   "mimetype": "text/x-python",
   "name": "python",
   "nbconvert_exporter": "python",
   "pygments_lexer": "ipython3",
   "version": "3.8.20"
  }
 },
 "nbformat": 4,
 "nbformat_minor": 5
}
