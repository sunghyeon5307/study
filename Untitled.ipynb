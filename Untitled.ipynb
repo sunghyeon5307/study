{
 "cells": [
  {
   "cell_type": "markdown",
   "id": "1ec2105c-72f9-45f3-bfa6-ee0251c4a37c",
   "metadata": {},
   "source": [
    "## 파이토치 구성요소"
   ]
  },
  {
   "cell_type": "code",
   "execution_count": null,
   "id": "756a26fd-9c31-4459-acb9-5a1883f5bacb",
   "metadata": {},
   "outputs": [],
   "source": [
    "torch : 메인 네임스페이스, 텐스 등의 다양한 수학함수 포함\n",
    "torch.autograd : 자동 미분\n",
    "torch.nn : 신경망 구축\n",
    "torch.multiprocessing : 병렬처리\n",
    "torch.optim : SGD를 중심으로 한 최적화 알고리즘 제공\n",
    "torch.utils : 데이터 조작\n",
    "torch.onnx : 서로 다른 프레임워크 간의 모델 공유"
   ]
  },
  {
   "cell_type": "markdown",
   "id": "2008c105-46c0-4028-9a6f-6416ea279d47",
   "metadata": {},
   "source": [
    "## 텐서"
   ]
  },
  {
   "cell_type": "markdown",
   "id": "42752317-9580-4ce1-aa36-8fa054095242",
   "metadata": {},
   "source": [
    "- 데이터 표현을 위한 기본 구조로 텐서 사용\n",
    "- 수치형 데이터 저장\n",
    "- 넘파이의 ndarray와 유사\n",
    "- GPU를 사용한 연산 가속 가능\n",
    "- 다차원 데이터 표현"
   ]
  },
  {
   "cell_type": "code",
   "execution_count": 2,
   "id": "053dae92-9e15-4145-b97e-f8c7caf227bf",
   "metadata": {},
   "outputs": [
    {
     "data": {
      "text/plain": [
       "'2.2.1'"
      ]
     },
     "execution_count": 2,
     "metadata": {},
     "output_type": "execute_result"
    }
   ],
   "source": [
    "import torch \n",
    "torch.__version__"
   ]
  },
  {
   "cell_type": "markdown",
   "id": "7105831d-6be9-4a74-8d4f-578f3a44ad42",
   "metadata": {},
   "source": [
    "## 텐서 초기화, 데이터 타입"
   ]
  },
  {
   "cell_type": "markdown",
   "id": "49614df9-ff86-46e8-8901-cb0dd25c979a",
   "metadata": {},
   "source": [
    "### 텐서 초기화"
   ]
  },
  {
   "cell_type": "code",
   "execution_count": 3,
   "id": "29e4d392-2881-40d6-8a74-c6c3f90bca95",
   "metadata": {},
   "outputs": [
    {
     "name": "stdout",
     "output_type": "stream",
     "text": [
      "tensor([[0., 0.],\n",
      "        [0., 0.],\n",
      "        [0., 0.],\n",
      "        [0., 0.]])\n"
     ]
    }
   ],
   "source": [
    "# 초기화 X\n",
    "x = torch.empty(4, 2)\n",
    "print(x)"
   ]
  },
  {
   "cell_type": "code",
   "execution_count": 4,
   "id": "1d14c2e0-6f88-414d-9705-164d3a7a7a11",
   "metadata": {},
   "outputs": [
    {
     "name": "stdout",
     "output_type": "stream",
     "text": [
      "tensor([[0.9541, 0.1612],\n",
      "        [0.7407, 0.2797],\n",
      "        [0.8283, 0.3702],\n",
      "        [0.3652, 0.3787]])\n"
     ]
    }
   ],
   "source": [
    "# 무작위 초기화 \n",
    "x = torch.rand(4, 2)\n",
    "print(x)"
   ]
  },
  {
   "cell_type": "code",
   "execution_count": 6,
   "id": "3c0dc0cc-a158-4159-977a-f98900b5a84c",
   "metadata": {},
   "outputs": [
    {
     "name": "stdout",
     "output_type": "stream",
     "text": [
      "tensor([[0, 0],\n",
      "        [0, 0],\n",
      "        [0, 0],\n",
      "        [0, 0]])\n",
      "<built-in method type of Tensor object at 0x11192ed60>\n"
     ]
    }
   ],
   "source": [
    "# dtype이 long이고, 0으로 채워짐\n",
    "x = torch.zeros(4, 2, dtype=torch.long)\n",
    "print(x)\n",
    "print(x.type)"
   ]
  },
  {
   "cell_type": "code",
   "execution_count": 8,
   "id": "6a251a43-6478-4720-af01-50da5cffa203",
   "metadata": {},
   "outputs": [
    {
     "name": "stdout",
     "output_type": "stream",
     "text": [
      "tensor([3.0000, 2.3000])\n"
     ]
    }
   ],
   "source": [
    "# 사용자가 입력한 값으로 텐서 초기화\n",
    "x = torch.tensor([3, 2.3])\n",
    "print(x)"
   ]
  },
  {
   "cell_type": "code",
   "execution_count": 12,
   "id": "d5d4a8a0-8fee-4719-a879-89bbc07c6143",
   "metadata": {},
   "outputs": [
    {
     "name": "stdout",
     "output_type": "stream",
     "text": [
      "tensor([[1., 1., 1., 1.],\n",
      "        [1., 1., 1., 1.]], dtype=torch.float64)\n"
     ]
    }
   ],
   "source": [
    "# 2*4, doubletype, 1로 채움\n",
    "x = x.new_ones(2, 4, dtype=torch.double)\n",
    "print(x)"
   ]
  },
  {
   "cell_type": "code",
   "execution_count": 14,
   "id": "c23c0f1e-2072-4a70-8d95-33150e173b97",
   "metadata": {},
   "outputs": [
    {
     "name": "stdout",
     "output_type": "stream",
     "text": [
      "tensor([[ 0.0838,  1.0317, -1.5576,  1.6373],\n",
      "        [ 0.5396, -1.2454,  0.5569,  0.0639]])\n"
     ]
    }
   ],
   "source": [
    "# x와 같은 크기, floattype, 무작위 채움\n",
    "x = torch.randn_like(x, dtype=torch.float)\n",
    "print(x)"
   ]
  },
  {
   "cell_type": "code",
   "execution_count": 18,
   "id": "e14ef602-b59c-4e28-ba20-e8bd25fa35cf",
   "metadata": {},
   "outputs": [
    {
     "name": "stdout",
     "output_type": "stream",
     "text": [
      "torch.Size([2, 4])\n"
     ]
    }
   ],
   "source": [
    "# 텐서 크기\n",
    "print(x.size())"
   ]
  },
  {
   "cell_type": "markdown",
   "id": "0d08ecbe-6999-4f9d-9c09-0f8e0d54e975",
   "metadata": {},
   "source": [
    "### dtype"
   ]
  },
  {
   "cell_type": "code",
   "execution_count": 20,
   "id": "6faf1a58-8924-47f6-8dd8-7afee5597fc4",
   "metadata": {},
   "outputs": [
    {
     "name": "stdout",
     "output_type": "stream",
     "text": [
      "tensor([1., 2., 3.])\n",
      "torch.float32\n"
     ]
    }
   ],
   "source": [
    "ft = torch.FloatTensor([1,2,3])\n",
    "print(ft)\n",
    "print(ft.dtype)"
   ]
  },
  {
   "cell_type": "code",
   "execution_count": 23,
   "id": "2aee0574-e531-4209-b537-28362885d588",
   "metadata": {},
   "outputs": [
    {
     "name": "stdout",
     "output_type": "stream",
     "text": [
      "tensor([1, 2, 3], dtype=torch.int16)\n",
      "tensor([1, 2, 3], dtype=torch.int32)\n",
      "tensor([1, 2, 3])\n"
     ]
    }
   ],
   "source": [
    "# type 바꾸기\n",
    "print(ft.short())\n",
    "print(ft.int())\n",
    "print(ft.long())"
   ]
  },
  {
   "cell_type": "code",
   "execution_count": 28,
   "id": "e50b9552-5ae3-44bf-8fee-d044b9e5363a",
   "metadata": {},
   "outputs": [
    {
     "name": "stdout",
     "output_type": "stream",
     "text": [
      "tensor([1, 2, 3], dtype=torch.int32)\n",
      "torch.int32\n"
     ]
    }
   ],
   "source": [
    "it = torch.IntTensor([1,2,3])\n",
    "print(it)\n",
    "print(it.dtype)"
   ]
  },
  {
   "cell_type": "code",
   "execution_count": 29,
   "id": "9907fc49-7bb3-41cb-a526-1ab87d514450",
   "metadata": {},
   "outputs": [
    {
     "name": "stdout",
     "output_type": "stream",
     "text": [
      "tensor([1., 2., 3.])\n",
      "tensor([1., 2., 3.], dtype=torch.float64)\n",
      "tensor([1., 2., 3.], dtype=torch.float16)\n"
     ]
    }
   ],
   "source": [
    "# type 바꾸기\n",
    "print(it.float())\n",
    "print(it.double())\n",
    "print(it.half())"
   ]
  },
  {
   "cell_type": "markdown",
   "id": "0e714569-1cac-45d1-bded-f24dbcdb6ed8",
   "metadata": {},
   "source": [
    "### CUDA tensors\n",
    "=> .to 메소드를 사용하여 텐서를 어떠한 장치(cpu, gpu)로도 옮기기 가능"
   ]
  },
  {
   "cell_type": "code",
   "execution_count": 6,
   "id": "42928e89-72fb-4d48-b74a-694428a658aa",
   "metadata": {},
   "outputs": [
    {
     "name": "stdout",
     "output_type": "stream",
     "text": [
      "tensor([-0.9646])\n",
      "-0.9645887613296509\n",
      "torch.float32\n"
     ]
    }
   ],
   "source": [
    "x = torch.randn(1)\n",
    "print(x)\n",
    "print(x.item())\n",
    "print(x.dtype)"
   ]
  },
  {
   "cell_type": "code",
   "execution_count": 7,
   "id": "03f6b20b-1c94-45e5-be63-520904184854",
   "metadata": {},
   "outputs": [
    {
     "name": "stdout",
     "output_type": "stream",
     "text": [
      "cpu\n"
     ]
    }
   ],
   "source": [
    "device=torch.device('cuda' if torch.cuda.is_available() else 'cpu')\n",
    "print(device)\n",
    "y = torch.ones_like(x, device=device)"
   ]
  },
  {
   "cell_type": "code",
   "execution_count": null,
   "id": "b8880e57-9d2f-491b-8494-7209818cb131",
   "metadata": {},
   "outputs": [],
   "source": []
  }
 ],
 "metadata": {
  "kernelspec": {
   "display_name": "Python 3 (ipykernel)",
   "language": "python",
   "name": "python3"
  },
  "language_info": {
   "codemirror_mode": {
    "name": "ipython",
    "version": 3
   },
   "file_extension": ".py",
   "mimetype": "text/x-python",
   "name": "python",
   "nbconvert_exporter": "python",
   "pygments_lexer": "ipython3",
   "version": "3.8.17"
  }
 },
 "nbformat": 4,
 "nbformat_minor": 5
}
