{
  "nbformat": 4,
  "nbformat_minor": 0,
  "metadata": {
    "colab": {
      "provenance": []
    },
    "kernelspec": {
      "name": "python3",
      "display_name": "Python 3"
    },
    "language_info": {
      "name": "python"
    }
  },
  "cells": [
    {
      "cell_type": "markdown",
      "source": [
        "# Pytorch"
      ],
      "metadata": {
        "id": "a8miNyVmtmrO"
      }
    },
    {
      "cell_type": "code",
      "execution_count": null,
      "metadata": {
        "id": "HaRhHjqWp77s"
      },
      "outputs": [],
      "source": [
        "import torch"
      ]
    },
    {
      "cell_type": "code",
      "source": [
        "a=torch.tensor([1,2,3,4])\n",
        "print(a)\n",
        "print(type(a))\n",
        "print(a.dtype)\n",
        "print(a.shape)"
      ],
      "metadata": {
        "colab": {
          "base_uri": "https://localhost:8080/"
        },
        "id": "Hy85P-dnp_c6",
        "outputId": "c44c8f2c-28eb-4a94-abba-004b4cda60b0"
      },
      "execution_count": null,
      "outputs": [
        {
          "output_type": "stream",
          "name": "stdout",
          "text": [
            "tensor([1, 2, 3, 4])\n",
            "<class 'torch.Tensor'>\n",
            "torch.int64\n",
            "torch.Size([4])\n"
          ]
        }
      ]
    },
    {
      "cell_type": "code",
      "source": [
        "A=torch.tensor([[1,2,3],[4,5,6]])\n",
        "print(A)\n",
        "print(A.ndim)\n",
        "print(A.numel())"
      ],
      "metadata": {
        "colab": {
          "base_uri": "https://localhost:8080/"
        },
        "id": "AqBU-w7nqFQ0",
        "outputId": "f63d90bc-5232-4297-e339-a8fae0cdd60d"
      },
      "execution_count": null,
      "outputs": [
        {
          "output_type": "stream",
          "name": "stdout",
          "text": [
            "tensor([[1, 2, 3],\n",
            "        [4, 5, 6]])\n",
            "2\n",
            "6\n"
          ]
        }
      ]
    },
    {
      "cell_type": "code",
      "source": [
        "print(torch.zeros(5))\n",
        "print(torch.zeros_like(A))\n",
        "print(torch.ones(5))\n",
        "print(torch.zeros(3,6))\n",
        "print(torch.arange(1,9,2)) # range랑 똑같은데 tensor로 만들어줌\n",
        "print(torch.arange(1,2,0.1)) # 소수점도 가능\n",
        "print(torch.linspace(0,1,10)) # 0부터 1까지 10개"
      ],
      "metadata": {
        "id": "L8LQ9Q15qqg5",
        "colab": {
          "base_uri": "https://localhost:8080/"
        },
        "outputId": "af1586de-e76d-44e7-bcda-c6f4d0d52149"
      },
      "execution_count": null,
      "outputs": [
        {
          "output_type": "stream",
          "name": "stdout",
          "text": [
            "tensor([0., 0., 0., 0., 0.])\n",
            "tensor([[0, 0, 0],\n",
            "        [0, 0, 0]])\n",
            "tensor([1., 1., 1., 1., 1.])\n",
            "tensor([[0., 0., 0., 0., 0., 0.],\n",
            "        [0., 0., 0., 0., 0., 0.],\n",
            "        [0., 0., 0., 0., 0., 0.]])\n",
            "tensor([1, 3, 5, 7])\n",
            "tensor([1.0000, 1.1000, 1.2000, 1.3000, 1.4000, 1.5000, 1.6000, 1.7000, 1.8000,\n",
            "        1.9000])\n",
            "tensor([0.0000, 0.1111, 0.2222, 0.3333, 0.4444, 0.5556, 0.6667, 0.7778, 0.8889,\n",
            "        1.0000])\n"
          ]
        }
      ]
    },
    {
      "cell_type": "code",
      "source": [
        "A=torch.tensor([[1,2,3],[4,5,6]])\n",
        "B=torch.tensor([[7,8,9],[10,11,12]])\n",
        "print(A+B)\n",
        "print(A-B)\n",
        "print(A*B) # 성분끼리 곱\n",
        "print(A**2)\n",
        "print(A@B) # 행렬 곱"
      ],
      "metadata": {
        "colab": {
          "base_uri": "https://localhost:8080/"
        },
        "id": "qpjZA51TE5aU",
        "outputId": "25994f14-24b6-4b7f-c4e4-2003a937e5fc"
      },
      "execution_count": null,
      "outputs": [
        {
          "output_type": "stream",
          "name": "stdout",
          "text": [
            "tensor([[ 8, 10, 12],\n",
            "        [14, 16, 18]])\n",
            "tensor([[-6, -6, -6],\n",
            "        [-6, -6, -6]])\n",
            "tensor([[ 7, 16, 27],\n",
            "        [40, 55, 72]])\n",
            "tensor([[ 1,  4,  9],\n",
            "        [16, 25, 36]])\n"
          ]
        }
      ]
    },
    {
      "cell_type": "code",
      "source": [
        "import torch as t\n",
        "a=t.tensor([1,2,3])\n",
        "print(a)\n",
        "print(t.zeros_like(a))"
      ],
      "metadata": {
        "id": "0QpMi_UxJMtO",
        "colab": {
          "base_uri": "https://localhost:8080/"
        },
        "outputId": "fb7a35b8-286a-4d77-a149-11213a4a5bc2"
      },
      "execution_count": null,
      "outputs": [
        {
          "output_type": "stream",
          "name": "stdout",
          "text": [
            "tensor([1, 2, 3])\n",
            "tensor([0, 0, 0])\n"
          ]
        }
      ]
    },
    {
      "cell_type": "code",
      "source": [
        "a=t.tensor([1,2,3,4,5,6,7,8])\n",
        "print(a[2])\n",
        "print(a[0:3])\n",
        "print(a[:])\n",
        "print(a[3:])"
      ],
      "metadata": {
        "colab": {
          "base_uri": "https://localhost:8080/"
        },
        "id": "HflbafmM1tcL",
        "outputId": "aff5763c-0c93-4f70-90f8-0d1ad0df7c64"
      },
      "execution_count": null,
      "outputs": [
        {
          "output_type": "stream",
          "name": "stdout",
          "text": [
            "tensor(3)\n",
            "tensor([1, 2, 3])\n",
            "tensor([1, 2, 3, 4, 5, 6, 7, 8])\n",
            "tensor([4, 5, 6, 7, 8])\n"
          ]
        }
      ]
    },
    {
      "cell_type": "code",
      "source": [
        "A=t.tensor([[1,2,3,4],[5,6,7,8]])\n",
        "print(A[0][2])\n",
        "print(A[1,:]) # 1행 전부\n",
        "print(A[:,2]) # 전부 2열"
      ],
      "metadata": {
        "id": "R5PfoiJV2bLk",
        "colab": {
          "base_uri": "https://localhost:8080/"
        },
        "outputId": "9670581b-2a5e-48cc-af4b-e8e0952b01d7"
      },
      "execution_count": null,
      "outputs": [
        {
          "output_type": "stream",
          "name": "stdout",
          "text": [
            "tensor(3)\n",
            "tensor([5, 6, 7, 8])\n",
            "tensor([3, 7])\n"
          ]
        }
      ]
    },
    {
      "cell_type": "code",
      "source": [
        "b=t.tensor([[[1,2,3,4],[4,5,6,7],[7,8,9,10]], [[10,11,12,13],[13,14,15,16],[16,17,18,19]]])\n",
        "print(b)\n",
        "print(b.shape) # 3*4짜리가 2개\n",
        "print(b[0,2,3])"
      ],
      "metadata": {
        "colab": {
          "base_uri": "https://localhost:8080/"
        },
        "id": "eYffJniYEhZI",
        "outputId": "f1ded7e9-b8be-4c90-e021-35a2c1b42e20"
      },
      "execution_count": null,
      "outputs": [
        {
          "output_type": "stream",
          "name": "stdout",
          "text": [
            "tensor([[[ 1,  2,  3,  4],\n",
            "         [ 4,  5,  6,  7],\n",
            "         [ 7,  8,  9, 10]],\n",
            "\n",
            "        [[10, 11, 12, 13],\n",
            "         [13, 14, 15, 16],\n",
            "         [16, 17, 18, 19]]])\n",
            "torch.Size([2, 3, 4])\n",
            "tensor(10)\n"
          ]
        }
      ]
    },
    {
      "cell_type": "code",
      "source": [
        "# boolean 인덱싱\n",
        "a=[1,2,3,4,5]\n",
        "print(a==3)\n",
        "A=t.tensor([[1,2,3,4],[5,6,7,3]])\n",
        "print(A==3) # 리스트와 달리 각 성분에 대해 비교해줌\n",
        "# A[] <- 인덱싱할거다\n",
        "print(A[A==3]) # true, false가 담긴 행렬로 인덱싱 가능\n",
        "A[A==3]=100 # 3을 100으로 바꿈\n",
        "print(A)\n",
        "A=t.tensor([[1,2],[3,4],[5,6],[7,8]])\n",
        "B=t.tensor([True, False, True, False])\n",
        "print(A[B,:])"
      ],
      "metadata": {
        "colab": {
          "base_uri": "https://localhost:8080/"
        },
        "id": "nbPPzkNaFtS-",
        "outputId": "944cc893-1684-436e-eb39-1b15a07c75e7"
      },
      "execution_count": null,
      "outputs": [
        {
          "output_type": "stream",
          "name": "stdout",
          "text": [
            "False\n",
            "tensor([[False, False,  True, False],\n",
            "        [False, False, False,  True]])\n",
            "tensor([3, 3])\n",
            "tensor([[  1,   2, 100,   4],\n",
            "        [  5,   6,   7, 100]])\n",
            "tensor([[1, 2],\n",
            "        [5, 6]])\n"
          ]
        }
      ]
    },
    {
      "cell_type": "code",
      "source": [
        "# tensor로 인덱싱\n",
        "b=t.tensor([1,2,3,4,5])\n",
        "print(b[3])\n",
        "print(b[t.tensor([2,3,4])])\n",
        "print(b[t.tensor([[2,2,2],[3,3,3]])]) # 인덱싱된 애들로 2행3열짜리 행렬 만든다"
      ],
      "metadata": {
        "colab": {
          "base_uri": "https://localhost:8080/"
        },
        "id": "q3eyMuMQHZFa",
        "outputId": "a1573c9c-e600-4bfe-e4e6-3bae77267e04"
      },
      "execution_count": null,
      "outputs": [
        {
          "output_type": "stream",
          "name": "stdout",
          "text": [
            "tensor(4)\n",
            "tensor([3, 4, 5])\n",
            "tensor([[3, 3, 3],\n",
            "        [4, 4, 4]])\n"
          ]
        }
      ]
    },
    {
      "cell_type": "code",
      "source": [
        "c=t.tensor([[1,2],[3,4],[5,6],[7,8]])\n",
        "print(c.shape)\n",
        "# 몇번째 행, 열이냐\n",
        "print(c[0][1])"
      ],
      "metadata": {
        "colab": {
          "base_uri": "https://localhost:8080/"
        },
        "id": "l_as6PPeJ_sR",
        "outputId": "83a474d6-95fe-4aad-d6c2-735e20c500ab"
      },
      "execution_count": null,
      "outputs": [
        {
          "output_type": "stream",
          "name": "stdout",
          "text": [
            "torch.Size([4, 2])\n",
            "tensor(2)\n"
          ]
        }
      ]
    }
  ]
}