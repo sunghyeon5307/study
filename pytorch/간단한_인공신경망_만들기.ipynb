{
  "nbformat": 4,
  "nbformat_minor": 0,
  "metadata": {
    "colab": {
      "provenance": []
    },
    "kernelspec": {
      "name": "python3",
      "display_name": "Python 3"
    },
    "language_info": {
      "name": "python"
    }
  },
  "cells": [
    {
      "cell_type": "code",
      "execution_count": 1,
      "metadata": {
        "id": "fjQW_NYZIuKI"
      },
      "outputs": [],
      "source": [
        "import torch\n",
        "from torch import nn"
      ]
    },
    {
      "cell_type": "code",
      "source": [
        "x=torch.tensor([1.])\n",
        "model=nn.Linear(1,1) # 입력 node 1개, 출력 node 1개인 layer 만듦\n",
        "print(model.weight) # 가중치\n",
        "print(model.bias)\n",
        "y=model(x)\n",
        "print(y)\n",
        "y=x@model.weight+model.bias # @:행렬연산, *:요소끼리 연산\n",
        "print(y)"
      ],
      "metadata": {
        "colab": {
          "base_uri": "https://localhost:8080/"
        },
        "id": "BSAD-ueOKddS",
        "outputId": "e61eecbf-ec39-40a2-881c-3a4e6ee0ebcd"
      },
      "execution_count": 7,
      "outputs": [
        {
          "output_type": "stream",
          "name": "stdout",
          "text": [
            "Parameter containing:\n",
            "tensor([[-0.8210]], requires_grad=True)\n",
            "Parameter containing:\n",
            "tensor([0.9750], requires_grad=True)\n",
            "tensor([0.1540], grad_fn=<ViewBackward0>)\n",
            "tensor([0.1540], grad_fn=<AddBackward0>)\n"
          ]
        }
      ]
    },
    {
      "cell_type": "code",
      "source": [
        "fc1=nn.Linear(1,3) # fully-connected\n",
        "fc2=nn.Linear(3,1)\n",
        "\n",
        "print(fc1.weight)\n",
        "print(fc1.bias)\n",
        "print(fc2.weight)\n",
        "print(fc2.bias)\n",
        "\n",
        "x=torch.tensor([1.])\n",
        "x=fc1(x)\n",
        "print(x)\n",
        "x=fc2(x)\n",
        "print(x)\n",
        "\n",
        "y=(x@fc1.weight.T+fc1.bias)@fc2.weight.T+fc2.bias\n",
        "print(y)"
      ],
      "metadata": {
        "colab": {
          "base_uri": "https://localhost:8080/"
        },
        "id": "LxxvkCt5LgCv",
        "outputId": "792f481e-b025-4d6c-9964-df7d09f4128b"
      },
      "execution_count": 12,
      "outputs": [
        {
          "output_type": "stream",
          "name": "stdout",
          "text": [
            "Parameter containing:\n",
            "tensor([[-0.9441],\n",
            "        [-0.2695],\n",
            "        [ 0.1008]], requires_grad=True)\n",
            "Parameter containing:\n",
            "tensor([0.7469, 0.1731, 0.2788], requires_grad=True)\n",
            "Parameter containing:\n",
            "tensor([[-0.5305, -0.2250, -0.4728]], requires_grad=True)\n",
            "Parameter containing:\n",
            "tensor([-0.0886], requires_grad=True)\n",
            "tensor([-0.1972, -0.0964,  0.3796], grad_fn=<ViewBackward0>)\n",
            "tensor([-0.1417], grad_fn=<ViewBackward0>)\n",
            "tensor([-0.7283], grad_fn=<AddBackward0>)\n"
          ]
        }
      ]
    },
    {
      "cell_type": "code",
      "source": [],
      "metadata": {
        "id": "vZz88psoPJUC"
      },
      "execution_count": null,
      "outputs": []
    }
  ]
}