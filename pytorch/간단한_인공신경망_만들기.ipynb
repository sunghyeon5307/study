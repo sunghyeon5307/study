{
  "nbformat": 4,
  "nbformat_minor": 0,
  "metadata": {
    "colab": {
      "provenance": []
    },
    "kernelspec": {
      "name": "python3",
      "display_name": "Python 3"
    },
    "language_info": {
      "name": "python"
    }
  },
  "cells": [
    {
      "cell_type": "code",
      "execution_count": 2,
      "metadata": {
        "id": "fjQW_NYZIuKI"
      },
      "outputs": [],
      "source": [
        "import torch\n",
        "from torch import nn"
      ]
    },
    {
      "cell_type": "code",
      "source": [
        "x=torch.tensor([1.])\n",
        "model=nn.Linear(1,1) # 입력 node 1개, 출력 node 1개인 layer 만듦\n",
        "print(model.weight) # 가중치\n",
        "print(model.bias)\n",
        "y=model(x)\n",
        "print(y)\n",
        "y=x@model.weight+model.bias # @:행렬연산, *:요소끼리 연산\n",
        "print(y)"
      ],
      "metadata": {
        "colab": {
          "base_uri": "https://localhost:8080/"
        },
        "id": "BSAD-ueOKddS",
        "outputId": "e61eecbf-ec39-40a2-881c-3a4e6ee0ebcd"
      },
      "execution_count": 7,
      "outputs": [
        {
          "output_type": "stream",
          "name": "stdout",
          "text": [
            "Parameter containing:\n",
            "tensor([[-0.8210]], requires_grad=True)\n",
            "Parameter containing:\n",
            "tensor([0.9750], requires_grad=True)\n",
            "tensor([0.1540], grad_fn=<ViewBackward0>)\n",
            "tensor([0.1540], grad_fn=<AddBackward0>)\n"
          ]
        }
      ]
    },
    {
      "cell_type": "code",
      "source": [
        "fc1=nn.Linear(1,3) # fully-connected\n",
        "fc2=nn.Linear(3,1)\n",
        "\n",
        "print(fc1.weight)\n",
        "print(fc1.bias)\n",
        "print(fc2.weight)\n",
        "print(fc2.bias)\n",
        "\n",
        "x=torch.tensor([1.])\n",
        "x=fc1(x)\n",
        "print(x)\n",
        "x=fc2(x)\n",
        "print(x)\n",
        "\n",
        "y=(x@fc1.weight.T+fc1.bias)@fc2.weight.T+fc2.bias\n",
        "print(y)\n",
        "# 노드 하나가 곧 한개의 채널임\n",
        "# 따라서 데이터 여러개를 통과시키고 싶다면 개x채 형태로 줘야 함\n",
        "# why T? weight도 개x채 형태로 만들기 위함\n",
        "# 일단, weight shape 개x채에서 채는 무조건 무조건 앞에 거 채널 개수와 맞추기\n",
        "# ex) nn.Linear(2,3)이면 앞에거 채널 개수는 2, 따라서 ?x2 인데\n",
        "# 두 채널 값을 가지고 3개의 노드를 만드는 거라서 3x2가 된다"
      ],
      "metadata": {
        "colab": {
          "base_uri": "https://localhost:8080/"
        },
        "id": "LxxvkCt5LgCv",
        "outputId": "b1e62142-e140-4d89-873c-04d271df183d"
      },
      "execution_count": 11,
      "outputs": [
        {
          "output_type": "stream",
          "name": "stdout",
          "text": [
            "Parameter containing:\n",
            "tensor([[-0.4604],\n",
            "        [-0.7408],\n",
            "        [ 0.8483]], requires_grad=True)\n",
            "Parameter containing:\n",
            "tensor([-0.0358, -0.6150, -0.9727], requires_grad=True)\n",
            "Parameter containing:\n",
            "tensor([[-0.0177, -0.2050,  0.4804]], requires_grad=True)\n",
            "Parameter containing:\n",
            "tensor([-0.4612], requires_grad=True)\n",
            "tensor([-0.4962, -1.3558, -0.1243], grad_fn=<ViewBackward0>)\n",
            "tensor([-0.2342], grad_fn=<ViewBackward0>)\n",
            "tensor([-0.9347], grad_fn=<AddBackward0>)\n"
          ]
        }
      ]
    },
    {
      "cell_type": "code",
      "source": [
        "# model=nn.Linear(1,1)\n",
        "# x=torch.tensor([1.])\n",
        "# y=model(x)\n",
        "# print(model.weight)\n",
        "# print(model.bias)\n",
        "# y=x@model.weight+model.bias\n",
        "# print(y)"
      ],
      "metadata": {
        "colab": {
          "base_uri": "https://localhost:8080/"
        },
        "id": "vZz88psoPJUC",
        "outputId": "047869ac-b911-4f22-e798-c8b354b2a20d"
      },
      "execution_count": 10,
      "outputs": [
        {
          "output_type": "stream",
          "name": "stdout",
          "text": [
            "Parameter containing:\n",
            "tensor([[0.3393]], requires_grad=True)\n",
            "Parameter containing:\n",
            "tensor([0.0539], requires_grad=True)\n",
            "tensor([0.3932], grad_fn=<AddBackward0>)\n"
          ]
        }
      ]
    },
    {
      "cell_type": "code",
      "source": [
        "fc1=nn.Linear(1,3)\n",
        "fc2=nn.Linear(3,1)\n",
        "\n",
        "x=torch.tensor([1.])\n",
        "# x=fc1(x)\n",
        "# print(x)\n",
        "# x=fc2(x)\n",
        "# print(x)\n",
        "\n",
        "model=nn.Sequential(fc1, fc2) # layer 풀칠\n",
        "print(model(x))"
      ],
      "metadata": {
        "colab": {
          "base_uri": "https://localhost:8080/"
        },
        "id": "5CwLSEGapDN2",
        "outputId": "9fb4e719-ce57-43ec-b373-659b84b1a6d4"
      },
      "execution_count": 16,
      "outputs": [
        {
          "output_type": "stream",
          "name": "stdout",
          "text": [
            "tensor([-0.2602], grad_fn=<ViewBackward0>)\n"
          ]
        }
      ]
    },
    {
      "cell_type": "code",
      "source": [
        "model=nn.Sequential(nn.Linear(2,5), # 여기는 채널, 채널\n",
        "                    nn.Linear(5,10),\n",
        "                    nn.Linear(10,3))\n",
        "x=torch.randn(2)\n",
        "print(x)\n",
        "print(model(x))\n",
        "\n",
        "x=torch.randn(1,2)\n",
        "print(x)\n",
        "print(model(x))\n",
        "\n",
        "x=torch.randn(5,2) # 개x채 => 두 개의 채널 값(키, 몸무게)을 가지는 데이터(사람) 5개를 통과시킴\n",
        "print(x)\n",
        "print(model(x))\n",
        "x=torch.randn(2,3,1,4,5,2)\n",
        "print(model(x).shape)"
      ],
      "metadata": {
        "colab": {
          "base_uri": "https://localhost:8080/"
        },
        "id": "hMD9AzJUIHGi",
        "outputId": "7d13ce49-e6f8-4e22-e025-e1a54e434323"
      },
      "execution_count": 3,
      "outputs": [
        {
          "output_type": "stream",
          "name": "stdout",
          "text": [
            "tensor([ 0.2364, -1.3307])\n",
            "tensor([-0.3698, -0.2154, -0.2660], grad_fn=<ViewBackward0>)\n",
            "tensor([[-0.4524,  1.5182]])\n",
            "tensor([[ 0.5647, -0.3625, -1.1626]], grad_fn=<AddmmBackward0>)\n",
            "tensor([[ 0.0946, -1.5486],\n",
            "        [ 1.2417,  1.0804],\n",
            "        [ 0.5539, -0.8519],\n",
            "        [ 0.3142,  0.7917],\n",
            "        [ 0.2340, -1.8129]])\n",
            "tensor([[-0.4441, -0.2303, -0.2220],\n",
            "        [ 0.4440, -0.1261, -0.8237],\n",
            "        [-0.2065, -0.1818, -0.3618],\n",
            "        [ 0.3349, -0.2455, -0.8591],\n",
            "        [-0.5297, -0.2065, -0.1293]], grad_fn=<AddmmBackward0>)\n",
            "torch.Size([2, 3, 1, 4, 5, 3])\n"
          ]
        }
      ]
    },
    {
      "cell_type": "code",
      "source": [
        "class MyModel(nn.Module):\n",
        "  def __init__(self):\n",
        "    super().__init__()\n",
        "  def forward(self,x):\n",
        "    return x"
      ],
      "metadata": {
        "id": "AMyUCm7fJQ9j"
      },
      "execution_count": null,
      "outputs": []
    }
  ]
}