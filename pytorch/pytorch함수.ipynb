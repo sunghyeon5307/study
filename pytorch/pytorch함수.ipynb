{
  "nbformat": 4,
  "nbformat_minor": 0,
  "metadata": {
    "colab": {
      "provenance": []
    },
    "kernelspec": {
      "name": "python3",
      "display_name": "Python 3"
    },
    "language_info": {
      "name": "python"
    }
  },
  "cells": [
    {
      "cell_type": "markdown",
      "source": [
        "# Pytorch 여러 함수"
      ],
      "metadata": {
        "id": "7FWFXAfQtx-a"
      }
    },
    {
      "cell_type": "code",
      "source": [
        "import torch"
      ],
      "metadata": {
        "id": "os-aZwKSt4r2"
      },
      "execution_count": 2,
      "outputs": []
    },
    {
      "cell_type": "code",
      "execution_count": 3,
      "metadata": {
        "colab": {
          "base_uri": "https://localhost:8080/"
        },
        "id": "d7fy5VpmtuhL",
        "outputId": "36b257da-178b-4fe6-ee9a-7bdf93d05a65"
      },
      "outputs": [
        {
          "output_type": "stream",
          "name": "stdout",
          "text": [
            "tensor([[-0.4919, -0.1856,  2.0861],\n",
            "        [ 1.6132,  0.5517,  1.3681]])\n",
            "tensor([[0.5525, 0.8091, 0.6071, 0.9934],\n",
            "        [0.6160, 0.1591, 0.0927, 0.8358]])\n"
          ]
        }
      ],
      "source": [
        "# 정규분포를 따르는 난수로 이루어진 텐서 생성, 평균0 표준편차1을 기준으로 함\n",
        "a=torch.randn(2,3)\n",
        "print(a)\n",
        "# 0~1에서 랜덤 수로 채워진 텐서\n",
        "b=torch.rand(2,4)\n",
        "print(b)"
      ]
    },
    {
      "cell_type": "code",
      "source": [
        "a=torch.randn(4,4)\n",
        "print(a)\n",
        "print(torch.abs(a)) # 절대값, 음수->양수\n",
        "print(torch.sqrt(a)) # 제곱근\n",
        "print(torch.sqrt(torch.abs(a)))\n",
        "print(torch.exp(a)) # e^x(e=2.71828)\n",
        "print(torch.log(torch.abs(a)))\n",
        "print(torch.log(torch.exp(torch.tensor(1))))\n",
        "print(torch.log10(torch.tensor(10)))\n",
        "print(torch.log2(torch.tensor(2)))\n",
        "print(torch.round(a)) # 반올림\n",
        "print(torch.round(a, decimals=2)) # 소수점 둘째자리까지\n",
        "print(torch.floor(a)) # 내림\n",
        "print(torch.ceil(a)) # 오름차순"
      ],
      "metadata": {
        "colab": {
          "base_uri": "https://localhost:8080/"
        },
        "id": "5eACeTcFt33R",
        "outputId": "cb346548-239a-4a26-ce41-3768ba039f51"
      },
      "execution_count": 5,
      "outputs": [
        {
          "output_type": "stream",
          "name": "stdout",
          "text": [
            "tensor([[ 0.6546,  1.0381,  1.9199, -1.4582],\n",
            "        [ 0.2243, -0.7494,  1.2812,  0.7600],\n",
            "        [-0.8572, -0.9383, -0.6011, -1.0509],\n",
            "        [ 1.7511,  2.0035, -0.7939, -0.0771]])\n",
            "tensor([[0.6546, 1.0381, 1.9199, 1.4582],\n",
            "        [0.2243, 0.7494, 1.2812, 0.7600],\n",
            "        [0.8572, 0.9383, 0.6011, 1.0509],\n",
            "        [1.7511, 2.0035, 0.7939, 0.0771]])\n",
            "tensor([[0.8091, 1.0189, 1.3856,    nan],\n",
            "        [0.4736,    nan, 1.1319, 0.8718],\n",
            "        [   nan,    nan,    nan,    nan],\n",
            "        [1.3233, 1.4155,    nan,    nan]])\n",
            "tensor([[0.8091, 1.0189, 1.3856, 1.2076],\n",
            "        [0.4736, 0.8657, 1.1319, 0.8718],\n",
            "        [0.9258, 0.9687, 0.7753, 1.0251],\n",
            "        [1.3233, 1.4155, 0.8910, 0.2777]])\n",
            "tensor([[1.9244, 2.8238, 6.8202, 0.2327],\n",
            "        [1.2515, 0.4726, 3.6009, 2.1384],\n",
            "        [0.4244, 0.3913, 0.5482, 0.3496],\n",
            "        [5.7607, 7.4152, 0.4521, 0.9258]])\n",
            "tensor([[-0.4237,  0.0374,  0.6523,  0.3772],\n",
            "        [-1.4947, -0.2885,  0.2478, -0.2744],\n",
            "        [-0.1541, -0.0637, -0.5090,  0.0496],\n",
            "        [ 0.5602,  0.6949, -0.2308, -2.5621]])\n",
            "tensor(1.)\n",
            "tensor(1.)\n",
            "tensor(1.)\n",
            "tensor([[ 1.,  1.,  2., -1.],\n",
            "        [ 0., -1.,  1.,  1.],\n",
            "        [-1., -1., -1., -1.],\n",
            "        [ 2.,  2., -1., -0.]])\n",
            "tensor([[ 0.6500,  1.0400,  1.9200, -1.4600],\n",
            "        [ 0.2200, -0.7500,  1.2800,  0.7600],\n",
            "        [-0.8600, -0.9400, -0.6000, -1.0500],\n",
            "        [ 1.7500,  2.0000, -0.7900, -0.0800]])\n",
            "tensor([[ 0.,  1.,  1., -2.],\n",
            "        [ 0., -1.,  1.,  0.],\n",
            "        [-1., -1., -1., -2.],\n",
            "        [ 1.,  2., -1., -1.]])\n",
            "tensor([[ 1.,  2.,  2., -1.],\n",
            "        [ 1., -0.,  2.,  1.],\n",
            "        [-0., -0., -0., -1.],\n",
            "        [ 2.,  3., -0., -0.]])\n"
          ]
        }
      ]
    },
    {
      "cell_type": "code",
      "source": [
        "print(torch.sin(torch.tensor(torch.pi/6)))\n",
        "print(torch.cos(torch.tensor(torch.pi/3)))\n",
        "print(torch.tan(torch.tensor(torch.pi/4)))\n",
        "print(torch.tanh(torch.tensor(-10)))"
      ],
      "metadata": {
        "colab": {
          "base_uri": "https://localhost:8080/"
        },
        "id": "JW629Mv2uBF9",
        "outputId": "eb33a82a-e4c6-4dd6-a057-cf9a6b02fcf8"
      },
      "execution_count": 6,
      "outputs": [
        {
          "output_type": "stream",
          "name": "stdout",
          "text": [
            "tensor(0.5000)\n",
            "tensor(0.5000)\n",
            "tensor(1.)\n",
            "tensor(-1.)\n"
          ]
        }
      ]
    },
    {
      "cell_type": "code",
      "source": [
        "a=torch.randn(6,1)\n",
        "print(a)\n",
        "a_sorted=torch.sort(a,dim=0) # 정렬/dim이 0이면 열(세로), 1이면 행(가로)\n",
        "print(a_sorted)\n",
        "b_sorted=torch.sort(a,dim=0,descending=False)\n",
        "print(b_sorted)"
      ],
      "metadata": {
        "colab": {
          "base_uri": "https://localhost:8080/"
        },
        "id": "GoD5vVtSuEL9",
        "outputId": "9b720686-e9e9-4d8a-aaf9-135af8089b0c"
      },
      "execution_count": 7,
      "outputs": [
        {
          "output_type": "stream",
          "name": "stdout",
          "text": [
            "tensor([[ 0.4241],\n",
            "        [ 1.5312],\n",
            "        [ 0.9850],\n",
            "        [ 0.5133],\n",
            "        [-0.8611],\n",
            "        [ 0.6019]])\n",
            "torch.return_types.sort(\n",
            "values=tensor([[-0.8611],\n",
            "        [ 0.4241],\n",
            "        [ 0.5133],\n",
            "        [ 0.6019],\n",
            "        [ 0.9850],\n",
            "        [ 1.5312]]),\n",
            "indices=tensor([[4],\n",
            "        [0],\n",
            "        [3],\n",
            "        [5],\n",
            "        [2],\n",
            "        [1]]))\n",
            "torch.return_types.sort(\n",
            "values=tensor([[-0.8611],\n",
            "        [ 0.4241],\n",
            "        [ 0.5133],\n",
            "        [ 0.6019],\n",
            "        [ 0.9850],\n",
            "        [ 1.5312]]),\n",
            "indices=tensor([[4],\n",
            "        [0],\n",
            "        [3],\n",
            "        [5],\n",
            "        [2],\n",
            "        [1]]))\n"
          ]
        }
      ]
    },
    {
      "cell_type": "code",
      "source": [
        "A=torch.randn(6,4)\n",
        "print(A)\n",
        "print(torch.sum(A,dim=1))\n",
        "print(torch.sum(A,dim=0))\n",
        "print(torch.mean(A)) # 평균\n",
        "print(torch.mean(A, dim=1, keepdims=True)) # keepdims가 True면 차원 유지\n",
        "print(torch.std(A)) # 표준편차"
      ],
      "metadata": {
        "colab": {
          "base_uri": "https://localhost:8080/"
        },
        "id": "8dPbXljauFxm",
        "outputId": "326e402f-2ffa-4b1f-c376-d11c26c8215f"
      },
      "execution_count": 8,
      "outputs": [
        {
          "output_type": "stream",
          "name": "stdout",
          "text": [
            "tensor([[ 0.8841, -1.5984,  0.6681,  0.1126],\n",
            "        [ 0.6561,  0.7397, -0.3290, -1.5749],\n",
            "        [ 1.0088, -0.8891, -0.3354,  0.7296],\n",
            "        [ 1.2977,  0.2822,  1.3918,  1.2230],\n",
            "        [-0.1466,  1.5379, -0.3552, -0.0596],\n",
            "        [ 0.0830,  0.2248, -0.9805, -0.4623]])\n",
            "tensor([ 0.0664, -0.5081,  0.5138,  4.1947,  0.9765, -1.1349])\n",
            "tensor([ 3.7832,  0.2971,  0.0598, -0.0317])\n",
            "tensor(0.1712)\n",
            "tensor([[ 0.0166],\n",
            "        [-0.1270],\n",
            "        [ 0.1285],\n",
            "        [ 1.0487],\n",
            "        [ 0.2441],\n",
            "        [-0.2837]])\n",
            "tensor(0.8860)\n"
          ]
        }
      ]
    },
    {
      "cell_type": "code",
      "source": [
        "A=torch.randint(1,5,size=(12,)) # 1부터 5미만 12개 정수\n",
        "print(A)\n",
        "print(A.shape)\n",
        "B=A.reshape(2,1,6)\n",
        "print(B)\n",
        "print(B.ndim)"
      ],
      "metadata": {
        "id": "jRKC59xCuHcM",
        "outputId": "a373b0c2-ff21-438a-d576-a92c76969c49",
        "colab": {
          "base_uri": "https://localhost:8080/"
        }
      },
      "execution_count": 9,
      "outputs": [
        {
          "output_type": "stream",
          "name": "stdout",
          "text": [
            "tensor([4, 1, 2, 2, 1, 1, 3, 2, 4, 1, 3, 1])\n",
            "torch.Size([12])\n",
            "tensor([[[4, 1, 2, 2, 1, 1]],\n",
            "\n",
            "        [[3, 2, 4, 1, 3, 1]]])\n",
            "3\n"
          ]
        }
      ]
    },
    {
      "cell_type": "code",
      "source": [
        "a=torch.tensor([1,2,3])\n",
        "b=torch.tensor([4,5,5])\n",
        "print(torch.sum(a*b))"
      ],
      "metadata": {
        "id": "irgDISCpuIzs",
        "outputId": "44000c06-f494-44ba-c6b2-ef929805ecea",
        "colab": {
          "base_uri": "https://localhost:8080/"
        }
      },
      "execution_count": 10,
      "outputs": [
        {
          "output_type": "stream",
          "name": "stdout",
          "text": [
            "tensor(29)\n"
          ]
        }
      ]
    }
  ]
}