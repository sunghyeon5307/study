{
  "nbformat": 4,
  "nbformat_minor": 0,
  "metadata": {
    "colab": {
      "provenance": []
    },
    "kernelspec": {
      "name": "python3",
      "display_name": "Python 3"
    },
    "language_info": {
      "name": "python"
    }
  },
  "cells": [
    {
      "cell_type": "code",
      "execution_count": 46,
      "metadata": {
        "id": "HaRhHjqWp77s"
      },
      "outputs": [],
      "source": [
        "import torch"
      ]
    },
    {
      "cell_type": "code",
      "source": [
        "a=torch.tensor([1,2,3,4])\n",
        "print(a)\n",
        "print(type(a))\n",
        "print(a.dtype)\n",
        "print(a.shape)"
      ],
      "metadata": {
        "colab": {
          "base_uri": "https://localhost:8080/"
        },
        "id": "Hy85P-dnp_c6",
        "outputId": "c44c8f2c-28eb-4a94-abba-004b4cda60b0"
      },
      "execution_count": null,
      "outputs": [
        {
          "output_type": "stream",
          "name": "stdout",
          "text": [
            "tensor([1, 2, 3, 4])\n",
            "<class 'torch.Tensor'>\n",
            "torch.int64\n",
            "torch.Size([4])\n"
          ]
        }
      ]
    },
    {
      "cell_type": "code",
      "source": [
        "A=torch.tensor([[1,2,3],[4,5,6]])\n",
        "print(A)\n",
        "print(A.ndim)\n",
        "print(A.numel())"
      ],
      "metadata": {
        "colab": {
          "base_uri": "https://localhost:8080/"
        },
        "id": "AqBU-w7nqFQ0",
        "outputId": "f63d90bc-5232-4297-e339-a8fae0cdd60d"
      },
      "execution_count": null,
      "outputs": [
        {
          "output_type": "stream",
          "name": "stdout",
          "text": [
            "tensor([[1, 2, 3],\n",
            "        [4, 5, 6]])\n",
            "2\n",
            "6\n"
          ]
        }
      ]
    },
    {
      "cell_type": "code",
      "source": [
        "print(torch.zeros(5))\n",
        "print(torch.zeros_like(A))\n",
        "print(torch.ones(5))\n",
        "print(torch.zeros(3,6))\n",
        "print(torch.arange(1,9,2)) # range랑 똑같은데 tensor로 만들어줌\n",
        "print(torch.arange(1,2,0.1)) # 소수점도 가능\n",
        "print(torch.linspace(0,1,10)) # 0부터 1까지 10개"
      ],
      "metadata": {
        "id": "L8LQ9Q15qqg5",
        "colab": {
          "base_uri": "https://localhost:8080/"
        },
        "outputId": "af1586de-e76d-44e7-bcda-c6f4d0d52149"
      },
      "execution_count": null,
      "outputs": [
        {
          "output_type": "stream",
          "name": "stdout",
          "text": [
            "tensor([0., 0., 0., 0., 0.])\n",
            "tensor([[0, 0, 0],\n",
            "        [0, 0, 0]])\n",
            "tensor([1., 1., 1., 1., 1.])\n",
            "tensor([[0., 0., 0., 0., 0., 0.],\n",
            "        [0., 0., 0., 0., 0., 0.],\n",
            "        [0., 0., 0., 0., 0., 0.]])\n",
            "tensor([1, 3, 5, 7])\n",
            "tensor([1.0000, 1.1000, 1.2000, 1.3000, 1.4000, 1.5000, 1.6000, 1.7000, 1.8000,\n",
            "        1.9000])\n",
            "tensor([0.0000, 0.1111, 0.2222, 0.3333, 0.4444, 0.5556, 0.6667, 0.7778, 0.8889,\n",
            "        1.0000])\n"
          ]
        }
      ]
    },
    {
      "cell_type": "code",
      "source": [
        "A=torch.tensor([[1,2,3],[4,5,6]])\n",
        "B=torch.tensor([[7,8,9],[10,11,12]])\n",
        "print(A+B)\n",
        "print(A-B)\n",
        "print(A*B) # 성분끼리 곱\n",
        "print(A**2)\n",
        "print(A@B) # 행렬 곱"
      ],
      "metadata": {
        "colab": {
          "base_uri": "https://localhost:8080/"
        },
        "id": "qpjZA51TE5aU",
        "outputId": "25994f14-24b6-4b7f-c4e4-2003a937e5fc"
      },
      "execution_count": null,
      "outputs": [
        {
          "output_type": "stream",
          "name": "stdout",
          "text": [
            "tensor([[ 8, 10, 12],\n",
            "        [14, 16, 18]])\n",
            "tensor([[-6, -6, -6],\n",
            "        [-6, -6, -6]])\n",
            "tensor([[ 7, 16, 27],\n",
            "        [40, 55, 72]])\n",
            "tensor([[ 1,  4,  9],\n",
            "        [16, 25, 36]])\n"
          ]
        }
      ]
    },
    {
      "cell_type": "code",
      "source": [
        "import torch as t\n",
        "a=t.tensor([1,2,3])\n",
        "print(a)\n",
        "print(t.zeros_like(a))"
      ],
      "metadata": {
        "id": "0QpMi_UxJMtO",
        "colab": {
          "base_uri": "https://localhost:8080/"
        },
        "outputId": "fb7a35b8-286a-4d77-a149-11213a4a5bc2"
      },
      "execution_count": 1,
      "outputs": [
        {
          "output_type": "stream",
          "name": "stdout",
          "text": [
            "tensor([1, 2, 3])\n",
            "tensor([0, 0, 0])\n"
          ]
        }
      ]
    },
    {
      "cell_type": "code",
      "source": [
        "a=t.tensor([1,2,3,4,5,6,7,8])\n",
        "print(a[2])\n",
        "print(a[0:3])\n",
        "print(a[:])\n",
        "print(a[3:])"
      ],
      "metadata": {
        "colab": {
          "base_uri": "https://localhost:8080/"
        },
        "id": "HflbafmM1tcL",
        "outputId": "aff5763c-0c93-4f70-90f8-0d1ad0df7c64"
      },
      "execution_count": 7,
      "outputs": [
        {
          "output_type": "stream",
          "name": "stdout",
          "text": [
            "tensor(3)\n",
            "tensor([1, 2, 3])\n",
            "tensor([1, 2, 3, 4, 5, 6, 7, 8])\n",
            "tensor([4, 5, 6, 7, 8])\n"
          ]
        }
      ]
    },
    {
      "cell_type": "code",
      "source": [
        "A=t.tensor([[1,2,3,4],[5,6,7,8]])\n",
        "print(A[0][2])\n",
        "print(A[1,:]) # 1행 전부\n",
        "print(A[:,2]) # 전부 2열"
      ],
      "metadata": {
        "id": "R5PfoiJV2bLk",
        "colab": {
          "base_uri": "https://localhost:8080/"
        },
        "outputId": "9670581b-2a5e-48cc-af4b-e8e0952b01d7"
      },
      "execution_count": 13,
      "outputs": [
        {
          "output_type": "stream",
          "name": "stdout",
          "text": [
            "tensor(3)\n",
            "tensor([5, 6, 7, 8])\n",
            "tensor([3, 7])\n"
          ]
        }
      ]
    },
    {
      "cell_type": "code",
      "source": [
        "b=t.tensor([[[1,2,3,4],[4,5,6,7],[7,8,9,10]], [[10,11,12,13],[13,14,15,16],[16,17,18,19]]])\n",
        "print(b)\n",
        "print(b.shape) # 3*4짜리가 2개\n",
        "print(b[0,2,3])"
      ],
      "metadata": {
        "colab": {
          "base_uri": "https://localhost:8080/"
        },
        "id": "eYffJniYEhZI",
        "outputId": "f1ded7e9-b8be-4c90-e021-35a2c1b42e20"
      },
      "execution_count": 19,
      "outputs": [
        {
          "output_type": "stream",
          "name": "stdout",
          "text": [
            "tensor([[[ 1,  2,  3,  4],\n",
            "         [ 4,  5,  6,  7],\n",
            "         [ 7,  8,  9, 10]],\n",
            "\n",
            "        [[10, 11, 12, 13],\n",
            "         [13, 14, 15, 16],\n",
            "         [16, 17, 18, 19]]])\n",
            "torch.Size([2, 3, 4])\n",
            "tensor(10)\n"
          ]
        }
      ]
    },
    {
      "cell_type": "code",
      "source": [
        "# boolean 인덱싱\n",
        "a=[1,2,3,4,5]\n",
        "print(a==3)\n",
        "A=t.tensor([[1,2,3,4],[5,6,7,3]])\n",
        "print(A==3) # 리스트와 달리 각 성분에 대해 비교해줌\n",
        "# A[] <- 인덱싱할거다\n",
        "print(A[A==3]) # true, false가 담긴 행렬로 인덱싱 가능\n",
        "A[A==3]=100 # 3을 100으로 바꿈\n",
        "print(A)\n",
        "A=t.tensor([[1,2],[3,4],[5,6],[7,8]])\n",
        "B=t.tensor([True, False, True, False])\n",
        "print(A[B,:])"
      ],
      "metadata": {
        "colab": {
          "base_uri": "https://localhost:8080/"
        },
        "id": "nbPPzkNaFtS-",
        "outputId": "944cc893-1684-436e-eb39-1b15a07c75e7"
      },
      "execution_count": 33,
      "outputs": [
        {
          "output_type": "stream",
          "name": "stdout",
          "text": [
            "False\n",
            "tensor([[False, False,  True, False],\n",
            "        [False, False, False,  True]])\n",
            "tensor([3, 3])\n",
            "tensor([[  1,   2, 100,   4],\n",
            "        [  5,   6,   7, 100]])\n",
            "tensor([[1, 2],\n",
            "        [5, 6]])\n"
          ]
        }
      ]
    },
    {
      "cell_type": "code",
      "source": [
        "# tensor로 인덱싱\n",
        "b=t.tensor([1,2,3,4,5])\n",
        "print(b[3])\n",
        "print(b[t.tensor([2,3,4])])\n",
        "print(b[t.tensor([[2,2,2],[3,3,3]])]) # 인덱싱된 애들로 2행3열짜리 행렬 만든다"
      ],
      "metadata": {
        "colab": {
          "base_uri": "https://localhost:8080/"
        },
        "id": "q3eyMuMQHZFa",
        "outputId": "a1573c9c-e600-4bfe-e4e6-3bae77267e04"
      },
      "execution_count": 43,
      "outputs": [
        {
          "output_type": "stream",
          "name": "stdout",
          "text": [
            "tensor(4)\n",
            "tensor([3, 4, 5])\n",
            "tensor([[3, 3, 3],\n",
            "        [4, 4, 4]])\n"
          ]
        }
      ]
    },
    {
      "cell_type": "code",
      "source": [
        "c=t.tensor([[1,2],[3,4],[5,6],[7,8]])\n",
        "print(c.shape)\n",
        "# 몇번째 행, 열이냐\n",
        "print(c[0][1])"
      ],
      "metadata": {
        "colab": {
          "base_uri": "https://localhost:8080/"
        },
        "id": "l_as6PPeJ_sR",
        "outputId": "83a474d6-95fe-4aad-d6c2-735e20c500ab"
      },
      "execution_count": 45,
      "outputs": [
        {
          "output_type": "stream",
          "name": "stdout",
          "text": [
            "torch.Size([4, 2])\n",
            "tensor(2)\n"
          ]
        }
      ]
    },
    {
      "cell_type": "markdown",
      "source": [
        "# pytorch 여러 함수"
      ],
      "metadata": {
        "id": "1mY8Mn2BZJjC"
      }
    },
    {
      "cell_type": "code",
      "source": [
        "# 정규분포를 따르는 난수로 이루어진 텐서 생성, 평균0 표준편차1을 기준으로 함\n",
        "a=t.randn(2,3)\n",
        "print(a)\n",
        "# 0~1에서 랜덤 수로 채워진 텐서\n",
        "b=t.rand(2,4)\n",
        "print(b)"
      ],
      "metadata": {
        "colab": {
          "base_uri": "https://localhost:8080/"
        },
        "id": "2lWo89fxZNQC",
        "outputId": "5cde5420-bad1-4621-9188-fc6ded0aedc5"
      },
      "execution_count": 50,
      "outputs": [
        {
          "output_type": "stream",
          "name": "stdout",
          "text": [
            "tensor([[ 1.9574,  0.7488, -0.6421],\n",
            "        [ 0.5079,  1.7208,  2.2676]])\n",
            "tensor([[0.9340, 0.8464, 0.3530, 0.0458],\n",
            "        [0.6545, 0.8770, 0.4946, 0.6631]])\n"
          ]
        }
      ]
    },
    {
      "cell_type": "code",
      "source": [
        "a=t.randn(4,4)\n",
        "print(a)\n",
        "print(torch.abs(a)) # 절대값, 음수->양수\n",
        "print(torch.sqrt(a)) # 제곱근\n",
        "print(torch.sqrt(torch.abs(a)))\n",
        "print(torch.exp(a)) # e^x(e=2.71828)\n",
        "print(torch.log(torch.abs(a)))\n",
        "print(torch.log(torch.exp(torch.tensor(1))))\n",
        "print(torch.log10(torch.tensor(10)))\n",
        "print(torch.log2(torch.tensor(2)))\n",
        "print(torch.round(a)) # 반올림\n",
        "print(torch.round(a, decimals=2)) # 소수점 둘째자리까지\n",
        "print(torch.floor(a)) # 내림\n",
        "print(torch.ceil(a)) # 오름차순"
      ],
      "metadata": {
        "colab": {
          "base_uri": "https://localhost:8080/"
        },
        "id": "4inOOGy8atlJ",
        "outputId": "8bbad1a6-87ae-482b-a6dd-279d9cf30c6a"
      },
      "execution_count": 65,
      "outputs": [
        {
          "output_type": "stream",
          "name": "stdout",
          "text": [
            "tensor([[ 1.4843, -0.6002,  0.2418,  2.4070],\n",
            "        [-0.7765,  1.5086, -0.7295, -1.1015],\n",
            "        [-1.3980,  2.3288, -1.4831, -0.3121],\n",
            "        [-1.0080,  0.2839, -3.8964,  0.3684]])\n",
            "tensor([[1.4843, 0.6002, 0.2418, 2.4070],\n",
            "        [0.7765, 1.5086, 0.7295, 1.1015],\n",
            "        [1.3980, 2.3288, 1.4831, 0.3121],\n",
            "        [1.0080, 0.2839, 3.8964, 0.3684]])\n",
            "tensor([[1.2183,    nan, 0.4917, 1.5515],\n",
            "        [   nan, 1.2283,    nan,    nan],\n",
            "        [   nan, 1.5261,    nan,    nan],\n",
            "        [   nan, 0.5328,    nan, 0.6069]])\n",
            "tensor([[1.2183, 0.7747, 0.4917, 1.5515],\n",
            "        [0.8812, 1.2283, 0.8541, 1.0495],\n",
            "        [1.1824, 1.5261, 1.2178, 0.5586],\n",
            "        [1.0040, 0.5328, 1.9739, 0.6069]])\n",
            "tensor([[ 4.4120,  0.5487,  1.2735, 11.1011],\n",
            "        [ 0.4600,  4.5205,  0.4822,  0.3324],\n",
            "        [ 0.2471, 10.2660,  0.2269,  0.7319],\n",
            "        [ 0.3649,  1.3283,  0.0203,  1.4454]])\n",
            "tensor([[ 0.3950, -0.5105, -1.4197,  0.8784],\n",
            "        [-0.2530,  0.4112, -0.3155,  0.0966],\n",
            "        [ 0.3350,  0.8454,  0.3941, -1.1645],\n",
            "        [ 0.0080, -1.2592,  1.3601, -0.9987]])\n",
            "tensor(1.)\n",
            "tensor(1.)\n",
            "tensor(1.)\n",
            "tensor([[ 1., -1.,  0.,  2.],\n",
            "        [-1.,  2., -1., -1.],\n",
            "        [-1.,  2., -1., -0.],\n",
            "        [-1.,  0., -4.,  0.]])\n",
            "tensor([[ 1.4800, -0.6000,  0.2400,  2.4100],\n",
            "        [-0.7800,  1.5100, -0.7300, -1.1000],\n",
            "        [-1.4000,  2.3300, -1.4800, -0.3100],\n",
            "        [-1.0100,  0.2800, -3.9000,  0.3700]])\n",
            "tensor([[ 1., -1.,  0.,  2.],\n",
            "        [-1.,  1., -1., -2.],\n",
            "        [-2.,  2., -2., -1.],\n",
            "        [-2.,  0., -4.,  0.]])\n",
            "tensor([[ 2., -0.,  1.,  3.],\n",
            "        [-0.,  2., -0., -1.],\n",
            "        [-1.,  3., -1., -0.],\n",
            "        [-1.,  1., -3.,  1.]])\n"
          ]
        }
      ]
    },
    {
      "cell_type": "code",
      "source": [
        "print(torch.sin(torch.tensor(torch.pi/6)))\n",
        "print(torch.cos(torch.tensor(torch.pi/3)))\n",
        "print(torch.tan(torch.tensor(torch.pi/4)))\n",
        "print(torch.tanh(torch.tensor(-10)))"
      ],
      "metadata": {
        "colab": {
          "base_uri": "https://localhost:8080/"
        },
        "id": "nLqGO7bMd4DX",
        "outputId": "4e6fa082-bead-4e62-8508-3c1046936b53"
      },
      "execution_count": 66,
      "outputs": [
        {
          "output_type": "stream",
          "name": "stdout",
          "text": [
            "tensor(0.5000)\n",
            "tensor(0.5000)\n",
            "tensor(1.)\n",
            "tensor(-1.)\n"
          ]
        }
      ]
    },
    {
      "cell_type": "code",
      "source": [
        "a=torch.randn(6,1)\n",
        "print(a)\n",
        "a_sorted=torch.sort(a,dim=0) # 정렬/dim이 0이면 열(세로), 1이면 행(가로)\n",
        "print(a_sorted)\n",
        "b_sorted=torch.sort(a,dim=0,descending=False)\n",
        "print(b_sorted)"
      ],
      "metadata": {
        "colab": {
          "base_uri": "https://localhost:8080/"
        },
        "id": "_ddyG_eRozot",
        "outputId": "db27b4de-e387-45d3-db77-048ec45d1f9f"
      },
      "execution_count": 71,
      "outputs": [
        {
          "output_type": "stream",
          "name": "stdout",
          "text": [
            "tensor([[ 0.8206],\n",
            "        [ 0.0299],\n",
            "        [-1.7397],\n",
            "        [-0.0909],\n",
            "        [ 1.5816],\n",
            "        [ 1.1912]])\n",
            "torch.return_types.sort(\n",
            "values=tensor([[-1.7397],\n",
            "        [-0.0909],\n",
            "        [ 0.0299],\n",
            "        [ 0.8206],\n",
            "        [ 1.1912],\n",
            "        [ 1.5816]]),\n",
            "indices=tensor([[2],\n",
            "        [3],\n",
            "        [1],\n",
            "        [0],\n",
            "        [5],\n",
            "        [4]]))\n",
            "torch.return_types.sort(\n",
            "values=tensor([[-1.7397],\n",
            "        [-0.0909],\n",
            "        [ 0.0299],\n",
            "        [ 0.8206],\n",
            "        [ 1.1912],\n",
            "        [ 1.5816]]),\n",
            "indices=tensor([[2],\n",
            "        [3],\n",
            "        [1],\n",
            "        [0],\n",
            "        [5],\n",
            "        [4]]))\n"
          ]
        }
      ]
    },
    {
      "cell_type": "code",
      "source": [
        "A=torch.randn(6,4)\n",
        "print(A)\n",
        "print(torch.sum(A,dim=1))\n",
        "print(torch.sum(A,dim=0))\n",
        "print(torch.mean(A)) # 평균\n",
        "print(torch.mean(A, dim=1, keepdims=True)) # keepdims가 True면 차원 유지\n",
        "print(torch.std(A)) # 표준편차"
      ],
      "metadata": {
        "colab": {
          "base_uri": "https://localhost:8080/"
        },
        "id": "qaseVAY0qwx5",
        "outputId": "a9152403-932d-4260-b8b3-322efe99b90b"
      },
      "execution_count": 77,
      "outputs": [
        {
          "output_type": "stream",
          "name": "stdout",
          "text": [
            "tensor([[-0.8838,  0.3302, -0.1192, -0.9058],\n",
            "        [-1.1565,  0.7692,  0.2361, -0.9387],\n",
            "        [-0.2006, -0.7104,  0.5995, -0.6276],\n",
            "        [ 0.5241, -0.3924,  0.7263, -0.3366],\n",
            "        [-0.9048,  0.5844, -1.7413,  1.5194],\n",
            "        [ 0.1814, -0.9473,  1.7875,  0.8192]])\n",
            "tensor([-1.5785, -1.0899, -0.9391,  0.5214, -0.5424,  1.8407])\n",
            "tensor([-2.4401, -0.3663,  1.4889, -0.4702])\n",
            "tensor(-0.0745)\n",
            "tensor([[-0.3946],\n",
            "        [-0.2725],\n",
            "        [-0.2348],\n",
            "        [ 0.1304],\n",
            "        [-0.1356],\n",
            "        [ 0.4602]])\n",
            "tensor(0.8877)\n"
          ]
        }
      ]
    },
    {
      "cell_type": "code",
      "source": [
        "A=torch.randint(1,5,size=(12,)) # 1부터 5미만 12개 정수\n",
        "print(A)\n",
        "print(A.shape)\n",
        "B=A.reshape(2,1,6)\n",
        "print(B)\n",
        "print(B.ndim)"
      ],
      "metadata": {
        "colab": {
          "base_uri": "https://localhost:8080/"
        },
        "id": "xVs8cFH4sJfn",
        "outputId": "8ad328b4-71f2-4e46-d19b-ac6b09596c6f"
      },
      "execution_count": 86,
      "outputs": [
        {
          "output_type": "stream",
          "name": "stdout",
          "text": [
            "tensor([1, 3, 1, 3, 4, 2, 1, 1, 4, 4, 1, 1])\n",
            "torch.Size([12])\n",
            "tensor([[[1, 3, 1, 3, 4, 2]],\n",
            "\n",
            "        [[1, 1, 4, 4, 1, 1]]])\n",
            "3\n"
          ]
        }
      ]
    },
    {
      "cell_type": "code",
      "source": [
        "a=torch.tensor([1,2,3])\n",
        "b=torch.tensor([4,5,5])\n",
        "print(torch.sum(a*b))"
      ],
      "metadata": {
        "colab": {
          "base_uri": "https://localhost:8080/"
        },
        "id": "jhjIX34nuY-Z",
        "outputId": "7e451953-6aa2-4859-ce20-db792cd01456"
      },
      "execution_count": 89,
      "outputs": [
        {
          "output_type": "stream",
          "name": "stdout",
          "text": [
            "tensor(29)\n"
          ]
        }
      ]
    }
  ]
}